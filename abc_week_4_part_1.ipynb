{
  "cells": [
    {
      "cell_type": "markdown",
      "metadata": {
        "id": "view-in-github",
        "colab_type": "text"
      },
      "source": [
        "<a href=\"https://colab.research.google.com/github/darrenCWJ/Govtech_ABC_2024/blob/main/abc_week_4_part_1.ipynb\" target=\"_parent\"><img src=\"https://colab.research.google.com/assets/colab-badge.svg\" alt=\"Open In Colab\"/></a>"
      ]
    },
    {
      "cell_type": "markdown",
      "id": "36b4ef88-cfc9-465e-bafe-2131b0258ed3",
      "metadata": {
        "id": "36b4ef88-cfc9-465e-bafe-2131b0258ed3"
      },
      "source": [
        "---\n",
        "---\n",
        "# Notebook: [ Week #04: From Embeddings to Applications]"
      ]
    },
    {
      "cell_type": "markdown",
      "source": [
        "Updates:\n",
        "---\n",
        "20240819 - Fixed the `db` undefined issues, by changing the `db` to `vector_store`"
      ],
      "metadata": {
        "id": "3uxF88eqRZ0v"
      },
      "id": "3uxF88eqRZ0v"
    },
    {
      "cell_type": "markdown",
      "id": "f3277502-6fd2-4d9c-9230-e29daa52a881",
      "metadata": {
        "id": "f3277502-6fd2-4d9c-9230-e29daa52a881"
      },
      "source": [
        "## Setup\n",
        "---"
      ]
    },
    {
      "cell_type": "code",
      "execution_count": null,
      "id": "a143147f-120f-4b88-a078-af25a976e993",
      "metadata": {
        "id": "a143147f-120f-4b88-a078-af25a976e993",
        "colab": {
          "base_uri": "https://localhost:8080/"
        },
        "outputId": "a12ded81-356f-4588-ac27-dbbb048d96c2"
      },
      "outputs": [
        {
          "output_type": "stream",
          "name": "stdout",
          "text": [
            "Collecting openai\n",
            "  Downloading openai-1.44.0-py3-none-any.whl.metadata (22 kB)\n",
            "Requirement already satisfied: anyio<5,>=3.5.0 in /usr/local/lib/python3.10/dist-packages (from openai) (3.7.1)\n",
            "Requirement already satisfied: distro<2,>=1.7.0 in /usr/lib/python3/dist-packages (from openai) (1.7.0)\n",
            "Collecting httpx<1,>=0.23.0 (from openai)\n",
            "  Downloading httpx-0.27.2-py3-none-any.whl.metadata (7.1 kB)\n",
            "Collecting jiter<1,>=0.4.0 (from openai)\n",
            "  Downloading jiter-0.5.0-cp310-cp310-manylinux_2_17_x86_64.manylinux2014_x86_64.whl.metadata (3.6 kB)\n",
            "Requirement already satisfied: pydantic<3,>=1.9.0 in /usr/local/lib/python3.10/dist-packages (from openai) (2.8.2)\n",
            "Requirement already satisfied: sniffio in /usr/local/lib/python3.10/dist-packages (from openai) (1.3.1)\n",
            "Requirement already satisfied: tqdm>4 in /usr/local/lib/python3.10/dist-packages (from openai) (4.66.5)\n",
            "Requirement already satisfied: typing-extensions<5,>=4.11 in /usr/local/lib/python3.10/dist-packages (from openai) (4.12.2)\n",
            "Requirement already satisfied: idna>=2.8 in /usr/local/lib/python3.10/dist-packages (from anyio<5,>=3.5.0->openai) (3.8)\n",
            "Requirement already satisfied: exceptiongroup in /usr/local/lib/python3.10/dist-packages (from anyio<5,>=3.5.0->openai) (1.2.2)\n",
            "Requirement already satisfied: certifi in /usr/local/lib/python3.10/dist-packages (from httpx<1,>=0.23.0->openai) (2024.8.30)\n",
            "Collecting httpcore==1.* (from httpx<1,>=0.23.0->openai)\n",
            "  Downloading httpcore-1.0.5-py3-none-any.whl.metadata (20 kB)\n",
            "Collecting h11<0.15,>=0.13 (from httpcore==1.*->httpx<1,>=0.23.0->openai)\n",
            "  Downloading h11-0.14.0-py3-none-any.whl.metadata (8.2 kB)\n",
            "Requirement already satisfied: annotated-types>=0.4.0 in /usr/local/lib/python3.10/dist-packages (from pydantic<3,>=1.9.0->openai) (0.7.0)\n",
            "Requirement already satisfied: pydantic-core==2.20.1 in /usr/local/lib/python3.10/dist-packages (from pydantic<3,>=1.9.0->openai) (2.20.1)\n",
            "Downloading openai-1.44.0-py3-none-any.whl (367 kB)\n",
            "\u001b[2K   \u001b[90m━━━━━━━━━━━━━━━━━━━━━━━━━━━━━━━━━━━━━━━━\u001b[0m \u001b[32m367.8/367.8 kB\u001b[0m \u001b[31m13.9 MB/s\u001b[0m eta \u001b[36m0:00:00\u001b[0m\n",
            "\u001b[?25hDownloading httpx-0.27.2-py3-none-any.whl (76 kB)\n",
            "\u001b[2K   \u001b[90m━━━━━━━━━━━━━━━━━━━━━━━━━━━━━━━━━━━━━━━━\u001b[0m \u001b[32m76.4/76.4 kB\u001b[0m \u001b[31m4.2 MB/s\u001b[0m eta \u001b[36m0:00:00\u001b[0m\n",
            "\u001b[?25hDownloading httpcore-1.0.5-py3-none-any.whl (77 kB)\n",
            "\u001b[2K   \u001b[90m━━━━━━━━━━━━━━━━━━━━━━━━━━━━━━━━━━━━━━━━\u001b[0m \u001b[32m77.9/77.9 kB\u001b[0m \u001b[31m3.4 MB/s\u001b[0m eta \u001b[36m0:00:00\u001b[0m\n",
            "\u001b[?25hDownloading jiter-0.5.0-cp310-cp310-manylinux_2_17_x86_64.manylinux2014_x86_64.whl (318 kB)\n",
            "\u001b[2K   \u001b[90m━━━━━━━━━━━━━━━━━━━━━━━━━━━━━━━━━━━━━━━━\u001b[0m \u001b[32m318.9/318.9 kB\u001b[0m \u001b[31m9.5 MB/s\u001b[0m eta \u001b[36m0:00:00\u001b[0m\n",
            "\u001b[?25hDownloading h11-0.14.0-py3-none-any.whl (58 kB)\n",
            "\u001b[2K   \u001b[90m━━━━━━━━━━━━━━━━━━━━━━━━━━━━━━━━━━━━━━━━\u001b[0m \u001b[32m58.3/58.3 kB\u001b[0m \u001b[31m2.8 MB/s\u001b[0m eta \u001b[36m0:00:00\u001b[0m\n",
            "\u001b[?25hInstalling collected packages: jiter, h11, httpcore, httpx, openai\n",
            "Successfully installed h11-0.14.0 httpcore-1.0.5 httpx-0.27.2 jiter-0.5.0 openai-1.44.0\n",
            "Collecting langchain\n",
            "  Downloading langchain-0.2.16-py3-none-any.whl.metadata (7.1 kB)\n",
            "Requirement already satisfied: PyYAML>=5.3 in /usr/local/lib/python3.10/dist-packages (from langchain) (6.0.2)\n",
            "Requirement already satisfied: SQLAlchemy<3,>=1.4 in /usr/local/lib/python3.10/dist-packages (from langchain) (2.0.32)\n",
            "Requirement already satisfied: aiohttp<4.0.0,>=3.8.3 in /usr/local/lib/python3.10/dist-packages (from langchain) (3.10.5)\n",
            "Requirement already satisfied: async-timeout<5.0.0,>=4.0.0 in /usr/local/lib/python3.10/dist-packages (from langchain) (4.0.3)\n",
            "Collecting langchain-core<0.3.0,>=0.2.38 (from langchain)\n",
            "  Downloading langchain_core-0.2.38-py3-none-any.whl.metadata (6.2 kB)\n",
            "Collecting langchain-text-splitters<0.3.0,>=0.2.0 (from langchain)\n",
            "  Downloading langchain_text_splitters-0.2.4-py3-none-any.whl.metadata (2.3 kB)\n",
            "Collecting langsmith<0.2.0,>=0.1.17 (from langchain)\n",
            "  Downloading langsmith-0.1.116-py3-none-any.whl.metadata (13 kB)\n",
            "Requirement already satisfied: numpy<2,>=1 in /usr/local/lib/python3.10/dist-packages (from langchain) (1.26.4)\n",
            "Requirement already satisfied: pydantic<3,>=1 in /usr/local/lib/python3.10/dist-packages (from langchain) (2.8.2)\n",
            "Requirement already satisfied: requests<3,>=2 in /usr/local/lib/python3.10/dist-packages (from langchain) (2.32.3)\n",
            "Collecting tenacity!=8.4.0,<9.0.0,>=8.1.0 (from langchain)\n",
            "  Downloading tenacity-8.5.0-py3-none-any.whl.metadata (1.2 kB)\n",
            "Requirement already satisfied: aiohappyeyeballs>=2.3.0 in /usr/local/lib/python3.10/dist-packages (from aiohttp<4.0.0,>=3.8.3->langchain) (2.4.0)\n",
            "Requirement already satisfied: aiosignal>=1.1.2 in /usr/local/lib/python3.10/dist-packages (from aiohttp<4.0.0,>=3.8.3->langchain) (1.3.1)\n",
            "Requirement already satisfied: attrs>=17.3.0 in /usr/local/lib/python3.10/dist-packages (from aiohttp<4.0.0,>=3.8.3->langchain) (24.2.0)\n",
            "Requirement already satisfied: frozenlist>=1.1.1 in /usr/local/lib/python3.10/dist-packages (from aiohttp<4.0.0,>=3.8.3->langchain) (1.4.1)\n",
            "Requirement already satisfied: multidict<7.0,>=4.5 in /usr/local/lib/python3.10/dist-packages (from aiohttp<4.0.0,>=3.8.3->langchain) (6.0.5)\n",
            "Requirement already satisfied: yarl<2.0,>=1.0 in /usr/local/lib/python3.10/dist-packages (from aiohttp<4.0.0,>=3.8.3->langchain) (1.9.4)\n",
            "Collecting jsonpatch<2.0,>=1.33 (from langchain-core<0.3.0,>=0.2.38->langchain)\n",
            "  Downloading jsonpatch-1.33-py2.py3-none-any.whl.metadata (3.0 kB)\n",
            "Requirement already satisfied: packaging<25,>=23.2 in /usr/local/lib/python3.10/dist-packages (from langchain-core<0.3.0,>=0.2.38->langchain) (24.1)\n",
            "Requirement already satisfied: typing-extensions>=4.7 in /usr/local/lib/python3.10/dist-packages (from langchain-core<0.3.0,>=0.2.38->langchain) (4.12.2)\n",
            "Requirement already satisfied: httpx<1,>=0.23.0 in /usr/local/lib/python3.10/dist-packages (from langsmith<0.2.0,>=0.1.17->langchain) (0.27.2)\n",
            "Collecting orjson<4.0.0,>=3.9.14 (from langsmith<0.2.0,>=0.1.17->langchain)\n",
            "  Downloading orjson-3.10.7-cp310-cp310-manylinux_2_17_x86_64.manylinux2014_x86_64.whl.metadata (50 kB)\n",
            "\u001b[2K     \u001b[90m━━━━━━━━━━━━━━━━━━━━━━━━━━━━━━━━━━━━━━━━\u001b[0m \u001b[32m50.4/50.4 kB\u001b[0m \u001b[31m3.7 MB/s\u001b[0m eta \u001b[36m0:00:00\u001b[0m\n",
            "\u001b[?25hRequirement already satisfied: annotated-types>=0.4.0 in /usr/local/lib/python3.10/dist-packages (from pydantic<3,>=1->langchain) (0.7.0)\n",
            "Requirement already satisfied: pydantic-core==2.20.1 in /usr/local/lib/python3.10/dist-packages (from pydantic<3,>=1->langchain) (2.20.1)\n",
            "Requirement already satisfied: charset-normalizer<4,>=2 in /usr/local/lib/python3.10/dist-packages (from requests<3,>=2->langchain) (3.3.2)\n",
            "Requirement already satisfied: idna<4,>=2.5 in /usr/local/lib/python3.10/dist-packages (from requests<3,>=2->langchain) (3.8)\n",
            "Requirement already satisfied: urllib3<3,>=1.21.1 in /usr/local/lib/python3.10/dist-packages (from requests<3,>=2->langchain) (2.0.7)\n",
            "Requirement already satisfied: certifi>=2017.4.17 in /usr/local/lib/python3.10/dist-packages (from requests<3,>=2->langchain) (2024.8.30)\n",
            "Requirement already satisfied: greenlet!=0.4.17 in /usr/local/lib/python3.10/dist-packages (from SQLAlchemy<3,>=1.4->langchain) (3.0.3)\n",
            "Requirement already satisfied: anyio in /usr/local/lib/python3.10/dist-packages (from httpx<1,>=0.23.0->langsmith<0.2.0,>=0.1.17->langchain) (3.7.1)\n",
            "Requirement already satisfied: httpcore==1.* in /usr/local/lib/python3.10/dist-packages (from httpx<1,>=0.23.0->langsmith<0.2.0,>=0.1.17->langchain) (1.0.5)\n",
            "Requirement already satisfied: sniffio in /usr/local/lib/python3.10/dist-packages (from httpx<1,>=0.23.0->langsmith<0.2.0,>=0.1.17->langchain) (1.3.1)\n",
            "Requirement already satisfied: h11<0.15,>=0.13 in /usr/local/lib/python3.10/dist-packages (from httpcore==1.*->httpx<1,>=0.23.0->langsmith<0.2.0,>=0.1.17->langchain) (0.14.0)\n",
            "Collecting jsonpointer>=1.9 (from jsonpatch<2.0,>=1.33->langchain-core<0.3.0,>=0.2.38->langchain)\n",
            "  Downloading jsonpointer-3.0.0-py2.py3-none-any.whl.metadata (2.3 kB)\n",
            "Requirement already satisfied: exceptiongroup in /usr/local/lib/python3.10/dist-packages (from anyio->httpx<1,>=0.23.0->langsmith<0.2.0,>=0.1.17->langchain) (1.2.2)\n",
            "Downloading langchain-0.2.16-py3-none-any.whl (1.0 MB)\n",
            "\u001b[2K   \u001b[90m━━━━━━━━━━━━━━━━━━━━━━━━━━━━━━━━━━━━━━━━\u001b[0m \u001b[32m1.0/1.0 MB\u001b[0m \u001b[31m40.4 MB/s\u001b[0m eta \u001b[36m0:00:00\u001b[0m\n",
            "\u001b[?25hDownloading langchain_core-0.2.38-py3-none-any.whl (396 kB)\n",
            "\u001b[2K   \u001b[90m━━━━━━━━━━━━━━━━━━━━━━━━━━━━━━━━━━━━━━━━\u001b[0m \u001b[32m396.4/396.4 kB\u001b[0m \u001b[31m21.8 MB/s\u001b[0m eta \u001b[36m0:00:00\u001b[0m\n",
            "\u001b[?25hDownloading langchain_text_splitters-0.2.4-py3-none-any.whl (25 kB)\n",
            "Downloading langsmith-0.1.116-py3-none-any.whl (290 kB)\n",
            "\u001b[2K   \u001b[90m━━━━━━━━━━━━━━━━━━━━━━━━━━━━━━━━━━━━━━━━\u001b[0m \u001b[32m290.4/290.4 kB\u001b[0m \u001b[31m13.8 MB/s\u001b[0m eta \u001b[36m0:00:00\u001b[0m\n",
            "\u001b[?25hDownloading tenacity-8.5.0-py3-none-any.whl (28 kB)\n",
            "Downloading jsonpatch-1.33-py2.py3-none-any.whl (12 kB)\n",
            "Downloading orjson-3.10.7-cp310-cp310-manylinux_2_17_x86_64.manylinux2014_x86_64.whl (141 kB)\n",
            "\u001b[2K   \u001b[90m━━━━━━━━━━━━━━━━━━━━━━━━━━━━━━━━━━━━━━━━\u001b[0m \u001b[32m141.9/141.9 kB\u001b[0m \u001b[31m10.3 MB/s\u001b[0m eta \u001b[36m0:00:00\u001b[0m\n",
            "\u001b[?25hDownloading jsonpointer-3.0.0-py2.py3-none-any.whl (7.6 kB)\n",
            "Installing collected packages: tenacity, orjson, jsonpointer, jsonpatch, langsmith, langchain-core, langchain-text-splitters, langchain\n",
            "  Attempting uninstall: tenacity\n",
            "    Found existing installation: tenacity 9.0.0\n",
            "    Uninstalling tenacity-9.0.0:\n",
            "      Successfully uninstalled tenacity-9.0.0\n",
            "Successfully installed jsonpatch-1.33 jsonpointer-3.0.0 langchain-0.2.16 langchain-core-0.2.38 langchain-text-splitters-0.2.4 langsmith-0.1.116 orjson-3.10.7 tenacity-8.5.0\n",
            "Collecting langchain-openai\n",
            "  Downloading langchain_openai-0.1.23-py3-none-any.whl.metadata (2.6 kB)\n",
            "Requirement already satisfied: langchain-core<0.3.0,>=0.2.35 in /usr/local/lib/python3.10/dist-packages (from langchain-openai) (0.2.38)\n",
            "Requirement already satisfied: openai<2.0.0,>=1.40.0 in /usr/local/lib/python3.10/dist-packages (from langchain-openai) (1.44.0)\n",
            "Collecting tiktoken<1,>=0.7 (from langchain-openai)\n",
            "  Downloading tiktoken-0.7.0-cp310-cp310-manylinux_2_17_x86_64.manylinux2014_x86_64.whl.metadata (6.6 kB)\n",
            "Requirement already satisfied: PyYAML>=5.3 in /usr/local/lib/python3.10/dist-packages (from langchain-core<0.3.0,>=0.2.35->langchain-openai) (6.0.2)\n",
            "Requirement already satisfied: jsonpatch<2.0,>=1.33 in /usr/local/lib/python3.10/dist-packages (from langchain-core<0.3.0,>=0.2.35->langchain-openai) (1.33)\n",
            "Requirement already satisfied: langsmith<0.2.0,>=0.1.75 in /usr/local/lib/python3.10/dist-packages (from langchain-core<0.3.0,>=0.2.35->langchain-openai) (0.1.116)\n",
            "Requirement already satisfied: packaging<25,>=23.2 in /usr/local/lib/python3.10/dist-packages (from langchain-core<0.3.0,>=0.2.35->langchain-openai) (24.1)\n",
            "Requirement already satisfied: pydantic<3,>=1 in /usr/local/lib/python3.10/dist-packages (from langchain-core<0.3.0,>=0.2.35->langchain-openai) (2.8.2)\n",
            "Requirement already satisfied: tenacity!=8.4.0,<9.0.0,>=8.1.0 in /usr/local/lib/python3.10/dist-packages (from langchain-core<0.3.0,>=0.2.35->langchain-openai) (8.5.0)\n",
            "Requirement already satisfied: typing-extensions>=4.7 in /usr/local/lib/python3.10/dist-packages (from langchain-core<0.3.0,>=0.2.35->langchain-openai) (4.12.2)\n",
            "Requirement already satisfied: anyio<5,>=3.5.0 in /usr/local/lib/python3.10/dist-packages (from openai<2.0.0,>=1.40.0->langchain-openai) (3.7.1)\n",
            "Requirement already satisfied: distro<2,>=1.7.0 in /usr/lib/python3/dist-packages (from openai<2.0.0,>=1.40.0->langchain-openai) (1.7.0)\n",
            "Requirement already satisfied: httpx<1,>=0.23.0 in /usr/local/lib/python3.10/dist-packages (from openai<2.0.0,>=1.40.0->langchain-openai) (0.27.2)\n",
            "Requirement already satisfied: jiter<1,>=0.4.0 in /usr/local/lib/python3.10/dist-packages (from openai<2.0.0,>=1.40.0->langchain-openai) (0.5.0)\n",
            "Requirement already satisfied: sniffio in /usr/local/lib/python3.10/dist-packages (from openai<2.0.0,>=1.40.0->langchain-openai) (1.3.1)\n",
            "Requirement already satisfied: tqdm>4 in /usr/local/lib/python3.10/dist-packages (from openai<2.0.0,>=1.40.0->langchain-openai) (4.66.5)\n",
            "Requirement already satisfied: regex>=2022.1.18 in /usr/local/lib/python3.10/dist-packages (from tiktoken<1,>=0.7->langchain-openai) (2024.5.15)\n",
            "Requirement already satisfied: requests>=2.26.0 in /usr/local/lib/python3.10/dist-packages (from tiktoken<1,>=0.7->langchain-openai) (2.32.3)\n",
            "Requirement already satisfied: idna>=2.8 in /usr/local/lib/python3.10/dist-packages (from anyio<5,>=3.5.0->openai<2.0.0,>=1.40.0->langchain-openai) (3.8)\n",
            "Requirement already satisfied: exceptiongroup in /usr/local/lib/python3.10/dist-packages (from anyio<5,>=3.5.0->openai<2.0.0,>=1.40.0->langchain-openai) (1.2.2)\n",
            "Requirement already satisfied: certifi in /usr/local/lib/python3.10/dist-packages (from httpx<1,>=0.23.0->openai<2.0.0,>=1.40.0->langchain-openai) (2024.8.30)\n",
            "Requirement already satisfied: httpcore==1.* in /usr/local/lib/python3.10/dist-packages (from httpx<1,>=0.23.0->openai<2.0.0,>=1.40.0->langchain-openai) (1.0.5)\n",
            "Requirement already satisfied: h11<0.15,>=0.13 in /usr/local/lib/python3.10/dist-packages (from httpcore==1.*->httpx<1,>=0.23.0->openai<2.0.0,>=1.40.0->langchain-openai) (0.14.0)\n",
            "Requirement already satisfied: jsonpointer>=1.9 in /usr/local/lib/python3.10/dist-packages (from jsonpatch<2.0,>=1.33->langchain-core<0.3.0,>=0.2.35->langchain-openai) (3.0.0)\n",
            "Requirement already satisfied: orjson<4.0.0,>=3.9.14 in /usr/local/lib/python3.10/dist-packages (from langsmith<0.2.0,>=0.1.75->langchain-core<0.3.0,>=0.2.35->langchain-openai) (3.10.7)\n",
            "Requirement already satisfied: annotated-types>=0.4.0 in /usr/local/lib/python3.10/dist-packages (from pydantic<3,>=1->langchain-core<0.3.0,>=0.2.35->langchain-openai) (0.7.0)\n",
            "Requirement already satisfied: pydantic-core==2.20.1 in /usr/local/lib/python3.10/dist-packages (from pydantic<3,>=1->langchain-core<0.3.0,>=0.2.35->langchain-openai) (2.20.1)\n",
            "Requirement already satisfied: charset-normalizer<4,>=2 in /usr/local/lib/python3.10/dist-packages (from requests>=2.26.0->tiktoken<1,>=0.7->langchain-openai) (3.3.2)\n",
            "Requirement already satisfied: urllib3<3,>=1.21.1 in /usr/local/lib/python3.10/dist-packages (from requests>=2.26.0->tiktoken<1,>=0.7->langchain-openai) (2.0.7)\n",
            "Downloading langchain_openai-0.1.23-py3-none-any.whl (51 kB)\n",
            "\u001b[2K   \u001b[90m━━━━━━━━━━━━━━━━━━━━━━━━━━━━━━━━━━━━━━━━\u001b[0m \u001b[32m52.0/52.0 kB\u001b[0m \u001b[31m3.7 MB/s\u001b[0m eta \u001b[36m0:00:00\u001b[0m\n",
            "\u001b[?25hDownloading tiktoken-0.7.0-cp310-cp310-manylinux_2_17_x86_64.manylinux2014_x86_64.whl (1.1 MB)\n",
            "\u001b[2K   \u001b[90m━━━━━━━━━━━━━━━━━━━━━━━━━━━━━━━━━━━━━━━━\u001b[0m \u001b[32m1.1/1.1 MB\u001b[0m \u001b[31m37.5 MB/s\u001b[0m eta \u001b[36m0:00:00\u001b[0m\n",
            "\u001b[?25hInstalling collected packages: tiktoken, langchain-openai\n",
            "Successfully installed langchain-openai-0.1.23 tiktoken-0.7.0\n",
            "Collecting langchain-experimental\n",
            "  Downloading langchain_experimental-0.0.65-py3-none-any.whl.metadata (1.7 kB)\n",
            "Collecting langchain-community<0.3.0,>=0.2.16 (from langchain-experimental)\n",
            "  Downloading langchain_community-0.2.16-py3-none-any.whl.metadata (2.7 kB)\n",
            "Requirement already satisfied: langchain-core<0.3.0,>=0.2.38 in /usr/local/lib/python3.10/dist-packages (from langchain-experimental) (0.2.38)\n",
            "Requirement already satisfied: PyYAML>=5.3 in /usr/local/lib/python3.10/dist-packages (from langchain-community<0.3.0,>=0.2.16->langchain-experimental) (6.0.2)\n",
            "Requirement already satisfied: SQLAlchemy<3,>=1.4 in /usr/local/lib/python3.10/dist-packages (from langchain-community<0.3.0,>=0.2.16->langchain-experimental) (2.0.32)\n",
            "Requirement already satisfied: aiohttp<4.0.0,>=3.8.3 in /usr/local/lib/python3.10/dist-packages (from langchain-community<0.3.0,>=0.2.16->langchain-experimental) (3.10.5)\n",
            "Collecting dataclasses-json<0.7,>=0.5.7 (from langchain-community<0.3.0,>=0.2.16->langchain-experimental)\n",
            "  Downloading dataclasses_json-0.6.7-py3-none-any.whl.metadata (25 kB)\n",
            "Requirement already satisfied: langchain<0.3.0,>=0.2.16 in /usr/local/lib/python3.10/dist-packages (from langchain-community<0.3.0,>=0.2.16->langchain-experimental) (0.2.16)\n",
            "Requirement already satisfied: langsmith<0.2.0,>=0.1.0 in /usr/local/lib/python3.10/dist-packages (from langchain-community<0.3.0,>=0.2.16->langchain-experimental) (0.1.116)\n",
            "Requirement already satisfied: numpy<2,>=1 in /usr/local/lib/python3.10/dist-packages (from langchain-community<0.3.0,>=0.2.16->langchain-experimental) (1.26.4)\n",
            "Requirement already satisfied: requests<3,>=2 in /usr/local/lib/python3.10/dist-packages (from langchain-community<0.3.0,>=0.2.16->langchain-experimental) (2.32.3)\n",
            "Requirement already satisfied: tenacity!=8.4.0,<9.0.0,>=8.1.0 in /usr/local/lib/python3.10/dist-packages (from langchain-community<0.3.0,>=0.2.16->langchain-experimental) (8.5.0)\n",
            "Requirement already satisfied: jsonpatch<2.0,>=1.33 in /usr/local/lib/python3.10/dist-packages (from langchain-core<0.3.0,>=0.2.38->langchain-experimental) (1.33)\n",
            "Requirement already satisfied: packaging<25,>=23.2 in /usr/local/lib/python3.10/dist-packages (from langchain-core<0.3.0,>=0.2.38->langchain-experimental) (24.1)\n",
            "Requirement already satisfied: pydantic<3,>=1 in /usr/local/lib/python3.10/dist-packages (from langchain-core<0.3.0,>=0.2.38->langchain-experimental) (2.8.2)\n",
            "Requirement already satisfied: typing-extensions>=4.7 in /usr/local/lib/python3.10/dist-packages (from langchain-core<0.3.0,>=0.2.38->langchain-experimental) (4.12.2)\n",
            "Requirement already satisfied: aiohappyeyeballs>=2.3.0 in /usr/local/lib/python3.10/dist-packages (from aiohttp<4.0.0,>=3.8.3->langchain-community<0.3.0,>=0.2.16->langchain-experimental) (2.4.0)\n",
            "Requirement already satisfied: aiosignal>=1.1.2 in /usr/local/lib/python3.10/dist-packages (from aiohttp<4.0.0,>=3.8.3->langchain-community<0.3.0,>=0.2.16->langchain-experimental) (1.3.1)\n",
            "Requirement already satisfied: attrs>=17.3.0 in /usr/local/lib/python3.10/dist-packages (from aiohttp<4.0.0,>=3.8.3->langchain-community<0.3.0,>=0.2.16->langchain-experimental) (24.2.0)\n",
            "Requirement already satisfied: frozenlist>=1.1.1 in /usr/local/lib/python3.10/dist-packages (from aiohttp<4.0.0,>=3.8.3->langchain-community<0.3.0,>=0.2.16->langchain-experimental) (1.4.1)\n",
            "Requirement already satisfied: multidict<7.0,>=4.5 in /usr/local/lib/python3.10/dist-packages (from aiohttp<4.0.0,>=3.8.3->langchain-community<0.3.0,>=0.2.16->langchain-experimental) (6.0.5)\n",
            "Requirement already satisfied: yarl<2.0,>=1.0 in /usr/local/lib/python3.10/dist-packages (from aiohttp<4.0.0,>=3.8.3->langchain-community<0.3.0,>=0.2.16->langchain-experimental) (1.9.4)\n",
            "Requirement already satisfied: async-timeout<5.0,>=4.0 in /usr/local/lib/python3.10/dist-packages (from aiohttp<4.0.0,>=3.8.3->langchain-community<0.3.0,>=0.2.16->langchain-experimental) (4.0.3)\n",
            "Collecting marshmallow<4.0.0,>=3.18.0 (from dataclasses-json<0.7,>=0.5.7->langchain-community<0.3.0,>=0.2.16->langchain-experimental)\n",
            "  Downloading marshmallow-3.22.0-py3-none-any.whl.metadata (7.2 kB)\n",
            "Collecting typing-inspect<1,>=0.4.0 (from dataclasses-json<0.7,>=0.5.7->langchain-community<0.3.0,>=0.2.16->langchain-experimental)\n",
            "  Downloading typing_inspect-0.9.0-py3-none-any.whl.metadata (1.5 kB)\n",
            "Requirement already satisfied: jsonpointer>=1.9 in /usr/local/lib/python3.10/dist-packages (from jsonpatch<2.0,>=1.33->langchain-core<0.3.0,>=0.2.38->langchain-experimental) (3.0.0)\n",
            "Requirement already satisfied: langchain-text-splitters<0.3.0,>=0.2.0 in /usr/local/lib/python3.10/dist-packages (from langchain<0.3.0,>=0.2.16->langchain-community<0.3.0,>=0.2.16->langchain-experimental) (0.2.4)\n",
            "Requirement already satisfied: httpx<1,>=0.23.0 in /usr/local/lib/python3.10/dist-packages (from langsmith<0.2.0,>=0.1.0->langchain-community<0.3.0,>=0.2.16->langchain-experimental) (0.27.2)\n",
            "Requirement already satisfied: orjson<4.0.0,>=3.9.14 in /usr/local/lib/python3.10/dist-packages (from langsmith<0.2.0,>=0.1.0->langchain-community<0.3.0,>=0.2.16->langchain-experimental) (3.10.7)\n",
            "Requirement already satisfied: annotated-types>=0.4.0 in /usr/local/lib/python3.10/dist-packages (from pydantic<3,>=1->langchain-core<0.3.0,>=0.2.38->langchain-experimental) (0.7.0)\n",
            "Requirement already satisfied: pydantic-core==2.20.1 in /usr/local/lib/python3.10/dist-packages (from pydantic<3,>=1->langchain-core<0.3.0,>=0.2.38->langchain-experimental) (2.20.1)\n",
            "Requirement already satisfied: charset-normalizer<4,>=2 in /usr/local/lib/python3.10/dist-packages (from requests<3,>=2->langchain-community<0.3.0,>=0.2.16->langchain-experimental) (3.3.2)\n",
            "Requirement already satisfied: idna<4,>=2.5 in /usr/local/lib/python3.10/dist-packages (from requests<3,>=2->langchain-community<0.3.0,>=0.2.16->langchain-experimental) (3.8)\n",
            "Requirement already satisfied: urllib3<3,>=1.21.1 in /usr/local/lib/python3.10/dist-packages (from requests<3,>=2->langchain-community<0.3.0,>=0.2.16->langchain-experimental) (2.0.7)\n",
            "Requirement already satisfied: certifi>=2017.4.17 in /usr/local/lib/python3.10/dist-packages (from requests<3,>=2->langchain-community<0.3.0,>=0.2.16->langchain-experimental) (2024.8.30)\n",
            "Requirement already satisfied: greenlet!=0.4.17 in /usr/local/lib/python3.10/dist-packages (from SQLAlchemy<3,>=1.4->langchain-community<0.3.0,>=0.2.16->langchain-experimental) (3.0.3)\n",
            "Requirement already satisfied: anyio in /usr/local/lib/python3.10/dist-packages (from httpx<1,>=0.23.0->langsmith<0.2.0,>=0.1.0->langchain-community<0.3.0,>=0.2.16->langchain-experimental) (3.7.1)\n",
            "Requirement already satisfied: httpcore==1.* in /usr/local/lib/python3.10/dist-packages (from httpx<1,>=0.23.0->langsmith<0.2.0,>=0.1.0->langchain-community<0.3.0,>=0.2.16->langchain-experimental) (1.0.5)\n",
            "Requirement already satisfied: sniffio in /usr/local/lib/python3.10/dist-packages (from httpx<1,>=0.23.0->langsmith<0.2.0,>=0.1.0->langchain-community<0.3.0,>=0.2.16->langchain-experimental) (1.3.1)\n",
            "Requirement already satisfied: h11<0.15,>=0.13 in /usr/local/lib/python3.10/dist-packages (from httpcore==1.*->httpx<1,>=0.23.0->langsmith<0.2.0,>=0.1.0->langchain-community<0.3.0,>=0.2.16->langchain-experimental) (0.14.0)\n",
            "Collecting mypy-extensions>=0.3.0 (from typing-inspect<1,>=0.4.0->dataclasses-json<0.7,>=0.5.7->langchain-community<0.3.0,>=0.2.16->langchain-experimental)\n",
            "  Downloading mypy_extensions-1.0.0-py3-none-any.whl.metadata (1.1 kB)\n",
            "Requirement already satisfied: exceptiongroup in /usr/local/lib/python3.10/dist-packages (from anyio->httpx<1,>=0.23.0->langsmith<0.2.0,>=0.1.0->langchain-community<0.3.0,>=0.2.16->langchain-experimental) (1.2.2)\n",
            "Downloading langchain_experimental-0.0.65-py3-none-any.whl (207 kB)\n",
            "\u001b[2K   \u001b[90m━━━━━━━━━━━━━━━━━━━━━━━━━━━━━━━━━━━━━━━━\u001b[0m \u001b[32m207.2/207.2 kB\u001b[0m \u001b[31m9.7 MB/s\u001b[0m eta \u001b[36m0:00:00\u001b[0m\n",
            "\u001b[?25hDownloading langchain_community-0.2.16-py3-none-any.whl (2.3 MB)\n",
            "\u001b[2K   \u001b[90m━━━━━━━━━━━━━━━━━━━━━━━━━━━━━━━━━━━━━━━━\u001b[0m \u001b[32m2.3/2.3 MB\u001b[0m \u001b[31m51.1 MB/s\u001b[0m eta \u001b[36m0:00:00\u001b[0m\n",
            "\u001b[?25hDownloading dataclasses_json-0.6.7-py3-none-any.whl (28 kB)\n",
            "Downloading marshmallow-3.22.0-py3-none-any.whl (49 kB)\n",
            "\u001b[2K   \u001b[90m━━━━━━━━━━━━━━━━━━━━━━━━━━━━━━━━━━━━━━━━\u001b[0m \u001b[32m49.3/49.3 kB\u001b[0m \u001b[31m3.1 MB/s\u001b[0m eta \u001b[36m0:00:00\u001b[0m\n",
            "\u001b[?25hDownloading typing_inspect-0.9.0-py3-none-any.whl (8.8 kB)\n",
            "Downloading mypy_extensions-1.0.0-py3-none-any.whl (4.7 kB)\n",
            "Installing collected packages: mypy-extensions, marshmallow, typing-inspect, dataclasses-json, langchain-community, langchain-experimental\n",
            "Successfully installed dataclasses-json-0.6.7 langchain-community-0.2.16 langchain-experimental-0.0.65 marshmallow-3.22.0 mypy-extensions-1.0.0 typing-inspect-0.9.0\n",
            "Collecting langchain-chroma\n",
            "  Downloading langchain_chroma-0.1.3-py3-none-any.whl.metadata (1.5 kB)\n",
            "Collecting chromadb!=0.5.4,!=0.5.5,<0.6.0,>=0.4.0 (from langchain-chroma)\n",
            "  Downloading chromadb-0.5.3-py3-none-any.whl.metadata (6.8 kB)\n",
            "Collecting fastapi<1,>=0.95.2 (from langchain-chroma)\n",
            "  Downloading fastapi-0.114.0-py3-none-any.whl.metadata (27 kB)\n",
            "Requirement already satisfied: langchain-core<0.3,>=0.1.40 in /usr/local/lib/python3.10/dist-packages (from langchain-chroma) (0.2.38)\n",
            "Requirement already satisfied: numpy<2,>=1 in /usr/local/lib/python3.10/dist-packages (from langchain-chroma) (1.26.4)\n",
            "Requirement already satisfied: build>=1.0.3 in /usr/local/lib/python3.10/dist-packages (from chromadb!=0.5.4,!=0.5.5,<0.6.0,>=0.4.0->langchain-chroma) (1.2.1)\n",
            "Requirement already satisfied: requests>=2.28 in /usr/local/lib/python3.10/dist-packages (from chromadb!=0.5.4,!=0.5.5,<0.6.0,>=0.4.0->langchain-chroma) (2.32.3)\n",
            "Requirement already satisfied: pydantic>=1.9 in /usr/local/lib/python3.10/dist-packages (from chromadb!=0.5.4,!=0.5.5,<0.6.0,>=0.4.0->langchain-chroma) (2.8.2)\n",
            "Collecting chroma-hnswlib==0.7.3 (from chromadb!=0.5.4,!=0.5.5,<0.6.0,>=0.4.0->langchain-chroma)\n",
            "  Downloading chroma_hnswlib-0.7.3-cp310-cp310-manylinux_2_17_x86_64.manylinux2014_x86_64.whl.metadata (252 bytes)\n",
            "Collecting uvicorn>=0.18.3 (from uvicorn[standard]>=0.18.3->chromadb!=0.5.4,!=0.5.5,<0.6.0,>=0.4.0->langchain-chroma)\n",
            "  Downloading uvicorn-0.30.6-py3-none-any.whl.metadata (6.6 kB)\n",
            "Collecting posthog>=2.4.0 (from chromadb!=0.5.4,!=0.5.5,<0.6.0,>=0.4.0->langchain-chroma)\n",
            "  Downloading posthog-3.6.3-py2.py3-none-any.whl.metadata (2.0 kB)\n",
            "Requirement already satisfied: typing-extensions>=4.5.0 in /usr/local/lib/python3.10/dist-packages (from chromadb!=0.5.4,!=0.5.5,<0.6.0,>=0.4.0->langchain-chroma) (4.12.2)\n",
            "Collecting onnxruntime>=1.14.1 (from chromadb!=0.5.4,!=0.5.5,<0.6.0,>=0.4.0->langchain-chroma)\n",
            "  Downloading onnxruntime-1.19.2-cp310-cp310-manylinux_2_27_x86_64.manylinux_2_28_x86_64.whl.metadata (4.5 kB)\n",
            "Collecting opentelemetry-api>=1.2.0 (from chromadb!=0.5.4,!=0.5.5,<0.6.0,>=0.4.0->langchain-chroma)\n",
            "  Downloading opentelemetry_api-1.27.0-py3-none-any.whl.metadata (1.4 kB)\n",
            "Collecting opentelemetry-exporter-otlp-proto-grpc>=1.2.0 (from chromadb!=0.5.4,!=0.5.5,<0.6.0,>=0.4.0->langchain-chroma)\n",
            "  Downloading opentelemetry_exporter_otlp_proto_grpc-1.27.0-py3-none-any.whl.metadata (2.3 kB)\n",
            "Collecting opentelemetry-instrumentation-fastapi>=0.41b0 (from chromadb!=0.5.4,!=0.5.5,<0.6.0,>=0.4.0->langchain-chroma)\n",
            "  Downloading opentelemetry_instrumentation_fastapi-0.48b0-py3-none-any.whl.metadata (2.1 kB)\n",
            "Collecting opentelemetry-sdk>=1.2.0 (from chromadb!=0.5.4,!=0.5.5,<0.6.0,>=0.4.0->langchain-chroma)\n",
            "  Downloading opentelemetry_sdk-1.27.0-py3-none-any.whl.metadata (1.5 kB)\n",
            "Requirement already satisfied: tokenizers>=0.13.2 in /usr/local/lib/python3.10/dist-packages (from chromadb!=0.5.4,!=0.5.5,<0.6.0,>=0.4.0->langchain-chroma) (0.19.1)\n",
            "Collecting pypika>=0.48.9 (from chromadb!=0.5.4,!=0.5.5,<0.6.0,>=0.4.0->langchain-chroma)\n",
            "  Downloading PyPika-0.48.9.tar.gz (67 kB)\n",
            "\u001b[2K     \u001b[90m━━━━━━━━━━━━━━━━━━━━━━━━━━━━━━━━━━━━━━━━\u001b[0m \u001b[32m67.3/67.3 kB\u001b[0m \u001b[31m5.5 MB/s\u001b[0m eta \u001b[36m0:00:00\u001b[0m\n",
            "\u001b[?25h  Installing build dependencies ... \u001b[?25l\u001b[?25hdone\n",
            "  Getting requirements to build wheel ... \u001b[?25l\u001b[?25hdone\n",
            "  Preparing metadata (pyproject.toml) ... \u001b[?25l\u001b[?25hdone\n",
            "Requirement already satisfied: tqdm>=4.65.0 in /usr/local/lib/python3.10/dist-packages (from chromadb!=0.5.4,!=0.5.5,<0.6.0,>=0.4.0->langchain-chroma) (4.66.5)\n",
            "Collecting overrides>=7.3.1 (from chromadb!=0.5.4,!=0.5.5,<0.6.0,>=0.4.0->langchain-chroma)\n",
            "  Downloading overrides-7.7.0-py3-none-any.whl.metadata (5.8 kB)\n",
            "Requirement already satisfied: importlib-resources in /usr/local/lib/python3.10/dist-packages (from chromadb!=0.5.4,!=0.5.5,<0.6.0,>=0.4.0->langchain-chroma) (6.4.4)\n",
            "Requirement already satisfied: grpcio>=1.58.0 in /usr/local/lib/python3.10/dist-packages (from chromadb!=0.5.4,!=0.5.5,<0.6.0,>=0.4.0->langchain-chroma) (1.64.1)\n",
            "Collecting bcrypt>=4.0.1 (from chromadb!=0.5.4,!=0.5.5,<0.6.0,>=0.4.0->langchain-chroma)\n",
            "  Downloading bcrypt-4.2.0-cp39-abi3-manylinux_2_28_x86_64.whl.metadata (9.6 kB)\n",
            "Requirement already satisfied: typer>=0.9.0 in /usr/local/lib/python3.10/dist-packages (from chromadb!=0.5.4,!=0.5.5,<0.6.0,>=0.4.0->langchain-chroma) (0.12.5)\n",
            "Collecting kubernetes>=28.1.0 (from chromadb!=0.5.4,!=0.5.5,<0.6.0,>=0.4.0->langchain-chroma)\n",
            "  Downloading kubernetes-30.1.0-py2.py3-none-any.whl.metadata (1.5 kB)\n",
            "Requirement already satisfied: tenacity>=8.2.3 in /usr/local/lib/python3.10/dist-packages (from chromadb!=0.5.4,!=0.5.5,<0.6.0,>=0.4.0->langchain-chroma) (8.5.0)\n",
            "Requirement already satisfied: PyYAML>=6.0.0 in /usr/local/lib/python3.10/dist-packages (from chromadb!=0.5.4,!=0.5.5,<0.6.0,>=0.4.0->langchain-chroma) (6.0.2)\n",
            "Collecting mmh3>=4.0.1 (from chromadb!=0.5.4,!=0.5.5,<0.6.0,>=0.4.0->langchain-chroma)\n",
            "  Downloading mmh3-4.1.0-cp310-cp310-manylinux_2_5_x86_64.manylinux1_x86_64.manylinux_2_17_x86_64.manylinux2014_x86_64.whl.metadata (13 kB)\n",
            "Requirement already satisfied: orjson>=3.9.12 in /usr/local/lib/python3.10/dist-packages (from chromadb!=0.5.4,!=0.5.5,<0.6.0,>=0.4.0->langchain-chroma) (3.10.7)\n",
            "Requirement already satisfied: httpx>=0.27.0 in /usr/local/lib/python3.10/dist-packages (from chromadb!=0.5.4,!=0.5.5,<0.6.0,>=0.4.0->langchain-chroma) (0.27.2)\n",
            "Collecting starlette<0.39.0,>=0.37.2 (from fastapi<1,>=0.95.2->langchain-chroma)\n",
            "  Downloading starlette-0.38.5-py3-none-any.whl.metadata (6.0 kB)\n",
            "Requirement already satisfied: jsonpatch<2.0,>=1.33 in /usr/local/lib/python3.10/dist-packages (from langchain-core<0.3,>=0.1.40->langchain-chroma) (1.33)\n",
            "Requirement already satisfied: langsmith<0.2.0,>=0.1.75 in /usr/local/lib/python3.10/dist-packages (from langchain-core<0.3,>=0.1.40->langchain-chroma) (0.1.116)\n",
            "Requirement already satisfied: packaging<25,>=23.2 in /usr/local/lib/python3.10/dist-packages (from langchain-core<0.3,>=0.1.40->langchain-chroma) (24.1)\n",
            "Requirement already satisfied: pyproject_hooks in /usr/local/lib/python3.10/dist-packages (from build>=1.0.3->chromadb!=0.5.4,!=0.5.5,<0.6.0,>=0.4.0->langchain-chroma) (1.1.0)\n",
            "Requirement already satisfied: tomli>=1.1.0 in /usr/local/lib/python3.10/dist-packages (from build>=1.0.3->chromadb!=0.5.4,!=0.5.5,<0.6.0,>=0.4.0->langchain-chroma) (2.0.1)\n",
            "Requirement already satisfied: anyio in /usr/local/lib/python3.10/dist-packages (from httpx>=0.27.0->chromadb!=0.5.4,!=0.5.5,<0.6.0,>=0.4.0->langchain-chroma) (3.7.1)\n",
            "Requirement already satisfied: certifi in /usr/local/lib/python3.10/dist-packages (from httpx>=0.27.0->chromadb!=0.5.4,!=0.5.5,<0.6.0,>=0.4.0->langchain-chroma) (2024.8.30)\n",
            "Requirement already satisfied: httpcore==1.* in /usr/local/lib/python3.10/dist-packages (from httpx>=0.27.0->chromadb!=0.5.4,!=0.5.5,<0.6.0,>=0.4.0->langchain-chroma) (1.0.5)\n",
            "Requirement already satisfied: idna in /usr/local/lib/python3.10/dist-packages (from httpx>=0.27.0->chromadb!=0.5.4,!=0.5.5,<0.6.0,>=0.4.0->langchain-chroma) (3.8)\n",
            "Requirement already satisfied: sniffio in /usr/local/lib/python3.10/dist-packages (from httpx>=0.27.0->chromadb!=0.5.4,!=0.5.5,<0.6.0,>=0.4.0->langchain-chroma) (1.3.1)\n",
            "Requirement already satisfied: h11<0.15,>=0.13 in /usr/local/lib/python3.10/dist-packages (from httpcore==1.*->httpx>=0.27.0->chromadb!=0.5.4,!=0.5.5,<0.6.0,>=0.4.0->langchain-chroma) (0.14.0)\n",
            "Requirement already satisfied: jsonpointer>=1.9 in /usr/local/lib/python3.10/dist-packages (from jsonpatch<2.0,>=1.33->langchain-core<0.3,>=0.1.40->langchain-chroma) (3.0.0)\n",
            "Requirement already satisfied: six>=1.9.0 in /usr/local/lib/python3.10/dist-packages (from kubernetes>=28.1.0->chromadb!=0.5.4,!=0.5.5,<0.6.0,>=0.4.0->langchain-chroma) (1.16.0)\n",
            "Requirement already satisfied: python-dateutil>=2.5.3 in /usr/local/lib/python3.10/dist-packages (from kubernetes>=28.1.0->chromadb!=0.5.4,!=0.5.5,<0.6.0,>=0.4.0->langchain-chroma) (2.8.2)\n",
            "Requirement already satisfied: google-auth>=1.0.1 in /usr/local/lib/python3.10/dist-packages (from kubernetes>=28.1.0->chromadb!=0.5.4,!=0.5.5,<0.6.0,>=0.4.0->langchain-chroma) (2.27.0)\n",
            "Requirement already satisfied: websocket-client!=0.40.0,!=0.41.*,!=0.42.*,>=0.32.0 in /usr/local/lib/python3.10/dist-packages (from kubernetes>=28.1.0->chromadb!=0.5.4,!=0.5.5,<0.6.0,>=0.4.0->langchain-chroma) (1.8.0)\n",
            "Requirement already satisfied: requests-oauthlib in /usr/local/lib/python3.10/dist-packages (from kubernetes>=28.1.0->chromadb!=0.5.4,!=0.5.5,<0.6.0,>=0.4.0->langchain-chroma) (1.3.1)\n",
            "Requirement already satisfied: oauthlib>=3.2.2 in /usr/local/lib/python3.10/dist-packages (from kubernetes>=28.1.0->chromadb!=0.5.4,!=0.5.5,<0.6.0,>=0.4.0->langchain-chroma) (3.2.2)\n",
            "Requirement already satisfied: urllib3>=1.24.2 in /usr/local/lib/python3.10/dist-packages (from kubernetes>=28.1.0->chromadb!=0.5.4,!=0.5.5,<0.6.0,>=0.4.0->langchain-chroma) (2.0.7)\n",
            "Collecting coloredlogs (from onnxruntime>=1.14.1->chromadb!=0.5.4,!=0.5.5,<0.6.0,>=0.4.0->langchain-chroma)\n",
            "  Downloading coloredlogs-15.0.1-py2.py3-none-any.whl.metadata (12 kB)\n",
            "Requirement already satisfied: flatbuffers in /usr/local/lib/python3.10/dist-packages (from onnxruntime>=1.14.1->chromadb!=0.5.4,!=0.5.5,<0.6.0,>=0.4.0->langchain-chroma) (24.3.25)\n",
            "Requirement already satisfied: protobuf in /usr/local/lib/python3.10/dist-packages (from onnxruntime>=1.14.1->chromadb!=0.5.4,!=0.5.5,<0.6.0,>=0.4.0->langchain-chroma) (3.20.3)\n",
            "Requirement already satisfied: sympy in /usr/local/lib/python3.10/dist-packages (from onnxruntime>=1.14.1->chromadb!=0.5.4,!=0.5.5,<0.6.0,>=0.4.0->langchain-chroma) (1.13.2)\n",
            "Collecting deprecated>=1.2.6 (from opentelemetry-api>=1.2.0->chromadb!=0.5.4,!=0.5.5,<0.6.0,>=0.4.0->langchain-chroma)\n",
            "  Downloading Deprecated-1.2.14-py2.py3-none-any.whl.metadata (5.4 kB)\n",
            "Requirement already satisfied: importlib-metadata<=8.4.0,>=6.0 in /usr/local/lib/python3.10/dist-packages (from opentelemetry-api>=1.2.0->chromadb!=0.5.4,!=0.5.5,<0.6.0,>=0.4.0->langchain-chroma) (8.4.0)\n",
            "Requirement already satisfied: googleapis-common-protos~=1.52 in /usr/local/lib/python3.10/dist-packages (from opentelemetry-exporter-otlp-proto-grpc>=1.2.0->chromadb!=0.5.4,!=0.5.5,<0.6.0,>=0.4.0->langchain-chroma) (1.65.0)\n",
            "Collecting opentelemetry-exporter-otlp-proto-common==1.27.0 (from opentelemetry-exporter-otlp-proto-grpc>=1.2.0->chromadb!=0.5.4,!=0.5.5,<0.6.0,>=0.4.0->langchain-chroma)\n",
            "  Downloading opentelemetry_exporter_otlp_proto_common-1.27.0-py3-none-any.whl.metadata (1.8 kB)\n",
            "Collecting opentelemetry-proto==1.27.0 (from opentelemetry-exporter-otlp-proto-grpc>=1.2.0->chromadb!=0.5.4,!=0.5.5,<0.6.0,>=0.4.0->langchain-chroma)\n",
            "  Downloading opentelemetry_proto-1.27.0-py3-none-any.whl.metadata (2.3 kB)\n",
            "Collecting opentelemetry-instrumentation-asgi==0.48b0 (from opentelemetry-instrumentation-fastapi>=0.41b0->chromadb!=0.5.4,!=0.5.5,<0.6.0,>=0.4.0->langchain-chroma)\n",
            "  Downloading opentelemetry_instrumentation_asgi-0.48b0-py3-none-any.whl.metadata (2.0 kB)\n",
            "Collecting opentelemetry-instrumentation==0.48b0 (from opentelemetry-instrumentation-fastapi>=0.41b0->chromadb!=0.5.4,!=0.5.5,<0.6.0,>=0.4.0->langchain-chroma)\n",
            "  Downloading opentelemetry_instrumentation-0.48b0-py3-none-any.whl.metadata (6.1 kB)\n",
            "Collecting opentelemetry-semantic-conventions==0.48b0 (from opentelemetry-instrumentation-fastapi>=0.41b0->chromadb!=0.5.4,!=0.5.5,<0.6.0,>=0.4.0->langchain-chroma)\n",
            "  Downloading opentelemetry_semantic_conventions-0.48b0-py3-none-any.whl.metadata (2.4 kB)\n",
            "Collecting opentelemetry-util-http==0.48b0 (from opentelemetry-instrumentation-fastapi>=0.41b0->chromadb!=0.5.4,!=0.5.5,<0.6.0,>=0.4.0->langchain-chroma)\n",
            "  Downloading opentelemetry_util_http-0.48b0-py3-none-any.whl.metadata (2.5 kB)\n",
            "Requirement already satisfied: setuptools>=16.0 in /usr/local/lib/python3.10/dist-packages (from opentelemetry-instrumentation==0.48b0->opentelemetry-instrumentation-fastapi>=0.41b0->chromadb!=0.5.4,!=0.5.5,<0.6.0,>=0.4.0->langchain-chroma) (71.0.4)\n",
            "Requirement already satisfied: wrapt<2.0.0,>=1.0.0 in /usr/local/lib/python3.10/dist-packages (from opentelemetry-instrumentation==0.48b0->opentelemetry-instrumentation-fastapi>=0.41b0->chromadb!=0.5.4,!=0.5.5,<0.6.0,>=0.4.0->langchain-chroma) (1.16.0)\n",
            "Collecting asgiref~=3.0 (from opentelemetry-instrumentation-asgi==0.48b0->opentelemetry-instrumentation-fastapi>=0.41b0->chromadb!=0.5.4,!=0.5.5,<0.6.0,>=0.4.0->langchain-chroma)\n",
            "  Downloading asgiref-3.8.1-py3-none-any.whl.metadata (9.3 kB)\n",
            "Collecting monotonic>=1.5 (from posthog>=2.4.0->chromadb!=0.5.4,!=0.5.5,<0.6.0,>=0.4.0->langchain-chroma)\n",
            "  Downloading monotonic-1.6-py2.py3-none-any.whl.metadata (1.5 kB)\n",
            "Collecting backoff>=1.10.0 (from posthog>=2.4.0->chromadb!=0.5.4,!=0.5.5,<0.6.0,>=0.4.0->langchain-chroma)\n",
            "  Downloading backoff-2.2.1-py3-none-any.whl.metadata (14 kB)\n",
            "Requirement already satisfied: annotated-types>=0.4.0 in /usr/local/lib/python3.10/dist-packages (from pydantic>=1.9->chromadb!=0.5.4,!=0.5.5,<0.6.0,>=0.4.0->langchain-chroma) (0.7.0)\n",
            "Requirement already satisfied: pydantic-core==2.20.1 in /usr/local/lib/python3.10/dist-packages (from pydantic>=1.9->chromadb!=0.5.4,!=0.5.5,<0.6.0,>=0.4.0->langchain-chroma) (2.20.1)\n",
            "Requirement already satisfied: charset-normalizer<4,>=2 in /usr/local/lib/python3.10/dist-packages (from requests>=2.28->chromadb!=0.5.4,!=0.5.5,<0.6.0,>=0.4.0->langchain-chroma) (3.3.2)\n",
            "Requirement already satisfied: huggingface-hub<1.0,>=0.16.4 in /usr/local/lib/python3.10/dist-packages (from tokenizers>=0.13.2->chromadb!=0.5.4,!=0.5.5,<0.6.0,>=0.4.0->langchain-chroma) (0.24.6)\n",
            "Requirement already satisfied: click>=8.0.0 in /usr/local/lib/python3.10/dist-packages (from typer>=0.9.0->chromadb!=0.5.4,!=0.5.5,<0.6.0,>=0.4.0->langchain-chroma) (8.1.7)\n",
            "Requirement already satisfied: shellingham>=1.3.0 in /usr/local/lib/python3.10/dist-packages (from typer>=0.9.0->chromadb!=0.5.4,!=0.5.5,<0.6.0,>=0.4.0->langchain-chroma) (1.5.4)\n",
            "Requirement already satisfied: rich>=10.11.0 in /usr/local/lib/python3.10/dist-packages (from typer>=0.9.0->chromadb!=0.5.4,!=0.5.5,<0.6.0,>=0.4.0->langchain-chroma) (13.8.0)\n",
            "Collecting httptools>=0.5.0 (from uvicorn[standard]>=0.18.3->chromadb!=0.5.4,!=0.5.5,<0.6.0,>=0.4.0->langchain-chroma)\n",
            "  Downloading httptools-0.6.1-cp310-cp310-manylinux_2_5_x86_64.manylinux1_x86_64.manylinux_2_17_x86_64.manylinux2014_x86_64.whl.metadata (3.6 kB)\n",
            "Collecting python-dotenv>=0.13 (from uvicorn[standard]>=0.18.3->chromadb!=0.5.4,!=0.5.5,<0.6.0,>=0.4.0->langchain-chroma)\n",
            "  Downloading python_dotenv-1.0.1-py3-none-any.whl.metadata (23 kB)\n",
            "Collecting uvloop!=0.15.0,!=0.15.1,>=0.14.0 (from uvicorn[standard]>=0.18.3->chromadb!=0.5.4,!=0.5.5,<0.6.0,>=0.4.0->langchain-chroma)\n",
            "  Downloading uvloop-0.20.0-cp310-cp310-manylinux_2_17_x86_64.manylinux2014_x86_64.whl.metadata (4.9 kB)\n",
            "Collecting watchfiles>=0.13 (from uvicorn[standard]>=0.18.3->chromadb!=0.5.4,!=0.5.5,<0.6.0,>=0.4.0->langchain-chroma)\n",
            "  Downloading watchfiles-0.24.0-cp310-cp310-manylinux_2_17_x86_64.manylinux2014_x86_64.whl.metadata (4.9 kB)\n",
            "Collecting websockets>=10.4 (from uvicorn[standard]>=0.18.3->chromadb!=0.5.4,!=0.5.5,<0.6.0,>=0.4.0->langchain-chroma)\n",
            "  Downloading websockets-13.0.1-cp310-cp310-manylinux_2_5_x86_64.manylinux1_x86_64.manylinux_2_17_x86_64.manylinux2014_x86_64.whl.metadata (6.7 kB)\n",
            "Requirement already satisfied: exceptiongroup in /usr/local/lib/python3.10/dist-packages (from anyio->httpx>=0.27.0->chromadb!=0.5.4,!=0.5.5,<0.6.0,>=0.4.0->langchain-chroma) (1.2.2)\n",
            "Requirement already satisfied: cachetools<6.0,>=2.0.0 in /usr/local/lib/python3.10/dist-packages (from google-auth>=1.0.1->kubernetes>=28.1.0->chromadb!=0.5.4,!=0.5.5,<0.6.0,>=0.4.0->langchain-chroma) (5.5.0)\n",
            "Requirement already satisfied: pyasn1-modules>=0.2.1 in /usr/local/lib/python3.10/dist-packages (from google-auth>=1.0.1->kubernetes>=28.1.0->chromadb!=0.5.4,!=0.5.5,<0.6.0,>=0.4.0->langchain-chroma) (0.4.0)\n",
            "Requirement already satisfied: rsa<5,>=3.1.4 in /usr/local/lib/python3.10/dist-packages (from google-auth>=1.0.1->kubernetes>=28.1.0->chromadb!=0.5.4,!=0.5.5,<0.6.0,>=0.4.0->langchain-chroma) (4.9)\n",
            "Requirement already satisfied: filelock in /usr/local/lib/python3.10/dist-packages (from huggingface-hub<1.0,>=0.16.4->tokenizers>=0.13.2->chromadb!=0.5.4,!=0.5.5,<0.6.0,>=0.4.0->langchain-chroma) (3.15.4)\n",
            "Requirement already satisfied: fsspec>=2023.5.0 in /usr/local/lib/python3.10/dist-packages (from huggingface-hub<1.0,>=0.16.4->tokenizers>=0.13.2->chromadb!=0.5.4,!=0.5.5,<0.6.0,>=0.4.0->langchain-chroma) (2024.6.1)\n",
            "Requirement already satisfied: zipp>=0.5 in /usr/local/lib/python3.10/dist-packages (from importlib-metadata<=8.4.0,>=6.0->opentelemetry-api>=1.2.0->chromadb!=0.5.4,!=0.5.5,<0.6.0,>=0.4.0->langchain-chroma) (3.20.1)\n",
            "Requirement already satisfied: markdown-it-py>=2.2.0 in /usr/local/lib/python3.10/dist-packages (from rich>=10.11.0->typer>=0.9.0->chromadb!=0.5.4,!=0.5.5,<0.6.0,>=0.4.0->langchain-chroma) (3.0.0)\n",
            "Requirement already satisfied: pygments<3.0.0,>=2.13.0 in /usr/local/lib/python3.10/dist-packages (from rich>=10.11.0->typer>=0.9.0->chromadb!=0.5.4,!=0.5.5,<0.6.0,>=0.4.0->langchain-chroma) (2.16.1)\n",
            "Collecting humanfriendly>=9.1 (from coloredlogs->onnxruntime>=1.14.1->chromadb!=0.5.4,!=0.5.5,<0.6.0,>=0.4.0->langchain-chroma)\n",
            "  Downloading humanfriendly-10.0-py2.py3-none-any.whl.metadata (9.2 kB)\n",
            "Requirement already satisfied: mpmath<1.4,>=1.1.0 in /usr/local/lib/python3.10/dist-packages (from sympy->onnxruntime>=1.14.1->chromadb!=0.5.4,!=0.5.5,<0.6.0,>=0.4.0->langchain-chroma) (1.3.0)\n",
            "Requirement already satisfied: mdurl~=0.1 in /usr/local/lib/python3.10/dist-packages (from markdown-it-py>=2.2.0->rich>=10.11.0->typer>=0.9.0->chromadb!=0.5.4,!=0.5.5,<0.6.0,>=0.4.0->langchain-chroma) (0.1.2)\n",
            "Requirement already satisfied: pyasn1<0.7.0,>=0.4.6 in /usr/local/lib/python3.10/dist-packages (from pyasn1-modules>=0.2.1->google-auth>=1.0.1->kubernetes>=28.1.0->chromadb!=0.5.4,!=0.5.5,<0.6.0,>=0.4.0->langchain-chroma) (0.6.0)\n",
            "Downloading langchain_chroma-0.1.3-py3-none-any.whl (10 kB)\n",
            "Downloading chromadb-0.5.3-py3-none-any.whl (559 kB)\n",
            "\u001b[2K   \u001b[90m━━━━━━━━━━━━━━━━━━━━━━━━━━━━━━━━━━━━━━━━\u001b[0m \u001b[32m559.5/559.5 kB\u001b[0m \u001b[31m29.3 MB/s\u001b[0m eta \u001b[36m0:00:00\u001b[0m\n",
            "\u001b[?25hDownloading chroma_hnswlib-0.7.3-cp310-cp310-manylinux_2_17_x86_64.manylinux2014_x86_64.whl (2.4 MB)\n",
            "\u001b[2K   \u001b[90m━━━━━━━━━━━━━━━━━━━━━━━━━━━━━━━━━━━━━━━━\u001b[0m \u001b[32m2.4/2.4 MB\u001b[0m \u001b[31m74.4 MB/s\u001b[0m eta \u001b[36m0:00:00\u001b[0m\n",
            "\u001b[?25hDownloading fastapi-0.114.0-py3-none-any.whl (94 kB)\n",
            "\u001b[2K   \u001b[90m━━━━━━━━━━━━━━━━━━━━━━━━━━━━━━━━━━━━━━━━\u001b[0m \u001b[32m94.0/94.0 kB\u001b[0m \u001b[31m7.9 MB/s\u001b[0m eta \u001b[36m0:00:00\u001b[0m\n",
            "\u001b[?25hDownloading bcrypt-4.2.0-cp39-abi3-manylinux_2_28_x86_64.whl (273 kB)\n",
            "\u001b[2K   \u001b[90m━━━━━━━━━━━━━━━━━━━━━━━━━━━━━━━━━━━━━━━━\u001b[0m \u001b[32m273.8/273.8 kB\u001b[0m \u001b[31m19.6 MB/s\u001b[0m eta \u001b[36m0:00:00\u001b[0m\n",
            "\u001b[?25hDownloading kubernetes-30.1.0-py2.py3-none-any.whl (1.7 MB)\n",
            "\u001b[2K   \u001b[90m━━━━━━━━━━━━━━━━━━━━━━━━━━━━━━━━━━━━━━━━\u001b[0m \u001b[32m1.7/1.7 MB\u001b[0m \u001b[31m66.4 MB/s\u001b[0m eta \u001b[36m0:00:00\u001b[0m\n",
            "\u001b[?25hDownloading mmh3-4.1.0-cp310-cp310-manylinux_2_5_x86_64.manylinux1_x86_64.manylinux_2_17_x86_64.manylinux2014_x86_64.whl (67 kB)\n",
            "\u001b[2K   \u001b[90m━━━━━━━━━━━━━━━━━━━━━━━━━━━━━━━━━━━━━━━━\u001b[0m \u001b[32m67.6/67.6 kB\u001b[0m \u001b[31m5.2 MB/s\u001b[0m eta \u001b[36m0:00:00\u001b[0m\n",
            "\u001b[?25hDownloading onnxruntime-1.19.2-cp310-cp310-manylinux_2_27_x86_64.manylinux_2_28_x86_64.whl (13.2 MB)\n",
            "\u001b[2K   \u001b[90m━━━━━━━━━━━━━━━━━━━━━━━━━━━━━━━━━━━━━━━━\u001b[0m \u001b[32m13.2/13.2 MB\u001b[0m \u001b[31m95.5 MB/s\u001b[0m eta \u001b[36m0:00:00\u001b[0m\n",
            "\u001b[?25hDownloading opentelemetry_api-1.27.0-py3-none-any.whl (63 kB)\n",
            "\u001b[2K   \u001b[90m━━━━━━━━━━━━━━━━━━━━━━━━━━━━━━━━━━━━━━━━\u001b[0m \u001b[32m64.0/64.0 kB\u001b[0m \u001b[31m5.1 MB/s\u001b[0m eta \u001b[36m0:00:00\u001b[0m\n",
            "\u001b[?25hDownloading opentelemetry_exporter_otlp_proto_grpc-1.27.0-py3-none-any.whl (18 kB)\n",
            "Downloading opentelemetry_exporter_otlp_proto_common-1.27.0-py3-none-any.whl (17 kB)\n",
            "Downloading opentelemetry_proto-1.27.0-py3-none-any.whl (52 kB)\n",
            "\u001b[2K   \u001b[90m━━━━━━━━━━━━━━━━━━━━━━━━━━━━━━━━━━━━━━━━\u001b[0m \u001b[32m52.5/52.5 kB\u001b[0m \u001b[31m4.0 MB/s\u001b[0m eta \u001b[36m0:00:00\u001b[0m\n",
            "\u001b[?25hDownloading opentelemetry_instrumentation_fastapi-0.48b0-py3-none-any.whl (11 kB)\n",
            "Downloading opentelemetry_instrumentation-0.48b0-py3-none-any.whl (29 kB)\n",
            "Downloading opentelemetry_instrumentation_asgi-0.48b0-py3-none-any.whl (15 kB)\n",
            "Downloading opentelemetry_semantic_conventions-0.48b0-py3-none-any.whl (149 kB)\n",
            "\u001b[2K   \u001b[90m━━━━━━━━━━━━━━━━━━━━━━━━━━━━━━━━━━━━━━━━\u001b[0m \u001b[32m149.7/149.7 kB\u001b[0m \u001b[31m11.1 MB/s\u001b[0m eta \u001b[36m0:00:00\u001b[0m\n",
            "\u001b[?25hDownloading opentelemetry_util_http-0.48b0-py3-none-any.whl (6.9 kB)\n",
            "Downloading opentelemetry_sdk-1.27.0-py3-none-any.whl (110 kB)\n",
            "\u001b[2K   \u001b[90m━━━━━━━━━━━━━━━━━━━━━━━━━━━━━━━━━━━━━━━━\u001b[0m \u001b[32m110.5/110.5 kB\u001b[0m \u001b[31m8.4 MB/s\u001b[0m eta \u001b[36m0:00:00\u001b[0m\n",
            "\u001b[?25hDownloading overrides-7.7.0-py3-none-any.whl (17 kB)\n",
            "Downloading posthog-3.6.3-py2.py3-none-any.whl (53 kB)\n",
            "\u001b[2K   \u001b[90m━━━━━━━━━━━━━━━━━━━━━━━━━━━━━━━━━━━━━━━━\u001b[0m \u001b[32m53.0/53.0 kB\u001b[0m \u001b[31m4.3 MB/s\u001b[0m eta \u001b[36m0:00:00\u001b[0m\n",
            "\u001b[?25hDownloading starlette-0.38.5-py3-none-any.whl (71 kB)\n",
            "\u001b[2K   \u001b[90m━━━━━━━━━━━━━━━━━━━━━━━━━━━━━━━━━━━━━━━━\u001b[0m \u001b[32m71.4/71.4 kB\u001b[0m \u001b[31m5.6 MB/s\u001b[0m eta \u001b[36m0:00:00\u001b[0m\n",
            "\u001b[?25hDownloading uvicorn-0.30.6-py3-none-any.whl (62 kB)\n",
            "\u001b[2K   \u001b[90m━━━━━━━━━━━━━━━━━━━━━━━━━━━━━━━━━━━━━━━━\u001b[0m \u001b[32m62.8/62.8 kB\u001b[0m \u001b[31m4.6 MB/s\u001b[0m eta \u001b[36m0:00:00\u001b[0m\n",
            "\u001b[?25hDownloading backoff-2.2.1-py3-none-any.whl (15 kB)\n",
            "Downloading Deprecated-1.2.14-py2.py3-none-any.whl (9.6 kB)\n",
            "Downloading httptools-0.6.1-cp310-cp310-manylinux_2_5_x86_64.manylinux1_x86_64.manylinux_2_17_x86_64.manylinux2014_x86_64.whl (341 kB)\n",
            "\u001b[2K   \u001b[90m━━━━━━━━━━━━━━━━━━━━━━━━━━━━━━━━━━━━━━━━\u001b[0m \u001b[32m341.4/341.4 kB\u001b[0m \u001b[31m23.3 MB/s\u001b[0m eta \u001b[36m0:00:00\u001b[0m\n",
            "\u001b[?25hDownloading monotonic-1.6-py2.py3-none-any.whl (8.2 kB)\n",
            "Downloading python_dotenv-1.0.1-py3-none-any.whl (19 kB)\n",
            "Downloading uvloop-0.20.0-cp310-cp310-manylinux_2_17_x86_64.manylinux2014_x86_64.whl (3.4 MB)\n",
            "\u001b[2K   \u001b[90m━━━━━━━━━━━━━━━━━━━━━━━━━━━━━━━━━━━━━━━━\u001b[0m \u001b[32m3.4/3.4 MB\u001b[0m \u001b[31m84.0 MB/s\u001b[0m eta \u001b[36m0:00:00\u001b[0m\n",
            "\u001b[?25hDownloading watchfiles-0.24.0-cp310-cp310-manylinux_2_17_x86_64.manylinux2014_x86_64.whl (425 kB)\n",
            "\u001b[2K   \u001b[90m━━━━━━━━━━━━━━━━━━━━━━━━━━━━━━━━━━━━━━━━\u001b[0m \u001b[32m425.7/425.7 kB\u001b[0m \u001b[31m29.0 MB/s\u001b[0m eta \u001b[36m0:00:00\u001b[0m\n",
            "\u001b[?25hDownloading websockets-13.0.1-cp310-cp310-manylinux_2_5_x86_64.manylinux1_x86_64.manylinux_2_17_x86_64.manylinux2014_x86_64.whl (157 kB)\n",
            "\u001b[2K   \u001b[90m━━━━━━━━━━━━━━━━━━━━━━━━━━━━━━━━━━━━━━━━\u001b[0m \u001b[32m157.3/157.3 kB\u001b[0m \u001b[31m12.7 MB/s\u001b[0m eta \u001b[36m0:00:00\u001b[0m\n",
            "\u001b[?25hDownloading coloredlogs-15.0.1-py2.py3-none-any.whl (46 kB)\n",
            "\u001b[2K   \u001b[90m━━━━━━━━━━━━━━━━━━━━━━━━━━━━━━━━━━━━━━━━\u001b[0m \u001b[32m46.0/46.0 kB\u001b[0m \u001b[31m3.6 MB/s\u001b[0m eta \u001b[36m0:00:00\u001b[0m\n",
            "\u001b[?25hDownloading asgiref-3.8.1-py3-none-any.whl (23 kB)\n",
            "Downloading humanfriendly-10.0-py2.py3-none-any.whl (86 kB)\n",
            "\u001b[2K   \u001b[90m━━━━━━━━━━━━━━━━━━━━━━━━━━━━━━━━━━━━━━━━\u001b[0m \u001b[32m86.8/86.8 kB\u001b[0m \u001b[31m7.2 MB/s\u001b[0m eta \u001b[36m0:00:00\u001b[0m\n",
            "\u001b[?25hBuilding wheels for collected packages: pypika\n",
            "  Building wheel for pypika (pyproject.toml) ... \u001b[?25l\u001b[?25hdone\n",
            "  Created wheel for pypika: filename=PyPika-0.48.9-py2.py3-none-any.whl size=53726 sha256=883063f5a284502ec97ffed1894f767188233752eee4f546372461033beab293\n",
            "  Stored in directory: /root/.cache/pip/wheels/e1/26/51/d0bffb3d2fd82256676d7ad3003faea3bd6dddc9577af665f4\n",
            "Successfully built pypika\n",
            "Installing collected packages: pypika, monotonic, mmh3, websockets, uvloop, uvicorn, python-dotenv, overrides, opentelemetry-util-http, opentelemetry-proto, humanfriendly, httptools, deprecated, chroma-hnswlib, bcrypt, backoff, asgiref, watchfiles, starlette, posthog, opentelemetry-exporter-otlp-proto-common, opentelemetry-api, coloredlogs, opentelemetry-semantic-conventions, opentelemetry-instrumentation, onnxruntime, kubernetes, fastapi, opentelemetry-sdk, opentelemetry-instrumentation-asgi, opentelemetry-instrumentation-fastapi, opentelemetry-exporter-otlp-proto-grpc, chromadb, langchain-chroma\n",
            "Successfully installed asgiref-3.8.1 backoff-2.2.1 bcrypt-4.2.0 chroma-hnswlib-0.7.3 chromadb-0.5.3 coloredlogs-15.0.1 deprecated-1.2.14 fastapi-0.114.0 httptools-0.6.1 humanfriendly-10.0 kubernetes-30.1.0 langchain-chroma-0.1.3 mmh3-4.1.0 monotonic-1.6 onnxruntime-1.19.2 opentelemetry-api-1.27.0 opentelemetry-exporter-otlp-proto-common-1.27.0 opentelemetry-exporter-otlp-proto-grpc-1.27.0 opentelemetry-instrumentation-0.48b0 opentelemetry-instrumentation-asgi-0.48b0 opentelemetry-instrumentation-fastapi-0.48b0 opentelemetry-proto-1.27.0 opentelemetry-sdk-1.27.0 opentelemetry-semantic-conventions-0.48b0 opentelemetry-util-http-0.48b0 overrides-7.7.0 posthog-3.6.3 pypika-0.48.9 python-dotenv-1.0.1 starlette-0.38.5 uvicorn-0.30.6 uvloop-0.20.0 watchfiles-0.24.0 websockets-13.0.1\n",
            "Collecting pypdf\n",
            "  Downloading pypdf-4.3.1-py3-none-any.whl.metadata (7.4 kB)\n",
            "Requirement already satisfied: typing_extensions>=4.0 in /usr/local/lib/python3.10/dist-packages (from pypdf) (4.12.2)\n",
            "Downloading pypdf-4.3.1-py3-none-any.whl (295 kB)\n",
            "\u001b[2K   \u001b[90m━━━━━━━━━━━━━━━━━━━━━━━━━━━━━━━━━━━━━━━━\u001b[0m \u001b[32m295.8/295.8 kB\u001b[0m \u001b[31m15.6 MB/s\u001b[0m eta \u001b[36m0:00:00\u001b[0m\n",
            "\u001b[?25hInstalling collected packages: pypdf\n",
            "Successfully installed pypdf-4.3.1\n",
            "Collecting lolviz\n",
            "  Downloading lolviz-1.4.4.tar.gz (11 kB)\n",
            "  Preparing metadata (setup.py) ... \u001b[?25l\u001b[?25hdone\n",
            "Requirement already satisfied: graphviz in /usr/local/lib/python3.10/dist-packages (from lolviz) (0.20.3)\n",
            "Building wheels for collected packages: lolviz\n",
            "  Building wheel for lolviz (setup.py) ... \u001b[?25l\u001b[?25hdone\n",
            "  Created wheel for lolviz: filename=lolviz-1.4.4-py3-none-any.whl size=9800 sha256=ae50a5d42ced7da92bdc891c78f2685c7267e37d4b1587ff42c6ec0a6c57b61f\n",
            "  Stored in directory: /root/.cache/pip/wheels/ba/5b/6e/01c0124e26061bf0f088596b0d9a18ae3476386f98f4105616\n",
            "Successfully built lolviz\n",
            "Installing collected packages: lolviz\n",
            "Successfully installed lolviz-1.4.4\n",
            "Requirement already satisfied: chromadb in /usr/local/lib/python3.10/dist-packages (0.5.3)\n",
            "Requirement already satisfied: build>=1.0.3 in /usr/local/lib/python3.10/dist-packages (from chromadb) (1.2.1)\n",
            "Requirement already satisfied: requests>=2.28 in /usr/local/lib/python3.10/dist-packages (from chromadb) (2.32.3)\n",
            "Requirement already satisfied: pydantic>=1.9 in /usr/local/lib/python3.10/dist-packages (from chromadb) (2.8.2)\n",
            "Requirement already satisfied: chroma-hnswlib==0.7.3 in /usr/local/lib/python3.10/dist-packages (from chromadb) (0.7.3)\n",
            "Requirement already satisfied: fastapi>=0.95.2 in /usr/local/lib/python3.10/dist-packages (from chromadb) (0.114.0)\n",
            "Requirement already satisfied: uvicorn>=0.18.3 in /usr/local/lib/python3.10/dist-packages (from uvicorn[standard]>=0.18.3->chromadb) (0.30.6)\n",
            "Requirement already satisfied: numpy<2.0.0,>=1.22.5 in /usr/local/lib/python3.10/dist-packages (from chromadb) (1.26.4)\n",
            "Requirement already satisfied: posthog>=2.4.0 in /usr/local/lib/python3.10/dist-packages (from chromadb) (3.6.3)\n",
            "Requirement already satisfied: typing-extensions>=4.5.0 in /usr/local/lib/python3.10/dist-packages (from chromadb) (4.12.2)\n",
            "Requirement already satisfied: onnxruntime>=1.14.1 in /usr/local/lib/python3.10/dist-packages (from chromadb) (1.19.2)\n",
            "Requirement already satisfied: opentelemetry-api>=1.2.0 in /usr/local/lib/python3.10/dist-packages (from chromadb) (1.27.0)\n",
            "Requirement already satisfied: opentelemetry-exporter-otlp-proto-grpc>=1.2.0 in /usr/local/lib/python3.10/dist-packages (from chromadb) (1.27.0)\n",
            "Requirement already satisfied: opentelemetry-instrumentation-fastapi>=0.41b0 in /usr/local/lib/python3.10/dist-packages (from chromadb) (0.48b0)\n",
            "Requirement already satisfied: opentelemetry-sdk>=1.2.0 in /usr/local/lib/python3.10/dist-packages (from chromadb) (1.27.0)\n",
            "Requirement already satisfied: tokenizers>=0.13.2 in /usr/local/lib/python3.10/dist-packages (from chromadb) (0.19.1)\n",
            "Requirement already satisfied: pypika>=0.48.9 in /usr/local/lib/python3.10/dist-packages (from chromadb) (0.48.9)\n",
            "Requirement already satisfied: tqdm>=4.65.0 in /usr/local/lib/python3.10/dist-packages (from chromadb) (4.66.5)\n",
            "Requirement already satisfied: overrides>=7.3.1 in /usr/local/lib/python3.10/dist-packages (from chromadb) (7.7.0)\n",
            "Requirement already satisfied: importlib-resources in /usr/local/lib/python3.10/dist-packages (from chromadb) (6.4.4)\n",
            "Requirement already satisfied: grpcio>=1.58.0 in /usr/local/lib/python3.10/dist-packages (from chromadb) (1.64.1)\n",
            "Requirement already satisfied: bcrypt>=4.0.1 in /usr/local/lib/python3.10/dist-packages (from chromadb) (4.2.0)\n",
            "Requirement already satisfied: typer>=0.9.0 in /usr/local/lib/python3.10/dist-packages (from chromadb) (0.12.5)\n",
            "Requirement already satisfied: kubernetes>=28.1.0 in /usr/local/lib/python3.10/dist-packages (from chromadb) (30.1.0)\n",
            "Requirement already satisfied: tenacity>=8.2.3 in /usr/local/lib/python3.10/dist-packages (from chromadb) (8.5.0)\n",
            "Requirement already satisfied: PyYAML>=6.0.0 in /usr/local/lib/python3.10/dist-packages (from chromadb) (6.0.2)\n",
            "Requirement already satisfied: mmh3>=4.0.1 in /usr/local/lib/python3.10/dist-packages (from chromadb) (4.1.0)\n",
            "Requirement already satisfied: orjson>=3.9.12 in /usr/local/lib/python3.10/dist-packages (from chromadb) (3.10.7)\n",
            "Requirement already satisfied: httpx>=0.27.0 in /usr/local/lib/python3.10/dist-packages (from chromadb) (0.27.2)\n",
            "Requirement already satisfied: packaging>=19.1 in /usr/local/lib/python3.10/dist-packages (from build>=1.0.3->chromadb) (24.1)\n",
            "Requirement already satisfied: pyproject_hooks in /usr/local/lib/python3.10/dist-packages (from build>=1.0.3->chromadb) (1.1.0)\n",
            "Requirement already satisfied: tomli>=1.1.0 in /usr/local/lib/python3.10/dist-packages (from build>=1.0.3->chromadb) (2.0.1)\n",
            "Requirement already satisfied: starlette<0.39.0,>=0.37.2 in /usr/local/lib/python3.10/dist-packages (from fastapi>=0.95.2->chromadb) (0.38.5)\n",
            "Requirement already satisfied: anyio in /usr/local/lib/python3.10/dist-packages (from httpx>=0.27.0->chromadb) (3.7.1)\n",
            "Requirement already satisfied: certifi in /usr/local/lib/python3.10/dist-packages (from httpx>=0.27.0->chromadb) (2024.8.30)\n",
            "Requirement already satisfied: httpcore==1.* in /usr/local/lib/python3.10/dist-packages (from httpx>=0.27.0->chromadb) (1.0.5)\n",
            "Requirement already satisfied: idna in /usr/local/lib/python3.10/dist-packages (from httpx>=0.27.0->chromadb) (3.8)\n",
            "Requirement already satisfied: sniffio in /usr/local/lib/python3.10/dist-packages (from httpx>=0.27.0->chromadb) (1.3.1)\n",
            "Requirement already satisfied: h11<0.15,>=0.13 in /usr/local/lib/python3.10/dist-packages (from httpcore==1.*->httpx>=0.27.0->chromadb) (0.14.0)\n",
            "Requirement already satisfied: six>=1.9.0 in /usr/local/lib/python3.10/dist-packages (from kubernetes>=28.1.0->chromadb) (1.16.0)\n",
            "Requirement already satisfied: python-dateutil>=2.5.3 in /usr/local/lib/python3.10/dist-packages (from kubernetes>=28.1.0->chromadb) (2.8.2)\n",
            "Requirement already satisfied: google-auth>=1.0.1 in /usr/local/lib/python3.10/dist-packages (from kubernetes>=28.1.0->chromadb) (2.27.0)\n",
            "Requirement already satisfied: websocket-client!=0.40.0,!=0.41.*,!=0.42.*,>=0.32.0 in /usr/local/lib/python3.10/dist-packages (from kubernetes>=28.1.0->chromadb) (1.8.0)\n",
            "Requirement already satisfied: requests-oauthlib in /usr/local/lib/python3.10/dist-packages (from kubernetes>=28.1.0->chromadb) (1.3.1)\n",
            "Requirement already satisfied: oauthlib>=3.2.2 in /usr/local/lib/python3.10/dist-packages (from kubernetes>=28.1.0->chromadb) (3.2.2)\n",
            "Requirement already satisfied: urllib3>=1.24.2 in /usr/local/lib/python3.10/dist-packages (from kubernetes>=28.1.0->chromadb) (2.0.7)\n",
            "Requirement already satisfied: coloredlogs in /usr/local/lib/python3.10/dist-packages (from onnxruntime>=1.14.1->chromadb) (15.0.1)\n",
            "Requirement already satisfied: flatbuffers in /usr/local/lib/python3.10/dist-packages (from onnxruntime>=1.14.1->chromadb) (24.3.25)\n",
            "Requirement already satisfied: protobuf in /usr/local/lib/python3.10/dist-packages (from onnxruntime>=1.14.1->chromadb) (3.20.3)\n",
            "Requirement already satisfied: sympy in /usr/local/lib/python3.10/dist-packages (from onnxruntime>=1.14.1->chromadb) (1.13.2)\n",
            "Requirement already satisfied: deprecated>=1.2.6 in /usr/local/lib/python3.10/dist-packages (from opentelemetry-api>=1.2.0->chromadb) (1.2.14)\n",
            "Requirement already satisfied: importlib-metadata<=8.4.0,>=6.0 in /usr/local/lib/python3.10/dist-packages (from opentelemetry-api>=1.2.0->chromadb) (8.4.0)\n",
            "Requirement already satisfied: googleapis-common-protos~=1.52 in /usr/local/lib/python3.10/dist-packages (from opentelemetry-exporter-otlp-proto-grpc>=1.2.0->chromadb) (1.65.0)\n",
            "Requirement already satisfied: opentelemetry-exporter-otlp-proto-common==1.27.0 in /usr/local/lib/python3.10/dist-packages (from opentelemetry-exporter-otlp-proto-grpc>=1.2.0->chromadb) (1.27.0)\n",
            "Requirement already satisfied: opentelemetry-proto==1.27.0 in /usr/local/lib/python3.10/dist-packages (from opentelemetry-exporter-otlp-proto-grpc>=1.2.0->chromadb) (1.27.0)\n",
            "Requirement already satisfied: opentelemetry-instrumentation-asgi==0.48b0 in /usr/local/lib/python3.10/dist-packages (from opentelemetry-instrumentation-fastapi>=0.41b0->chromadb) (0.48b0)\n",
            "Requirement already satisfied: opentelemetry-instrumentation==0.48b0 in /usr/local/lib/python3.10/dist-packages (from opentelemetry-instrumentation-fastapi>=0.41b0->chromadb) (0.48b0)\n",
            "Requirement already satisfied: opentelemetry-semantic-conventions==0.48b0 in /usr/local/lib/python3.10/dist-packages (from opentelemetry-instrumentation-fastapi>=0.41b0->chromadb) (0.48b0)\n",
            "Requirement already satisfied: opentelemetry-util-http==0.48b0 in /usr/local/lib/python3.10/dist-packages (from opentelemetry-instrumentation-fastapi>=0.41b0->chromadb) (0.48b0)\n",
            "Requirement already satisfied: setuptools>=16.0 in /usr/local/lib/python3.10/dist-packages (from opentelemetry-instrumentation==0.48b0->opentelemetry-instrumentation-fastapi>=0.41b0->chromadb) (71.0.4)\n",
            "Requirement already satisfied: wrapt<2.0.0,>=1.0.0 in /usr/local/lib/python3.10/dist-packages (from opentelemetry-instrumentation==0.48b0->opentelemetry-instrumentation-fastapi>=0.41b0->chromadb) (1.16.0)\n",
            "Requirement already satisfied: asgiref~=3.0 in /usr/local/lib/python3.10/dist-packages (from opentelemetry-instrumentation-asgi==0.48b0->opentelemetry-instrumentation-fastapi>=0.41b0->chromadb) (3.8.1)\n",
            "Requirement already satisfied: monotonic>=1.5 in /usr/local/lib/python3.10/dist-packages (from posthog>=2.4.0->chromadb) (1.6)\n",
            "Requirement already satisfied: backoff>=1.10.0 in /usr/local/lib/python3.10/dist-packages (from posthog>=2.4.0->chromadb) (2.2.1)\n",
            "Requirement already satisfied: annotated-types>=0.4.0 in /usr/local/lib/python3.10/dist-packages (from pydantic>=1.9->chromadb) (0.7.0)\n",
            "Requirement already satisfied: pydantic-core==2.20.1 in /usr/local/lib/python3.10/dist-packages (from pydantic>=1.9->chromadb) (2.20.1)\n",
            "Requirement already satisfied: charset-normalizer<4,>=2 in /usr/local/lib/python3.10/dist-packages (from requests>=2.28->chromadb) (3.3.2)\n",
            "Requirement already satisfied: huggingface-hub<1.0,>=0.16.4 in /usr/local/lib/python3.10/dist-packages (from tokenizers>=0.13.2->chromadb) (0.24.6)\n",
            "Requirement already satisfied: click>=8.0.0 in /usr/local/lib/python3.10/dist-packages (from typer>=0.9.0->chromadb) (8.1.7)\n",
            "Requirement already satisfied: shellingham>=1.3.0 in /usr/local/lib/python3.10/dist-packages (from typer>=0.9.0->chromadb) (1.5.4)\n",
            "Requirement already satisfied: rich>=10.11.0 in /usr/local/lib/python3.10/dist-packages (from typer>=0.9.0->chromadb) (13.8.0)\n",
            "Requirement already satisfied: httptools>=0.5.0 in /usr/local/lib/python3.10/dist-packages (from uvicorn[standard]>=0.18.3->chromadb) (0.6.1)\n",
            "Requirement already satisfied: python-dotenv>=0.13 in /usr/local/lib/python3.10/dist-packages (from uvicorn[standard]>=0.18.3->chromadb) (1.0.1)\n",
            "Requirement already satisfied: uvloop!=0.15.0,!=0.15.1,>=0.14.0 in /usr/local/lib/python3.10/dist-packages (from uvicorn[standard]>=0.18.3->chromadb) (0.20.0)\n",
            "Requirement already satisfied: watchfiles>=0.13 in /usr/local/lib/python3.10/dist-packages (from uvicorn[standard]>=0.18.3->chromadb) (0.24.0)\n",
            "Requirement already satisfied: websockets>=10.4 in /usr/local/lib/python3.10/dist-packages (from uvicorn[standard]>=0.18.3->chromadb) (13.0.1)\n",
            "Requirement already satisfied: cachetools<6.0,>=2.0.0 in /usr/local/lib/python3.10/dist-packages (from google-auth>=1.0.1->kubernetes>=28.1.0->chromadb) (5.5.0)\n",
            "Requirement already satisfied: pyasn1-modules>=0.2.1 in /usr/local/lib/python3.10/dist-packages (from google-auth>=1.0.1->kubernetes>=28.1.0->chromadb) (0.4.0)\n",
            "Requirement already satisfied: rsa<5,>=3.1.4 in /usr/local/lib/python3.10/dist-packages (from google-auth>=1.0.1->kubernetes>=28.1.0->chromadb) (4.9)\n",
            "Requirement already satisfied: filelock in /usr/local/lib/python3.10/dist-packages (from huggingface-hub<1.0,>=0.16.4->tokenizers>=0.13.2->chromadb) (3.15.4)\n",
            "Requirement already satisfied: fsspec>=2023.5.0 in /usr/local/lib/python3.10/dist-packages (from huggingface-hub<1.0,>=0.16.4->tokenizers>=0.13.2->chromadb) (2024.6.1)\n",
            "Requirement already satisfied: zipp>=0.5 in /usr/local/lib/python3.10/dist-packages (from importlib-metadata<=8.4.0,>=6.0->opentelemetry-api>=1.2.0->chromadb) (3.20.1)\n",
            "Requirement already satisfied: markdown-it-py>=2.2.0 in /usr/local/lib/python3.10/dist-packages (from rich>=10.11.0->typer>=0.9.0->chromadb) (3.0.0)\n",
            "Requirement already satisfied: pygments<3.0.0,>=2.13.0 in /usr/local/lib/python3.10/dist-packages (from rich>=10.11.0->typer>=0.9.0->chromadb) (2.16.1)\n",
            "Requirement already satisfied: exceptiongroup in /usr/local/lib/python3.10/dist-packages (from anyio->httpx>=0.27.0->chromadb) (1.2.2)\n",
            "Requirement already satisfied: humanfriendly>=9.1 in /usr/local/lib/python3.10/dist-packages (from coloredlogs->onnxruntime>=1.14.1->chromadb) (10.0)\n",
            "Requirement already satisfied: mpmath<1.4,>=1.1.0 in /usr/local/lib/python3.10/dist-packages (from sympy->onnxruntime>=1.14.1->chromadb) (1.3.0)\n",
            "Requirement already satisfied: mdurl~=0.1 in /usr/local/lib/python3.10/dist-packages (from markdown-it-py>=2.2.0->rich>=10.11.0->typer>=0.9.0->chromadb) (0.1.2)\n",
            "Requirement already satisfied: pyasn1<0.7.0,>=0.4.6 in /usr/local/lib/python3.10/dist-packages (from pyasn1-modules>=0.2.1->google-auth>=1.0.1->kubernetes>=28.1.0->chromadb) (0.6.0)\n",
            "Collecting rank_bm25\n",
            "  Downloading rank_bm25-0.2.2-py3-none-any.whl.metadata (3.2 kB)\n",
            "Requirement already satisfied: numpy in /usr/local/lib/python3.10/dist-packages (from rank_bm25) (1.26.4)\n",
            "Downloading rank_bm25-0.2.2-py3-none-any.whl (8.6 kB)\n",
            "Installing collected packages: rank_bm25\n",
            "Successfully installed rank_bm25-0.2.2\n",
            "Collecting umap-learn\n",
            "  Downloading umap_learn-0.5.6-py3-none-any.whl.metadata (21 kB)\n",
            "Requirement already satisfied: numpy>=1.17 in /usr/local/lib/python3.10/dist-packages (from umap-learn) (1.26.4)\n",
            "Requirement already satisfied: scipy>=1.3.1 in /usr/local/lib/python3.10/dist-packages (from umap-learn) (1.13.1)\n",
            "Requirement already satisfied: scikit-learn>=0.22 in /usr/local/lib/python3.10/dist-packages (from umap-learn) (1.3.2)\n",
            "Requirement already satisfied: numba>=0.51.2 in /usr/local/lib/python3.10/dist-packages (from umap-learn) (0.60.0)\n",
            "Collecting pynndescent>=0.5 (from umap-learn)\n",
            "  Downloading pynndescent-0.5.13-py3-none-any.whl.metadata (6.8 kB)\n",
            "Requirement already satisfied: tqdm in /usr/local/lib/python3.10/dist-packages (from umap-learn) (4.66.5)\n",
            "Requirement already satisfied: llvmlite<0.44,>=0.43.0dev0 in /usr/local/lib/python3.10/dist-packages (from numba>=0.51.2->umap-learn) (0.43.0)\n",
            "Requirement already satisfied: joblib>=0.11 in /usr/local/lib/python3.10/dist-packages (from pynndescent>=0.5->umap-learn) (1.4.2)\n",
            "Requirement already satisfied: threadpoolctl>=2.0.0 in /usr/local/lib/python3.10/dist-packages (from scikit-learn>=0.22->umap-learn) (3.5.0)\n",
            "Downloading umap_learn-0.5.6-py3-none-any.whl (85 kB)\n",
            "\u001b[2K   \u001b[90m━━━━━━━━━━━━━━━━━━━━━━━━━━━━━━━━━━━━━━━━\u001b[0m \u001b[32m85.7/85.7 kB\u001b[0m \u001b[31m7.9 MB/s\u001b[0m eta \u001b[36m0:00:00\u001b[0m\n",
            "\u001b[?25hDownloading pynndescent-0.5.13-py3-none-any.whl (56 kB)\n",
            "\u001b[2K   \u001b[90m━━━━━━━━━━━━━━━━━━━━━━━━━━━━━━━━━━━━━━━━\u001b[0m \u001b[32m56.9/56.9 kB\u001b[0m \u001b[31m4.8 MB/s\u001b[0m eta \u001b[36m0:00:00\u001b[0m\n",
            "\u001b[?25hInstalling collected packages: pynndescent, umap-learn\n",
            "Successfully installed pynndescent-0.5.13 umap-learn-0.5.6\n",
            "Requirement already satisfied: tqdm in /usr/local/lib/python3.10/dist-packages (4.66.5)\n",
            "Requirement already satisfied: tiktoken in /usr/local/lib/python3.10/dist-packages (0.7.0)\n",
            "Requirement already satisfied: regex>=2022.1.18 in /usr/local/lib/python3.10/dist-packages (from tiktoken) (2024.5.15)\n",
            "Requirement already satisfied: requests>=2.26.0 in /usr/local/lib/python3.10/dist-packages (from tiktoken) (2.32.3)\n",
            "Requirement already satisfied: charset-normalizer<4,>=2 in /usr/local/lib/python3.10/dist-packages (from requests>=2.26.0->tiktoken) (3.3.2)\n",
            "Requirement already satisfied: idna<4,>=2.5 in /usr/local/lib/python3.10/dist-packages (from requests>=2.26.0->tiktoken) (3.8)\n",
            "Requirement already satisfied: urllib3<3,>=1.21.1 in /usr/local/lib/python3.10/dist-packages (from requests>=2.26.0->tiktoken) (2.0.7)\n",
            "Requirement already satisfied: certifi>=2017.4.17 in /usr/local/lib/python3.10/dist-packages (from requests>=2.26.0->tiktoken) (2024.8.30)\n"
          ]
        }
      ],
      "source": [
        "!pip install openai\n",
        "!pip install langchain\n",
        "!pip install langchain-openai\n",
        "!pip install langchain-experimental\n",
        "!pip install langchain-chroma\n",
        "!pip install pypdf\n",
        "!pip install lolviz\n",
        "!pip install chromadb\n",
        "!pip install rank_bm25\n",
        "!pip install umap-learn\n",
        "!pip install tqdm\n",
        "!pip install tiktoken"
      ]
    },
    {
      "cell_type": "code",
      "execution_count": null,
      "id": "m7BYo0rjUfa6",
      "metadata": {
        "id": "m7BYo0rjUfa6",
        "outputId": "a770277f-a783-4c42-b702-0fc3a501482f",
        "colab": {
          "base_uri": "https://localhost:8080/"
        }
      },
      "outputs": [
        {
          "output_type": "stream",
          "name": "stdout",
          "text": [
            "--2024-09-08 13:38:01--  https://abc-notes.data.tech.gov.sg/resources/data/digital_products.csv\n",
            "Resolving abc-notes.data.tech.gov.sg (abc-notes.data.tech.gov.sg)... 13.32.151.114, 13.32.151.116, 13.32.151.79, ...\n",
            "Connecting to abc-notes.data.tech.gov.sg (abc-notes.data.tech.gov.sg)|13.32.151.114|:443... connected.\n",
            "HTTP request sent, awaiting response... 200 OK\n",
            "Length: 9048 (8.8K) [text/csv]\n",
            "Saving to: ‘digital_products.csv’\n",
            "\n",
            "\rdigital_products.cs   0%[                    ]       0  --.-KB/s               \rdigital_products.cs 100%[===================>]   8.84K  --.-KB/s    in 0s      \n",
            "\n",
            "2024-09-08 13:38:01 (90.5 MB/s) - ‘digital_products.csv’ saved [9048/9048]\n",
            "\n"
          ]
        }
      ],
      "source": [
        "!wget \"https://abc-notes.data.tech.gov.sg/resources/data/digital_products.csv\""
      ]
    },
    {
      "cell_type": "code",
      "execution_count": null,
      "id": "bf6b922c-6ba8-4f72-8505-1d9e9082d1ea",
      "metadata": {
        "ExecuteTime": {
          "end_time": "2024-04-18T10:04:02.399355Z",
          "start_time": "2024-04-18T10:03:46.985122Z"
        },
        "id": "bf6b922c-6ba8-4f72-8505-1d9e9082d1ea",
        "scrolled": true,
        "colab": {
          "base_uri": "https://localhost:8080/"
        },
        "outputId": "1415a256-5c20-4dc8-88ed-6664eff0ae42"
      },
      "outputs": [
        {
          "name": "stdout",
          "output_type": "stream",
          "text": [
            "Enter your OpenAI API Key··········\n"
          ]
        }
      ],
      "source": [
        "from openai import OpenAI\n",
        "from getpass import getpass\n",
        "\n",
        "API_KEY = getpass(\"Enter your OpenAI API Key\")\n",
        "client = OpenAI(api_key=API_KEY)"
      ]
    },
    {
      "cell_type": "code",
      "execution_count": null,
      "id": "b68d1be2",
      "metadata": {
        "id": "b68d1be2"
      },
      "outputs": [],
      "source": [
        "import lolviz"
      ]
    },
    {
      "cell_type": "markdown",
      "id": "4dedf9c9-10e2-409d-a278-c4ab11ecec20",
      "metadata": {
        "id": "4dedf9c9-10e2-409d-a278-c4ab11ecec20"
      },
      "source": [
        "## Helper Functions\n",
        "---"
      ]
    },
    {
      "cell_type": "markdown",
      "id": "502df0ab-0070-45c7-91e0-947b67a38b6b",
      "metadata": {
        "id": "502df0ab-0070-45c7-91e0-947b67a38b6b"
      },
      "source": [
        "### Function for Generating Embedding"
      ]
    },
    {
      "cell_type": "code",
      "execution_count": null,
      "id": "38b50326-d1b2-41b6-a9e5-30ead5746975",
      "metadata": {
        "ExecuteTime": {
          "end_time": "2024-04-18T10:04:06.378658Z",
          "start_time": "2024-04-18T10:04:06.375417Z"
        },
        "id": "38b50326-d1b2-41b6-a9e5-30ead5746975"
      },
      "outputs": [],
      "source": [
        "def get_embedding(input, model='text-embedding-3-small'):\n",
        "    response = client.embeddings.create(\n",
        "        input=input,\n",
        "        model=model\n",
        "    )\n",
        "    return [x.embedding for x in response.data]"
      ]
    },
    {
      "cell_type": "markdown",
      "id": "9c598843-e679-4c5c-91b0-a7d521a04529",
      "metadata": {
        "id": "9c598843-e679-4c5c-91b0-a7d521a04529"
      },
      "source": [
        "### Function for Text Generation"
      ]
    },
    {
      "cell_type": "code",
      "execution_count": null,
      "id": "fc43c3a5-6fd2-4959-86d2-efcb01d4e1fc",
      "metadata": {
        "ExecuteTime": {
          "end_time": "2024-04-18T10:04:07.689552Z",
          "start_time": "2024-04-18T10:04:07.686329Z"
        },
        "id": "fc43c3a5-6fd2-4959-86d2-efcb01d4e1fc",
        "tags": []
      },
      "outputs": [],
      "source": [
        "# This is the \"Updated\" helper function for calling LLM\n",
        "def get_completion(prompt, model=\"gpt-4o-mini\", temperature=0, top_p=1.0, max_tokens=256, n=1, json_output=False):\n",
        "    if json_output == True:\n",
        "      output_json_structure = {\"type\": \"json_object\"}\n",
        "    else:\n",
        "      output_json_structure = None\n",
        "\n",
        "    messages = [{\"role\": \"user\", \"content\": prompt}]\n",
        "    response = client.chat.completions.create( #originally was openai.chat.completions\n",
        "        model=model,\n",
        "        messages=messages,\n",
        "        temperature=temperature,\n",
        "        top_p=top_p,\n",
        "        max_tokens=max_tokens,\n",
        "        n=1,\n",
        "        response_format=output_json_structure,\n",
        "    )\n",
        "    return response.choices[0].message.content"
      ]
    },
    {
      "cell_type": "code",
      "execution_count": null,
      "id": "ab732b0a-d180-45b3-b157-1b5b3fb91504",
      "metadata": {
        "ExecuteTime": {
          "end_time": "2024-04-18T10:04:12.005574Z",
          "start_time": "2024-04-18T10:04:12.003060Z"
        },
        "id": "ab732b0a-d180-45b3-b157-1b5b3fb91504"
      },
      "outputs": [],
      "source": [
        "# This a \"modified\" helper function that we will discuss in this session\n",
        "# Note that this function directly take in \"messages\" as the parameter.\n",
        "def get_completion_by_messages(messages, model=\"gpt-4o-mini\", temperature=0, top_p=1.0, max_tokens=1024, n=1):\n",
        "    response = client.chat.completions.create(\n",
        "        model=model,\n",
        "        messages=messages,\n",
        "        temperature=temperature,\n",
        "        top_p=top_p,\n",
        "        max_tokens=max_tokens,\n",
        "        n=1\n",
        "    )\n",
        "    return response.choices[0].message.content"
      ]
    },
    {
      "cell_type": "markdown",
      "id": "ea754f8c-dda7-44d9-a23f-9d670a0b8d58",
      "metadata": {
        "id": "ea754f8c-dda7-44d9-a23f-9d670a0b8d58"
      },
      "source": [
        "### Functions for Token Counting"
      ]
    },
    {
      "cell_type": "code",
      "execution_count": null,
      "id": "4a41d37f-2bba-4c5c-beae-9fe160785cfa",
      "metadata": {
        "ExecuteTime": {
          "end_time": "2024-04-18T10:04:16.628901Z",
          "start_time": "2024-04-18T10:04:15.654851Z"
        },
        "id": "4a41d37f-2bba-4c5c-beae-9fe160785cfa"
      },
      "outputs": [],
      "source": [
        "# These functions are for calculating the tokens.\n",
        "# ⚠️ These are simplified implementations that are good enough for a rough estimation.\n",
        "\n",
        "import tiktoken\n",
        "\n",
        "def count_tokens(text):\n",
        "    encoding = tiktoken.encoding_for_model('gpt-4o-mini')\n",
        "    return len(encoding.encode(text))\n",
        "\n",
        "def count_tokens_from_message(messages):\n",
        "    encoding = tiktoken.encoding_for_model('gpt-4o-mini')\n",
        "    value = ' '.join([x.get('content') for x in messages])\n",
        "    return len(encoding.encode(value))\n"
      ]
    },
    {
      "cell_type": "markdown",
      "id": "48c0d11c-3cb5-44b1-806d-8ae6a467ba4f",
      "metadata": {
        "id": "48c0d11c-3cb5-44b1-806d-8ae6a467ba4f"
      },
      "source": [
        "---\n",
        "---"
      ]
    },
    {
      "cell_type": "markdown",
      "id": "e35403a7-628d-4128-8967-ce0290992e7f",
      "metadata": {
        "id": "e35403a7-628d-4128-8967-ce0290992e7f"
      },
      "source": [
        "# Understanding Embeddings"
      ]
    },
    {
      "cell_type": "code",
      "execution_count": null,
      "id": "e01b046a-b5c8-43d4-bc3e-1c8fd8dfe202",
      "metadata": {
        "ExecuteTime": {
          "end_time": "2024-04-18T10:04:19.489871Z",
          "start_time": "2024-04-18T10:04:19.487443Z"
        },
        "id": "e01b046a-b5c8-43d4-bc3e-1c8fd8dfe202"
      },
      "outputs": [],
      "source": [
        "in_1 = \"Flamingo spotted at the in the bird park\"\n",
        "\n",
        "in_2 = \"Sea otter seen playing at the marine park\"\n",
        "\n",
        "in_3 = \"Baby panda born at the city zoo\"\n",
        "\n",
        "in_4 = \"Python developers prefer snake_case for variable naming\"\n",
        "\n",
        "in_5 = \"New JavaScript framework aims to simplify coding\"\n",
        "\n",
        "in_6 = \"C++ developers appreciate the power of OOP\"\n",
        "\n",
        "in_7 = \"Java is a popular choice for enterprise applications\"\n",
        "\n",
        "\n",
        "list_of_input_texts = [in_1, in_2, in_3, in_4, in_5, in_6, in_7]"
      ]
    },
    {
      "cell_type": "markdown",
      "id": "9a7a40cd-a3c8-497e-ab0d-494bfaaa3002",
      "metadata": {
        "id": "9a7a40cd-a3c8-497e-ab0d-494bfaaa3002"
      },
      "source": [
        "## Understand the Outputs of Embedding Process"
      ]
    },
    {
      "cell_type": "code",
      "execution_count": null,
      "id": "c4abccc0-ff2f-40f5-bac4-a947ce819885",
      "metadata": {
        "ExecuteTime": {
          "end_time": "2024-04-18T10:04:22.872152Z",
          "start_time": "2024-04-18T10:04:21.360377Z"
        },
        "id": "c4abccc0-ff2f-40f5-bac4-a947ce819885"
      },
      "outputs": [],
      "source": [
        "# Use the helper function to get the embeddings\n",
        "response = get_embedding(list_of_input_texts)"
      ]
    },
    {
      "cell_type": "code",
      "execution_count": null,
      "id": "438388f2-54ae-48e9-ba11-72e20b968206",
      "metadata": {
        "ExecuteTime": {
          "end_time": "2024-04-18T10:04:22.877256Z",
          "start_time": "2024-04-18T10:04:22.872152Z"
        },
        "id": "438388f2-54ae-48e9-ba11-72e20b968206",
        "outputId": "ea18797f-1fa2-4f6e-8226-a114527cb992",
        "colab": {
          "base_uri": "https://localhost:8080/"
        }
      },
      "outputs": [
        {
          "output_type": "execute_result",
          "data": {
            "text/plain": [
              "7"
            ]
          },
          "metadata": {},
          "execution_count": 11
        }
      ],
      "source": [
        "# Each string in the list of input texts is converted to a vector\n",
        "# with 7 string inputs, the output contains a list of 7 vectors\n",
        "len(response)"
      ]
    },
    {
      "cell_type": "code",
      "execution_count": null,
      "id": "69376e4c-bba4-483b-b728-27154e6e13aa",
      "metadata": {
        "ExecuteTime": {
          "end_time": "2024-04-18T10:04:24.377480Z",
          "start_time": "2024-04-18T10:04:24.374347Z"
        },
        "id": "69376e4c-bba4-483b-b728-27154e6e13aa",
        "outputId": "0ae99693-54da-4eb3-cd43-58d6cca86458",
        "colab": {
          "base_uri": "https://localhost:8080/"
        }
      },
      "outputs": [
        {
          "output_type": "stream",
          "name": "stdout",
          "text": [
            "1536\n",
            "1536\n",
            "1536\n",
            "1536\n",
            "1536\n",
            "1536\n",
            "1536\n"
          ]
        }
      ],
      "source": [
        "# Each vector has a length of 1536\n",
        "for vector in response:\n",
        "    print(len(vector))"
      ]
    },
    {
      "cell_type": "code",
      "execution_count": null,
      "id": "23239d81",
      "metadata": {
        "id": "23239d81",
        "outputId": "77ba7aef-7637-4c41-fe7e-d6c6fb1baa0e",
        "colab": {
          "base_uri": "https://localhost:8080/",
          "height": 1000
        }
      },
      "outputs": [
        {
          "output_type": "execute_result",
          "data": {
            "image/svg+xml": "<?xml version=\"1.0\" encoding=\"UTF-8\" standalone=\"no\"?>\n<!DOCTYPE svg PUBLIC \"-//W3C//DTD SVG 1.1//EN\"\n \"http://www.w3.org/Graphics/SVG/1.1/DTD/svg11.dtd\">\n<!-- Generated by graphviz version 2.43.0 (0)\n -->\n<!-- Title: G Pages: 1 -->\n<svg width=\"212pt\" height=\"1282pt\"\n viewBox=\"0.00 0.00 212.00 1282.00\" xmlns=\"http://www.w3.org/2000/svg\" xmlns:xlink=\"http://www.w3.org/1999/xlink\">\n<g id=\"graph0\" class=\"graph\" transform=\"scale(1 1) rotate(0) translate(4 1278)\">\n<title>G</title>\n<polygon fill=\"white\" stroke=\"transparent\" points=\"-4,4 -4,-1278 208,-1278 208,4 -4,4\"/>\n<!-- node135314205896384 -->\n<g id=\"node1\" class=\"node\">\n<title>node135314205896384</title>\n<polygon fill=\"#cfe2d4\" stroke=\"#444443\" stroke-width=\"0.5\" points=\"14,-694 0,-694 0,-580 14,-580 14,-694\"/>\n<polygon fill=\"#cfe2d4\" stroke=\"transparent\" points=\"1,-677 1,-693 13,-693 13,-677 1,-677\"/>\n<polyline fill=\"none\" stroke=\"#444443\" points=\"1,-677 13,-677 \"/>\n<text text-anchor=\"start\" x=\"4\" y=\"-682.8\" font-family=\"Helvetica,sans-Serif\" font-size=\"9.00\" fill=\"#444443\">0</text>\n<polygon fill=\"#cfe2d4\" stroke=\"transparent\" points=\"1,-661 1,-677 13,-677 13,-661 1,-661\"/>\n<polyline fill=\"none\" stroke=\"#444443\" points=\"1,-661 13,-661 \"/>\n<text text-anchor=\"start\" x=\"4\" y=\"-666.8\" font-family=\"Helvetica,sans-Serif\" font-size=\"9.00\" fill=\"#444443\">1</text>\n<polygon fill=\"#cfe2d4\" stroke=\"transparent\" points=\"1,-645 1,-661 13,-661 13,-645 1,-645\"/>\n<polyline fill=\"none\" stroke=\"#444443\" points=\"1,-645 13,-645 \"/>\n<text text-anchor=\"start\" x=\"4\" y=\"-650.8\" font-family=\"Helvetica,sans-Serif\" font-size=\"9.00\" fill=\"#444443\">2</text>\n<polygon fill=\"#cfe2d4\" stroke=\"transparent\" points=\"1,-629 1,-645 13,-645 13,-629 1,-629\"/>\n<polyline fill=\"none\" stroke=\"#444443\" points=\"1,-629 13,-629 \"/>\n<text text-anchor=\"start\" x=\"4\" y=\"-634.8\" font-family=\"Helvetica,sans-Serif\" font-size=\"9.00\" fill=\"#444443\">3</text>\n<polygon fill=\"#cfe2d4\" stroke=\"transparent\" points=\"1,-613 1,-629 13,-629 13,-613 1,-613\"/>\n<polyline fill=\"none\" stroke=\"#444443\" points=\"1,-613 13,-613 \"/>\n<text text-anchor=\"start\" x=\"4\" y=\"-618.8\" font-family=\"Helvetica,sans-Serif\" font-size=\"9.00\" fill=\"#444443\">4</text>\n<polygon fill=\"#cfe2d4\" stroke=\"transparent\" points=\"1,-597 1,-613 13,-613 13,-597 1,-597\"/>\n<polyline fill=\"none\" stroke=\"#444443\" points=\"1,-597 13,-597 \"/>\n<text text-anchor=\"start\" x=\"4\" y=\"-602.8\" font-family=\"Helvetica,sans-Serif\" font-size=\"9.00\" fill=\"#444443\">5</text>\n<polygon fill=\"#cfe2d4\" stroke=\"transparent\" points=\"1,-581 1,-597 13,-597 13,-581 1,-581\"/>\n<text text-anchor=\"start\" x=\"4\" y=\"-586.8\" font-family=\"Helvetica,sans-Serif\" font-size=\"9.00\" fill=\"#444443\">6</text>\n</g>\n<!-- node135314206151360 -->\n<g id=\"node2\" class=\"node\">\n<title>node135314206151360</title>\n<polygon fill=\"none\" stroke=\"black\" stroke-width=\"0.5\" points=\"203,-1274 37,-1274 37,-1098 203,-1098 203,-1274\"/>\n<polygon fill=\"#fefecd\" stroke=\"transparent\" points=\"38,-1259 38,-1273 68,-1273 68,-1259 38,-1259\"/>\n<polyline fill=\"none\" stroke=\"black\" points=\"68,-1259 68,-1273 \"/>\n<text text-anchor=\"start\" x=\"57\" y=\"-1263.2\" font-family=\"Helvetica,sans-Serif\" font-size=\"11.00\" fill=\"#444443\">0 </text>\n<polygon fill=\"#fefecd\" stroke=\"transparent\" points=\"68,-1259 68,-1273 202,-1273 202,-1259 68,-1259\"/>\n<text text-anchor=\"start\" x=\"77.5\" y=\"-1263.2\" font-family=\"Helvetica,sans-Serif\" font-size=\"11.00\" fill=\"#444443\"> 0.02453925833106041</text>\n<polygon fill=\"#fefecd\" stroke=\"transparent\" points=\"38,-1257 38,-1259 202,-1259 202,-1257 38,-1257\"/>\n<polygon fill=\"#fefecd\" stroke=\"transparent\" points=\"38,-1243 38,-1257 68,-1257 68,-1243 38,-1243\"/>\n<polyline fill=\"none\" stroke=\"black\" points=\"68,-1243 68,-1257 \"/>\n<text text-anchor=\"start\" x=\"57\" y=\"-1247.2\" font-family=\"Helvetica,sans-Serif\" font-size=\"11.00\" fill=\"#444443\">1 </text>\n<polygon fill=\"#fefecd\" stroke=\"transparent\" points=\"68,-1243 68,-1257 202,-1257 202,-1243 68,-1243\"/>\n<text text-anchor=\"start\" x=\"69\" y=\"-1247.2\" font-family=\"Helvetica,sans-Serif\" font-size=\"11.00\" fill=\"#444443\"> &#39;&#45;0.02749106287956237...&#39;</text>\n<polygon fill=\"#fefecd\" stroke=\"transparent\" points=\"38,-1241 38,-1243 202,-1243 202,-1241 38,-1241\"/>\n<polygon fill=\"#fefecd\" stroke=\"transparent\" points=\"38,-1227 38,-1241 68,-1241 68,-1227 38,-1227\"/>\n<polyline fill=\"none\" stroke=\"black\" points=\"68,-1227 68,-1241 \"/>\n<text text-anchor=\"start\" x=\"57\" y=\"-1231.2\" font-family=\"Helvetica,sans-Serif\" font-size=\"11.00\" fill=\"#444443\">2 </text>\n<polygon fill=\"#fefecd\" stroke=\"transparent\" points=\"68,-1227 68,-1241 202,-1241 202,-1227 68,-1227\"/>\n<text text-anchor=\"start\" x=\"69\" y=\"-1231.2\" font-family=\"Helvetica,sans-Serif\" font-size=\"11.00\" fill=\"#444443\"> &#39;&#45;0.00245297560468316...&#39;</text>\n<polygon fill=\"#fefecd\" stroke=\"transparent\" points=\"38,-1225 38,-1227 202,-1227 202,-1225 38,-1225\"/>\n<polygon fill=\"#fefecd\" stroke=\"transparent\" points=\"38,-1211 38,-1225 68,-1225 68,-1211 38,-1211\"/>\n<polyline fill=\"none\" stroke=\"black\" points=\"68,-1211 68,-1225 \"/>\n<text text-anchor=\"start\" x=\"57\" y=\"-1215.2\" font-family=\"Helvetica,sans-Serif\" font-size=\"11.00\" fill=\"#444443\">3 </text>\n<polygon fill=\"#fefecd\" stroke=\"transparent\" points=\"68,-1211 68,-1225 202,-1225 202,-1211 68,-1211\"/>\n<text text-anchor=\"start\" x=\"74.5\" y=\"-1215.2\" font-family=\"Helvetica,sans-Serif\" font-size=\"11.00\" fill=\"#444443\"> 0.014112924225628376</text>\n<polygon fill=\"#fefecd\" stroke=\"transparent\" points=\"38,-1209 38,-1211 202,-1211 202,-1209 38,-1209\"/>\n<polygon fill=\"#fefecd\" stroke=\"transparent\" points=\"38,-1195 38,-1209 68,-1209 68,-1195 38,-1195\"/>\n<polyline fill=\"none\" stroke=\"black\" points=\"68,-1195 68,-1209 \"/>\n<text text-anchor=\"start\" x=\"57\" y=\"-1199.2\" font-family=\"Helvetica,sans-Serif\" font-size=\"11.00\" fill=\"#444443\">4 </text>\n<polygon fill=\"#fefecd\" stroke=\"transparent\" points=\"68,-1195 68,-1209 202,-1209 202,-1195 68,-1195\"/>\n<text text-anchor=\"start\" x=\"69\" y=\"-1199.2\" font-family=\"Helvetica,sans-Serif\" font-size=\"11.00\" fill=\"#444443\"> &#39;&#45;0.00814596936106681...&#39;</text>\n<polygon fill=\"#fefecd\" stroke=\"transparent\" points=\"38,-1193 38,-1195 202,-1195 202,-1193 38,-1193\"/>\n<polygon fill=\"#fefecd\" stroke=\"transparent\" points=\"38,-1179 38,-1193 68,-1193 68,-1179 38,-1179\"/>\n<polyline fill=\"none\" stroke=\"black\" points=\"68,-1179 68,-1193 \"/>\n<text text-anchor=\"start\" x=\"57\" y=\"-1183.2\" font-family=\"Helvetica,sans-Serif\" font-size=\"11.00\" fill=\"#444443\">5 </text>\n<polygon fill=\"#fefecd\" stroke=\"transparent\" points=\"68,-1179 68,-1193 202,-1193 202,-1179 68,-1179\"/>\n<text text-anchor=\"start\" x=\"74.5\" y=\"-1183.2\" font-family=\"Helvetica,sans-Serif\" font-size=\"11.00\" fill=\"#444443\"> 0.017976874485611916</text>\n<polygon fill=\"#fefecd\" stroke=\"transparent\" points=\"38,-1177 38,-1179 202,-1179 202,-1177 38,-1177\"/>\n<polygon fill=\"#fefecd\" stroke=\"transparent\" points=\"38,-1163 38,-1177 68,-1177 68,-1163 38,-1163\"/>\n<polyline fill=\"none\" stroke=\"black\" points=\"68,-1163 68,-1177 \"/>\n<text text-anchor=\"start\" x=\"57\" y=\"-1167.2\" font-family=\"Helvetica,sans-Serif\" font-size=\"11.00\" fill=\"#444443\">6 </text>\n<polygon fill=\"#fefecd\" stroke=\"transparent\" points=\"68,-1163 68,-1177 202,-1177 202,-1163 68,-1163\"/>\n<text text-anchor=\"start\" x=\"74.5\" y=\"-1167.2\" font-family=\"Helvetica,sans-Serif\" font-size=\"11.00\" fill=\"#444443\"> 0.008418346755206585</text>\n<polygon fill=\"#fefecd\" stroke=\"transparent\" points=\"38,-1161 38,-1163 202,-1163 202,-1161 38,-1161\"/>\n<polygon fill=\"#fefecd\" stroke=\"transparent\" points=\"38,-1147 38,-1161 68,-1161 68,-1147 38,-1147\"/>\n<polyline fill=\"none\" stroke=\"black\" points=\"68,-1147 68,-1161 \"/>\n<text text-anchor=\"start\" x=\"57\" y=\"-1151.2\" font-family=\"Helvetica,sans-Serif\" font-size=\"11.00\" fill=\"#444443\">7 </text>\n<polygon fill=\"#fefecd\" stroke=\"transparent\" points=\"68,-1147 68,-1161 202,-1161 202,-1147 68,-1147\"/>\n<text text-anchor=\"start\" x=\"74.5\" y=\"-1151.2\" font-family=\"Helvetica,sans-Serif\" font-size=\"11.00\" fill=\"#444443\"> 0.014530990272760391</text>\n<polygon fill=\"#fefecd\" stroke=\"transparent\" points=\"38,-1145 38,-1147 202,-1147 202,-1145 38,-1145\"/>\n<polygon fill=\"#fefecd\" stroke=\"transparent\" points=\"38,-1131 38,-1145 68,-1145 68,-1131 38,-1131\"/>\n<polyline fill=\"none\" stroke=\"black\" points=\"68,-1131 68,-1145 \"/>\n<text text-anchor=\"start\" x=\"57\" y=\"-1135.2\" font-family=\"Helvetica,sans-Serif\" font-size=\"11.00\" fill=\"#444443\">8 </text>\n<polygon fill=\"#fefecd\" stroke=\"transparent\" points=\"68,-1131 68,-1145 202,-1145 202,-1131 68,-1131\"/>\n<text text-anchor=\"start\" x=\"77.5\" y=\"-1135.2\" font-family=\"Helvetica,sans-Serif\" font-size=\"11.00\" fill=\"#444443\"> 0.00977389607578516</text>\n<polygon fill=\"#fefecd\" stroke=\"transparent\" points=\"38,-1129 38,-1131 202,-1131 202,-1129 38,-1129\"/>\n<polygon fill=\"#fefecd\" stroke=\"transparent\" points=\"38,-1115 38,-1129 68,-1129 68,-1115 38,-1115\"/>\n<polyline fill=\"none\" stroke=\"black\" points=\"68,-1115 68,-1129 \"/>\n<text text-anchor=\"start\" x=\"54\" y=\"-1119.2\" font-family=\"Helvetica,sans-Serif\" font-size=\"11.00\" fill=\"#444443\">... </text>\n<polygon fill=\"#fefecd\" stroke=\"transparent\" points=\"68,-1115 68,-1129 202,-1129 202,-1115 68,-1115\"/>\n<text text-anchor=\"start\" x=\"128.5\" y=\"-1119.2\" font-family=\"Helvetica,sans-Serif\" font-size=\"11.00\" fill=\"#444443\"> ...</text>\n<polygon fill=\"#fefecd\" stroke=\"transparent\" points=\"38,-1113 38,-1115 202,-1115 202,-1113 38,-1113\"/>\n<polygon fill=\"#fefecd\" stroke=\"transparent\" points=\"38,-1099 38,-1113 68,-1113 68,-1099 38,-1099\"/>\n<polyline fill=\"none\" stroke=\"black\" points=\"68,-1099 68,-1113 \"/>\n<text text-anchor=\"start\" x=\"39\" y=\"-1103.2\" font-family=\"Helvetica,sans-Serif\" font-size=\"11.00\" fill=\"#444443\">1535 </text>\n<polygon fill=\"#fefecd\" stroke=\"transparent\" points=\"68,-1099 68,-1113 202,-1113 202,-1099 68,-1099\"/>\n<text text-anchor=\"start\" x=\"74.5\" y=\"-1103.2\" font-family=\"Helvetica,sans-Serif\" font-size=\"11.00\" fill=\"#444443\"> 0.013859549537301064</text>\n</g>\n<!-- node135314205896384&#45;&gt;node135314206151360 -->\n<g id=\"edge1\" class=\"edge\">\n<title>node135314205896384:0&#45;&gt;node135314206151360:w</title>\n<path fill=\"none\" stroke=\"#444443\" stroke-width=\"0.5\" d=\"M7,-694C7,-720.2 8.48,-1146.88 32.61,-1183.5\"/>\n<polygon fill=\"#444443\" stroke=\"#444443\" stroke-width=\"0.5\" points=\"31.95,-1184.75 36,-1186 33.61,-1182.5 31.95,-1184.75\"/>\n</g>\n<!-- node135314204272704 -->\n<g id=\"node3\" class=\"node\">\n<title>node135314204272704</title>\n<polygon fill=\"none\" stroke=\"black\" stroke-width=\"0.5\" points=\"203,-1091 37,-1091 37,-915 203,-915 203,-1091\"/>\n<polygon fill=\"#fefecd\" stroke=\"transparent\" points=\"38,-1076 38,-1090 68,-1090 68,-1076 38,-1076\"/>\n<polyline fill=\"none\" stroke=\"black\" points=\"68,-1076 68,-1090 \"/>\n<text text-anchor=\"start\" x=\"57\" y=\"-1080.2\" font-family=\"Helvetica,sans-Serif\" font-size=\"11.00\" fill=\"#444443\">0 </text>\n<polygon fill=\"#fefecd\" stroke=\"transparent\" points=\"68,-1076 68,-1090 202,-1090 202,-1076 68,-1076\"/>\n<text text-anchor=\"start\" x=\"77.5\" y=\"-1080.2\" font-family=\"Helvetica,sans-Serif\" font-size=\"11.00\" fill=\"#444443\"> 0.01789165660738945</text>\n<polygon fill=\"#fefecd\" stroke=\"transparent\" points=\"38,-1074 38,-1076 202,-1076 202,-1074 38,-1074\"/>\n<polygon fill=\"#fefecd\" stroke=\"transparent\" points=\"38,-1060 38,-1074 68,-1074 68,-1060 38,-1060\"/>\n<polyline fill=\"none\" stroke=\"black\" points=\"68,-1060 68,-1074 \"/>\n<text text-anchor=\"start\" x=\"57\" y=\"-1064.2\" font-family=\"Helvetica,sans-Serif\" font-size=\"11.00\" fill=\"#444443\">1 </text>\n<polygon fill=\"#fefecd\" stroke=\"transparent\" points=\"68,-1060 68,-1074 202,-1074 202,-1060 68,-1060\"/>\n<text text-anchor=\"start\" x=\"76\" y=\"-1064.2\" font-family=\"Helvetica,sans-Serif\" font-size=\"11.00\" fill=\"#444443\"> &#45;0.02776244841516018</text>\n<polygon fill=\"#fefecd\" stroke=\"transparent\" points=\"38,-1058 38,-1060 202,-1060 202,-1058 38,-1058\"/>\n<polygon fill=\"#fefecd\" stroke=\"transparent\" points=\"38,-1044 38,-1058 68,-1058 68,-1044 38,-1044\"/>\n<polyline fill=\"none\" stroke=\"black\" points=\"68,-1044 68,-1058 \"/>\n<text text-anchor=\"start\" x=\"57\" y=\"-1048.2\" font-family=\"Helvetica,sans-Serif\" font-size=\"11.00\" fill=\"#444443\">2 </text>\n<polygon fill=\"#fefecd\" stroke=\"transparent\" points=\"68,-1044 68,-1058 202,-1058 202,-1044 68,-1044\"/>\n<text text-anchor=\"start\" x=\"77.5\" y=\"-1048.2\" font-family=\"Helvetica,sans-Serif\" font-size=\"11.00\" fill=\"#444443\"> 0.00845971517264843</text>\n<polygon fill=\"#fefecd\" stroke=\"transparent\" points=\"38,-1042 38,-1044 202,-1044 202,-1042 38,-1042\"/>\n<polygon fill=\"#fefecd\" stroke=\"transparent\" points=\"38,-1028 38,-1042 68,-1042 68,-1028 38,-1028\"/>\n<polyline fill=\"none\" stroke=\"black\" points=\"68,-1028 68,-1042 \"/>\n<text text-anchor=\"start\" x=\"57\" y=\"-1032.2\" font-family=\"Helvetica,sans-Serif\" font-size=\"11.00\" fill=\"#444443\">3 </text>\n<polygon fill=\"#fefecd\" stroke=\"transparent\" points=\"68,-1028 68,-1042 202,-1042 202,-1028 68,-1028\"/>\n<text text-anchor=\"start\" x=\"74.5\" y=\"-1032.2\" font-family=\"Helvetica,sans-Serif\" font-size=\"11.00\" fill=\"#444443\"> 0.017297517508268356</text>\n<polygon fill=\"#fefecd\" stroke=\"transparent\" points=\"38,-1026 38,-1028 202,-1028 202,-1026 38,-1026\"/>\n<polygon fill=\"#fefecd\" stroke=\"transparent\" points=\"38,-1012 38,-1026 68,-1026 68,-1012 38,-1012\"/>\n<polyline fill=\"none\" stroke=\"black\" points=\"68,-1012 68,-1026 \"/>\n<text text-anchor=\"start\" x=\"57\" y=\"-1016.2\" font-family=\"Helvetica,sans-Serif\" font-size=\"11.00\" fill=\"#444443\">4 </text>\n<polygon fill=\"#fefecd\" stroke=\"transparent\" points=\"68,-1012 68,-1026 202,-1026 202,-1012 68,-1012\"/>\n<text text-anchor=\"start\" x=\"74.5\" y=\"-1016.2\" font-family=\"Helvetica,sans-Serif\" font-size=\"11.00\" fill=\"#444443\"> 0.006282334215939045</text>\n<polygon fill=\"#fefecd\" stroke=\"transparent\" points=\"38,-1010 38,-1012 202,-1012 202,-1010 38,-1010\"/>\n<polygon fill=\"#fefecd\" stroke=\"transparent\" points=\"38,-996 38,-1010 68,-1010 68,-996 38,-996\"/>\n<polyline fill=\"none\" stroke=\"black\" points=\"68,-996 68,-1010 \"/>\n<text text-anchor=\"start\" x=\"57\" y=\"-1000.2\" font-family=\"Helvetica,sans-Serif\" font-size=\"11.00\" fill=\"#444443\">5 </text>\n<polygon fill=\"#fefecd\" stroke=\"transparent\" points=\"68,-996 68,-1010 202,-1010 202,-996 68,-996\"/>\n<text text-anchor=\"start\" x=\"74.5\" y=\"-1000.2\" font-family=\"Helvetica,sans-Serif\" font-size=\"11.00\" fill=\"#444443\"> 0.037187639623880386</text>\n<polygon fill=\"#fefecd\" stroke=\"transparent\" points=\"38,-994 38,-996 202,-996 202,-994 38,-994\"/>\n<polygon fill=\"#fefecd\" stroke=\"transparent\" points=\"38,-980 38,-994 68,-994 68,-980 38,-980\"/>\n<polyline fill=\"none\" stroke=\"black\" points=\"68,-980 68,-994 \"/>\n<text text-anchor=\"start\" x=\"57\" y=\"-984.2\" font-family=\"Helvetica,sans-Serif\" font-size=\"11.00\" fill=\"#444443\">6 </text>\n<polygon fill=\"#fefecd\" stroke=\"transparent\" points=\"68,-980 68,-994 202,-994 202,-980 68,-980\"/>\n<text text-anchor=\"start\" x=\"69\" y=\"-984.2\" font-family=\"Helvetica,sans-Serif\" font-size=\"11.00\" fill=\"#444443\"> &#39;&#45;0.00733895460143685...&#39;</text>\n<polygon fill=\"#fefecd\" stroke=\"transparent\" points=\"38,-978 38,-980 202,-980 202,-978 38,-978\"/>\n<polygon fill=\"#fefecd\" stroke=\"transparent\" points=\"38,-964 38,-978 68,-978 68,-964 38,-964\"/>\n<polyline fill=\"none\" stroke=\"black\" points=\"68,-964 68,-978 \"/>\n<text text-anchor=\"start\" x=\"57\" y=\"-968.2\" font-family=\"Helvetica,sans-Serif\" font-size=\"11.00\" fill=\"#444443\">7 </text>\n<polygon fill=\"#fefecd\" stroke=\"transparent\" points=\"68,-964 68,-978 202,-978 202,-964 68,-964\"/>\n<text text-anchor=\"start\" x=\"74.5\" y=\"-968.2\" font-family=\"Helvetica,sans-Serif\" font-size=\"11.00\" fill=\"#444443\"> 0.027411367744207382</text>\n<polygon fill=\"#fefecd\" stroke=\"transparent\" points=\"38,-962 38,-964 202,-964 202,-962 38,-962\"/>\n<polygon fill=\"#fefecd\" stroke=\"transparent\" points=\"38,-948 38,-962 68,-962 68,-948 38,-948\"/>\n<polyline fill=\"none\" stroke=\"black\" points=\"68,-948 68,-962 \"/>\n<text text-anchor=\"start\" x=\"57\" y=\"-952.2\" font-family=\"Helvetica,sans-Serif\" font-size=\"11.00\" fill=\"#444443\">8 </text>\n<polygon fill=\"#fefecd\" stroke=\"transparent\" points=\"68,-948 68,-962 202,-962 202,-948 68,-948\"/>\n<text text-anchor=\"start\" x=\"74.5\" y=\"-952.2\" font-family=\"Helvetica,sans-Serif\" font-size=\"11.00\" fill=\"#444443\"> 0.018715348094701767</text>\n<polygon fill=\"#fefecd\" stroke=\"transparent\" points=\"38,-946 38,-948 202,-948 202,-946 38,-946\"/>\n<polygon fill=\"#fefecd\" stroke=\"transparent\" points=\"38,-932 38,-946 68,-946 68,-932 38,-932\"/>\n<polyline fill=\"none\" stroke=\"black\" points=\"68,-932 68,-946 \"/>\n<text text-anchor=\"start\" x=\"54\" y=\"-936.2\" font-family=\"Helvetica,sans-Serif\" font-size=\"11.00\" fill=\"#444443\">... </text>\n<polygon fill=\"#fefecd\" stroke=\"transparent\" points=\"68,-932 68,-946 202,-946 202,-932 68,-932\"/>\n<text text-anchor=\"start\" x=\"128.5\" y=\"-936.2\" font-family=\"Helvetica,sans-Serif\" font-size=\"11.00\" fill=\"#444443\"> ...</text>\n<polygon fill=\"#fefecd\" stroke=\"transparent\" points=\"38,-930 38,-932 202,-932 202,-930 38,-930\"/>\n<polygon fill=\"#fefecd\" stroke=\"transparent\" points=\"38,-916 38,-930 68,-930 68,-916 38,-916\"/>\n<polyline fill=\"none\" stroke=\"black\" points=\"68,-916 68,-930 \"/>\n<text text-anchor=\"start\" x=\"39\" y=\"-920.2\" font-family=\"Helvetica,sans-Serif\" font-size=\"11.00\" fill=\"#444443\">1535 </text>\n<polygon fill=\"#fefecd\" stroke=\"transparent\" points=\"68,-916 68,-930 202,-930 202,-916 68,-916\"/>\n<text text-anchor=\"start\" x=\"74.5\" y=\"-920.2\" font-family=\"Helvetica,sans-Serif\" font-size=\"11.00\" fill=\"#444443\"> 0.005266223102807999</text>\n</g>\n<!-- node135314205896384&#45;&gt;node135314204272704 -->\n<g id=\"edge2\" class=\"edge\">\n<title>node135314205896384:1&#45;&gt;node135314204272704:w</title>\n<path fill=\"none\" stroke=\"#444443\" stroke-width=\"0.5\" d=\"M14,-669C49.74,-669 2.76,-977.42 32.04,-1001.51\"/>\n<polygon fill=\"#444443\" stroke=\"#444443\" stroke-width=\"0.5\" points=\"31.76,-1002.9 36,-1003 32.75,-1000.28 31.76,-1002.9\"/>\n</g>\n<!-- node135314205044608 -->\n<g id=\"node4\" class=\"node\">\n<title>node135314205044608</title>\n<polygon fill=\"none\" stroke=\"black\" stroke-width=\"0.5\" points=\"204,-908 36,-908 36,-732 204,-732 204,-908\"/>\n<polygon fill=\"#fefecd\" stroke=\"transparent\" points=\"37,-893 37,-907 67,-907 67,-893 37,-893\"/>\n<polyline fill=\"none\" stroke=\"black\" points=\"67,-893 67,-907 \"/>\n<text text-anchor=\"start\" x=\"56\" y=\"-897.2\" font-family=\"Helvetica,sans-Serif\" font-size=\"11.00\" fill=\"#444443\">0 </text>\n<polygon fill=\"#fefecd\" stroke=\"transparent\" points=\"67,-893 67,-907 203,-907 203,-893 67,-893\"/>\n<text text-anchor=\"start\" x=\"68\" y=\"-897.2\" font-family=\"Helvetica,sans-Serif\" font-size=\"11.00\" fill=\"#444443\"> &#39;0.001465078676119446...&#39;</text>\n<polygon fill=\"#fefecd\" stroke=\"transparent\" points=\"37,-891 37,-893 203,-893 203,-891 37,-891\"/>\n<polygon fill=\"#fefecd\" stroke=\"transparent\" points=\"37,-877 37,-891 67,-891 67,-877 37,-877\"/>\n<polyline fill=\"none\" stroke=\"black\" points=\"67,-877 67,-891 \"/>\n<text text-anchor=\"start\" x=\"56\" y=\"-881.2\" font-family=\"Helvetica,sans-Serif\" font-size=\"11.00\" fill=\"#444443\">1 </text>\n<polygon fill=\"#fefecd\" stroke=\"transparent\" points=\"67,-877 67,-891 203,-891 203,-877 67,-877\"/>\n<text text-anchor=\"start\" x=\"76\" y=\"-881.2\" font-family=\"Helvetica,sans-Serif\" font-size=\"11.00\" fill=\"#444443\"> &#45;0.03509439900517464</text>\n<polygon fill=\"#fefecd\" stroke=\"transparent\" points=\"37,-875 37,-877 203,-877 203,-875 37,-875\"/>\n<polygon fill=\"#fefecd\" stroke=\"transparent\" points=\"37,-861 37,-875 67,-875 67,-861 37,-861\"/>\n<polyline fill=\"none\" stroke=\"black\" points=\"67,-861 67,-875 \"/>\n<text text-anchor=\"start\" x=\"56\" y=\"-865.2\" font-family=\"Helvetica,sans-Serif\" font-size=\"11.00\" fill=\"#444443\">2 </text>\n<polygon fill=\"#fefecd\" stroke=\"transparent\" points=\"67,-861 67,-875 203,-875 203,-861 67,-861\"/>\n<text text-anchor=\"start\" x=\"80.5\" y=\"-865.2\" font-family=\"Helvetica,sans-Serif\" font-size=\"11.00\" fill=\"#444443\"> 0.0290878564119339</text>\n<polygon fill=\"#fefecd\" stroke=\"transparent\" points=\"37,-859 37,-861 203,-861 203,-859 37,-859\"/>\n<polygon fill=\"#fefecd\" stroke=\"transparent\" points=\"37,-845 37,-859 67,-859 67,-845 37,-845\"/>\n<polyline fill=\"none\" stroke=\"black\" points=\"67,-845 67,-859 \"/>\n<text text-anchor=\"start\" x=\"56\" y=\"-849.2\" font-family=\"Helvetica,sans-Serif\" font-size=\"11.00\" fill=\"#444443\">3 </text>\n<polygon fill=\"#fefecd\" stroke=\"transparent\" points=\"67,-845 67,-859 203,-859 203,-845 67,-845\"/>\n<text text-anchor=\"start\" x=\"74.5\" y=\"-849.2\" font-family=\"Helvetica,sans-Serif\" font-size=\"11.00\" fill=\"#444443\"> 0.028615431860089302</text>\n<polygon fill=\"#fefecd\" stroke=\"transparent\" points=\"37,-843 37,-845 203,-845 203,-843 37,-843\"/>\n<polygon fill=\"#fefecd\" stroke=\"transparent\" points=\"37,-829 37,-843 67,-843 67,-829 37,-829\"/>\n<polyline fill=\"none\" stroke=\"black\" points=\"67,-829 67,-843 \"/>\n<text text-anchor=\"start\" x=\"56\" y=\"-833.2\" font-family=\"Helvetica,sans-Serif\" font-size=\"11.00\" fill=\"#444443\">4 </text>\n<polygon fill=\"#fefecd\" stroke=\"transparent\" points=\"67,-829 67,-843 203,-843 203,-829 67,-829\"/>\n<text text-anchor=\"start\" x=\"69\" y=\"-833.2\" font-family=\"Helvetica,sans-Serif\" font-size=\"11.00\" fill=\"#444443\"> &#39;&#45;0.04161835834383964...&#39;</text>\n<polygon fill=\"#fefecd\" stroke=\"transparent\" points=\"37,-827 37,-829 203,-829 203,-827 37,-827\"/>\n<polygon fill=\"#fefecd\" stroke=\"transparent\" points=\"37,-813 37,-827 67,-827 67,-813 37,-813\"/>\n<polyline fill=\"none\" stroke=\"black\" points=\"67,-813 67,-827 \"/>\n<text text-anchor=\"start\" x=\"56\" y=\"-817.2\" font-family=\"Helvetica,sans-Serif\" font-size=\"11.00\" fill=\"#444443\">5 </text>\n<polygon fill=\"#fefecd\" stroke=\"transparent\" points=\"67,-813 67,-827 203,-827 203,-813 67,-813\"/>\n<text text-anchor=\"start\" x=\"76\" y=\"-817.2\" font-family=\"Helvetica,sans-Serif\" font-size=\"11.00\" fill=\"#444443\"> &#45;0.03657916188240051</text>\n<polygon fill=\"#fefecd\" stroke=\"transparent\" points=\"37,-811 37,-813 203,-813 203,-811 37,-811\"/>\n<polygon fill=\"#fefecd\" stroke=\"transparent\" points=\"37,-797 37,-811 67,-811 67,-797 37,-797\"/>\n<polyline fill=\"none\" stroke=\"black\" points=\"67,-797 67,-811 \"/>\n<text text-anchor=\"start\" x=\"56\" y=\"-801.2\" font-family=\"Helvetica,sans-Serif\" font-size=\"11.00\" fill=\"#444443\">6 </text>\n<polygon fill=\"#fefecd\" stroke=\"transparent\" points=\"67,-797 67,-811 203,-811 203,-797 67,-797\"/>\n<text text-anchor=\"start\" x=\"74.5\" y=\"-801.2\" font-family=\"Helvetica,sans-Serif\" font-size=\"11.00\" fill=\"#444443\"> 0.007075120694935322</text>\n<polygon fill=\"#fefecd\" stroke=\"transparent\" points=\"37,-795 37,-797 203,-797 203,-795 37,-795\"/>\n<polygon fill=\"#fefecd\" stroke=\"transparent\" points=\"37,-781 37,-795 67,-795 67,-781 37,-781\"/>\n<polyline fill=\"none\" stroke=\"black\" points=\"67,-781 67,-795 \"/>\n<text text-anchor=\"start\" x=\"56\" y=\"-785.2\" font-family=\"Helvetica,sans-Serif\" font-size=\"11.00\" fill=\"#444443\">7 </text>\n<polygon fill=\"#fefecd\" stroke=\"transparent\" points=\"67,-781 67,-795 203,-795 203,-781 67,-781\"/>\n<text text-anchor=\"start\" x=\"77.5\" y=\"-785.2\" font-family=\"Helvetica,sans-Serif\" font-size=\"11.00\" fill=\"#444443\"> 0.04715247452259064</text>\n<polygon fill=\"#fefecd\" stroke=\"transparent\" points=\"37,-779 37,-781 203,-781 203,-779 37,-779\"/>\n<polygon fill=\"#fefecd\" stroke=\"transparent\" points=\"37,-765 37,-779 67,-779 67,-765 37,-765\"/>\n<polyline fill=\"none\" stroke=\"black\" points=\"67,-765 67,-779 \"/>\n<text text-anchor=\"start\" x=\"56\" y=\"-769.2\" font-family=\"Helvetica,sans-Serif\" font-size=\"11.00\" fill=\"#444443\">8 </text>\n<polygon fill=\"#fefecd\" stroke=\"transparent\" points=\"67,-765 67,-779 203,-779 203,-765 67,-765\"/>\n<text text-anchor=\"start\" x=\"76\" y=\"-769.2\" font-family=\"Helvetica,sans-Serif\" font-size=\"11.00\" fill=\"#444443\"> &#45;0.01948188990354538</text>\n<polygon fill=\"#fefecd\" stroke=\"transparent\" points=\"37,-763 37,-765 203,-765 203,-763 37,-763\"/>\n<polygon fill=\"#fefecd\" stroke=\"transparent\" points=\"37,-749 37,-763 67,-763 67,-749 37,-749\"/>\n<polyline fill=\"none\" stroke=\"black\" points=\"67,-749 67,-763 \"/>\n<text text-anchor=\"start\" x=\"53\" y=\"-753.2\" font-family=\"Helvetica,sans-Serif\" font-size=\"11.00\" fill=\"#444443\">... </text>\n<polygon fill=\"#fefecd\" stroke=\"transparent\" points=\"67,-749 67,-763 203,-763 203,-749 67,-749\"/>\n<text text-anchor=\"start\" x=\"128.5\" y=\"-753.2\" font-family=\"Helvetica,sans-Serif\" font-size=\"11.00\" fill=\"#444443\"> ...</text>\n<polygon fill=\"#fefecd\" stroke=\"transparent\" points=\"37,-747 37,-749 203,-749 203,-747 37,-747\"/>\n<polygon fill=\"#fefecd\" stroke=\"transparent\" points=\"37,-733 37,-747 67,-747 67,-733 37,-733\"/>\n<polyline fill=\"none\" stroke=\"black\" points=\"67,-733 67,-747 \"/>\n<text text-anchor=\"start\" x=\"38\" y=\"-737.2\" font-family=\"Helvetica,sans-Serif\" font-size=\"11.00\" fill=\"#444443\">1535 </text>\n<polygon fill=\"#fefecd\" stroke=\"transparent\" points=\"67,-733 67,-747 203,-747 203,-733 67,-733\"/>\n<text text-anchor=\"start\" x=\"77.5\" y=\"-737.2\" font-family=\"Helvetica,sans-Serif\" font-size=\"11.00\" fill=\"#444443\"> 0.01716475933790207</text>\n</g>\n<!-- node135314205896384&#45;&gt;node135314205044608 -->\n<g id=\"edge3\" class=\"edge\">\n<title>node135314205896384:2&#45;&gt;node135314205044608:w</title>\n<path fill=\"none\" stroke=\"#444443\" stroke-width=\"0.5\" d=\"M14,-653C49.97,-653 2.56,-807.21 32.02,-819.26\"/>\n<polygon fill=\"#444443\" stroke=\"#444443\" stroke-width=\"0.5\" points=\"31.81,-820.64 36,-820 32.33,-817.89 31.81,-820.64\"/>\n</g>\n<!-- node135314205894016 -->\n<g id=\"node5\" class=\"node\">\n<title>node135314205894016</title>\n<polygon fill=\"none\" stroke=\"black\" stroke-width=\"0.5\" points=\"203,-725 37,-725 37,-549 203,-549 203,-725\"/>\n<polygon fill=\"#fefecd\" stroke=\"transparent\" points=\"38,-710 38,-724 68,-724 68,-710 38,-710\"/>\n<polyline fill=\"none\" stroke=\"black\" points=\"68,-710 68,-724 \"/>\n<text text-anchor=\"start\" x=\"57\" y=\"-714.2\" font-family=\"Helvetica,sans-Serif\" font-size=\"11.00\" fill=\"#444443\">0 </text>\n<polygon fill=\"#fefecd\" stroke=\"transparent\" points=\"68,-710 68,-724 202,-724 202,-710 68,-710\"/>\n<text text-anchor=\"start\" x=\"74.5\" y=\"-714.2\" font-family=\"Helvetica,sans-Serif\" font-size=\"11.00\" fill=\"#444443\"> 0.016590693965554237</text>\n<polygon fill=\"#fefecd\" stroke=\"transparent\" points=\"38,-708 38,-710 202,-710 202,-708 38,-708\"/>\n<polygon fill=\"#fefecd\" stroke=\"transparent\" points=\"38,-694 38,-708 68,-708 68,-694 38,-694\"/>\n<polyline fill=\"none\" stroke=\"black\" points=\"68,-694 68,-708 \"/>\n<text text-anchor=\"start\" x=\"57\" y=\"-698.2\" font-family=\"Helvetica,sans-Serif\" font-size=\"11.00\" fill=\"#444443\">1 </text>\n<polygon fill=\"#fefecd\" stroke=\"transparent\" points=\"68,-694 68,-708 202,-708 202,-694 68,-694\"/>\n<text text-anchor=\"start\" x=\"76\" y=\"-698.2\" font-family=\"Helvetica,sans-Serif\" font-size=\"11.00\" fill=\"#444443\"> &#45;0.01855507120490074</text>\n<polygon fill=\"#fefecd\" stroke=\"transparent\" points=\"38,-692 38,-694 202,-694 202,-692 38,-692\"/>\n<polygon fill=\"#fefecd\" stroke=\"transparent\" points=\"38,-678 38,-692 68,-692 68,-678 38,-678\"/>\n<polyline fill=\"none\" stroke=\"black\" points=\"68,-678 68,-692 \"/>\n<text text-anchor=\"start\" x=\"57\" y=\"-682.2\" font-family=\"Helvetica,sans-Serif\" font-size=\"11.00\" fill=\"#444443\">2 </text>\n<polygon fill=\"#fefecd\" stroke=\"transparent\" points=\"68,-678 68,-692 202,-692 202,-678 68,-678\"/>\n<text text-anchor=\"start\" x=\"69\" y=\"-682.2\" font-family=\"Helvetica,sans-Serif\" font-size=\"11.00\" fill=\"#444443\"> &#39;&#45;0.00052807398606091...&#39;</text>\n<polygon fill=\"#fefecd\" stroke=\"transparent\" points=\"38,-676 38,-678 202,-678 202,-676 38,-676\"/>\n<polygon fill=\"#fefecd\" stroke=\"transparent\" points=\"38,-662 38,-676 68,-676 68,-662 38,-662\"/>\n<polyline fill=\"none\" stroke=\"black\" points=\"68,-662 68,-676 \"/>\n<text text-anchor=\"start\" x=\"57\" y=\"-666.2\" font-family=\"Helvetica,sans-Serif\" font-size=\"11.00\" fill=\"#444443\">3 </text>\n<polygon fill=\"#fefecd\" stroke=\"transparent\" points=\"68,-662 68,-676 202,-676 202,-662 68,-662\"/>\n<text text-anchor=\"start\" x=\"69\" y=\"-666.2\" font-family=\"Helvetica,sans-Serif\" font-size=\"11.00\" fill=\"#444443\"> &#39;&#45;0.01300511602312326...&#39;</text>\n<polygon fill=\"#fefecd\" stroke=\"transparent\" points=\"38,-660 38,-662 202,-662 202,-660 38,-660\"/>\n<polygon fill=\"#fefecd\" stroke=\"transparent\" points=\"38,-646 38,-660 68,-660 68,-646 38,-646\"/>\n<polyline fill=\"none\" stroke=\"black\" points=\"68,-646 68,-660 \"/>\n<text text-anchor=\"start\" x=\"57\" y=\"-650.2\" font-family=\"Helvetica,sans-Serif\" font-size=\"11.00\" fill=\"#444443\">4 </text>\n<polygon fill=\"#fefecd\" stroke=\"transparent\" points=\"68,-646 68,-660 202,-660 202,-646 68,-646\"/>\n<text text-anchor=\"start\" x=\"74.5\" y=\"-650.2\" font-family=\"Helvetica,sans-Serif\" font-size=\"11.00\" fill=\"#444443\"> 0.016531527042388916</text>\n<polygon fill=\"#fefecd\" stroke=\"transparent\" points=\"38,-644 38,-646 202,-646 202,-644 38,-644\"/>\n<polygon fill=\"#fefecd\" stroke=\"transparent\" points=\"38,-630 38,-644 68,-644 68,-630 38,-630\"/>\n<polyline fill=\"none\" stroke=\"black\" points=\"68,-630 68,-644 \"/>\n<text text-anchor=\"start\" x=\"57\" y=\"-634.2\" font-family=\"Helvetica,sans-Serif\" font-size=\"11.00\" fill=\"#444443\">5 </text>\n<polygon fill=\"#fefecd\" stroke=\"transparent\" points=\"68,-630 68,-644 202,-644 202,-630 68,-630\"/>\n<text text-anchor=\"start\" x=\"74.5\" y=\"-634.2\" font-family=\"Helvetica,sans-Serif\" font-size=\"11.00\" fill=\"#444443\"> 0.012058429419994354</text>\n<polygon fill=\"#fefecd\" stroke=\"transparent\" points=\"38,-628 38,-630 202,-630 202,-628 38,-628\"/>\n<polygon fill=\"#fefecd\" stroke=\"transparent\" points=\"38,-614 38,-628 68,-628 68,-614 38,-614\"/>\n<polyline fill=\"none\" stroke=\"black\" points=\"68,-614 68,-628 \"/>\n<text text-anchor=\"start\" x=\"57\" y=\"-618.2\" font-family=\"Helvetica,sans-Serif\" font-size=\"11.00\" fill=\"#444443\">6 </text>\n<polygon fill=\"#fefecd\" stroke=\"transparent\" points=\"68,-614 68,-628 202,-628 202,-614 68,-614\"/>\n<text text-anchor=\"start\" x=\"74.5\" y=\"-618.2\" font-family=\"Helvetica,sans-Serif\" font-size=\"11.00\" fill=\"#444443\"> 0.030151989310979843</text>\n<polygon fill=\"#fefecd\" stroke=\"transparent\" points=\"38,-612 38,-614 202,-614 202,-612 38,-612\"/>\n<polygon fill=\"#fefecd\" stroke=\"transparent\" points=\"38,-598 38,-612 68,-612 68,-598 38,-598\"/>\n<polyline fill=\"none\" stroke=\"black\" points=\"68,-598 68,-612 \"/>\n<text text-anchor=\"start\" x=\"57\" y=\"-602.2\" font-family=\"Helvetica,sans-Serif\" font-size=\"11.00\" fill=\"#444443\">7 </text>\n<polygon fill=\"#fefecd\" stroke=\"transparent\" points=\"68,-598 68,-612 202,-612 202,-598 68,-598\"/>\n<text text-anchor=\"start\" x=\"69\" y=\"-602.2\" font-family=\"Helvetica,sans-Serif\" font-size=\"11.00\" fill=\"#444443\"> &#39;&#45;0.00561208045110106...&#39;</text>\n<polygon fill=\"#fefecd\" stroke=\"transparent\" points=\"38,-596 38,-598 202,-598 202,-596 38,-596\"/>\n<polygon fill=\"#fefecd\" stroke=\"transparent\" points=\"38,-582 38,-596 68,-596 68,-582 38,-582\"/>\n<polyline fill=\"none\" stroke=\"black\" points=\"68,-582 68,-596 \"/>\n<text text-anchor=\"start\" x=\"57\" y=\"-586.2\" font-family=\"Helvetica,sans-Serif\" font-size=\"11.00\" fill=\"#444443\">8 </text>\n<polygon fill=\"#fefecd\" stroke=\"transparent\" points=\"68,-582 68,-596 202,-596 202,-582 68,-582\"/>\n<text text-anchor=\"start\" x=\"69\" y=\"-586.2\" font-family=\"Helvetica,sans-Serif\" font-size=\"11.00\" fill=\"#444443\"> &#39;&#45;0.01331278961151838...&#39;</text>\n<polygon fill=\"#fefecd\" stroke=\"transparent\" points=\"38,-580 38,-582 202,-582 202,-580 38,-580\"/>\n<polygon fill=\"#fefecd\" stroke=\"transparent\" points=\"38,-566 38,-580 68,-580 68,-566 38,-566\"/>\n<polyline fill=\"none\" stroke=\"black\" points=\"68,-566 68,-580 \"/>\n<text text-anchor=\"start\" x=\"54\" y=\"-570.2\" font-family=\"Helvetica,sans-Serif\" font-size=\"11.00\" fill=\"#444443\">... </text>\n<polygon fill=\"#fefecd\" stroke=\"transparent\" points=\"68,-566 68,-580 202,-580 202,-566 68,-566\"/>\n<text text-anchor=\"start\" x=\"128.5\" y=\"-570.2\" font-family=\"Helvetica,sans-Serif\" font-size=\"11.00\" fill=\"#444443\"> ...</text>\n<polygon fill=\"#fefecd\" stroke=\"transparent\" points=\"38,-564 38,-566 202,-566 202,-564 38,-564\"/>\n<polygon fill=\"#fefecd\" stroke=\"transparent\" points=\"38,-550 38,-564 68,-564 68,-550 38,-550\"/>\n<polyline fill=\"none\" stroke=\"black\" points=\"68,-550 68,-564 \"/>\n<text text-anchor=\"start\" x=\"39\" y=\"-554.2\" font-family=\"Helvetica,sans-Serif\" font-size=\"11.00\" fill=\"#444443\">1535 </text>\n<polygon fill=\"#fefecd\" stroke=\"transparent\" points=\"68,-550 68,-564 202,-564 202,-550 68,-550\"/>\n<text text-anchor=\"start\" x=\"77.5\" y=\"-554.2\" font-family=\"Helvetica,sans-Serif\" font-size=\"11.00\" fill=\"#444443\"> 0.01699303649365902</text>\n</g>\n<!-- node135314205896384&#45;&gt;node135314205894016 -->\n<g id=\"edge4\" class=\"edge\">\n<title>node135314205896384:3&#45;&gt;node135314205894016:w</title>\n<path fill=\"none\" stroke=\"#444443\" stroke-width=\"0.5\" d=\"M14,-637C22.25,-637 25.28,-637 31.9,-637\"/>\n<polygon fill=\"#444443\" stroke=\"#444443\" stroke-width=\"0.5\" points=\"32,-638.4 36,-637 32,-635.6 32,-638.4\"/>\n</g>\n<!-- node135314204965696 -->\n<g id=\"node6\" class=\"node\">\n<title>node135314204965696</title>\n<polygon fill=\"none\" stroke=\"black\" stroke-width=\"0.5\" points=\"203,-542 37,-542 37,-366 203,-366 203,-542\"/>\n<polygon fill=\"#fefecd\" stroke=\"transparent\" points=\"38,-527 38,-541 68,-541 68,-527 38,-527\"/>\n<polyline fill=\"none\" stroke=\"black\" points=\"68,-527 68,-541 \"/>\n<text text-anchor=\"start\" x=\"57\" y=\"-531.2\" font-family=\"Helvetica,sans-Serif\" font-size=\"11.00\" fill=\"#444443\">0 </text>\n<polygon fill=\"#fefecd\" stroke=\"transparent\" points=\"68,-527 68,-541 202,-541 202,-527 68,-527\"/>\n<text text-anchor=\"start\" x=\"76\" y=\"-531.2\" font-family=\"Helvetica,sans-Serif\" font-size=\"11.00\" fill=\"#444443\"> &#45;0.03271620348095894</text>\n<polygon fill=\"#fefecd\" stroke=\"transparent\" points=\"38,-525 38,-527 202,-527 202,-525 38,-525\"/>\n<polygon fill=\"#fefecd\" stroke=\"transparent\" points=\"38,-511 38,-525 68,-525 68,-511 38,-511\"/>\n<polyline fill=\"none\" stroke=\"black\" points=\"68,-511 68,-525 \"/>\n<text text-anchor=\"start\" x=\"57\" y=\"-515.2\" font-family=\"Helvetica,sans-Serif\" font-size=\"11.00\" fill=\"#444443\">1 </text>\n<polygon fill=\"#fefecd\" stroke=\"transparent\" points=\"68,-511 68,-525 202,-525 202,-511 68,-511\"/>\n<text text-anchor=\"start\" x=\"69\" y=\"-515.2\" font-family=\"Helvetica,sans-Serif\" font-size=\"11.00\" fill=\"#444443\"> &#39;&#45;0.02846606262028217...&#39;</text>\n<polygon fill=\"#fefecd\" stroke=\"transparent\" points=\"38,-509 38,-511 202,-511 202,-509 38,-509\"/>\n<polygon fill=\"#fefecd\" stroke=\"transparent\" points=\"38,-495 38,-509 68,-509 68,-495 38,-495\"/>\n<polyline fill=\"none\" stroke=\"black\" points=\"68,-495 68,-509 \"/>\n<text text-anchor=\"start\" x=\"57\" y=\"-499.2\" font-family=\"Helvetica,sans-Serif\" font-size=\"11.00\" fill=\"#444443\">2 </text>\n<polygon fill=\"#fefecd\" stroke=\"transparent\" points=\"68,-495 68,-509 202,-509 202,-495 68,-495\"/>\n<text text-anchor=\"start\" x=\"69\" y=\"-499.2\" font-family=\"Helvetica,sans-Serif\" font-size=\"11.00\" fill=\"#444443\"> &#39;&#45;0.03041816316545009...&#39;</text>\n<polygon fill=\"#fefecd\" stroke=\"transparent\" points=\"38,-493 38,-495 202,-495 202,-493 38,-493\"/>\n<polygon fill=\"#fefecd\" stroke=\"transparent\" points=\"38,-479 38,-493 68,-493 68,-479 38,-479\"/>\n<polyline fill=\"none\" stroke=\"black\" points=\"68,-479 68,-493 \"/>\n<text text-anchor=\"start\" x=\"57\" y=\"-483.2\" font-family=\"Helvetica,sans-Serif\" font-size=\"11.00\" fill=\"#444443\">3 </text>\n<polygon fill=\"#fefecd\" stroke=\"transparent\" points=\"68,-479 68,-493 202,-493 202,-479 68,-479\"/>\n<text text-anchor=\"start\" x=\"69\" y=\"-483.2\" font-family=\"Helvetica,sans-Serif\" font-size=\"11.00\" fill=\"#444443\"> &#39;&#45;0.00236599449999630...&#39;</text>\n<polygon fill=\"#fefecd\" stroke=\"transparent\" points=\"38,-477 38,-479 202,-479 202,-477 38,-477\"/>\n<polygon fill=\"#fefecd\" stroke=\"transparent\" points=\"38,-463 38,-477 68,-477 68,-463 38,-463\"/>\n<polyline fill=\"none\" stroke=\"black\" points=\"68,-463 68,-477 \"/>\n<text text-anchor=\"start\" x=\"57\" y=\"-467.2\" font-family=\"Helvetica,sans-Serif\" font-size=\"11.00\" fill=\"#444443\">4 </text>\n<polygon fill=\"#fefecd\" stroke=\"transparent\" points=\"68,-463 68,-477 202,-477 202,-463 68,-463\"/>\n<text text-anchor=\"start\" x=\"74.5\" y=\"-467.2\" font-family=\"Helvetica,sans-Serif\" font-size=\"11.00\" fill=\"#444443\"> 0.037411127239465714</text>\n<polygon fill=\"#fefecd\" stroke=\"transparent\" points=\"38,-461 38,-463 202,-463 202,-461 38,-461\"/>\n<polygon fill=\"#fefecd\" stroke=\"transparent\" points=\"38,-447 38,-461 68,-461 68,-447 38,-447\"/>\n<polyline fill=\"none\" stroke=\"black\" points=\"68,-447 68,-461 \"/>\n<text text-anchor=\"start\" x=\"57\" y=\"-451.2\" font-family=\"Helvetica,sans-Serif\" font-size=\"11.00\" fill=\"#444443\">5 </text>\n<polygon fill=\"#fefecd\" stroke=\"transparent\" points=\"68,-447 68,-461 202,-461 202,-447 68,-447\"/>\n<text text-anchor=\"start\" x=\"69\" y=\"-451.2\" font-family=\"Helvetica,sans-Serif\" font-size=\"11.00\" fill=\"#444443\"> &#39;&#45;0.01585154421627521...&#39;</text>\n<polygon fill=\"#fefecd\" stroke=\"transparent\" points=\"38,-445 38,-447 202,-447 202,-445 38,-445\"/>\n<polygon fill=\"#fefecd\" stroke=\"transparent\" points=\"38,-431 38,-445 68,-445 68,-431 38,-431\"/>\n<polyline fill=\"none\" stroke=\"black\" points=\"68,-431 68,-445 \"/>\n<text text-anchor=\"start\" x=\"57\" y=\"-435.2\" font-family=\"Helvetica,sans-Serif\" font-size=\"11.00\" fill=\"#444443\">6 </text>\n<polygon fill=\"#fefecd\" stroke=\"transparent\" points=\"68,-431 68,-445 202,-445 202,-431 68,-431\"/>\n<text text-anchor=\"start\" x=\"69\" y=\"-435.2\" font-family=\"Helvetica,sans-Serif\" font-size=\"11.00\" fill=\"#444443\"> &#39;&#45;0.00704238517209887...&#39;</text>\n<polygon fill=\"#fefecd\" stroke=\"transparent\" points=\"38,-429 38,-431 202,-431 202,-429 38,-429\"/>\n<polygon fill=\"#fefecd\" stroke=\"transparent\" points=\"38,-415 38,-429 68,-429 68,-415 38,-415\"/>\n<polyline fill=\"none\" stroke=\"black\" points=\"68,-415 68,-429 \"/>\n<text text-anchor=\"start\" x=\"57\" y=\"-419.2\" font-family=\"Helvetica,sans-Serif\" font-size=\"11.00\" fill=\"#444443\">7 </text>\n<polygon fill=\"#fefecd\" stroke=\"transparent\" points=\"68,-415 68,-429 202,-429 202,-415 68,-415\"/>\n<text text-anchor=\"start\" x=\"77.5\" y=\"-419.2\" font-family=\"Helvetica,sans-Serif\" font-size=\"11.00\" fill=\"#444443\"> 0.03370460867881775</text>\n<polygon fill=\"#fefecd\" stroke=\"transparent\" points=\"38,-413 38,-415 202,-415 202,-413 38,-413\"/>\n<polygon fill=\"#fefecd\" stroke=\"transparent\" points=\"38,-399 38,-413 68,-413 68,-399 38,-399\"/>\n<polyline fill=\"none\" stroke=\"black\" points=\"68,-399 68,-413 \"/>\n<text text-anchor=\"start\" x=\"57\" y=\"-403.2\" font-family=\"Helvetica,sans-Serif\" font-size=\"11.00\" fill=\"#444443\">8 </text>\n<polygon fill=\"#fefecd\" stroke=\"transparent\" points=\"68,-399 68,-413 202,-413 202,-399 68,-399\"/>\n<text text-anchor=\"start\" x=\"77.5\" y=\"-403.2\" font-family=\"Helvetica,sans-Serif\" font-size=\"11.00\" fill=\"#444443\"> 0.02947917766869068</text>\n<polygon fill=\"#fefecd\" stroke=\"transparent\" points=\"38,-397 38,-399 202,-399 202,-397 38,-397\"/>\n<polygon fill=\"#fefecd\" stroke=\"transparent\" points=\"38,-383 38,-397 68,-397 68,-383 38,-383\"/>\n<polyline fill=\"none\" stroke=\"black\" points=\"68,-383 68,-397 \"/>\n<text text-anchor=\"start\" x=\"54\" y=\"-387.2\" font-family=\"Helvetica,sans-Serif\" font-size=\"11.00\" fill=\"#444443\">... </text>\n<polygon fill=\"#fefecd\" stroke=\"transparent\" points=\"68,-383 68,-397 202,-397 202,-383 68,-383\"/>\n<text text-anchor=\"start\" x=\"128.5\" y=\"-387.2\" font-family=\"Helvetica,sans-Serif\" font-size=\"11.00\" fill=\"#444443\"> ...</text>\n<polygon fill=\"#fefecd\" stroke=\"transparent\" points=\"38,-381 38,-383 202,-383 202,-381 38,-381\"/>\n<polygon fill=\"#fefecd\" stroke=\"transparent\" points=\"38,-367 38,-381 68,-381 68,-367 38,-367\"/>\n<polyline fill=\"none\" stroke=\"black\" points=\"68,-367 68,-381 \"/>\n<text text-anchor=\"start\" x=\"39\" y=\"-371.2\" font-family=\"Helvetica,sans-Serif\" font-size=\"11.00\" fill=\"#444443\">1535 </text>\n<polygon fill=\"#fefecd\" stroke=\"transparent\" points=\"68,-367 68,-381 202,-381 202,-367 68,-367\"/>\n<text text-anchor=\"start\" x=\"74.5\" y=\"-371.2\" font-family=\"Helvetica,sans-Serif\" font-size=\"11.00\" fill=\"#444443\"> 0.011879391968250275</text>\n</g>\n<!-- node135314205896384&#45;&gt;node135314204965696 -->\n<g id=\"edge5\" class=\"edge\">\n<title>node135314205896384:4&#45;&gt;node135314204965696:w</title>\n<path fill=\"none\" stroke=\"#444443\" stroke-width=\"0.5\" d=\"M14,-621C49.97,-621 2.56,-466.79 32.02,-454.74\"/>\n<polygon fill=\"#444443\" stroke=\"#444443\" stroke-width=\"0.5\" points=\"32.33,-456.11 36,-454 31.81,-453.36 32.33,-456.11\"/>\n</g>\n<!-- node135314772766400 -->\n<g id=\"node7\" class=\"node\">\n<title>node135314772766400</title>\n<polygon fill=\"none\" stroke=\"black\" stroke-width=\"0.5\" points=\"203,-359 37,-359 37,-183 203,-183 203,-359\"/>\n<polygon fill=\"#fefecd\" stroke=\"transparent\" points=\"38,-344 38,-358 68,-358 68,-344 38,-344\"/>\n<polyline fill=\"none\" stroke=\"black\" points=\"68,-344 68,-358 \"/>\n<text text-anchor=\"start\" x=\"57\" y=\"-348.2\" font-family=\"Helvetica,sans-Serif\" font-size=\"11.00\" fill=\"#444443\">0 </text>\n<polygon fill=\"#fefecd\" stroke=\"transparent\" points=\"68,-344 68,-358 202,-358 202,-344 68,-344\"/>\n<text text-anchor=\"start\" x=\"77.5\" y=\"-348.2\" font-family=\"Helvetica,sans-Serif\" font-size=\"11.00\" fill=\"#444443\"> 0.01911897398531437</text>\n<polygon fill=\"#fefecd\" stroke=\"transparent\" points=\"38,-342 38,-344 202,-344 202,-342 38,-342\"/>\n<polygon fill=\"#fefecd\" stroke=\"transparent\" points=\"38,-328 38,-342 68,-342 68,-328 38,-328\"/>\n<polyline fill=\"none\" stroke=\"black\" points=\"68,-328 68,-342 \"/>\n<text text-anchor=\"start\" x=\"57\" y=\"-332.2\" font-family=\"Helvetica,sans-Serif\" font-size=\"11.00\" fill=\"#444443\">1 </text>\n<polygon fill=\"#fefecd\" stroke=\"transparent\" points=\"68,-328 68,-342 202,-342 202,-328 68,-328\"/>\n<text text-anchor=\"start\" x=\"74.5\" y=\"-332.2\" font-family=\"Helvetica,sans-Serif\" font-size=\"11.00\" fill=\"#444443\"> 0.010489397682249546</text>\n<polygon fill=\"#fefecd\" stroke=\"transparent\" points=\"38,-326 38,-328 202,-328 202,-326 38,-326\"/>\n<polygon fill=\"#fefecd\" stroke=\"transparent\" points=\"38,-312 38,-326 68,-326 68,-312 38,-312\"/>\n<polyline fill=\"none\" stroke=\"black\" points=\"68,-312 68,-326 \"/>\n<text text-anchor=\"start\" x=\"57\" y=\"-316.2\" font-family=\"Helvetica,sans-Serif\" font-size=\"11.00\" fill=\"#444443\">2 </text>\n<polygon fill=\"#fefecd\" stroke=\"transparent\" points=\"68,-312 68,-326 202,-326 202,-312 68,-312\"/>\n<text text-anchor=\"start\" x=\"69\" y=\"-316.2\" font-family=\"Helvetica,sans-Serif\" font-size=\"11.00\" fill=\"#444443\"> &#39;&#45;0.00249836128205060...&#39;</text>\n<polygon fill=\"#fefecd\" stroke=\"transparent\" points=\"38,-310 38,-312 202,-312 202,-310 38,-310\"/>\n<polygon fill=\"#fefecd\" stroke=\"transparent\" points=\"38,-296 38,-310 68,-310 68,-296 38,-296\"/>\n<polyline fill=\"none\" stroke=\"black\" points=\"68,-296 68,-310 \"/>\n<text text-anchor=\"start\" x=\"57\" y=\"-300.2\" font-family=\"Helvetica,sans-Serif\" font-size=\"11.00\" fill=\"#444443\">3 </text>\n<polygon fill=\"#fefecd\" stroke=\"transparent\" points=\"68,-296 68,-310 202,-310 202,-296 68,-296\"/>\n<text text-anchor=\"start\" x=\"77.5\" y=\"-300.2\" font-family=\"Helvetica,sans-Serif\" font-size=\"11.00\" fill=\"#444443\"> 0.01729634776711464</text>\n<polygon fill=\"#fefecd\" stroke=\"transparent\" points=\"38,-294 38,-296 202,-296 202,-294 38,-294\"/>\n<polygon fill=\"#fefecd\" stroke=\"transparent\" points=\"38,-280 38,-294 68,-294 68,-280 38,-280\"/>\n<polyline fill=\"none\" stroke=\"black\" points=\"68,-280 68,-294 \"/>\n<text text-anchor=\"start\" x=\"57\" y=\"-284.2\" font-family=\"Helvetica,sans-Serif\" font-size=\"11.00\" fill=\"#444443\">4 </text>\n<polygon fill=\"#fefecd\" stroke=\"transparent\" points=\"68,-280 68,-294 202,-294 202,-280 68,-280\"/>\n<text text-anchor=\"start\" x=\"77.5\" y=\"-284.2\" font-family=\"Helvetica,sans-Serif\" font-size=\"11.00\" fill=\"#444443\"> 0.04488370940089226</text>\n<polygon fill=\"#fefecd\" stroke=\"transparent\" points=\"38,-278 38,-280 202,-280 202,-278 38,-278\"/>\n<polygon fill=\"#fefecd\" stroke=\"transparent\" points=\"38,-264 38,-278 68,-278 68,-264 38,-264\"/>\n<polyline fill=\"none\" stroke=\"black\" points=\"68,-264 68,-278 \"/>\n<text text-anchor=\"start\" x=\"57\" y=\"-268.2\" font-family=\"Helvetica,sans-Serif\" font-size=\"11.00\" fill=\"#444443\">5 </text>\n<polygon fill=\"#fefecd\" stroke=\"transparent\" points=\"68,-264 68,-278 202,-278 202,-264 68,-264\"/>\n<text text-anchor=\"start\" x=\"74.5\" y=\"-268.2\" font-family=\"Helvetica,sans-Serif\" font-size=\"11.00\" fill=\"#444443\"> 0.014890977181494236</text>\n<polygon fill=\"#fefecd\" stroke=\"transparent\" points=\"38,-262 38,-264 202,-264 202,-262 38,-262\"/>\n<polygon fill=\"#fefecd\" stroke=\"transparent\" points=\"38,-248 38,-262 68,-262 68,-248 38,-248\"/>\n<polyline fill=\"none\" stroke=\"black\" points=\"68,-248 68,-262 \"/>\n<text text-anchor=\"start\" x=\"57\" y=\"-252.2\" font-family=\"Helvetica,sans-Serif\" font-size=\"11.00\" fill=\"#444443\">6 </text>\n<polygon fill=\"#fefecd\" stroke=\"transparent\" points=\"68,-248 68,-262 202,-262 202,-248 68,-248\"/>\n<text text-anchor=\"start\" x=\"76\" y=\"-252.2\" font-family=\"Helvetica,sans-Serif\" font-size=\"11.00\" fill=\"#444443\"> &#45;0.00401721615344286</text>\n<polygon fill=\"#fefecd\" stroke=\"transparent\" points=\"38,-246 38,-248 202,-248 202,-246 38,-246\"/>\n<polygon fill=\"#fefecd\" stroke=\"transparent\" points=\"38,-232 38,-246 68,-246 68,-232 38,-232\"/>\n<polyline fill=\"none\" stroke=\"black\" points=\"68,-232 68,-246 \"/>\n<text text-anchor=\"start\" x=\"57\" y=\"-236.2\" font-family=\"Helvetica,sans-Serif\" font-size=\"11.00\" fill=\"#444443\">7 </text>\n<polygon fill=\"#fefecd\" stroke=\"transparent\" points=\"68,-232 68,-246 202,-246 202,-232 68,-232\"/>\n<text text-anchor=\"start\" x=\"69\" y=\"-236.2\" font-family=\"Helvetica,sans-Serif\" font-size=\"11.00\" fill=\"#444443\"> &#39;&#45;0.00688134226948022...&#39;</text>\n<polygon fill=\"#fefecd\" stroke=\"transparent\" points=\"38,-230 38,-232 202,-232 202,-230 38,-230\"/>\n<polygon fill=\"#fefecd\" stroke=\"transparent\" points=\"38,-216 38,-230 68,-230 68,-216 38,-216\"/>\n<polyline fill=\"none\" stroke=\"black\" points=\"68,-216 68,-230 \"/>\n<text text-anchor=\"start\" x=\"57\" y=\"-220.2\" font-family=\"Helvetica,sans-Serif\" font-size=\"11.00\" fill=\"#444443\">8 </text>\n<polygon fill=\"#fefecd\" stroke=\"transparent\" points=\"68,-216 68,-230 202,-230 202,-216 68,-216\"/>\n<text text-anchor=\"start\" x=\"69\" y=\"-220.2\" font-family=\"Helvetica,sans-Serif\" font-size=\"11.00\" fill=\"#444443\"> &#39;&#45;0.01270878594368696...&#39;</text>\n<polygon fill=\"#fefecd\" stroke=\"transparent\" points=\"38,-214 38,-216 202,-216 202,-214 38,-214\"/>\n<polygon fill=\"#fefecd\" stroke=\"transparent\" points=\"38,-200 38,-214 68,-214 68,-200 38,-200\"/>\n<polyline fill=\"none\" stroke=\"black\" points=\"68,-200 68,-214 \"/>\n<text text-anchor=\"start\" x=\"54\" y=\"-204.2\" font-family=\"Helvetica,sans-Serif\" font-size=\"11.00\" fill=\"#444443\">... </text>\n<polygon fill=\"#fefecd\" stroke=\"transparent\" points=\"68,-200 68,-214 202,-214 202,-200 68,-200\"/>\n<text text-anchor=\"start\" x=\"128.5\" y=\"-204.2\" font-family=\"Helvetica,sans-Serif\" font-size=\"11.00\" fill=\"#444443\"> ...</text>\n<polygon fill=\"#fefecd\" stroke=\"transparent\" points=\"38,-198 38,-200 202,-200 202,-198 38,-198\"/>\n<polygon fill=\"#fefecd\" stroke=\"transparent\" points=\"38,-184 38,-198 68,-198 68,-184 38,-184\"/>\n<polyline fill=\"none\" stroke=\"black\" points=\"68,-184 68,-198 \"/>\n<text text-anchor=\"start\" x=\"39\" y=\"-188.2\" font-family=\"Helvetica,sans-Serif\" font-size=\"11.00\" fill=\"#444443\">1535 </text>\n<polygon fill=\"#fefecd\" stroke=\"transparent\" points=\"68,-184 68,-198 202,-198 202,-184 68,-184\"/>\n<text text-anchor=\"start\" x=\"69\" y=\"-188.2\" font-family=\"Helvetica,sans-Serif\" font-size=\"11.00\" fill=\"#444443\"> &#39;&#45;0.02347095683217048...&#39;</text>\n</g>\n<!-- node135314205896384&#45;&gt;node135314772766400 -->\n<g id=\"edge6\" class=\"edge\">\n<title>node135314205896384:5&#45;&gt;node135314772766400:w</title>\n<path fill=\"none\" stroke=\"#444443\" stroke-width=\"0.5\" d=\"M14,-605C49.74,-605 2.76,-296.58 32.04,-272.49\"/>\n<polygon fill=\"#444443\" stroke=\"#444443\" stroke-width=\"0.5\" points=\"32.75,-273.72 36,-271 31.76,-271.1 32.75,-273.72\"/>\n</g>\n<!-- node135315027180544 -->\n<g id=\"node8\" class=\"node\">\n<title>node135315027180544</title>\n<polygon fill=\"none\" stroke=\"black\" stroke-width=\"0.5\" points=\"204,-176 36,-176 36,0 204,0 204,-176\"/>\n<polygon fill=\"#fefecd\" stroke=\"transparent\" points=\"37,-161 37,-175 67,-175 67,-161 37,-161\"/>\n<polyline fill=\"none\" stroke=\"black\" points=\"67,-161 67,-175 \"/>\n<text text-anchor=\"start\" x=\"56\" y=\"-165.2\" font-family=\"Helvetica,sans-Serif\" font-size=\"11.00\" fill=\"#444443\">0 </text>\n<polygon fill=\"#fefecd\" stroke=\"transparent\" points=\"67,-161 67,-175 203,-175 203,-161 67,-161\"/>\n<text text-anchor=\"start\" x=\"79\" y=\"-165.2\" font-family=\"Helvetica,sans-Serif\" font-size=\"11.00\" fill=\"#444443\"> &#45;0.0274227112531662</text>\n<polygon fill=\"#fefecd\" stroke=\"transparent\" points=\"37,-159 37,-161 203,-161 203,-159 37,-159\"/>\n<polygon fill=\"#fefecd\" stroke=\"transparent\" points=\"37,-145 37,-159 67,-159 67,-145 37,-145\"/>\n<polyline fill=\"none\" stroke=\"black\" points=\"67,-145 67,-159 \"/>\n<text text-anchor=\"start\" x=\"56\" y=\"-149.2\" font-family=\"Helvetica,sans-Serif\" font-size=\"11.00\" fill=\"#444443\">1 </text>\n<polygon fill=\"#fefecd\" stroke=\"transparent\" points=\"67,-145 67,-159 203,-159 203,-145 67,-145\"/>\n<text text-anchor=\"start\" x=\"77.5\" y=\"-149.2\" font-family=\"Helvetica,sans-Serif\" font-size=\"11.00\" fill=\"#444443\"> 0.01468995213508606</text>\n<polygon fill=\"#fefecd\" stroke=\"transparent\" points=\"37,-143 37,-145 203,-145 203,-143 37,-143\"/>\n<polygon fill=\"#fefecd\" stroke=\"transparent\" points=\"37,-129 37,-143 67,-143 67,-129 37,-129\"/>\n<polyline fill=\"none\" stroke=\"black\" points=\"67,-129 67,-143 \"/>\n<text text-anchor=\"start\" x=\"56\" y=\"-133.2\" font-family=\"Helvetica,sans-Serif\" font-size=\"11.00\" fill=\"#444443\">2 </text>\n<polygon fill=\"#fefecd\" stroke=\"transparent\" points=\"67,-129 67,-143 203,-143 203,-129 67,-129\"/>\n<text text-anchor=\"start\" x=\"77.5\" y=\"-133.2\" font-family=\"Helvetica,sans-Serif\" font-size=\"11.00\" fill=\"#444443\"> 0.05924361199140549</text>\n<polygon fill=\"#fefecd\" stroke=\"transparent\" points=\"37,-127 37,-129 203,-129 203,-127 37,-127\"/>\n<polygon fill=\"#fefecd\" stroke=\"transparent\" points=\"37,-113 37,-127 67,-127 67,-113 37,-113\"/>\n<polyline fill=\"none\" stroke=\"black\" points=\"67,-113 67,-127 \"/>\n<text text-anchor=\"start\" x=\"56\" y=\"-117.2\" font-family=\"Helvetica,sans-Serif\" font-size=\"11.00\" fill=\"#444443\">3 </text>\n<polygon fill=\"#fefecd\" stroke=\"transparent\" points=\"67,-113 67,-127 203,-127 203,-113 67,-113\"/>\n<text text-anchor=\"start\" x=\"74.5\" y=\"-117.2\" font-family=\"Helvetica,sans-Serif\" font-size=\"11.00\" fill=\"#444443\"> 0.016889046877622604</text>\n<polygon fill=\"#fefecd\" stroke=\"transparent\" points=\"37,-111 37,-113 203,-113 203,-111 37,-111\"/>\n<polygon fill=\"#fefecd\" stroke=\"transparent\" points=\"37,-97 37,-111 67,-111 67,-97 37,-97\"/>\n<polyline fill=\"none\" stroke=\"black\" points=\"67,-97 67,-111 \"/>\n<text text-anchor=\"start\" x=\"56\" y=\"-101.2\" font-family=\"Helvetica,sans-Serif\" font-size=\"11.00\" fill=\"#444443\">4 </text>\n<polygon fill=\"#fefecd\" stroke=\"transparent\" points=\"67,-97 67,-111 203,-111 203,-97 67,-97\"/>\n<text text-anchor=\"start\" x=\"77.5\" y=\"-101.2\" font-family=\"Helvetica,sans-Serif\" font-size=\"11.00\" fill=\"#444443\"> 0.08809573203325272</text>\n<polygon fill=\"#fefecd\" stroke=\"transparent\" points=\"37,-95 37,-97 203,-97 203,-95 37,-95\"/>\n<polygon fill=\"#fefecd\" stroke=\"transparent\" points=\"37,-81 37,-95 67,-95 67,-81 37,-81\"/>\n<polyline fill=\"none\" stroke=\"black\" points=\"67,-81 67,-95 \"/>\n<text text-anchor=\"start\" x=\"56\" y=\"-85.2\" font-family=\"Helvetica,sans-Serif\" font-size=\"11.00\" fill=\"#444443\">5 </text>\n<polygon fill=\"#fefecd\" stroke=\"transparent\" points=\"67,-81 67,-95 203,-95 203,-81 67,-81\"/>\n<text text-anchor=\"start\" x=\"69\" y=\"-85.2\" font-family=\"Helvetica,sans-Serif\" font-size=\"11.00\" fill=\"#444443\"> &#39;&#45;0.00154348963405936...&#39;</text>\n<polygon fill=\"#fefecd\" stroke=\"transparent\" points=\"37,-79 37,-81 203,-81 203,-79 37,-79\"/>\n<polygon fill=\"#fefecd\" stroke=\"transparent\" points=\"37,-65 37,-79 67,-79 67,-65 37,-65\"/>\n<polyline fill=\"none\" stroke=\"black\" points=\"67,-65 67,-79 \"/>\n<text text-anchor=\"start\" x=\"56\" y=\"-69.2\" font-family=\"Helvetica,sans-Serif\" font-size=\"11.00\" fill=\"#444443\">6 </text>\n<polygon fill=\"#fefecd\" stroke=\"transparent\" points=\"67,-65 67,-79 203,-79 203,-65 67,-65\"/>\n<text text-anchor=\"start\" x=\"76\" y=\"-69.2\" font-family=\"Helvetica,sans-Serif\" font-size=\"11.00\" fill=\"#444443\"> &#45;0.04316822811961174</text>\n<polygon fill=\"#fefecd\" stroke=\"transparent\" points=\"37,-63 37,-65 203,-65 203,-63 37,-63\"/>\n<polygon fill=\"#fefecd\" stroke=\"transparent\" points=\"37,-49 37,-63 67,-63 67,-49 37,-49\"/>\n<polyline fill=\"none\" stroke=\"black\" points=\"67,-49 67,-63 \"/>\n<text text-anchor=\"start\" x=\"56\" y=\"-53.2\" font-family=\"Helvetica,sans-Serif\" font-size=\"11.00\" fill=\"#444443\">7 </text>\n<polygon fill=\"#fefecd\" stroke=\"transparent\" points=\"67,-49 67,-63 203,-63 203,-49 67,-49\"/>\n<text text-anchor=\"start\" x=\"77.5\" y=\"-53.2\" font-family=\"Helvetica,sans-Serif\" font-size=\"11.00\" fill=\"#444443\"> 0.03573529049754143</text>\n<polygon fill=\"#fefecd\" stroke=\"transparent\" points=\"37,-47 37,-49 203,-49 203,-47 37,-47\"/>\n<polygon fill=\"#fefecd\" stroke=\"transparent\" points=\"37,-33 37,-47 67,-47 67,-33 37,-33\"/>\n<polyline fill=\"none\" stroke=\"black\" points=\"67,-33 67,-47 \"/>\n<text text-anchor=\"start\" x=\"56\" y=\"-37.2\" font-family=\"Helvetica,sans-Serif\" font-size=\"11.00\" fill=\"#444443\">8 </text>\n<polygon fill=\"#fefecd\" stroke=\"transparent\" points=\"67,-33 67,-47 203,-47 203,-33 67,-33\"/>\n<text text-anchor=\"start\" x=\"74.5\" y=\"-37.2\" font-family=\"Helvetica,sans-Serif\" font-size=\"11.00\" fill=\"#444443\"> 0.013700359500944614</text>\n<polygon fill=\"#fefecd\" stroke=\"transparent\" points=\"37,-31 37,-33 203,-33 203,-31 37,-31\"/>\n<polygon fill=\"#fefecd\" stroke=\"transparent\" points=\"37,-17 37,-31 67,-31 67,-17 37,-17\"/>\n<polyline fill=\"none\" stroke=\"black\" points=\"67,-17 67,-31 \"/>\n<text text-anchor=\"start\" x=\"53\" y=\"-21.2\" font-family=\"Helvetica,sans-Serif\" font-size=\"11.00\" fill=\"#444443\">... </text>\n<polygon fill=\"#fefecd\" stroke=\"transparent\" points=\"67,-17 67,-31 203,-31 203,-17 67,-17\"/>\n<text text-anchor=\"start\" x=\"128.5\" y=\"-21.2\" font-family=\"Helvetica,sans-Serif\" font-size=\"11.00\" fill=\"#444443\"> ...</text>\n<polygon fill=\"#fefecd\" stroke=\"transparent\" points=\"37,-15 37,-17 203,-17 203,-15 37,-15\"/>\n<polygon fill=\"#fefecd\" stroke=\"transparent\" points=\"37,-1 37,-15 67,-15 67,-1 37,-1\"/>\n<polyline fill=\"none\" stroke=\"black\" points=\"67,-1 67,-15 \"/>\n<text text-anchor=\"start\" x=\"38\" y=\"-5.2\" font-family=\"Helvetica,sans-Serif\" font-size=\"11.00\" fill=\"#444443\">1535 </text>\n<polygon fill=\"#fefecd\" stroke=\"transparent\" points=\"67,-1 67,-15 203,-15 203,-1 67,-1\"/>\n<text text-anchor=\"start\" x=\"68\" y=\"-5.2\" font-family=\"Helvetica,sans-Serif\" font-size=\"11.00\" fill=\"#444443\"> &#39;0.002627918263897299...&#39;</text>\n</g>\n<!-- node135314205896384&#45;&gt;node135315027180544 -->\n<g id=\"edge7\" class=\"edge\">\n<title>node135314205896384:6&#45;&gt;node135315027180544:w</title>\n<path fill=\"none\" stroke=\"#444443\" stroke-width=\"0.5\" d=\"M7,-580C7,-553.8 8.48,-127.12 32.61,-90.5\"/>\n<polygon fill=\"#444443\" stroke=\"#444443\" stroke-width=\"0.5\" points=\"33.61,-91.5 36,-88 31.95,-89.25 33.61,-91.5\"/>\n</g>\n</g>\n</svg>\n",
            "text/plain": [
              "<graphviz.sources.Source at 0x7b117c3e6d40>"
            ]
          },
          "metadata": {},
          "execution_count": 13
        }
      ],
      "source": [
        "# Note that there are 7 items in the list, each represents the embeddings (list of numerical values) for each of the inputs\n",
        "# Each embedding vector contains 1,536 numerical values that represent the original text\n",
        "# This cell uses the lolviz library to understand the response object, similar to the previous cells\n",
        "\n",
        "import lolviz\n",
        "lolviz.objviz(response)"
      ]
    },
    {
      "cell_type": "code",
      "execution_count": null,
      "id": "e9f74a2f",
      "metadata": {
        "id": "e9f74a2f",
        "outputId": "36b0d247-691d-4a0b-c331-b4fbf2cf26cf",
        "colab": {
          "base_uri": "https://localhost:8080/",
          "height": 447
        }
      },
      "outputs": [
        {
          "output_type": "execute_result",
          "data": {
            "text/plain": [
              "<Axes: >"
            ]
          },
          "metadata": {},
          "execution_count": 14
        },
        {
          "output_type": "display_data",
          "data": {
            "text/plain": [
              "<Figure size 640x480 with 1 Axes>"
            ],
            "image/png": "[encoded data removed]"
          },
          "metadata": {}
        }
      ],
      "source": [
        "# Due to the high dimensionality of the vectors, we can't easily visualize nor interpret them\n",
        "import seaborn as sns\n",
        "sns.lineplot(x=range(1536), y=response[0])"
      ]
    },
    {
      "cell_type": "markdown",
      "id": "f5a7df03-6a1a-46d6-bb59-aa564e748782",
      "metadata": {
        "id": "f5a7df03-6a1a-46d6-bb59-aa564e748782"
      },
      "source": [
        "## Visualize Embedding"
      ]
    },
    {
      "cell_type": "markdown",
      "id": "6402060c-e174-4c5f-8564-a14df5547d85",
      "metadata": {
        "id": "6402060c-e174-4c5f-8564-a14df5547d85"
      },
      "source": [
        "---"
      ]
    },
    {
      "cell_type": "markdown",
      "id": "de21b451-5953-4e5b-9192-c0dbbd9f42a5",
      "metadata": {
        "id": "de21b451-5953-4e5b-9192-c0dbbd9f42a5"
      },
      "source": [
        "### Understanding UMAP for Data Analysts\n",
        "\n",
        "- Uniform Manifold Approximation and Projection (UMAP) is a powerful dimensionality reduction technique that can be used to visualize high-dimensional data in a lower-dimensional space.\n",
        "- Unlike other dimensionality reduction techniques, UMAP preserves both the local and global structure of the data, making it an excellent tool for exploratory data analysis.\n",
        "\n",
        "### Using UMAP in Python\n",
        "\n",
        "The UMAP algorithm is implemented in the `umap-learn` package in Python. Here's a simple example of how to use it:\n",
        "\n",
        "---\n",
        "\n",
        "```python\n",
        "import umap\n",
        "import numpy as np\n",
        "\n",
        "# Assume embeddings is your high-dimensional data\n",
        "embeddings = np.random.rand(100, 50)\n",
        "\n",
        "reducer = umap.UMAP()\n",
        "umap_embeddings = reducer.fit_transform(embeddings)\n",
        "```\n",
        "\n",
        "---\n",
        "\n",
        "In this example, `umap.UMAP()` creates a UMAP object, and `fit_transform()` fits the model to the data and then transforms the data to a lower-dimensional representation. The result, `umap_embeddings`, is a 2D array of the lower-dimensional embeddings of your data.\n"
      ]
    },
    {
      "cell_type": "markdown",
      "id": "1c2939a4-4857-4cda-84a6-545ee60107bf",
      "metadata": {
        "id": "1c2939a4-4857-4cda-84a6-545ee60107bf"
      },
      "source": [
        "<br>\n",
        "\n",
        "---\n",
        "\n",
        "In this following example, we will use UMAP to visualize the 7 pieces of texts from the previous example"
      ]
    },
    {
      "cell_type": "code",
      "execution_count": null,
      "id": "44dc8898-eac1-4f75-99ed-c71e9bdbb71c",
      "metadata": {
        "ExecuteTime": {
          "end_time": "2024-04-18T10:07:33.930685Z",
          "start_time": "2024-04-18T10:07:01.618167Z"
        },
        "id": "44dc8898-eac1-4f75-99ed-c71e9bdbb71c"
      },
      "outputs": [],
      "source": [
        "import numpy as np\n",
        "import pandas as pd\n",
        "import umap # For compressing high-dimensional data (many columns) into lower-dimensional data (e.g. 2 columns)\n",
        "\n",
        "import matplotlib.pyplot as plt\n",
        "import seaborn as sns # For data visualization"
      ]
    },
    {
      "cell_type": "code",
      "execution_count": null,
      "id": "adba5580-ea80-4014-a25b-9b03ffc96a9b",
      "metadata": {
        "ExecuteTime": {
          "end_time": "2024-04-18T10:08:05.571378Z",
          "start_time": "2024-04-18T10:08:05.568660Z"
        },
        "id": "adba5580-ea80-4014-a25b-9b03ffc96a9b"
      },
      "outputs": [],
      "source": [
        "def get_projected_embeddings(embeddings, random_state=42):\n",
        "    reducer = umap.UMAP(random_state=random_state).fit(embeddings)\n",
        "    embeddings_2d_array = reducer.transform(embeddings)\n",
        "    return pd.DataFrame(embeddings_2d_array, columns=['x', 'y'])"
      ]
    },
    {
      "cell_type": "markdown",
      "id": "bc7529044dd3fce3",
      "metadata": {
        "id": "bc7529044dd3fce3"
      },
      "source": [
        "> 💡 Explanation for the cell above:\n",
        "> - `def get_projected_embeddings(embeddings, random_state=0):` This line defines the function and its parameters. The function takes in two arguments: embeddings (your high-dimensional data) and random_state (a seed for the random number generator, which ensures that the results are reproducible).  \n",
        "> - `reducer = umap.UMAP(random_state=random_state).fit(embeddings)` This line creates a UMAP object and fits it to your data. The fit method learns the structure of the data.  \n",
        "> - `embeddings_2d_array = reducer.transform(embeddings)` This line transforms the high-dimensional data into a lower-dimensional space. The transformed data is stored in embeddings_2d_array.  \n",
        "> - `return pd.DataFrame(embeddings_2d_array, columns=['x', 'y'])` This line converts the lower-dimensional data into a pandas DataFrame for easier manipulation and returns it. The DataFrame has two columns, 'x' and 'y', which represent the two dimensions of the reduced data."
      ]
    },
    {
      "cell_type": "code",
      "execution_count": null,
      "id": "e9fe0796-a56f-48bc-8d38-08eb1151c610",
      "metadata": {
        "ExecuteTime": {
          "end_time": "2024-04-18T10:10:35.339543Z",
          "start_time": "2024-04-18T10:10:31.247888Z"
        },
        "id": "e9fe0796-a56f-48bc-8d38-08eb1151c610",
        "outputId": "0bd8edf4-31d1-4214-b461-2132b6c83894",
        "colab": {
          "base_uri": "https://localhost:8080/",
          "height": 338
        }
      },
      "outputs": [
        {
          "output_type": "stream",
          "name": "stderr",
          "text": [
            "/usr/local/lib/python3.10/dist-packages/umap/umap_.py:1945: UserWarning: n_jobs value 1 overridden to 1 by setting random_state. Use no seed for parallelism.\n",
            "  warn(f\"n_jobs value {self.n_jobs} overridden to 1 by setting random_state. Use no seed for parallelism.\")\n",
            "/usr/local/lib/python3.10/dist-packages/umap/umap_.py:2437: UserWarning: n_neighbors is larger than the dataset size; truncating to X.shape[0] - 1\n",
            "  warn(\n"
          ]
        },
        {
          "output_type": "execute_result",
          "data": {
            "text/plain": [
              "          x         y                                               text\n",
              "0  5.271393  5.707487           Flamingo spotted at the in the bird park\n",
              "1  5.603629  6.498158          Sea otter seen playing at the marine park\n",
              "2  6.066615  6.018225                    Baby panda born at the city zoo\n",
              "3  7.163785  4.859038  Python developers prefer snake_case for variab...\n",
              "4  7.639285  6.099037   New JavaScript framework aims to simplify coding\n",
              "5  7.064502  5.682024         C++ developers appreciate the power of OOP\n",
              "6  7.880888  5.249054  Java is a popular choice for enterprise applic..."
            ],
            "text/html": [
              "\n",
              "  <div id=\"df-2e8b2f0e-f8ee-4cea-aa59-d93302894dcd\" class=\"colab-df-container\">\n",
              "    <div>\n",
              "<style scoped>\n",
              "    .dataframe tbody tr th:only-of-type {\n",
              "        vertical-align: middle;\n",
              "    }\n",
              "\n",
              "    .dataframe tbody tr th {\n",
              "        vertical-align: top;\n",
              "    }\n",
              "\n",
              "    .dataframe thead th {\n",
              "        text-align: right;\n",
              "    }\n",
              "</style>\n",
              "<table border=\"1\" class=\"dataframe\">\n",
              "  <thead>\n",
              "    <tr style=\"text-align: right;\">\n",
              "      <th></th>\n",
              "      <th>x</th>\n",
              "      <th>y</th>\n",
              "      <th>text</th>\n",
              "    </tr>\n",
              "  </thead>\n",
              "  <tbody>\n",
              "    <tr>\n",
              "      <th>0</th>\n",
              "      <td>5.271393</td>\n",
              "      <td>5.707487</td>\n",
              "      <td>Flamingo spotted at the in the bird park</td>\n",
              "    </tr>\n",
              "    <tr>\n",
              "      <th>1</th>\n",
              "      <td>5.603629</td>\n",
              "      <td>6.498158</td>\n",
              "      <td>Sea otter seen playing at the marine park</td>\n",
              "    </tr>\n",
              "    <tr>\n",
              "      <th>2</th>\n",
              "      <td>6.066615</td>\n",
              "      <td>6.018225</td>\n",
              "      <td>Baby panda born at the city zoo</td>\n",
              "    </tr>\n",
              "    <tr>\n",
              "      <th>3</th>\n",
              "      <td>7.163785</td>\n",
              "      <td>4.859038</td>\n",
              "      <td>Python developers prefer snake_case for variab...</td>\n",
              "    </tr>\n",
              "    <tr>\n",
              "      <th>4</th>\n",
              "      <td>7.639285</td>\n",
              "      <td>6.099037</td>\n",
              "      <td>New JavaScript framework aims to simplify coding</td>\n",
              "    </tr>\n",
              "    <tr>\n",
              "      <th>5</th>\n",
              "      <td>7.064502</td>\n",
              "      <td>5.682024</td>\n",
              "      <td>C++ developers appreciate the power of OOP</td>\n",
              "    </tr>\n",
              "    <tr>\n",
              "      <th>6</th>\n",
              "      <td>7.880888</td>\n",
              "      <td>5.249054</td>\n",
              "      <td>Java is a popular choice for enterprise applic...</td>\n",
              "    </tr>\n",
              "  </tbody>\n",
              "</table>\n",
              "</div>\n",
              "    <div class=\"colab-df-buttons\">\n",
              "\n",
              "  <div class=\"colab-df-container\">\n",
              "    <button class=\"colab-df-convert\" onclick=\"convertToInteractive('df-2e8b2f0e-f8ee-4cea-aa59-d93302894dcd')\"\n",
              "            title=\"Convert this dataframe to an interactive table.\"\n",
              "            style=\"display:none;\">\n",
              "\n",
              "  <svg xmlns=\"http://www.w3.org/2000/svg\" height=\"24px\" viewBox=\"0 -960 960 960\">\n",
              "    <path d=\"M120-120v-720h720v720H120Zm60-500h600v-160H180v160Zm220 220h160v-160H400v160Zm0 220h160v-160H400v160ZM180-400h160v-160H180v160Zm440 0h160v-160H620v160ZM180-180h160v-160H180v160Zm440 0h160v-160H620v160Z\"/>\n",
              "  </svg>\n",
              "    </button>\n",
              "\n",
              "  <style>\n",
              "    .colab-df-container {\n",
              "      display:flex;\n",
              "      gap: 12px;\n",
              "    }\n",
              "\n",
              "    .colab-df-convert {\n",
              "      background-color: #E8F0FE;\n",
              "      border: none;\n",
              "      border-radius: 50%;\n",
              "      cursor: pointer;\n",
              "      display: none;\n",
              "      fill: #1967D2;\n",
              "      height: 32px;\n",
              "      padding: 0 0 0 0;\n",
              "      width: 32px;\n",
              "    }\n",
              "\n",
              "    .colab-df-convert:hover {\n",
              "      background-color: #E2EBFA;\n",
              "      box-shadow: 0px 1px 2px rgba(60, 64, 67, 0.3), 0px 1px 3px 1px rgba(60, 64, 67, 0.15);\n",
              "      fill: #174EA6;\n",
              "    }\n",
              "\n",
              "    .colab-df-buttons div {\n",
              "      margin-bottom: 4px;\n",
              "    }\n",
              "\n",
              "    [theme=dark] .colab-df-convert {\n",
              "      background-color: #3B4455;\n",
              "      fill: #D2E3FC;\n",
              "    }\n",
              "\n",
              "    [theme=dark] .colab-df-convert:hover {\n",
              "      background-color: #434B5C;\n",
              "      box-shadow: 0px 1px 3px 1px rgba(0, 0, 0, 0.15);\n",
              "      filter: drop-shadow(0px 1px 2px rgba(0, 0, 0, 0.3));\n",
              "      fill: #FFFFFF;\n",
              "    }\n",
              "  </style>\n",
              "\n",
              "    <script>\n",
              "      const buttonEl =\n",
              "        document.querySelector('#df-2e8b2f0e-f8ee-4cea-aa59-d93302894dcd button.colab-df-convert');\n",
              "      buttonEl.style.display =\n",
              "        google.colab.kernel.accessAllowed ? 'block' : 'none';\n",
              "\n",
              "      async function convertToInteractive(key) {\n",
              "        const element = document.querySelector('#df-2e8b2f0e-f8ee-4cea-aa59-d93302894dcd');\n",
              "        const dataTable =\n",
              "          await google.colab.kernel.invokeFunction('convertToInteractive',\n",
              "                                                    [key], {});\n",
              "        if (!dataTable) return;\n",
              "\n",
              "        const docLinkHtml = 'Like what you see? Visit the ' +\n",
              "          '<a target=\"_blank\" href=https://colab.research.google.com/notebooks/data_table.ipynb>data table notebook</a>'\n",
              "          + ' to learn more about interactive tables.';\n",
              "        element.innerHTML = '';\n",
              "        dataTable['output_type'] = 'display_data';\n",
              "        await google.colab.output.renderOutput(dataTable, element);\n",
              "        const docLink = document.createElement('div');\n",
              "        docLink.innerHTML = docLinkHtml;\n",
              "        element.appendChild(docLink);\n",
              "      }\n",
              "    </script>\n",
              "  </div>\n",
              "\n",
              "\n",
              "<div id=\"df-63e5917d-f80e-4ad2-9180-311ba727c725\">\n",
              "  <button class=\"colab-df-quickchart\" onclick=\"quickchart('df-63e5917d-f80e-4ad2-9180-311ba727c725')\"\n",
              "            title=\"Suggest charts\"\n",
              "            style=\"display:none;\">\n",
              "\n",
              "<svg xmlns=\"http://www.w3.org/2000/svg\" height=\"24px\"viewBox=\"0 0 24 24\"\n",
              "     width=\"24px\">\n",
              "    <g>\n",
              "        <path d=\"M19 3H5c-1.1 0-2 .9-2 2v14c0 1.1.9 2 2 2h14c1.1 0 2-.9 2-2V5c0-1.1-.9-2-2-2zM9 17H7v-7h2v7zm4 0h-2V7h2v10zm4 0h-2v-4h2v4z\"/>\n",
              "    </g>\n",
              "</svg>\n",
              "  </button>\n",
              "\n",
              "<style>\n",
              "  .colab-df-quickchart {\n",
              "      --bg-color: #E8F0FE;\n",
              "      --fill-color: #1967D2;\n",
              "      --hover-bg-color: #E2EBFA;\n",
              "      --hover-fill-color: #174EA6;\n",
              "      --disabled-fill-color: #AAA;\n",
              "      --disabled-bg-color: #DDD;\n",
              "  }\n",
              "\n",
              "  [theme=dark] .colab-df-quickchart {\n",
              "      --bg-color: #3B4455;\n",
              "      --fill-color: #D2E3FC;\n",
              "      --hover-bg-color: #434B5C;\n",
              "      --hover-fill-color: #FFFFFF;\n",
              "      --disabled-bg-color: #3B4455;\n",
              "      --disabled-fill-color: #666;\n",
              "  }\n",
              "\n",
              "  .colab-df-quickchart {\n",
              "    background-color: var(--bg-color);\n",
              "    border: none;\n",
              "    border-radius: 50%;\n",
              "    cursor: pointer;\n",
              "    display: none;\n",
              "    fill: var(--fill-color);\n",
              "    height: 32px;\n",
              "    padding: 0;\n",
              "    width: 32px;\n",
              "  }\n",
              "\n",
              "  .colab-df-quickchart:hover {\n",
              "    background-color: var(--hover-bg-color);\n",
              "    box-shadow: 0 1px 2px rgba(60, 64, 67, 0.3), 0 1px 3px 1px rgba(60, 64, 67, 0.15);\n",
              "    fill: var(--button-hover-fill-color);\n",
              "  }\n",
              "\n",
              "  .colab-df-quickchart-complete:disabled,\n",
              "  .colab-df-quickchart-complete:disabled:hover {\n",
              "    background-color: var(--disabled-bg-color);\n",
              "    fill: var(--disabled-fill-color);\n",
              "    box-shadow: none;\n",
              "  }\n",
              "\n",
              "  .colab-df-spinner {\n",
              "    border: 2px solid var(--fill-color);\n",
              "    border-color: transparent;\n",
              "    border-bottom-color: var(--fill-color);\n",
              "    animation:\n",
              "      spin 1s steps(1) infinite;\n",
              "  }\n",
              "\n",
              "  @keyframes spin {\n",
              "    0% {\n",
              "      border-color: transparent;\n",
              "      border-bottom-color: var(--fill-color);\n",
              "      border-left-color: var(--fill-color);\n",
              "    }\n",
              "    20% {\n",
              "      border-color: transparent;\n",
              "      border-left-color: var(--fill-color);\n",
              "      border-top-color: var(--fill-color);\n",
              "    }\n",
              "    30% {\n",
              "      border-color: transparent;\n",
              "      border-left-color: var(--fill-color);\n",
              "      border-top-color: var(--fill-color);\n",
              "      border-right-color: var(--fill-color);\n",
              "    }\n",
              "    40% {\n",
              "      border-color: transparent;\n",
              "      border-right-color: var(--fill-color);\n",
              "      border-top-color: var(--fill-color);\n",
              "    }\n",
              "    60% {\n",
              "      border-color: transparent;\n",
              "      border-right-color: var(--fill-color);\n",
              "    }\n",
              "    80% {\n",
              "      border-color: transparent;\n",
              "      border-right-color: var(--fill-color);\n",
              "      border-bottom-color: var(--fill-color);\n",
              "    }\n",
              "    90% {\n",
              "      border-color: transparent;\n",
              "      border-bottom-color: var(--fill-color);\n",
              "    }\n",
              "  }\n",
              "</style>\n",
              "\n",
              "  <script>\n",
              "    async function quickchart(key) {\n",
              "      const quickchartButtonEl =\n",
              "        document.querySelector('#' + key + ' button');\n",
              "      quickchartButtonEl.disabled = true;  // To prevent multiple clicks.\n",
              "      quickchartButtonEl.classList.add('colab-df-spinner');\n",
              "      try {\n",
              "        const charts = await google.colab.kernel.invokeFunction(\n",
              "            'suggestCharts', [key], {});\n",
              "      } catch (error) {\n",
              "        console.error('Error during call to suggestCharts:', error);\n",
              "      }\n",
              "      quickchartButtonEl.classList.remove('colab-df-spinner');\n",
              "      quickchartButtonEl.classList.add('colab-df-quickchart-complete');\n",
              "    }\n",
              "    (() => {\n",
              "      let quickchartButtonEl =\n",
              "        document.querySelector('#df-63e5917d-f80e-4ad2-9180-311ba727c725 button');\n",
              "      quickchartButtonEl.style.display =\n",
              "        google.colab.kernel.accessAllowed ? 'block' : 'none';\n",
              "    })();\n",
              "  </script>\n",
              "</div>\n",
              "\n",
              "  <div id=\"id_6ff851fe-7f1e-4f4c-9206-efd6887de35d\">\n",
              "    <style>\n",
              "      .colab-df-generate {\n",
              "        background-color: #E8F0FE;\n",
              "        border: none;\n",
              "        border-radius: 50%;\n",
              "        cursor: pointer;\n",
              "        display: none;\n",
              "        fill: #1967D2;\n",
              "        height: 32px;\n",
              "        padding: 0 0 0 0;\n",
              "        width: 32px;\n",
              "      }\n",
              "\n",
              "      .colab-df-generate:hover {\n",
              "        background-color: #E2EBFA;\n",
              "        box-shadow: 0px 1px 2px rgba(60, 64, 67, 0.3), 0px 1px 3px 1px rgba(60, 64, 67, 0.15);\n",
              "        fill: #174EA6;\n",
              "      }\n",
              "\n",
              "      [theme=dark] .colab-df-generate {\n",
              "        background-color: #3B4455;\n",
              "        fill: #D2E3FC;\n",
              "      }\n",
              "\n",
              "      [theme=dark] .colab-df-generate:hover {\n",
              "        background-color: #434B5C;\n",
              "        box-shadow: 0px 1px 3px 1px rgba(0, 0, 0, 0.15);\n",
              "        filter: drop-shadow(0px 1px 2px rgba(0, 0, 0, 0.3));\n",
              "        fill: #FFFFFF;\n",
              "      }\n",
              "    </style>\n",
              "    <button class=\"colab-df-generate\" onclick=\"generateWithVariable('projected_embeddings')\"\n",
              "            title=\"Generate code using this dataframe.\"\n",
              "            style=\"display:none;\">\n",
              "\n",
              "  <svg xmlns=\"http://www.w3.org/2000/svg\" height=\"24px\"viewBox=\"0 0 24 24\"\n",
              "       width=\"24px\">\n",
              "    <path d=\"M7,19H8.4L18.45,9,17,7.55,7,17.6ZM5,21V16.75L18.45,3.32a2,2,0,0,1,2.83,0l1.4,1.43a1.91,1.91,0,0,1,.58,1.4,1.91,1.91,0,0,1-.58,1.4L9.25,21ZM18.45,9,17,7.55Zm-12,3A5.31,5.31,0,0,0,4.9,8.1,5.31,5.31,0,0,0,1,6.5,5.31,5.31,0,0,0,4.9,4.9,5.31,5.31,0,0,0,6.5,1,5.31,5.31,0,0,0,8.1,4.9,5.31,5.31,0,0,0,12,6.5,5.46,5.46,0,0,0,6.5,12Z\"/>\n",
              "  </svg>\n",
              "    </button>\n",
              "    <script>\n",
              "      (() => {\n",
              "      const buttonEl =\n",
              "        document.querySelector('#id_6ff851fe-7f1e-4f4c-9206-efd6887de35d button.colab-df-generate');\n",
              "      buttonEl.style.display =\n",
              "        google.colab.kernel.accessAllowed ? 'block' : 'none';\n",
              "\n",
              "      buttonEl.onclick = () => {\n",
              "        google.colab.notebook.generateWithVariable('projected_embeddings');\n",
              "      }\n",
              "      })();\n",
              "    </script>\n",
              "  </div>\n",
              "\n",
              "    </div>\n",
              "  </div>\n"
            ],
            "application/vnd.google.colaboratory.intrinsic+json": {
              "type": "dataframe",
              "variable_name": "projected_embeddings",
              "summary": "{\n  \"name\": \"projected_embeddings\",\n  \"rows\": 7,\n  \"fields\": [\n    {\n      \"column\": \"x\",\n      \"properties\": {\n        \"dtype\": \"float32\",\n        \"num_unique_values\": 7,\n        \"samples\": [\n          5.271393299102783,\n          5.603629112243652,\n          7.064502239227295\n        ],\n        \"semantic_type\": \"\",\n        \"description\": \"\"\n      }\n    },\n    {\n      \"column\": \"y\",\n      \"properties\": {\n        \"dtype\": \"float32\",\n        \"num_unique_values\": 7,\n        \"samples\": [\n          5.707487106323242,\n          6.498157978057861,\n          5.682023525238037\n        ],\n        \"semantic_type\": \"\",\n        \"description\": \"\"\n      }\n    },\n    {\n      \"column\": \"text\",\n      \"properties\": {\n        \"dtype\": \"string\",\n        \"num_unique_values\": 7,\n        \"samples\": [\n          \"Flamingo spotted at the in the bird park\",\n          \"Sea otter seen playing at the marine park\",\n          \"C++ developers appreciate the power of OOP\"\n        ],\n        \"semantic_type\": \"\",\n        \"description\": \"\"\n      }\n    }\n  ]\n}"
            }
          },
          "metadata": {},
          "execution_count": 17
        }
      ],
      "source": [
        "# Get the embeddings in a DataFrame object\n",
        "projected_embeddings = get_projected_embeddings(response)\n",
        "\n",
        "# Insert a new column to store the original texts\n",
        "projected_embeddings['text'] = list_of_input_texts\n",
        "\n",
        "projected_embeddings"
      ]
    },
    {
      "cell_type": "code",
      "execution_count": null,
      "id": "5fd93637-e5c9-4f06-a633-4056c99dcec3",
      "metadata": {
        "ExecuteTime": {
          "end_time": "2024-04-18T10:10:46.570755Z",
          "start_time": "2024-04-18T10:10:45.970489Z"
        },
        "id": "5fd93637-e5c9-4f06-a633-4056c99dcec3",
        "scrolled": true,
        "outputId": "aea94793-057e-457b-e9c0-2d9ba6585261",
        "colab": {
          "base_uri": "https://localhost:8080/",
          "height": 449
        }
      },
      "outputs": [
        {
          "output_type": "display_data",
          "data": {
            "text/plain": [
              "<Figure size 640x480 with 1 Axes>"
            ],
            "image/png": "[encoded data removed]"
          },
          "metadata": {}
        }
      ],
      "source": [
        "# Create the Scatter plot that visualize the locations of the embeddings in the number space (commonly known as \"vector space\")\n",
        "sns.scatterplot(x=projected_embeddings['x'], y=projected_embeddings['y'])\n",
        "\n",
        "# Add labels to each point\n",
        "for i in range(projected_embeddings.shape[0]):\n",
        "    plt.text(x=projected_embeddings.loc[i, 'x'],\n",
        "             y=projected_embeddings.loc[i, 'y'],\n",
        "             s=projected_embeddings.loc[i, 'text'],\n",
        "             fontsize='x-small')"
      ]
    },
    {
      "cell_type": "markdown",
      "id": "88c763db-f8fc-453c-b3c5-d8de4173209d",
      "metadata": {
        "id": "88c763db-f8fc-453c-b3c5-d8de4173209d"
      },
      "source": [
        "- Observe the distances between the different texts\n",
        "  - Although the text starts with *\"Python developers prefer snake_case for variable naming\"*, contains two animals, the embedding is further away from the three data points that truly focus about the \"real\" animals.\n",
        "  - It is closer to the other data points that are focusing on programming/coding\n"
      ]
    },
    {
      "cell_type": "markdown",
      "id": "88fafc46-68d9-4d76-80fa-e364fc5a5650",
      "metadata": {
        "id": "88fafc46-68d9-4d76-80fa-e364fc5a5650"
      },
      "source": [
        "---"
      ]
    },
    {
      "cell_type": "markdown",
      "id": "95a34587-c504-4de6-b322-a315b79f8a9a",
      "metadata": {
        "id": "95a34587-c504-4de6-b322-a315b79f8a9a"
      },
      "source": [
        "\n",
        "### Understanding Cosine Similarity for LLM Embeddings"
      ]
    },
    {
      "cell_type": "markdown",
      "id": "c6e05896-f5d4-458b-b953-7b1c5cccedfd",
      "metadata": {
        "id": "c6e05896-f5d4-458b-b953-7b1c5cccedfd"
      },
      "source": [
        "Cosine similarity is a metric used to measure how similar two vectors are, irrespective of their size. It's widely used in natural language processing to calculate the similarity between text documents represented as vector embeddings, such as those produced by Language Learning Models (LLMs).\n",
        "\n",
        "The cosine similarity between two vectors is calculated as the cosine of the angle between them.\n",
        "- If the vectors are identical, the angle is 0 and the cosine similarity is 1.\n",
        "- If the vectors are orthogonal, the angle is 90 degrees and the cosine similarity is 0, indicating no similarity.\n",
        "\n",
        "Cosine similarity is particularly useful for LLM embeddings because it effectively captures the semantic similarity between text documents. It's robust to the high dimensionality of LLM embeddings and is relatively efficient to compute, making it a popular choice for measuring the distance between LLM embeddings\n"
      ]
    },
    {
      "cell_type": "markdown",
      "id": "683c05f1-8205-48d5-9424-fc62e6f88541",
      "metadata": {
        "id": "683c05f1-8205-48d5-9424-fc62e6f88541"
      },
      "source": [
        "---\n",
        "---\n",
        "<br>"
      ]
    },
    {
      "cell_type": "markdown",
      "id": "5b61200f-df27-4a09-8263-56b9a430cf2c",
      "metadata": {
        "id": "5b61200f-df27-4a09-8263-56b9a430cf2c"
      },
      "source": [
        "# Setting up Credentials for langchain\n",
        "---"
      ]
    },
    {
      "cell_type": "markdown",
      "id": "5345ec3e-d2ee-43b3-a8c5-1166af6e2ec3",
      "metadata": {
        "id": "5345ec3e-d2ee-43b3-a8c5-1166af6e2ec3"
      },
      "source": [
        "We will be using `Langchain` for our Use Cases in the next section.\n",
        "- The code cell below is to set up the credentials (i.e., the OPENAI API KEY) to allow `Langchain` to use OpenAI API Endpoints,\n",
        "such as the `ChatCompletion` and `Embedding`.\n",
        "- This also means that we will not directly use OpenAI's SDK in some of the use cases below.\n",
        "- `Langchain`'s components like those `retriever` (that we discussed in the Knowledge Base) will handle the API calls to OpenAI's API endpoints automatically. All we need to do is to specify the `API_KEY` as required by Langchain, as indicated in the cell below.\n",
        "- This way of providing credentials is called `environment variable assignment` or `setting environment variable`\n",
        "- Specifically, it sets the value of the environment variable named `OPENAI_API_KEY` to the value stored in the Python variable `API_KEY` (we entered earlier in this notebook).\n",
        "- Environment variables are used to configure and customize the behavior of software applications by allowing them to access external settings or secrets without hardcoding them directly into the code.\n",
        "- We will learn more about setting the credentials  more efficiency and securly in later part of our training.\n"
      ]
    },
    {
      "cell_type": "code",
      "execution_count": null,
      "id": "67cbb04f-6064-459e-8e82-edb394d8f473",
      "metadata": {
        "id": "67cbb04f-6064-459e-8e82-edb394d8f473"
      },
      "outputs": [],
      "source": [
        "import os\n",
        "\n",
        "os.environ[\"OPENAI_API_KEY\"] = API_KEY"
      ]
    },
    {
      "cell_type": "markdown",
      "id": "3c839ecb-894a-44b8-81b5-3d04a5ab6f83",
      "metadata": {
        "id": "3c839ecb-894a-44b8-81b5-3d04a5ab6f83",
        "jp-MarkdownHeadingCollapsed": true
      },
      "source": [
        "---\n",
        "---\n",
        "\n",
        "<br>"
      ]
    },
    {
      "cell_type": "markdown",
      "id": "6237d78e-11a9-4bc7-846b-fb3b80493719",
      "metadata": {
        "id": "6237d78e-11a9-4bc7-846b-fb3b80493719"
      },
      "source": [
        "# Use Cases of Embeddings\n",
        "---"
      ]
    },
    {
      "cell_type": "markdown",
      "id": "e5c90f1c-3eba-4185-a6f4-200434fd9a11",
      "metadata": {
        "id": "e5c90f1c-3eba-4185-a6f4-200434fd9a11"
      },
      "source": [
        "## Use Case #1: Semantic Search & Recommendation System"
      ]
    },
    {
      "cell_type": "markdown",
      "id": "2c135ee0-b0bc-4f3a-85c7-a7efcd7f758d",
      "metadata": {
        "id": "2c135ee0-b0bc-4f3a-85c7-a7efcd7f758d"
      },
      "source": [
        "### Understanding Keyword Retrieval and Dense Retrieval"
      ]
    },
    {
      "cell_type": "markdown",
      "id": "e45cdd84-7cb9-4289-ae72-442e02625a78",
      "metadata": {
        "id": "e45cdd84-7cb9-4289-ae72-442e02625a78"
      },
      "source": [
        "- Keyword retrieval and dense retrieval are two different methods used in information retrieval systems.\n",
        "\n",
        "- **Keyword Retrieval**:\n",
        "    - Keyword retrieval, also known as sparse retrieval, is a traditional method of information retrieval.\n",
        "    - It involves matching the exact keywords in the query with the documents in the database.\n",
        "    - This method is simple and explainable, but it has some limitations\n",
        "    - It doesn’t fully capture the semantics of each term in the context of the whole text.\n",
        "    - It may not perform well when the query words do not exactly match the words in the document.\n",
        "- **Dense Retrieval (or Semantic Search)**:\n",
        "    - Dense retrieval, on the other hand, uses dense vector representations (embeddings) of the text to capture the deep semantic relationship between queries and documents.\n",
        "    - These vectors are usually generated by neural networks, particularly transformer-based models.\n",
        "    - This method shows a huge improvement over keyword search as it captures the semantics of the text1. However, it’s more complex and computationally intensive than keyword retrieval.\n",
        "\n",
        "<br>\n",
        "    \n",
        "- Here are the key differences between the two methods:\n",
        "    - **Semantics**: Dense retrieval captures the semantics of the text, while keyword retrieval does not.\n",
        "    - **Matching**: Keyword retrieval relies on exact keyword matching, while dense retrieval uses semantic matching.\n",
        "    - **Performance**: Dense retrieval generally outperforms keyword retrieval, especially when the query words do not exactly match the words in the document.\n",
        "    - **Complexity**: Dense retrieval is more complex and computationally intensive than keyword retrieval"
      ]
    },
    {
      "cell_type": "markdown",
      "id": "02000dcd-fc56-4dcb-ba09-ebd08fe0f071",
      "metadata": {
        "id": "02000dcd-fc56-4dcb-ba09-ebd08fe0f071"
      },
      "source": [
        "[Reference for Products - https://www.developer.tech.gov.sg/products/all-products/](https://www.developer.tech.gov.sg/products/all-products/)"
      ]
    },
    {
      "cell_type": "code",
      "execution_count": null,
      "id": "9d451814-1478-4abf-9d33-1d1debe4216d",
      "metadata": {
        "id": "9d451814-1478-4abf-9d33-1d1debe4216d"
      },
      "outputs": [],
      "source": [
        "# The variable `corpus`  contains a list of documents (text data).\n",
        "# We are using the products & services from Reference https://www.developer.tech.gov.sg/products/all-products/\n",
        "corpus = [\n",
        "    'Cybersecurity. AI Document Parser (AISAY) – An AI-Powered Document Reader and Transcription API Service. AISAY is an AI-Powered Document Reader and Transcription API Service for public officers. Learn more here!',\n",
        "    'Analytics. Analytics.gov – Enabling Data Exploitation for Whole-of-Government (WOG). Analytics.gov is a Whole-Of-Government (WOG) data exploitation platform to support the analysis of data by agencies.',\n",
        "    'Productivity. Cloak – The Central Privacy Toolkit for Policy-Compliant Data Anonymisation. Cloak helps public officers to anonymise sensitive data based on public sector guidelines through a one-stop, self-service web application. Learn more here!',\n",
        "    'DevOps. Container Stack (CStack) – Managed Platform for Apps using Kubernetes. Container Stack is a cloud-based container hosting platform and a Runtime component within Singapore Government Tech Stack.',\n",
        "    'Data and APIs. Data.gov.sg — The One-Stop Open Data Portal for Publicly Available Singapore Government Datasets. Learn from Data.gov.sg, Singapore’s one-stop open data portal offering government datasets. Dive in now!',\n",
        "    'Analytics. GovText – The Whole-of-Government Text Analytics Platform. Analyse your textual data efficiently with the GovText Natural Language Processing (NLP) platform for WOG. Discover more!',\n",
        "    'Data and APIs. Monetary Authority of Singapore (MAS) APIs - Streamlining of Financial Applications through Data. The Monetary Authority of Singapore (MAS) provides APIs for developers, allowing MAS’ applications to be streamlined.',\n",
        "    'Analytics. Whole-of-Government Application Analytics (WOGAA) - Improve Government Services with Data. WOGAA is an analytics & performance platform for public officers to monitor the health of their government websites and optimise the performance of their digital services with data.',\n",
        "    'Data and APIs. Vault - A Central Data Discovery and Distribution Platform for WOG Vault is a platform where government data is consolidated, organised and made discoverable for public servants to explore, search and securely access.',\n",
        "    'Productivity. Transcribe provides auto-transcription and localised Speech-to-Text services for Singapore government officers.',\n",
        "    'Data and APIs. SingStat Table Builder. The SingStat Table Builder contains over 1,800 statistical data tables from 60 public sector agencies providing a comprehensive statistical view of Singapore’s economic and socio-demographic characteristics.',\n",
        "    'Productivity. Postman — Deliver Messages to Citizens in Minutes. Postman is a multichannel cloud-based service for Singapore government agencies to send mass personalized messages in minutes.',\n",
        "]"
      ]
    },
    {
      "cell_type": "markdown",
      "id": "119034ab-42fe-4eb7-b402-402369b30c40",
      "metadata": {
        "id": "119034ab-42fe-4eb7-b402-402369b30c40"
      },
      "source": [
        "#### Keywords Retrieval"
      ]
    },
    {
      "cell_type": "code",
      "execution_count": null,
      "id": "ae178dbd-1031-471c-9a9c-b92e05df0585",
      "metadata": {
        "id": "ae178dbd-1031-471c-9a9c-b92e05df0585"
      },
      "outputs": [],
      "source": [
        "# This library provides an implementation of the BM25 algorithm,\n",
        "# which is commonly used for information retrieval and text search\n",
        "from rank_bm25 import BM25Okapi\n",
        "\n",
        "# Tokenizes each document in the corpus\n",
        "# by splitting it into individual words based on spaces.\n",
        "tokenized_corpus = [doc.split(\" \") for doc in corpus]\n",
        "\n",
        "# Initialize BM25\n",
        "# The BM25Okapi model is now ready to compute relevance scores for queries against this corpus.\n",
        "bm25 = BM25Okapi(tokenized_corpus)"
      ]
    },
    {
      "cell_type": "code",
      "execution_count": null,
      "id": "78873b2c-a849-4ff9-a4e7-4a4903661302",
      "metadata": {
        "id": "78873b2c-a849-4ff9-a4e7-4a4903661302",
        "outputId": "03f5326f-9a5b-410e-e09d-03a3c7e58d57",
        "colab": {
          "base_uri": "https://localhost:8080/"
        }
      },
      "outputs": [
        {
          "output_type": "stream",
          "name": "stdout",
          "text": [
            "[0.         2.17167558 0.         0.         0.         0.\n",
            " 0.         0.         0.         0.         0.         0.        ]\n"
          ]
        }
      ],
      "source": [
        "# Now let's say we have the following query\n",
        "query = \"Data exploitation\"\n",
        "\n",
        "# The query is tokenized into individual words: tokenized_query = query.split(\" \")\n",
        "# The query must be tokenized in the same way as the corpus (list of input documents)\n",
        "tokenized_query = query.split(\" \")\n",
        "\n",
        "# Computes BM25 scores for each document in the corpus based on the query.\n",
        "doc_scores = bm25.get_scores(tokenized_query)\n",
        "\n",
        "# Print the list of relevance scores corresponding to each document.\n",
        "# It's  a position (index) based listing of the score,\n",
        "# based on the original order of the text in our `corpus` variable\n",
        "print(doc_scores)"
      ]
    },
    {
      "cell_type": "code",
      "execution_count": null,
      "id": "ed51c053-7513-4cce-86de-f4d137945e66",
      "metadata": {
        "id": "ed51c053-7513-4cce-86de-f4d137945e66",
        "outputId": "0cfabda5-4341-484c-af65-4daf082cc61a",
        "colab": {
          "base_uri": "https://localhost:8080/",
          "height": 52
        }
      },
      "outputs": [
        {
          "output_type": "execute_result",
          "data": {
            "text/plain": [
              "'Analytics. Analytics.gov – Enabling Data Exploitation for Whole-of-Government (WOG). Analytics.gov is a Whole-Of-Government (WOG) data exploitation platform to support the analysis of data by agencies.'"
            ],
            "application/vnd.google.colaboratory.intrinsic+json": {
              "type": "string"
            }
          },
          "metadata": {},
          "execution_count": 23
        }
      ],
      "source": [
        "# Finding the Most Relevant Document:\n",
        "import numpy as np\n",
        "x = np.array(doc_scores)\n",
        "\n",
        "# The argmax() function returns the index of the maximum value in the array.\n",
        "# This line use \"indexing\" apprach to retrieve the most relevant document\n",
        "# from the original corpus based on the highest BM25 scores.\n",
        "corpus[x.argmax()]"
      ]
    },
    {
      "cell_type": "markdown",
      "id": "2942c9c0-3bbf-43db-9b29-dc060774375a",
      "metadata": {
        "id": "2942c9c0-3bbf-43db-9b29-dc060774375a"
      },
      "source": [
        "> 💡 Experiemnt with different `query` to see how well the `Keyword-based Retriever` works and when does it hit its limitations\n",
        "\n",
        "---"
      ]
    },
    {
      "cell_type": "markdown",
      "id": "567e67e4-7e81-41cd-825d-c9ed88966e05",
      "metadata": {
        "id": "567e67e4-7e81-41cd-825d-c9ed88966e05"
      },
      "source": [
        "> ⚠️ The provided code demonstrates a basic implementation of the BM25 algorithm for keyword-based search.\n",
        "> - However, it’s essential to recognize that real-world production-level keyword search systems are significantly more complex.\n",
        "> - While this simplified BM25 example provides a foundational understanding, building robust search systems involves addressing these complexities.\n",
        "> - Production-level search engines require a combination of information retrieval, machine learning, and engineering expertise to deliver accurate and efficient results.\n",
        "\n",
        "---\n",
        "\n",
        "\n",
        "<br>\n",
        "\n"
      ]
    },
    {
      "cell_type": "markdown",
      "id": "320dc4cd-2963-467a-b9ef-9fe27805e943",
      "metadata": {
        "id": "320dc4cd-2963-467a-b9ef-9fe27805e943"
      },
      "source": [
        "#### Dense Retrieval"
      ]
    },
    {
      "cell_type": "code",
      "execution_count": null,
      "id": "c4ffb128-16d3-4c1f-9c4b-072de063f7fd",
      "metadata": {
        "id": "c4ffb128-16d3-4c1f-9c4b-072de063f7fd"
      },
      "outputs": [],
      "source": [
        "from langchain_openai import OpenAIEmbeddings\n",
        "from langchain_community.vectorstores import Chroma"
      ]
    },
    {
      "cell_type": "code",
      "execution_count": null,
      "id": "fccf8b2a-e6b2-4ee2-89c9-756a7c7ad489",
      "metadata": {
        "id": "fccf8b2a-e6b2-4ee2-89c9-756a7c7ad489"
      },
      "outputs": [],
      "source": [
        "query = \"Data exploitation\""
      ]
    },
    {
      "cell_type": "code",
      "execution_count": null,
      "id": "c2148e2a-34e0-4f2d-8dd9-c5e15ce2de1c",
      "metadata": {
        "id": "c2148e2a-34e0-4f2d-8dd9-c5e15ce2de1c"
      },
      "outputs": [],
      "source": [
        "# an embeddings model is initialized using the OpenAIEmbeddings class.\n",
        "# The specified model is 'text-embedding-3-small'.\n",
        "embeddings_model = OpenAIEmbeddings(model='text-embedding-3-small')"
      ]
    },
    {
      "cell_type": "code",
      "execution_count": null,
      "id": "959d0dc8-cf15-4fd1-ba9a-86c7dd350b9a",
      "metadata": {
        "id": "959d0dc8-cf15-4fd1-ba9a-86c7dd350b9a"
      },
      "outputs": [],
      "source": [
        "# A vector store is created using the Chroma class.\n",
        "# It stores embeddings for a given set of texts (documents).\n",
        "# The embeddings_model is used to convert the texts into embeddings.\n",
        "vectorstore = Chroma.from_texts(corpus, embeddings_model)"
      ]
    },
    {
      "cell_type": "code",
      "execution_count": null,
      "id": "045c7add-9773-420e-92e2-149fd46a2162",
      "metadata": {
        "id": "045c7add-9773-420e-92e2-149fd46a2162",
        "outputId": "0f49c90f-135b-406e-c01f-dcb111179f1e",
        "colab": {
          "base_uri": "https://localhost:8080/"
        }
      },
      "outputs": [
        {
          "output_type": "execute_result",
          "data": {
            "text/plain": [
              "[(Document(page_content='Analytics. Analytics.gov – Enabling Data Exploitation for Whole-of-Government (WOG). Analytics.gov is a Whole-Of-Government (WOG) data exploitation platform to support the analysis of data by agencies.'),\n",
              "  0.20724719801034397),\n",
              " (Document(page_content='Analytics. GovText – The Whole-of-Government Text Analytics Platform. Analyse your textual data efficiently with the GovText Natural Language Processing (NLP) platform for WOG. Discover more!'),\n",
              "  0.07087070152861263),\n",
              " (Document(page_content='Data and APIs. Data.gov.sg — The One-Stop Open Data Portal for Publicly Available Singapore Government Datasets. Learn from Data.gov.sg, Singapore’s one-stop open data portal offering government datasets. Dive in now!'),\n",
              "  0.02929207682934243),\n",
              " (Document(page_content='Data and APIs. Vault - A Central Data Discovery and Distribution Platform for WOG Vault is a platform where government data is consolidated, organised and made discoverable for public servants to explore, search and securely access.'),\n",
              "  0.023447236171548647),\n",
              " (Document(page_content='Cybersecurity. AI Document Parser (AISAY) – An AI-Powered Document Reader and Transcription API Service. AISAY is an AI-Powered Document Reader and Transcription API Service for public officers. Learn more here!'),\n",
              "  0.0034856457798190243)]"
            ]
          },
          "metadata": {},
          "execution_count": 28
        }
      ],
      "source": [
        "# This line performs a similarity search within the vector store for the query\n",
        "# The k=3 parameter specifies that we want to retrieve the top 3 most similar documents.\n",
        "# The method returns both the similar documents and their associated relevance scores.\n",
        "# These scores indicate how similar each retrieved document is to the query (higher value means highly similar).\n",
        "vectorstore.similarity_search_with_relevance_scores(query, k=5)"
      ]
    },
    {
      "cell_type": "markdown",
      "id": "5d16ca2f-e65a-476f-9564-dfcc6d419bf9",
      "metadata": {
        "id": "5d16ca2f-e65a-476f-9564-dfcc6d419bf9"
      },
      "source": [
        "> 💡 Experiemnt with different `query` to see how well the `Keyword-based Retriever` works on vague query and non-direct match\n",
        ">\n",
        "> - What is the drawbacks of this approach?\n",
        ">\n",
        "> - What if we change the parameter `k` to 6. Are all of those results make sense based on the query?\n",
        ">\n",
        "> - Any ideas / thoughts on how we can select those results that are more relevant to the query?\n",
        "---"
      ]
    },
    {
      "cell_type": "markdown",
      "id": "bc881409-e987-41fc-aab6-9e2761236473",
      "metadata": {
        "id": "bc881409-e987-41fc-aab6-9e2761236473"
      },
      "source": [
        "## Use Case #2: Building Predictive Models with Semantic Meanings of Text"
      ]
    },
    {
      "cell_type": "markdown",
      "id": "99e15ca4-78e1-4f54-832a-c57441387bbb",
      "metadata": {
        "id": "99e15ca4-78e1-4f54-832a-c57441387bbb"
      },
      "source": [
        "---\n",
        "\n",
        "We are preparing the data for our machine learning model later,\n",
        "where we want to use the \"description of the product\" to derive at the classification of the products\n",
        "e.g., is it `productivity`, `cybersecurity`, `analytics` or other categories"
      ]
    },
    {
      "cell_type": "code",
      "execution_count": null,
      "id": "inQZn67k0TJW",
      "metadata": {
        "id": "inQZn67k0TJW"
      },
      "outputs": [],
      "source": [
        "import pandas as pd"
      ]
    },
    {
      "cell_type": "code",
      "execution_count": null,
      "id": "e53e3fbf-0533-4937-a004-c29c3bacf3f9",
      "metadata": {
        "id": "e53e3fbf-0533-4937-a004-c29c3bacf3f9",
        "outputId": "851ba74c-0b29-4507-9ff8-06ec0bde9296",
        "colab": {
          "base_uri": "https://localhost:8080/",
          "height": 363
        }
      },
      "outputs": [
        {
          "output_type": "execute_result",
          "data": {
            "text/plain": [
              "            label                                               text\n",
              "32   Productivity  Cloak – The Central Privacy Toolkit for Policy...\n",
              "33         DevOps  Container Stack (CStack) – Managed Platform fo...\n",
              "34  Data and APIs  Data.gov.sg — The One-Stop Open Data Portal fo...\n",
              "35      Analytics  GovText – The Whole-of-Government Text Analyti...\n",
              "36  Data and APIs  Monetary Authority of Singapore (MAS) APIs - S...\n",
              "37      Analytics  Whole-of-Government Application Analytics (WOG...\n",
              "38  Data and APIs  Vault - A Central Data Discovery and Distribut...\n",
              "39   Productivity  Transcribe provides auto-transcription and loc...\n",
              "40  Data and APIs  SingStat Table Builder. The SingStat Table Bui...\n",
              "41   Productivity  Postman — Deliver Messages to Citizens in Minu..."
            ],
            "text/html": [
              "\n",
              "  <div id=\"df-5a017789-4b07-494b-91ef-7da046f945eb\" class=\"colab-df-container\">\n",
              "    <div>\n",
              "<style scoped>\n",
              "    .dataframe tbody tr th:only-of-type {\n",
              "        vertical-align: middle;\n",
              "    }\n",
              "\n",
              "    .dataframe tbody tr th {\n",
              "        vertical-align: top;\n",
              "    }\n",
              "\n",
              "    .dataframe thead th {\n",
              "        text-align: right;\n",
              "    }\n",
              "</style>\n",
              "<table border=\"1\" class=\"dataframe\">\n",
              "  <thead>\n",
              "    <tr style=\"text-align: right;\">\n",
              "      <th></th>\n",
              "      <th>label</th>\n",
              "      <th>text</th>\n",
              "    </tr>\n",
              "  </thead>\n",
              "  <tbody>\n",
              "    <tr>\n",
              "      <th>32</th>\n",
              "      <td>Productivity</td>\n",
              "      <td>Cloak – The Central Privacy Toolkit for Policy...</td>\n",
              "    </tr>\n",
              "    <tr>\n",
              "      <th>33</th>\n",
              "      <td>DevOps</td>\n",
              "      <td>Container Stack (CStack) – Managed Platform fo...</td>\n",
              "    </tr>\n",
              "    <tr>\n",
              "      <th>34</th>\n",
              "      <td>Data and APIs</td>\n",
              "      <td>Data.gov.sg — The One-Stop Open Data Portal fo...</td>\n",
              "    </tr>\n",
              "    <tr>\n",
              "      <th>35</th>\n",
              "      <td>Analytics</td>\n",
              "      <td>GovText – The Whole-of-Government Text Analyti...</td>\n",
              "    </tr>\n",
              "    <tr>\n",
              "      <th>36</th>\n",
              "      <td>Data and APIs</td>\n",
              "      <td>Monetary Authority of Singapore (MAS) APIs - S...</td>\n",
              "    </tr>\n",
              "    <tr>\n",
              "      <th>37</th>\n",
              "      <td>Analytics</td>\n",
              "      <td>Whole-of-Government Application Analytics (WOG...</td>\n",
              "    </tr>\n",
              "    <tr>\n",
              "      <th>38</th>\n",
              "      <td>Data and APIs</td>\n",
              "      <td>Vault - A Central Data Discovery and Distribut...</td>\n",
              "    </tr>\n",
              "    <tr>\n",
              "      <th>39</th>\n",
              "      <td>Productivity</td>\n",
              "      <td>Transcribe provides auto-transcription and loc...</td>\n",
              "    </tr>\n",
              "    <tr>\n",
              "      <th>40</th>\n",
              "      <td>Data and APIs</td>\n",
              "      <td>SingStat Table Builder. The SingStat Table Bui...</td>\n",
              "    </tr>\n",
              "    <tr>\n",
              "      <th>41</th>\n",
              "      <td>Productivity</td>\n",
              "      <td>Postman — Deliver Messages to Citizens in Minu...</td>\n",
              "    </tr>\n",
              "  </tbody>\n",
              "</table>\n",
              "</div>\n",
              "    <div class=\"colab-df-buttons\">\n",
              "\n",
              "  <div class=\"colab-df-container\">\n",
              "    <button class=\"colab-df-convert\" onclick=\"convertToInteractive('df-5a017789-4b07-494b-91ef-7da046f945eb')\"\n",
              "            title=\"Convert this dataframe to an interactive table.\"\n",
              "            style=\"display:none;\">\n",
              "\n",
              "  <svg xmlns=\"http://www.w3.org/2000/svg\" height=\"24px\" viewBox=\"0 -960 960 960\">\n",
              "    <path d=\"M120-120v-720h720v720H120Zm60-500h600v-160H180v160Zm220 220h160v-160H400v160Zm0 220h160v-160H400v160ZM180-400h160v-160H180v160Zm440 0h160v-160H620v160ZM180-180h160v-160H180v160Zm440 0h160v-160H620v160Z\"/>\n",
              "  </svg>\n",
              "    </button>\n",
              "\n",
              "  <style>\n",
              "    .colab-df-container {\n",
              "      display:flex;\n",
              "      gap: 12px;\n",
              "    }\n",
              "\n",
              "    .colab-df-convert {\n",
              "      background-color: #E8F0FE;\n",
              "      border: none;\n",
              "      border-radius: 50%;\n",
              "      cursor: pointer;\n",
              "      display: none;\n",
              "      fill: #1967D2;\n",
              "      height: 32px;\n",
              "      padding: 0 0 0 0;\n",
              "      width: 32px;\n",
              "    }\n",
              "\n",
              "    .colab-df-convert:hover {\n",
              "      background-color: #E2EBFA;\n",
              "      box-shadow: 0px 1px 2px rgba(60, 64, 67, 0.3), 0px 1px 3px 1px rgba(60, 64, 67, 0.15);\n",
              "      fill: #174EA6;\n",
              "    }\n",
              "\n",
              "    .colab-df-buttons div {\n",
              "      margin-bottom: 4px;\n",
              "    }\n",
              "\n",
              "    [theme=dark] .colab-df-convert {\n",
              "      background-color: #3B4455;\n",
              "      fill: #D2E3FC;\n",
              "    }\n",
              "\n",
              "    [theme=dark] .colab-df-convert:hover {\n",
              "      background-color: #434B5C;\n",
              "      box-shadow: 0px 1px 3px 1px rgba(0, 0, 0, 0.15);\n",
              "      filter: drop-shadow(0px 1px 2px rgba(0, 0, 0, 0.3));\n",
              "      fill: #FFFFFF;\n",
              "    }\n",
              "  </style>\n",
              "\n",
              "    <script>\n",
              "      const buttonEl =\n",
              "        document.querySelector('#df-5a017789-4b07-494b-91ef-7da046f945eb button.colab-df-convert');\n",
              "      buttonEl.style.display =\n",
              "        google.colab.kernel.accessAllowed ? 'block' : 'none';\n",
              "\n",
              "      async function convertToInteractive(key) {\n",
              "        const element = document.querySelector('#df-5a017789-4b07-494b-91ef-7da046f945eb');\n",
              "        const dataTable =\n",
              "          await google.colab.kernel.invokeFunction('convertToInteractive',\n",
              "                                                    [key], {});\n",
              "        if (!dataTable) return;\n",
              "\n",
              "        const docLinkHtml = 'Like what you see? Visit the ' +\n",
              "          '<a target=\"_blank\" href=https://colab.research.google.com/notebooks/data_table.ipynb>data table notebook</a>'\n",
              "          + ' to learn more about interactive tables.';\n",
              "        element.innerHTML = '';\n",
              "        dataTable['output_type'] = 'display_data';\n",
              "        await google.colab.output.renderOutput(dataTable, element);\n",
              "        const docLink = document.createElement('div');\n",
              "        docLink.innerHTML = docLinkHtml;\n",
              "        element.appendChild(docLink);\n",
              "      }\n",
              "    </script>\n",
              "  </div>\n",
              "\n",
              "\n",
              "<div id=\"df-3a824f55-6d56-4bdc-a833-76fddf8bfc7e\">\n",
              "  <button class=\"colab-df-quickchart\" onclick=\"quickchart('df-3a824f55-6d56-4bdc-a833-76fddf8bfc7e')\"\n",
              "            title=\"Suggest charts\"\n",
              "            style=\"display:none;\">\n",
              "\n",
              "<svg xmlns=\"http://www.w3.org/2000/svg\" height=\"24px\"viewBox=\"0 0 24 24\"\n",
              "     width=\"24px\">\n",
              "    <g>\n",
              "        <path d=\"M19 3H5c-1.1 0-2 .9-2 2v14c0 1.1.9 2 2 2h14c1.1 0 2-.9 2-2V5c0-1.1-.9-2-2-2zM9 17H7v-7h2v7zm4 0h-2V7h2v10zm4 0h-2v-4h2v4z\"/>\n",
              "    </g>\n",
              "</svg>\n",
              "  </button>\n",
              "\n",
              "<style>\n",
              "  .colab-df-quickchart {\n",
              "      --bg-color: #E8F0FE;\n",
              "      --fill-color: #1967D2;\n",
              "      --hover-bg-color: #E2EBFA;\n",
              "      --hover-fill-color: #174EA6;\n",
              "      --disabled-fill-color: #AAA;\n",
              "      --disabled-bg-color: #DDD;\n",
              "  }\n",
              "\n",
              "  [theme=dark] .colab-df-quickchart {\n",
              "      --bg-color: #3B4455;\n",
              "      --fill-color: #D2E3FC;\n",
              "      --hover-bg-color: #434B5C;\n",
              "      --hover-fill-color: #FFFFFF;\n",
              "      --disabled-bg-color: #3B4455;\n",
              "      --disabled-fill-color: #666;\n",
              "  }\n",
              "\n",
              "  .colab-df-quickchart {\n",
              "    background-color: var(--bg-color);\n",
              "    border: none;\n",
              "    border-radius: 50%;\n",
              "    cursor: pointer;\n",
              "    display: none;\n",
              "    fill: var(--fill-color);\n",
              "    height: 32px;\n",
              "    padding: 0;\n",
              "    width: 32px;\n",
              "  }\n",
              "\n",
              "  .colab-df-quickchart:hover {\n",
              "    background-color: var(--hover-bg-color);\n",
              "    box-shadow: 0 1px 2px rgba(60, 64, 67, 0.3), 0 1px 3px 1px rgba(60, 64, 67, 0.15);\n",
              "    fill: var(--button-hover-fill-color);\n",
              "  }\n",
              "\n",
              "  .colab-df-quickchart-complete:disabled,\n",
              "  .colab-df-quickchart-complete:disabled:hover {\n",
              "    background-color: var(--disabled-bg-color);\n",
              "    fill: var(--disabled-fill-color);\n",
              "    box-shadow: none;\n",
              "  }\n",
              "\n",
              "  .colab-df-spinner {\n",
              "    border: 2px solid var(--fill-color);\n",
              "    border-color: transparent;\n",
              "    border-bottom-color: var(--fill-color);\n",
              "    animation:\n",
              "      spin 1s steps(1) infinite;\n",
              "  }\n",
              "\n",
              "  @keyframes spin {\n",
              "    0% {\n",
              "      border-color: transparent;\n",
              "      border-bottom-color: var(--fill-color);\n",
              "      border-left-color: var(--fill-color);\n",
              "    }\n",
              "    20% {\n",
              "      border-color: transparent;\n",
              "      border-left-color: var(--fill-color);\n",
              "      border-top-color: var(--fill-color);\n",
              "    }\n",
              "    30% {\n",
              "      border-color: transparent;\n",
              "      border-left-color: var(--fill-color);\n",
              "      border-top-color: var(--fill-color);\n",
              "      border-right-color: var(--fill-color);\n",
              "    }\n",
              "    40% {\n",
              "      border-color: transparent;\n",
              "      border-right-color: var(--fill-color);\n",
              "      border-top-color: var(--fill-color);\n",
              "    }\n",
              "    60% {\n",
              "      border-color: transparent;\n",
              "      border-right-color: var(--fill-color);\n",
              "    }\n",
              "    80% {\n",
              "      border-color: transparent;\n",
              "      border-right-color: var(--fill-color);\n",
              "      border-bottom-color: var(--fill-color);\n",
              "    }\n",
              "    90% {\n",
              "      border-color: transparent;\n",
              "      border-bottom-color: var(--fill-color);\n",
              "    }\n",
              "  }\n",
              "</style>\n",
              "\n",
              "  <script>\n",
              "    async function quickchart(key) {\n",
              "      const quickchartButtonEl =\n",
              "        document.querySelector('#' + key + ' button');\n",
              "      quickchartButtonEl.disabled = true;  // To prevent multiple clicks.\n",
              "      quickchartButtonEl.classList.add('colab-df-spinner');\n",
              "      try {\n",
              "        const charts = await google.colab.kernel.invokeFunction(\n",
              "            'suggestCharts', [key], {});\n",
              "      } catch (error) {\n",
              "        console.error('Error during call to suggestCharts:', error);\n",
              "      }\n",
              "      quickchartButtonEl.classList.remove('colab-df-spinner');\n",
              "      quickchartButtonEl.classList.add('colab-df-quickchart-complete');\n",
              "    }\n",
              "    (() => {\n",
              "      let quickchartButtonEl =\n",
              "        document.querySelector('#df-3a824f55-6d56-4bdc-a833-76fddf8bfc7e button');\n",
              "      quickchartButtonEl.style.display =\n",
              "        google.colab.kernel.accessAllowed ? 'block' : 'none';\n",
              "    })();\n",
              "  </script>\n",
              "</div>\n",
              "\n",
              "    </div>\n",
              "  </div>\n"
            ],
            "application/vnd.google.colaboratory.intrinsic+json": {
              "type": "dataframe",
              "summary": "{\n  \"name\": \"df[-10:]\",\n  \"rows\": 10,\n  \"fields\": [\n    {\n      \"column\": \"label\",\n      \"properties\": {\n        \"dtype\": \"category\",\n        \"num_unique_values\": 4,\n        \"samples\": [\n          \"DevOps\",\n          \"Analytics\",\n          \"Productivity\"\n        ],\n        \"semantic_type\": \"\",\n        \"description\": \"\"\n      }\n    },\n    {\n      \"column\": \"text\",\n      \"properties\": {\n        \"dtype\": \"string\",\n        \"num_unique_values\": 10,\n        \"samples\": [\n          \"SingStat Table Builder. The SingStat Table Builder contains over 1,800 statistical data tables from 60 public sector agencies providing a comprehensive statistical view of Singapore\\u2019s economic and socio-demographic characteristics.\",\n          \"Container Stack (CStack) \\u2013 Managed Platform for Apps using Kubernetes. Container Stack is a cloud-based container hosting platform and a Runtime component within Singapore Government Tech Stack.\",\n          \"Whole-of-Government Application Analytics (WOGAA) - Improve Government Services with Data. WOGAA is an analytics & performance platform for public officers to monitor the health of their government websites and optimise the performance of their digital services with data.\"\n        ],\n        \"semantic_type\": \"\",\n        \"description\": \"\"\n      }\n    }\n  ]\n}"
            }
          },
          "metadata": {},
          "execution_count": 30
        }
      ],
      "source": [
        "df = pd.read_csv(\"digital_products.csv\")\n",
        "\n",
        "# Display the first 10 rows of the dataframe\n",
        "df[-10:]"
      ]
    },
    {
      "cell_type": "code",
      "execution_count": null,
      "id": "d46adcfb-8b02-43db-870c-47868134e8a2",
      "metadata": {
        "id": "d46adcfb-8b02-43db-870c-47868134e8a2"
      },
      "outputs": [],
      "source": [
        "# Get the embeddings of the \"description\" (text column)\n",
        "embeddings_vector_prods = get_embedding(df.text)"
      ]
    },
    {
      "cell_type": "code",
      "execution_count": null,
      "id": "188e1f57-cab5-4daa-bac1-96bf402ebc91",
      "metadata": {
        "id": "188e1f57-cab5-4daa-bac1-96bf402ebc91"
      },
      "outputs": [],
      "source": [
        "from sklearn.model_selection import train_test_split\n",
        "from sklearn.preprocessing import StandardScaler\n",
        "from sklearn.ensemble import RandomForestClassifier\n",
        "from sklearn.metrics import confusion_matrix, accuracy_score"
      ]
    },
    {
      "cell_type": "code",
      "execution_count": null,
      "id": "b9b9851b-c330-4e17-907f-d6c6fbb22d06",
      "metadata": {
        "id": "b9b9851b-c330-4e17-907f-d6c6fbb22d06"
      },
      "outputs": [],
      "source": [
        "# Split your data into training and testing sets\n",
        "X_train, X_test, y_train, y_test = train_test_split(embeddings_vector_prods, df.label, test_size=0.3, random_state=42)"
      ]
    },
    {
      "cell_type": "code",
      "execution_count": null,
      "id": "d0f8d316-cab6-47f3-977f-797dd3bcaec6",
      "metadata": {
        "id": "d0f8d316-cab6-47f3-977f-797dd3bcaec6"
      },
      "outputs": [],
      "source": [
        "# Choose a model\n",
        "classifier = RandomForestClassifier(max_depth=3, n_estimators=100, random_state=42)"
      ]
    },
    {
      "cell_type": "code",
      "execution_count": null,
      "id": "486ebc7f-6211-409b-9671-ea367867b01f",
      "metadata": {
        "id": "486ebc7f-6211-409b-9671-ea367867b01f",
        "outputId": "64a73dc6-1c53-472b-b7c3-a04d00ef8644",
        "colab": {
          "base_uri": "https://localhost:8080/",
          "height": 74
        }
      },
      "outputs": [
        {
          "output_type": "execute_result",
          "data": {
            "text/plain": [
              "RandomForestClassifier(max_depth=3, random_state=42)"
            ],
            "text/html": [
              "<style>#sk-container-id-1 {color: black;}#sk-container-id-1 pre{padding: 0;}#sk-container-id-1 div.sk-toggleable {background-color: white;}#sk-container-id-1 label.sk-toggleable__label {cursor: pointer;display: block;width: 100%;margin-bottom: 0;padding: 0.3em;box-sizing: border-box;text-align: center;}#sk-container-id-1 label.sk-toggleable__label-arrow:before {content: \"▸\";float: left;margin-right: 0.25em;color: #696969;}#sk-container-id-1 label.sk-toggleable__label-arrow:hover:before {color: black;}#sk-container-id-1 div.sk-estimator:hover label.sk-toggleable__label-arrow:before {color: black;}#sk-container-id-1 div.sk-toggleable__content {max-height: 0;max-width: 0;overflow: hidden;text-align: left;background-color: #f0f8ff;}#sk-container-id-1 div.sk-toggleable__content pre {margin: 0.2em;color: black;border-radius: 0.25em;background-color: #f0f8ff;}#sk-container-id-1 input.sk-toggleable__control:checked~div.sk-toggleable__content {max-height: 200px;max-width: 100%;overflow: auto;}#sk-container-id-1 input.sk-toggleable__control:checked~label.sk-toggleable__label-arrow:before {content: \"▾\";}#sk-container-id-1 div.sk-estimator input.sk-toggleable__control:checked~label.sk-toggleable__label {background-color: #d4ebff;}#sk-container-id-1 div.sk-label input.sk-toggleable__control:checked~label.sk-toggleable__label {background-color: #d4ebff;}#sk-container-id-1 input.sk-hidden--visually {border: 0;clip: rect(1px 1px 1px 1px);clip: rect(1px, 1px, 1px, 1px);height: 1px;margin: -1px;overflow: hidden;padding: 0;position: absolute;width: 1px;}#sk-container-id-1 div.sk-estimator {font-family: monospace;background-color: #f0f8ff;border: 1px dotted black;border-radius: 0.25em;box-sizing: border-box;margin-bottom: 0.5em;}#sk-container-id-1 div.sk-estimator:hover {background-color: #d4ebff;}#sk-container-id-1 div.sk-parallel-item::after {content: \"\";width: 100%;border-bottom: 1px solid gray;flex-grow: 1;}#sk-container-id-1 div.sk-label:hover label.sk-toggleable__label {background-color: #d4ebff;}#sk-container-id-1 div.sk-serial::before {content: \"\";position: absolute;border-left: 1px solid gray;box-sizing: border-box;top: 0;bottom: 0;left: 50%;z-index: 0;}#sk-container-id-1 div.sk-serial {display: flex;flex-direction: column;align-items: center;background-color: white;padding-right: 0.2em;padding-left: 0.2em;position: relative;}#sk-container-id-1 div.sk-item {position: relative;z-index: 1;}#sk-container-id-1 div.sk-parallel {display: flex;align-items: stretch;justify-content: center;background-color: white;position: relative;}#sk-container-id-1 div.sk-item::before, #sk-container-id-1 div.sk-parallel-item::before {content: \"\";position: absolute;border-left: 1px solid gray;box-sizing: border-box;top: 0;bottom: 0;left: 50%;z-index: -1;}#sk-container-id-1 div.sk-parallel-item {display: flex;flex-direction: column;z-index: 1;position: relative;background-color: white;}#sk-container-id-1 div.sk-parallel-item:first-child::after {align-self: flex-end;width: 50%;}#sk-container-id-1 div.sk-parallel-item:last-child::after {align-self: flex-start;width: 50%;}#sk-container-id-1 div.sk-parallel-item:only-child::after {width: 0;}#sk-container-id-1 div.sk-dashed-wrapped {border: 1px dashed gray;margin: 0 0.4em 0.5em 0.4em;box-sizing: border-box;padding-bottom: 0.4em;background-color: white;}#sk-container-id-1 div.sk-label label {font-family: monospace;font-weight: bold;display: inline-block;line-height: 1.2em;}#sk-container-id-1 div.sk-label-container {text-align: center;}#sk-container-id-1 div.sk-container {/* jupyter's `normalize.less` sets `[hidden] { display: none; }` but bootstrap.min.css set `[hidden] { display: none !important; }` so we also need the `!important` here to be able to override the default hidden behavior on the sphinx rendered scikit-learn.org. See: https://github.com/scikit-learn/scikit-learn/issues/21755 */display: inline-block !important;position: relative;}#sk-container-id-1 div.sk-text-repr-fallback {display: none;}</style><div id=\"sk-container-id-1\" class=\"sk-top-container\"><div class=\"sk-text-repr-fallback\"><pre>RandomForestClassifier(max_depth=3, random_state=42)</pre><b>In a Jupyter environment, please rerun this cell to show the HTML representation or trust the notebook. <br />On GitHub, the HTML representation is unable to render, please try loading this page with nbviewer.org.</b></div><div class=\"sk-container\" hidden><div class=\"sk-item\"><div class=\"sk-estimator sk-toggleable\"><input class=\"sk-toggleable__control sk-hidden--visually\" id=\"sk-estimator-id-1\" type=\"checkbox\" checked><label for=\"sk-estimator-id-1\" class=\"sk-toggleable__label sk-toggleable__label-arrow\">RandomForestClassifier</label><div class=\"sk-toggleable__content\"><pre>RandomForestClassifier(max_depth=3, random_state=42)</pre></div></div></div></div></div>"
            ]
          },
          "metadata": {},
          "execution_count": 35
        }
      ],
      "source": [
        "# Train the model\n",
        "classifier.fit(X_train, y_train)"
      ]
    },
    {
      "cell_type": "code",
      "execution_count": null,
      "id": "8eb98c54-82be-4494-a6ae-f64e2baa0c5d",
      "metadata": {
        "id": "8eb98c54-82be-4494-a6ae-f64e2baa0c5d",
        "outputId": "3b8e00b3-20a3-4149-de70-c5b976e2fe2e",
        "colab": {
          "base_uri": "https://localhost:8080/"
        }
      },
      "outputs": [
        {
          "output_type": "stream",
          "name": "stdout",
          "text": [
            "[[4 0 1 0 0]\n",
            " [0 1 1 0 0]\n",
            " [0 0 3 0 0]\n",
            " [0 0 1 0 0]\n",
            " [0 0 1 0 1]]\n"
          ]
        }
      ],
      "source": [
        "# Evaluate the model\n",
        "y_pred = classifier.predict(X_test)\n",
        "print(confusion_matrix(y_test, y_pred))"
      ]
    },
    {
      "cell_type": "code",
      "execution_count": null,
      "id": "e2050bb6-c261-44f4-bf09-246b4be8dc30",
      "metadata": {
        "id": "e2050bb6-c261-44f4-bf09-246b4be8dc30",
        "outputId": "ea88351d-2e9c-42a9-bf93-612ae2a877b0",
        "colab": {
          "base_uri": "https://localhost:8080/"
        }
      },
      "outputs": [
        {
          "output_type": "stream",
          "name": "stdout",
          "text": [
            "0.6923076923076923\n"
          ]
        }
      ],
      "source": [
        "# Print out the Accuracy of the Model in predicting the \"cateogry of the products'\n",
        "# Based on the limited training data, this is actual not a bad accuracy score\n",
        "print(accuracy_score(y_test, y_pred))\n"
      ]
    },
    {
      "cell_type": "markdown",
      "id": "14723d1e-a731-4586-a135-45f5346ca304",
      "metadata": {
        "id": "14723d1e-a731-4586-a135-45f5346ca304"
      },
      "source": [
        "---\n",
        "---\n",
        "\n",
        "<br>\n",
        "\n",
        "    "
      ]
    },
    {
      "cell_type": "markdown",
      "id": "7b277698-0d1c-471f-ab66-9688c59075c0",
      "metadata": {
        "id": "7b277698-0d1c-471f-ab66-9688c59075c0"
      },
      "source": [
        "## Use Case #3: Retrieval-Augmented Generation"
      ]
    },
    {
      "cell_type": "markdown",
      "id": "01d0b1d6-fd8c-4ddf-8190-fac5b1f67ee8",
      "metadata": {
        "id": "01d0b1d6-fd8c-4ddf-8190-fac5b1f67ee8"
      },
      "source": [
        "**\\[ Why Context Augmentation? \\]**\n",
        "\n",
        "- LLMs offer a natural language interface between humans and data. Widely available models come pre-trained on huge amounts of publicly available data like Wikipedia, mailing lists, textbooks, source code and more.\n",
        "\n",
        "- However, while LLMs are trained on a great deal of data, they are not trained on your data, which may be private or specific to the problem you’re trying to solve. It’s behind APIs, in SQL databases, or trapped in PDFs and slide decks.\n",
        "\n",
        "- You may choose to fine-tune a LLM with your data, but:\n",
        "    - Training a LLM is expensive.\n",
        "    - Due to the cost to train, it’s hard to update a LLM with latest information.\n",
        "    - Observability is lacking. When you ask a LLM a question, it’s not obvious how the LLM arrived at its answer.\n",
        "\n",
        "- Instead of fine-tuning, one can use a context augmentation pattern called Retrieval-Augmented Generation (RAG) to obtain more accurate text generation relevant to your specific data. RAG involves the following high level steps:\n",
        "\n",
        "    1. Retrieve information from your data sources first,\n",
        "    2. Add it to your question as context, and\n",
        "    3. Ask the LLM to answer based on the enriched prompt.\n",
        "\n",
        "- In doing so, RAG overcomes all three weaknesses of the fine-tuning approach:\n",
        "    - There’s no training involved, so it’s cheap.\n",
        "    - Data is fetched only when you ask for them, so it’s always up to date.\n",
        "    - LlamaIndex can show you the retrieved documents, so it’s more trustworthy.\n",
        "\n",
        "---\n",
        "\n",
        "**\\[ Why LangChain for Context Augmentation? \\]**\n",
        "\n",
        "- Firstly, LangChain imposes no restriction on how you use LLMs. You can still use LLMs as auto-complete, chatbots, semi-autonomous agents, and more (see Use Cases on the left). It only makes LLMs more relevant to you.\n",
        "\n",
        "- LangChain provides the following tools to help you quickly stand up production-ready RAG systems:\n",
        "\n",
        "- Data connectors ingest your existing data from their native source and format. These could be APIs, PDFs, SQL, and (much) more.\n",
        "\n",
        "- Data indexes structure your data in intermediate representations that are easy and performant for LLMs to consume.\n",
        "\n",
        "- Engines provide natural language access to your data. For example:\n",
        "\n",
        "- Query engines are powerful retrieval interfaces for knowledge-augmented output.\n",
        "\n",
        "---\n",
        "\n",
        "**\\[ Overview of Steps in RAG \\]**\n",
        "\n",
        "- 1. **Document Loading**\n",
        "\t- In this initial step, relevant documents are ingested and prepared for further processing. This process typically occurs offline.\n",
        "- 2. **Splitting & Chunking**\n",
        "\t- The text from the documents is split into smaller chunks or segments.\n",
        "\t- These chunks serve as the building blocks for subsequent stages.\n",
        "- 3. **Storage**\n",
        "\t- The embeddings (vector representations) of these chunks are created and stored in a vector store.\n",
        "\t- These embeddings capture the semantic meaning of the text.\n",
        "- 4. **Retrieval**\n",
        "\t- When an online query arrives, the system retrieves relevant chunks from the vector store based on the query.\n",
        "\t- This retrieval step ensures that the system identifies the most pertinent information.\n",
        "- 5. **Output**\n",
        "\t- Finally, the retrieved chunks are used to generate a coherent response.\n",
        "\t- This output can be in the form of natural language text, summaries, or other relevant content."
      ]
    },
    {
      "cell_type": "markdown",
      "id": "36ed30cb-0680-4087-8abd-9820973d9b41",
      "metadata": {
        "id": "36ed30cb-0680-4087-8abd-9820973d9b41"
      },
      "source": [
        "![](https://abc-notes.data.tech.gov.sg/resources/img/topic-4-rag-overview.png)"
      ]
    },
    {
      "cell_type": "code",
      "execution_count": null,
      "id": "986c7bbd",
      "metadata": {
        "id": "986c7bbd"
      },
      "outputs": [],
      "source": [
        "# Copied from above for ease-of-reference\n",
        "import os\n",
        "\n",
        "os.environ[\"OPENAI_API_KEY\"] = API_KEY"
      ]
    },
    {
      "cell_type": "markdown",
      "id": "ac353cf7-682d-4f7e-ac78-af2dbd8bc59c",
      "metadata": {
        "id": "ac353cf7-682d-4f7e-ac78-af2dbd8bc59c"
      },
      "source": [
        "### Document Loading"
      ]
    },
    {
      "cell_type": "markdown",
      "id": "946a4a1a-8d48-46a5-8c9a-4981ddc9fe68",
      "metadata": {
        "id": "946a4a1a-8d48-46a5-8c9a-4981ddc9fe68"
      },
      "source": [
        "- Use document loaders to load data from a source as Document's.\n",
        "  - A Document is a piece of text and associated metadata.\n",
        "  - For example, there are document loaders for loading a simple .txt file, for loading the text contents of any web page, or even for loading a transcript of a YouTube video.\n",
        "\n",
        "- See [official documentation on LangChain's Document Loaders](https://python.langchain.com/docs/modules/data_connection/document_loaders) for different kinds of loaders for different sources."
      ]
    },
    {
      "cell_type": "code",
      "execution_count": null,
      "id": "72527ff4-3336-4a56-9a93-cb340b2aa19b",
      "metadata": {
        "ExecuteTime": {
          "end_time": "2024-04-18T10:14:46.575607Z",
          "start_time": "2024-04-18T10:14:43.907642Z"
        },
        "id": "72527ff4-3336-4a56-9a93-cb340b2aa19b"
      },
      "outputs": [],
      "source": [
        "# In this example, we will load the Prompt Engineering Playbook\n",
        "\n",
        "from langchain.document_loaders import PyPDFLoader\n",
        "loader = PyPDFLoader(\"https://www.developer.tech.gov.sg/products/collections/data-science-and-artificial-intelligence/playbooks/prompt-engineering-playbook-beta-v3.pdf\")\n",
        "pages = loader.load()"
      ]
    },
    {
      "cell_type": "markdown",
      "id": "50fed09a-eb25-48fa-a9d4-74fa83107398",
      "metadata": {
        "id": "50fed09a-eb25-48fa-a9d4-74fa83107398"
      },
      "source": [
        "- Each page is a `Document` object.\n",
        "- A `Document` contains text (`page_content`) and `metadata`."
      ]
    },
    {
      "cell_type": "code",
      "execution_count": null,
      "id": "4ecd7b5b-da42-4e2f-911f-86c51ed3e3db",
      "metadata": {
        "ExecuteTime": {
          "end_time": "2024-04-18T10:14:49.480517Z",
          "start_time": "2024-04-18T10:14:49.477210Z"
        },
        "id": "4ecd7b5b-da42-4e2f-911f-86c51ed3e3db",
        "outputId": "db5a1d33-5358-4a1a-a538-5095222e7909",
        "colab": {
          "base_uri": "https://localhost:8080/"
        }
      },
      "outputs": [
        {
          "output_type": "execute_result",
          "data": {
            "text/plain": [
              "Document(metadata={'source': 'https://www.developer.tech.gov.sg/products/collections/data-science-and-artificial-intelligence/playbooks/prompt-engineering-playbook-beta-v3.pdf', 'page': 0}, page_content='  \\n \\n \\nPROMPT ENGINEERING PLAYBOOK  \\n(Beta  v3) \\nLast updated 30 Aug 2023  \\nProduced By GovTech Data Science & AI Division  \\n \\nThis version has been altered for public consumption. Public officers should check out LaunchPad \\ndirectly to download the contextualised version of this Playbook for Public Service.  \\n \\n')"
            ]
          },
          "metadata": {},
          "execution_count": 40
        }
      ],
      "source": [
        "# Display the first page of the document\n",
        "pages[0]"
      ]
    },
    {
      "cell_type": "code",
      "execution_count": null,
      "id": "919a4715-c0fd-4787-a33a-f3fd894eba95",
      "metadata": {
        "ExecuteTime": {
          "end_time": "2024-04-18T10:14:51.062697Z",
          "start_time": "2024-04-18T10:14:51.058356Z"
        },
        "id": "919a4715-c0fd-4787-a33a-f3fd894eba95",
        "outputId": "fdd3631e-171e-4433-a36a-0ddf6ae85f88",
        "colab": {
          "base_uri": "https://localhost:8080/"
        }
      },
      "outputs": [
        {
          "output_type": "execute_result",
          "data": {
            "text/plain": [
              "{'source': 'https://www.developer.tech.gov.sg/products/collections/data-science-and-artificial-intelligence/playbooks/prompt-engineering-playbook-beta-v3.pdf',\n",
              " 'page': 0}"
            ]
          },
          "metadata": {},
          "execution_count": 41
        }
      ],
      "source": [
        "# Display the metadata of the first page\n",
        "pages[0].metadata"
      ]
    },
    {
      "cell_type": "code",
      "execution_count": null,
      "id": "a7c2fb1f",
      "metadata": {
        "id": "a7c2fb1f",
        "outputId": "43f63cd0-226e-4308-d758-5fbfc54a0df8",
        "colab": {
          "base_uri": "https://localhost:8080/",
          "height": 52
        }
      },
      "outputs": [
        {
          "output_type": "execute_result",
          "data": {
            "text/plain": [
              "'  \\n \\n \\nPROMPT ENGINEERING PLAYBOOK  \\n(Beta  v3) \\nLast updated 30 Aug 2023  \\nProduced By GovTech Data Science & AI Division  \\n \\nThis version has been altered for public consumption. Public officers should check out LaunchPad \\ndirectly to download the contextualised version of this Playbook for Public Service.  \\n \\n'"
            ],
            "application/vnd.google.colaboratory.intrinsic+json": {
              "type": "string"
            }
          },
          "metadata": {},
          "execution_count": 42
        }
      ],
      "source": [
        "# Display the content of the first page\n",
        "pages[0].page_content"
      ]
    },
    {
      "cell_type": "code",
      "execution_count": null,
      "id": "65ea21d6-ab0e-42ff-9eb7-2815ccc3d1bd",
      "metadata": {
        "ExecuteTime": {
          "end_time": "2024-04-18T10:14:54.729619Z",
          "start_time": "2024-04-18T10:14:52.174249Z"
        },
        "id": "65ea21d6-ab0e-42ff-9eb7-2815ccc3d1bd",
        "outputId": "37b29c47-e3ea-4859-9404-be3567c85e15",
        "colab": {
          "base_uri": "https://localhost:8080/"
        }
      },
      "outputs": [
        {
          "output_type": "stream",
          "name": "stdout",
          "text": [
            "There are total of 23623 tokens\n"
          ]
        }
      ],
      "source": [
        "# Let's count how many tokens are there\n",
        "# by summing all the token counts from every page\n",
        "import numpy as np\n",
        "\n",
        "list_of_tokencounts = []\n",
        "for page in pages:\n",
        "    # Count the tokens in the content of each page\n",
        "    # then append the count to the list\n",
        "    list_of_tokencounts.append(count_tokens(page.page_content))\n",
        "\n",
        "# Sum the token counts from all pages\n",
        "print(f\"There are total of {np.sum(list_of_tokencounts)} tokens\")"
      ]
    },
    {
      "cell_type": "code",
      "execution_count": null,
      "id": "176bc808-1e13-4cb5-9270-a62b00d2840e",
      "metadata": {
        "ExecuteTime": {
          "end_time": "2024-04-18T10:15:04.884820Z",
          "start_time": "2024-04-18T10:15:04.880352Z"
        },
        "id": "176bc808-1e13-4cb5-9270-a62b00d2840e",
        "outputId": "359ce37d-fbf3-448e-ac9d-8887aa8f3f24",
        "colab": {
          "base_uri": "https://localhost:8080/"
        }
      },
      "outputs": [
        {
          "output_type": "execute_result",
          "data": {
            "text/plain": [
              "176.2910447761194"
            ]
          },
          "metadata": {},
          "execution_count": 44
        }
      ],
      "source": [
        "# On average, each page has the following number of tokens\n",
        "# This information can be useful for us to decide on the spilting & chunking strategies\n",
        "np.average(list_of_tokencounts)"
      ]
    },
    {
      "cell_type": "markdown",
      "id": "34fd8495-8a27-4b9f-9159-66ea421c48c0",
      "metadata": {
        "id": "34fd8495-8a27-4b9f-9159-66ea421c48c0"
      },
      "source": [
        "### Splitting & Chunking"
      ]
    },
    {
      "cell_type": "markdown",
      "id": "8d33c8a4-43a1-4332-b041-87df378a88df",
      "metadata": {
        "id": "8d33c8a4-43a1-4332-b041-87df378a88df"
      },
      "source": [
        "![](https://abc-notes.data.tech.gov.sg/resources/img/topic-4-rag-spliting.png)\n",
        "\n"
      ]
    },
    {
      "cell_type": "markdown",
      "id": "4da42867-84fb-4503-83be-c1b00cdf5a5b",
      "metadata": {
        "id": "4da42867-84fb-4503-83be-c1b00cdf5a5b"
      },
      "source": [
        "**[ Different Types of Spliters ]**\n",
        "\n",
        "When working with large chunks of text, breaking them down into smaller, more manageable units is crucial for effective analysis and processing. This is where text splitters come in.\n",
        "Text splitters are algorithms designed to segment text based on specific criteria, ensuring that the resulting chunks are coherent and meaningful. However, with a variety of splitters available, selecting the right one for your needs can be daunting.\n",
        "\n",
        "\n",
        "**Factors to Consider**:\n",
        "- **Text Structure**: Is your text unstructured, or does it follow a specific format like Markdown or HTML?\n",
        "- **Desired Chunk Size**: Are you looking for sentence-level splits, paragraph-level splits, or something else entirely?\n",
        "- **Language Specifics**: Does your text contain code snippets or elements specific to a programming language?\n",
        "- **Metadata Requirements**: Do you need the splitter to preserve information about the text's original structure?\n",
        "\n",
        "\n",
        "Let's delve into the different types of splitters and their strengths:\n",
        "- `CharacterTextSplitter()` ->Implementation Of splitting text that looks at characters.\n",
        "\n",
        "- `MarkdownHeaderTextSplitter()` -> lmplementation Of splitting markdown files based on specified headers.\n",
        "\n",
        "- `TokenTextSplitter()` -> lmplementation Of splitting text that looks at tokens.\n",
        "\n",
        "- `SentenceTransformersTokenTextSpIitter()`  -> lmplementation Ofsplitting text that IOOks at tO kens.\n",
        "\n",
        "- `RecursiveCharacterTextSplitted()`  -> lmplementation Of splitting textthat looks at characters. Recursively tries tO split by differentcha racters to find one that works.\n",
        "\n",
        "- `Language()` -> for CPP，Python， Ruby，Markdown, etc\n",
        "\n",
        "- `NLTKTextSpIitter()` -> lmplementation Of splitting text that | 00 ks atsentences using NLTK (Natural l-anguage TOOI Kit)\n",
        "\n",
        "- `SpacyTextSplitter()` -> lmplementation Of splitting text that IOOks atsentences using Spacy\n",
        "\n",
        "|    Name   |               Splits On               | Adds Metadata |                                                                                        Description                                                                                       |\n",
        "|:---------:|:-------------------------------------:|:-------------:|:----------------------------------------------------------------------------------------------------------------------------------------------------------------------------------------:|\n",
        "| Recursive | A list of user defined characters     |               | Recursively splits text. Splitting text recursively serves the purpose of trying to keep related pieces of text next to each other. This is the recommended way to start splitting text. |\n",
        "| HTML      | HTML specific characters              | ✅             | Splits text based on HTML-specific characters. Notably, this adds in relevant information about where that chunk came from (based on the HTML)                                           |\n",
        "| Markdown  | Markdown specific characters          | ✅             | Splits text based on Markdown-specific characters. Notably, this adds in relevant information about where that chunk came from (based on the Markdown)                                   |\n",
        "| Code      | Code (Python, JS) specific characters |               | Splits text based on characters specific to coding languages. 15 different languages are available to choose from.                                                                       |\n",
        "| Token     | Tokens                                |               | Splits text on tokens. There exist a few different ways to measure tokens.                                                                                                               |\n",
        "| Character | A user defined character              |               | Splits text based on a user defined character. One of the simpler methods.                                                                                                               |"
      ]
    },
    {
      "cell_type": "markdown",
      "id": "031da959",
      "metadata": {
        "id": "031da959"
      },
      "source": [
        "---\n",
        "- Instead of using the PDF, let's start with a simple text so we better understand how the splitters work."
      ]
    },
    {
      "cell_type": "code",
      "execution_count": null,
      "id": "c3920473-e640-49fa-9342-ca7dc90fec4f",
      "metadata": {
        "ExecuteTime": {
          "end_time": "2024-04-18T10:15:12.537415Z",
          "start_time": "2024-04-18T10:15:12.519781Z"
        },
        "id": "c3920473-e640-49fa-9342-ca7dc90fec4f",
        "outputId": "216fa515-3133-44d0-c1e7-62137b3ba45e",
        "colab": {
          "base_uri": "https://localhost:8080/"
        }
      },
      "outputs": [
        {
          "output_type": "stream",
          "name": "stdout",
          "text": [
            "When writing documents, writers will use document structure to group content. \n",
            "\n",
            "\n",
            "This can convey to the reader, which idea's are related. For example, closely related ideas are in sentances. Similar ideas are in paragraphs. Paragraphs form a document. \n",
            "\n",
            "\n",
            "Paragraphs are often delimited with a carriage return or two carriage returns. Carriage returns are the \"backslash n\" you see embedded in this string. Sentences have a period at the end, but also, have a space. and words are separated by space.\n"
          ]
        }
      ],
      "source": [
        "# Basic Document Splitting\n",
        "\n",
        "from langchain.text_splitter import CharacterTextSplitter\n",
        "\n",
        "# \\n is a newline character\n",
        "# \"\\\" at the end of the line is used to make sure the text continue on the next line\n",
        "# It allows long statements to be split across multiple lines for improved readability,\n",
        "# preventing the need for horizontal scrolling in code editors.\n",
        "\n",
        "some_text = \"\"\"When writing documents, writers will use document structure to group content. \\n\\n\n",
        "This can convey to the reader, which idea's are related. For example, closely related ideas \\\n",
        "are in sentances. Similar ideas are in paragraphs. Paragraphs form a document. \\n\\n\n",
        "Paragraphs are often delimited with a carriage return or two carriage returns. \\\n",
        "Carriage returns are the \"backslash n\" you see embedded in this string. \\\n",
        "Sentences have a period at the end, but also, have a space. \\\n",
        "and words are separated by space.\"\"\"\n",
        "\n",
        "# \\n\\n is often used to separate paragraphs\n",
        "print(some_text)"
      ]
    },
    {
      "cell_type": "markdown",
      "id": "bbb243de",
      "metadata": {
        "id": "bbb243de"
      },
      "source": [
        "> 💡 How `CharacterTextSpliiter` works\n",
        "> - The CharacterTextSplitter splits text only at designated separators, which are double newline characters (\\n\\n) by default.\n",
        "> - The chunk_size parameter sets the maximum size of each split chunk.\n",
        "> - If a text segment begins with **N** characters, contains a separator, and has **M** more characters before the next separator, the first chunk will be **N** characters long if chunk_size is smaller than the total length of that segment (**N** + **M** + len(separator)).\n",
        "> - If you're interested, you can dive into the workings of the this Class [here](https://github.com/langchain-ai/langchain/blob/253ceca76a027a9c70b51f3ccf5ad5bfad4cf672/libs/text-splitters/langchain_text_splitters/character.py#L9)"
      ]
    },
    {
      "cell_type": "code",
      "execution_count": null,
      "id": "deab7226",
      "metadata": {
        "id": "deab7226",
        "outputId": "8bb3c663-ba24-41cd-b3cc-15ef6acfd5ac",
        "colab": {
          "base_uri": "https://localhost:8080/"
        }
      },
      "outputs": [
        {
          "output_type": "stream",
          "name": "stderr",
          "text": [
            "WARNING:langchain_text_splitters.base:Created a chunk of size 78, which is longer than the specified 50\n",
            "WARNING:langchain_text_splitters.base:Created a chunk of size 172, which is longer than the specified 50\n"
          ]
        },
        {
          "output_type": "execute_result",
          "data": {
            "text/plain": [
              "['When writing documents, writers will use document structure to group content.',\n",
              " \"This can convey to the reader, which idea's are related. For example, closely related ideas are in sentances. Similar ideas are in paragraphs. Paragraphs form a document.\",\n",
              " 'Paragraphs are often delimited with a carriage return or two carriage returns. Carriage returns are the \"backslash n\" you see embedded in this string. Sentences have a period at the end, but also, have a space. and words are separated by space.']"
            ]
          },
          "metadata": {},
          "execution_count": 46
        }
      ],
      "source": [
        "# Splitting the text: The split_text method of the r_splitter object is called with some_text as the argument.\n",
        "# This method splits the input text into chunks according to the chunk_size and chunk_overlap parameters specified when the r_splitter object was created.\n",
        "# `CharacterTextSplitter` splits the text into chunks based on \"\\n\\n\"\n",
        "r_splitter = CharacterTextSplitter(\n",
        "    chunk_size=50,\n",
        "    chunk_overlap=5\n",
        ")\n",
        "\n",
        "r_splitter.split_text(some_text)"
      ]
    },
    {
      "cell_type": "code",
      "execution_count": null,
      "id": "7b9fdad1",
      "metadata": {
        "id": "7b9fdad1",
        "outputId": "a0e8fad6-99ce-4c42-f8c6-97cf704b0eda",
        "colab": {
          "base_uri": "https://localhost:8080/"
        }
      },
      "outputs": [
        {
          "output_type": "execute_result",
          "data": {
            "text/plain": [
              "['When writing documents, writers will use document',\n",
              " 'document structure to group content.',\n",
              " \"This can convey to the reader, which idea's are\",\n",
              " 'are related. For example, closely related ideas',\n",
              " 'ideas are in sentances. Similar ideas are in',\n",
              " 'are in paragraphs. Paragraphs form a document.',\n",
              " 'Paragraphs are often delimited with a carriage',\n",
              " 'carriage return or two carriage returns. Carriage',\n",
              " 'Carriage returns are the \"backslash n\" you see',\n",
              " 'you see embedded in this string. Sentences have a',\n",
              " 'have a period at the end, but also, have a space.',\n",
              " 'a space. and words are separated by space.']"
            ]
          },
          "metadata": {},
          "execution_count": 47
        }
      ],
      "source": [
        "from langchain.text_splitter import RecursiveCharacterTextSplitter\n",
        "\n",
        "text_splitter_ = RecursiveCharacterTextSplitter(\n",
        "    separators=[\"\\n\\n\", \"\\n\", \" \", \"\"],\n",
        "    chunk_size=50,\n",
        "    chunk_overlap=10,\n",
        "\n",
        "    # length_function=count_tokens\n",
        ")\n",
        "\n",
        "text_splitter_.split_text(some_text)\n"
      ]
    },
    {
      "cell_type": "markdown",
      "id": "89101cc1",
      "metadata": {
        "id": "89101cc1"
      },
      "source": [
        "---\n",
        "\n",
        "Now let's go back to our PDF example and apply the `RecursiveCharacterTextSplitter` on the PDF file."
      ]
    },
    {
      "cell_type": "code",
      "execution_count": null,
      "id": "efa10d54-34a4-46f4-a84b-320041e3835c",
      "metadata": {
        "ExecuteTime": {
          "end_time": "2024-04-18T10:15:46.276826Z",
          "start_time": "2024-04-18T10:15:44.926933Z"
        },
        "id": "efa10d54-34a4-46f4-a84b-320041e3835c"
      },
      "outputs": [],
      "source": [
        "# Testing on PDF\n",
        "\n",
        "from langchain.document_loaders import PyPDFLoader\n",
        "\n",
        "loader = PyPDFLoader(\"https://www.developer.tech.gov.sg/products/collections/data-science-and-artificial-intelligence/playbooks/prompt-engineering-playbook-beta-v3.pdf\")\n",
        "pages = loader.load()\n",
        "\n",
        "\n",
        "from langchain.text_splitter import RecursiveCharacterTextSplitter\n",
        "text_splitter = RecursiveCharacterTextSplitter(\n",
        "    separators=[\"\\n\\n\", \"\\n\", \" \", \"\"],\n",
        "    chunk_size=500,\n",
        "    chunk_overlap=50,\n",
        "    length_function=count_tokens\n",
        ")\n",
        "# Note that in this example, we pass the `count_tokens` function as the `length_function` parameter\n",
        "# By doing this, the text_splitter will use the `count_tokens` function to calculate the length of the text (in tokens)\n",
        "# instead of the number of characters (default behavior).\n",
        "\n",
        "\n",
        "splitted_documents = text_splitter.split_documents(pages)"
      ]
    },
    {
      "cell_type": "code",
      "execution_count": null,
      "id": "0043df55",
      "metadata": {
        "id": "0043df55",
        "outputId": "1bb60c1c-6b31-4293-a571-9092442b5dc6",
        "colab": {
          "base_uri": "https://localhost:8080/",
          "height": 230
        }
      },
      "outputs": [
        {
          "output_type": "execute_result",
          "data": {
            "image/svg+xml": "<?xml version=\"1.0\" encoding=\"UTF-8\" standalone=\"no\"?>\n<!DOCTYPE svg PUBLIC \"-//W3C//DTD SVG 1.1//EN\"\n \"http://www.w3.org/Graphics/SVG/1.1/DTD/svg11.dtd\">\n<!-- Generated by graphviz version 2.43.0 (0)\n -->\n<!-- Title: G Pages: 1 -->\n<svg width=\"475pt\" height=\"157pt\"\n viewBox=\"0.00 0.00 475.00 157.00\" xmlns=\"http://www.w3.org/2000/svg\" xmlns:xlink=\"http://www.w3.org/1999/xlink\">\n<g id=\"graph0\" class=\"graph\" transform=\"scale(1 1) rotate(0) translate(4 153)\">\n<title>G</title>\n<polygon fill=\"white\" stroke=\"transparent\" points=\"-4,4 -4,-153 471,-153 471,4 -4,4\"/>\n<!-- node135312202506368 -->\n<g id=\"node1\" class=\"node\">\n<title>node135312202506368</title>\n<polygon fill=\"#cfe2d4\" stroke=\"#444443\" stroke-width=\"0.5\" points=\"14,-107 0,-107 0,-41 14,-41 14,-107\"/>\n<polygon fill=\"#cfe2d4\" stroke=\"transparent\" points=\"1,-90 1,-106 13,-106 13,-90 1,-90\"/>\n<polyline fill=\"none\" stroke=\"#444443\" points=\"1,-90 13,-90 \"/>\n<text text-anchor=\"start\" x=\"4\" y=\"-95.8\" font-family=\"Helvetica,sans-Serif\" font-size=\"9.00\" fill=\"#444443\">0</text>\n<polygon fill=\"#cfe2d4\" stroke=\"transparent\" points=\"1,-74 1,-90 13,-90 13,-74 1,-74\"/>\n<polyline fill=\"none\" stroke=\"#444443\" points=\"1,-74 13,-74 \"/>\n<text text-anchor=\"start\" x=\"4\" y=\"-79.8\" font-family=\"Helvetica,sans-Serif\" font-size=\"9.00\" fill=\"#444443\">1</text>\n<polygon fill=\"#cfe2d4\" stroke=\"transparent\" points=\"1,-58 1,-74 13,-74 13,-58 1,-58\"/>\n<polyline fill=\"none\" stroke=\"#444443\" points=\"1,-58 13,-58 \"/>\n<text text-anchor=\"start\" x=\"4\" y=\"-63.8\" font-family=\"Helvetica,sans-Serif\" font-size=\"9.00\" fill=\"#444443\">2</text>\n<polygon fill=\"#cfe2d4\" stroke=\"transparent\" points=\"1,-42 1,-58 13,-58 13,-42 1,-42\"/>\n<text text-anchor=\"start\" x=\"4\" y=\"-47.8\" font-family=\"Helvetica,sans-Serif\" font-size=\"9.00\" fill=\"#444443\">3</text>\n</g>\n<!-- node135312173071936 -->\n<g id=\"node2\" class=\"node\">\n<title>node135312173071936</title>\n<polygon fill=\"none\" stroke=\"black\" stroke-width=\"0.5\" points=\"168.5,-149 136.5,-149 136.5,-117 168.5,-117 168.5,-149\"/>\n<polygon fill=\"#fefecd\" stroke=\"transparent\" points=\"137.5,-136 137.5,-148 156.5,-148 156.5,-136 137.5,-136\"/>\n<polyline fill=\"none\" stroke=\"black\" points=\"137.5,-136 156.5,-136 156.5,-148 \"/>\n<text text-anchor=\"start\" x=\"144\" y=\"-139.8\" font-family=\"Helvetica,sans-Serif\" font-size=\"9.00\" fill=\"#444443\">0</text>\n<polygon fill=\"#fefecd\" stroke=\"transparent\" points=\"156.5,-136 156.5,-148 167.5,-148 167.5,-136 156.5,-136\"/>\n<polyline fill=\"none\" stroke=\"black\" points=\"156.5,-136 167.5,-136 \"/>\n<text text-anchor=\"start\" x=\"159\" y=\"-139.8\" font-family=\"Helvetica,sans-Serif\" font-size=\"9.00\" fill=\"#444443\">1</text>\n<polygon fill=\"#fefecd\" stroke=\"transparent\" points=\"137.5,-118 137.5,-136 156.5,-136 156.5,-118 137.5,-118\"/>\n<polyline fill=\"none\" stroke=\"black\" points=\"156.5,-118 156.5,-136 \"/>\n<text text-anchor=\"start\" x=\"140.5\" y=\"-124.2\" font-family=\"Helvetica,sans-Serif\" font-size=\"11.00\" fill=\"#444443\">&#39;id&#39;</text>\n<polygon fill=\"#fefecd\" stroke=\"transparent\" points=\"156.5,-118 156.5,-136 167.5,-136 167.5,-118 156.5,-118\"/>\n<text text-anchor=\"start\" x=\"158.5\" y=\"-124.2\" font-family=\"Helvetica,sans-Serif\" font-size=\"11.00\" fill=\"#444443\"> &#160;</text>\n</g>\n<!-- node135312202506368&#45;&gt;node135312173071936 -->\n<g id=\"edge1\" class=\"edge\">\n<title>node135312202506368:0&#45;&gt;node135312173071936:w</title>\n<path fill=\"none\" stroke=\"#444443\" stroke-width=\"0.5\" d=\"M14,-98C25.83,-98 25.09,-108.41 36,-113 76.28,-129.95 89.56,-132.83 131.36,-132.99\"/>\n<polygon fill=\"#444443\" stroke=\"#444443\" stroke-width=\"0.5\" points=\"131.5,-134.39 135.5,-133 131.5,-131.59 131.5,-134.39\"/>\n</g>\n<!-- node135312183262848 -->\n<g id=\"node3\" class=\"node\">\n<title>node135312183262848</title>\n<polygon fill=\"none\" stroke=\"black\" stroke-width=\"0.5\" points=\"187,-110 118,-110 118,-78 187,-78 187,-110\"/>\n<polygon fill=\"#fefecd\" stroke=\"transparent\" points=\"119.5,-97 119.5,-109 175.5,-109 175.5,-97 119.5,-97\"/>\n<polyline fill=\"none\" stroke=\"black\" points=\"119.5,-97 175.5,-97 175.5,-109 \"/>\n<text text-anchor=\"start\" x=\"144.5\" y=\"-100.8\" font-family=\"Helvetica,sans-Serif\" font-size=\"9.00\" fill=\"#444443\">0</text>\n<polygon fill=\"#fefecd\" stroke=\"transparent\" points=\"175.5,-97 175.5,-109 186.5,-109 186.5,-97 175.5,-97\"/>\n<polyline fill=\"none\" stroke=\"black\" points=\"175.5,-97 186.5,-97 \"/>\n<text text-anchor=\"start\" x=\"178\" y=\"-100.8\" font-family=\"Helvetica,sans-Serif\" font-size=\"9.00\" fill=\"#444443\">1</text>\n<polygon fill=\"#fefecd\" stroke=\"transparent\" points=\"119.5,-79 119.5,-97 175.5,-97 175.5,-79 119.5,-79\"/>\n<polyline fill=\"none\" stroke=\"black\" points=\"175.5,-79 175.5,-97 \"/>\n<text text-anchor=\"start\" x=\"122.5\" y=\"-85.2\" font-family=\"Helvetica,sans-Serif\" font-size=\"11.00\" fill=\"#444443\">&#39;metadata&#39;</text>\n<polygon fill=\"#fefecd\" stroke=\"transparent\" points=\"175.5,-79 175.5,-97 186.5,-97 186.5,-79 175.5,-79\"/>\n<text text-anchor=\"start\" x=\"177.5\" y=\"-85.2\" font-family=\"Helvetica,sans-Serif\" font-size=\"11.00\" fill=\"#444443\"> &#160;</text>\n</g>\n<!-- node135312202506368&#45;&gt;node135312183262848 -->\n<g id=\"edge2\" class=\"edge\">\n<title>node135312202506368:1&#45;&gt;node135312183262848:w</title>\n<path fill=\"none\" stroke=\"#444443\" stroke-width=\"0.5\" d=\"M14,-82C58.43,-82 69.93,-93.26 112.3,-93.97\"/>\n<polygon fill=\"#444443\" stroke=\"#444443\" stroke-width=\"0.5\" points=\"112.49,-95.37 116.5,-94 112.51,-92.57 112.49,-95.37\"/>\n</g>\n<!-- node135312189317056 -->\n<g id=\"node5\" class=\"node\">\n<title>node135312189317056</title>\n<polygon fill=\"none\" stroke=\"black\" stroke-width=\"0.5\" points=\"269,-71 36,-71 36,-39 269,-39 269,-71\"/>\n<polygon fill=\"#fefecd\" stroke=\"transparent\" points=\"37.5,-58 37.5,-70 113.5,-70 113.5,-58 37.5,-58\"/>\n<polyline fill=\"none\" stroke=\"black\" points=\"37.5,-58 113.5,-58 113.5,-70 \"/>\n<text text-anchor=\"start\" x=\"72.5\" y=\"-61.8\" font-family=\"Helvetica,sans-Serif\" font-size=\"9.00\" fill=\"#444443\">0</text>\n<polygon fill=\"#fefecd\" stroke=\"transparent\" points=\"113.5,-58 113.5,-70 268.5,-70 268.5,-58 113.5,-58\"/>\n<polyline fill=\"none\" stroke=\"black\" points=\"113.5,-58 268.5,-58 \"/>\n<text text-anchor=\"start\" x=\"188\" y=\"-61.8\" font-family=\"Helvetica,sans-Serif\" font-size=\"9.00\" fill=\"#444443\">1</text>\n<polygon fill=\"#fefecd\" stroke=\"transparent\" points=\"37.5,-40 37.5,-58 113.5,-58 113.5,-40 37.5,-40\"/>\n<polyline fill=\"none\" stroke=\"black\" points=\"113.5,-40 113.5,-58 \"/>\n<text text-anchor=\"start\" x=\"40.5\" y=\"-46.2\" font-family=\"Helvetica,sans-Serif\" font-size=\"11.00\" fill=\"#444443\">&#39;page_content&#39;</text>\n<polygon fill=\"#fefecd\" stroke=\"transparent\" points=\"113.5,-40 113.5,-58 268.5,-58 268.5,-40 113.5,-40\"/>\n<text text-anchor=\"start\" x=\"115.5\" y=\"-46.2\" font-family=\"Helvetica,sans-Serif\" font-size=\"11.00\" fill=\"#444443\">&#39;PROMPT ENGINEERING P...&#39;</text>\n</g>\n<!-- node135312202506368&#45;&gt;node135312189317056 -->\n<g id=\"edge3\" class=\"edge\">\n<title>node135312202506368:2&#45;&gt;node135312189317056:w</title>\n<path fill=\"none\" stroke=\"#444443\" stroke-width=\"0.5\" d=\"M14,-66C23.39,-66 24.82,-57.88 31.97,-55.59\"/>\n<polygon fill=\"#444443\" stroke=\"#444443\" stroke-width=\"0.5\" points=\"32.25,-56.97 36,-55 31.84,-54.2 32.25,-56.97\"/>\n</g>\n<!-- node135312173064064 -->\n<g id=\"node6\" class=\"node\">\n<title>node135312173064064</title>\n<polygon fill=\"none\" stroke=\"black\" stroke-width=\"0.5\" points=\"198.5,-32 106.5,-32 106.5,0 198.5,0 198.5,-32\"/>\n<polygon fill=\"#fefecd\" stroke=\"transparent\" points=\"107.5,-19 107.5,-31 138.5,-31 138.5,-19 107.5,-19\"/>\n<polyline fill=\"none\" stroke=\"black\" points=\"107.5,-19 138.5,-19 138.5,-31 \"/>\n<text text-anchor=\"start\" x=\"120\" y=\"-22.8\" font-family=\"Helvetica,sans-Serif\" font-size=\"9.00\" fill=\"#444443\">0</text>\n<polygon fill=\"#fefecd\" stroke=\"transparent\" points=\"138.5,-19 138.5,-31 197.5,-31 197.5,-19 138.5,-19\"/>\n<polyline fill=\"none\" stroke=\"black\" points=\"138.5,-19 197.5,-19 \"/>\n<text text-anchor=\"start\" x=\"165\" y=\"-22.8\" font-family=\"Helvetica,sans-Serif\" font-size=\"9.00\" fill=\"#444443\">1</text>\n<polygon fill=\"#fefecd\" stroke=\"transparent\" points=\"107.5,-1 107.5,-19 138.5,-19 138.5,-1 107.5,-1\"/>\n<polyline fill=\"none\" stroke=\"black\" points=\"138.5,-1 138.5,-19 \"/>\n<text text-anchor=\"start\" x=\"110.5\" y=\"-7.2\" font-family=\"Helvetica,sans-Serif\" font-size=\"11.00\" fill=\"#444443\">&#39;type&#39;</text>\n<polygon fill=\"#fefecd\" stroke=\"transparent\" points=\"138.5,-1 138.5,-19 197.5,-19 197.5,-1 138.5,-1\"/>\n<text text-anchor=\"start\" x=\"140.5\" y=\"-7.2\" font-family=\"Helvetica,sans-Serif\" font-size=\"11.00\" fill=\"#444443\">&#39;Document&#39;</text>\n</g>\n<!-- node135312202506368&#45;&gt;node135312173064064 -->\n<g id=\"edge4\" class=\"edge\">\n<title>node135312202506368:3&#45;&gt;node135312173064064:w</title>\n<path fill=\"none\" stroke=\"#444443\" stroke-width=\"0.5\" d=\"M14,-50C25.59,-50 25.43,-40.76 36,-36 64.04,-23.36 72.63,-16.6 101.49,-16.04\"/>\n<polygon fill=\"#444443\" stroke=\"#444443\" stroke-width=\"0.5\" points=\"101.51,-17.44 105.5,-16 101.49,-14.64 101.51,-17.44\"/>\n</g>\n<!-- node135312192609920 -->\n<g id=\"node4\" class=\"node\">\n<title>node135312192609920</title>\n<polygon fill=\"#fefecd\" stroke=\"#444443\" stroke-width=\"0.5\" points=\"467,-105 291,-105 291,-71 467,-71 467,-105\"/>\n<polygon fill=\"#fefecd\" stroke=\"transparent\" points=\"293,-89 293,-103 333,-103 333,-89 293,-89\"/>\n<text text-anchor=\"start\" x=\"293\" y=\"-93.2\" font-family=\"Helvetica,sans-Serif\" font-size=\"11.00\" fill=\"#444443\">&#39;source&#39; </text>\n<text text-anchor=\"start\" x=\"333\" y=\"-91.8\" font-family=\"Helvetica,sans-Serif\" font-size=\"9.00\" fill=\"#444443\">→</text>\n<polygon fill=\"#fefecd\" stroke=\"transparent\" points=\"343,-89 343,-103 465,-103 465,-89 343,-89\"/>\n<text text-anchor=\"start\" x=\"344\" y=\"-93.2\" font-family=\"Helvetica,sans-Serif\" font-size=\"11.00\" fill=\"#444443\"> &#39;https://www.develope...&#39;</text>\n<polygon fill=\"#fefecd\" stroke=\"transparent\" points=\"293,-87 293,-89 465,-89 465,-87 293,-87\"/>\n<polygon fill=\"#fefecd\" stroke=\"transparent\" points=\"293,-73 293,-87 333,-87 333,-73 293,-73\"/>\n<text text-anchor=\"start\" x=\"301\" y=\"-77.2\" font-family=\"Helvetica,sans-Serif\" font-size=\"11.00\" fill=\"#444443\">&#39;page&#39; </text>\n<text text-anchor=\"start\" x=\"333\" y=\"-75.8\" font-family=\"Helvetica,sans-Serif\" font-size=\"9.00\" fill=\"#444443\">→</text>\n<polygon fill=\"#fefecd\" stroke=\"transparent\" points=\"343,-73 343,-87 465,-87 465,-73 343,-73\"/>\n<text text-anchor=\"start\" x=\"344\" y=\"-77.2\" font-family=\"Helvetica,sans-Serif\" font-size=\"11.00\" fill=\"#444443\"> 0</text>\n</g>\n<!-- node135312183262848&#45;&gt;node135312192609920 -->\n<g id=\"edge5\" class=\"edge\">\n<title>node135312183262848:c&#45;&gt;node135312192609920</title>\n<path fill=\"none\" stroke=\"#444443\" stroke-width=\"0.5\" d=\"M186.02,-88C198.68,-88 243.51,-88 286.66,-88\"/>\n<ellipse fill=\"#444443\" stroke=\"#444443\" stroke-width=\"0.5\" cx=\"184.1\" cy=\"-88\" rx=\"1.6\" ry=\"1.6\"/>\n<polygon fill=\"#444443\" stroke=\"#444443\" stroke-width=\"0.5\" points=\"286.83,-89.4 290.83,-88 286.83,-86.6 286.83,-89.4\"/>\n</g>\n</g>\n</svg>\n",
            "text/plain": [
              "<graphviz.sources.Source at 0x7b10d2df1450>"
            ]
          },
          "metadata": {},
          "execution_count": 49
        }
      ],
      "source": [
        "# Display the first splitted document\n",
        "lolviz.objviz(splitted_documents[0])"
      ]
    },
    {
      "cell_type": "markdown",
      "id": "e6c14b60-9ac7-494e-937e-7cd1e758948c",
      "metadata": {
        "id": "e6c14b60-9ac7-494e-937e-7cd1e758948c"
      },
      "source": [
        "> 💡 Explanation\n",
        "\n",
        "- **Separators**:\n",
        "    - The separators parameter is a list of strings that the algorithm will use to split the text.\n",
        "    - The algorithm will try to split the text using the first separator in the list.\n",
        "    - If the resulting chunks are still larger than the chunk_size, it will try to split them further using the next separator in the list, and so on.\n",
        "    - This process continues until all chunks are smaller than the chunk_size or until all separators have been used.\n",
        "- **Chunk Size**:\n",
        "    - The chunk_size parameter is the maximum size for each chunk of text.\n",
        "    - If after using all separators, there are still chunks that are larger than the chunk_size, the algorithm will split these chunks at the chunk_size character, regardless of where this falls in the text.\n",
        "- **Chunk Overlap**:\n",
        "    - The chunk_overlap parameter determines how many characters from the end of one chunk should be repeated at the start of the next chunk.\n",
        "    - This can be useful to provide context when processing each chunk independently.\n",
        "- **Length Function**:\n",
        "    - The length_function parameter is a function that calculates the ‘length’ of a chunk.\n",
        "    - This could be a simple function like len (which counts characters), or a more complex function like count_tokens (which counts words or tokens).\n",
        "\n",
        "`RecursiveCharacterTextSplitter` will first try to split by the separators. If the resulting chunks are still too large, it will then split them further until they are smaller than the chunk_size. The chunk_overlap is applied after all splitting is done. The length_function is used throughout this process to measure the size of the chunks. It’s important to note that the separators are tried in the order they are given in the list, and the algorithm will always try to split by separators before resorting to splitting by chunk_size"
      ]
    },
    {
      "cell_type": "code",
      "execution_count": null,
      "id": "84d54be0",
      "metadata": {
        "id": "84d54be0",
        "outputId": "49dfe790-f79c-4134-84eb-83690bce44fe",
        "colab": {
          "base_uri": "https://localhost:8080/"
        }
      },
      "outputs": [
        {
          "output_type": "stream",
          "name": "stdout",
          "text": [
            "67\n",
            "456\n",
            "45\n",
            "37\n",
            "454\n",
            "150\n",
            "463\n",
            "188\n",
            "299\n",
            "222\n",
            "143\n",
            "35\n",
            "256\n",
            "231\n",
            "305\n",
            "118\n",
            "321\n",
            "119\n",
            "138\n",
            "104\n",
            "372\n",
            "304\n",
            "285\n",
            "133\n",
            "115\n",
            "71\n",
            "75\n",
            "54\n",
            "362\n",
            "51\n",
            "29\n",
            "150\n",
            "209\n",
            "254\n",
            "128\n",
            "142\n",
            "128\n",
            "158\n",
            "89\n",
            "103\n",
            "68\n",
            "9\n",
            "104\n",
            "196\n",
            "43\n",
            "9\n",
            "56\n",
            "282\n",
            "125\n",
            "56\n",
            "67\n",
            "105\n",
            "9\n",
            "111\n",
            "117\n",
            "9\n",
            "177\n",
            "84\n",
            "78\n",
            "27\n",
            "31\n",
            "29\n",
            "57\n",
            "68\n",
            "118\n",
            "89\n",
            "109\n",
            "9\n",
            "134\n",
            "131\n",
            "49\n",
            "29\n",
            "83\n",
            "256\n",
            "100\n",
            "9\n",
            "150\n",
            "31\n",
            "80\n",
            "9\n",
            "129\n",
            "99\n",
            "177\n",
            "9\n",
            "363\n",
            "343\n",
            "97\n",
            "408\n",
            "107\n",
            "80\n",
            "52\n",
            "31\n",
            "159\n",
            "128\n",
            "52\n",
            "9\n",
            "77\n",
            "116\n",
            "130\n",
            "363\n",
            "176\n",
            "439\n",
            "258\n",
            "132\n",
            "126\n",
            "324\n",
            "155\n",
            "367\n",
            "204\n",
            "286\n",
            "232\n",
            "96\n",
            "318\n",
            "369\n",
            "302\n",
            "51\n",
            "202\n",
            "435\n",
            "317\n",
            "313\n",
            "137\n",
            "174\n",
            "326\n",
            "375\n",
            "235\n",
            "317\n",
            "374\n",
            "305\n",
            "193\n",
            "193\n",
            "261\n",
            "278\n",
            "32\n",
            "442\n",
            "114\n",
            "438\n",
            "252\n",
            "317\n",
            "87\n",
            "52\n"
          ]
        }
      ],
      "source": [
        "# Show the number of tokens in each of the splitted documents\n",
        "for doc in splitted_documents:\n",
        "    print(count_tokens(doc.page_content))"
      ]
    },
    {
      "cell_type": "code",
      "execution_count": null,
      "id": "a068f2cd-e94e-4288-b01f-a7c20938bfd4",
      "metadata": {
        "ExecuteTime": {
          "end_time": "2024-04-18T10:15:46.989328Z",
          "start_time": "2024-04-18T10:15:46.985814Z"
        },
        "id": "a068f2cd-e94e-4288-b01f-a7c20938bfd4",
        "outputId": "741bc981-5c41-4611-8ed4-65e055b378bb",
        "colab": {
          "base_uri": "https://localhost:8080/"
        }
      },
      "outputs": [
        {
          "output_type": "execute_result",
          "data": {
            "text/plain": [
              "Document(metadata={'source': 'https://www.developer.tech.gov.sg/products/collections/data-science-and-artificial-intelligence/playbooks/prompt-engineering-playbook-beta-v3.pdf', 'page': 12}, page_content='Prompt Engineering Playbook  \\nPage  13 give you the same result (even if it may be different from what you see here). You can see that the \\nresult is usually more “conservative”.  \\n \\nHowever, with a creativity setting of High, you can run it a few times to see the different \\nresults . The first try yielded this. The AI seems to “think out of the box” now.  \\n \\nA second try yielded this instead.  \\n \\nExplore with the different Creativity settings especially if you feel that your prompts are not getting \\nthe responses you need.')"
            ]
          },
          "metadata": {},
          "execution_count": 51
        }
      ],
      "source": [
        "splitted_documents[15]"
      ]
    },
    {
      "cell_type": "code",
      "execution_count": null,
      "id": "bb0379d5-7c0e-4af1-9375-f9ab9c1d7260",
      "metadata": {
        "id": "bb0379d5-7c0e-4af1-9375-f9ab9c1d7260",
        "outputId": "70fb27a5-10f1-45fb-999c-abcf356b4621",
        "colab": {
          "base_uri": "https://localhost:8080/"
        }
      },
      "outputs": [
        {
          "output_type": "execute_result",
          "data": {
            "text/plain": [
              "Document(metadata={'source': 'https://www.developer.tech.gov.sg/products/collections/data-science-and-artificial-intelligence/playbooks/prompt-engineering-playbook-beta-v3.pdf', 'page': 13}, page_content='Prompt Engineering Playbook  \\nPage  14 Zero Shot, One Shot, Few Shots  \\nYou may have heard someone praise ChatGPT before with something like this “Wow, it \\nperforms very well even with zero shot learning”.  \\nIn this context  of using such LLM -powered chat , one shot , few shots , and zero shots  refer \\nto how much data you are exposing to the pre -trained model (e.g.  OpenAI’s ChatGPT 3.5 Turbo) \\nto help it with formulating its respon se. More specifically,  \\n• Few-shot learning  is where you provide multiple examples to the AI model, and it is able \\nto generalize to new examples of what you need . \\n• One shot learning  is similar,  but instead of multiple examples, you only pass in one.  \\n• Zero -shot learning  is where you directly pose a question type of machine learning \\nwithout giving it any examples.  \\nYou can imagine that m ost models will do better in few -shot learning rather than zero -\\nshot since the model is exposed and trained with more data. However, one of the reasons why \\nChatGPT is so powerful is because its LLM is able to generalize very well even without being shown  \\nany e xamples.  \\nTake for example that you’re trying to do sentiment analysis here. A zero -shot way of using \\nit will look something like this.  \\n \\nEven though there were no examples shown to the AI, it knows what type of response you \\nare looking for and gets it corr ect.')"
            ]
          },
          "metadata": {},
          "execution_count": 52
        }
      ],
      "source": [
        "splitted_documents[16]"
      ]
    },
    {
      "cell_type": "code",
      "execution_count": null,
      "id": "283a4787-6719-4cc2-8536-ae3f4b7975c1",
      "metadata": {
        "id": "283a4787-6719-4cc2-8536-ae3f4b7975c1",
        "outputId": "505b166c-e4d1-4a0d-db89-2d661d5d1a3f",
        "colab": {
          "base_uri": "https://localhost:8080/"
        }
      },
      "outputs": [
        {
          "output_type": "execute_result",
          "data": {
            "text/plain": [
              "Document(metadata={'source': 'https://www.developer.tech.gov.sg/products/collections/data-science-and-artificial-intelligence/playbooks/prompt-engineering-playbook-beta-v3.pdf', 'page': 14}, page_content='Prompt Engineering Playbook  \\nPage  15 With few-shots  learning, you will type in a prompt like this.  \\n \\nYou can see that once you’ve shown the AI how you want the response to be like, and how \\nit should look like, the AI is able to emulate it pretty well. Since the samples given to the AI ar e a \\nsingle word of positive, negative or neutral, the AI learns that you would like the response to be \\njust a single word, which is “positive” , and dutifully complies.  Here’s another example.')"
            ]
          },
          "metadata": {},
          "execution_count": 53
        }
      ],
      "source": [
        "splitted_documents[17]"
      ]
    },
    {
      "cell_type": "markdown",
      "id": "b214d65b",
      "metadata": {
        "id": "b214d65b"
      },
      "source": [
        "⚠️ This code example primarily is for us to demo the capabilities of `RecursiveCharacterTextSplitter` for breaking down a PDF document into smaller chunks. It highlights how you can customize the splitting process using different separators and control chunk size and overlap.\n",
        "\n",
        "**However, it's crucial to understand that optimal splitting and chunking strategies are highly dependent on the document's content and structure.** While this example demonstrates a character-based approach, more advanced techniques often prove more effective (we will cover a some of the advanced techniques in the next topic).\n",
        "\n",
        "---\n",
        "\n",
        "Splitting by page can be problematic, particularly in some cases, because:\n",
        "\n",
        "* **Pages often contain disparate information:** A single page might house headings, paragraphs, tables, and figures, making it a poor unit for preserving semantic coherence.\n",
        "* **Important context can be lost:** Splitting mid-sentence or mid-paragraph across pages can sever crucial contextual information, hindering comprehension.\n",
        "\n",
        "While this example provides a foundational understanding of text splitting, exploring alternative methods like semantic chunking is highly recommended for real-world applications.\n"
      ]
    },
    {
      "cell_type": "markdown",
      "id": "ef7efabf-f41e-4a98-81ea-fb8312ed9063",
      "metadata": {
        "id": "ef7efabf-f41e-4a98-81ea-fb8312ed9063"
      },
      "source": [
        "<br>\n",
        "\n",
        "---"
      ]
    },
    {
      "cell_type": "markdown",
      "id": "359280fe-35d5-4282-8e1a-83a4a70b081b",
      "metadata": {
        "id": "359280fe-35d5-4282-8e1a-83a4a70b081b"
      },
      "source": [
        "### Embedding & Vectorstores"
      ]
    },
    {
      "cell_type": "markdown",
      "id": "606d79c5",
      "metadata": {
        "id": "606d79c5"
      },
      "source": [
        "One of the most common ways to store and search over unstructured data is to embed it and store the resulting embedding vectors, and then at query time to embed the unstructured query and retrieve the embedding vectors that are 'most similar' to the embedded query. A vector store takes care of storing embedded data and performing vector search for you.\n",
        "\n",
        "Most vector stores can also store metadata about embedded vectors and support filtering on that metadata before similarity search, allowing you more control over returned documents."
      ]
    },
    {
      "cell_type": "markdown",
      "id": "3adcd4e3",
      "metadata": {
        "id": "3adcd4e3"
      },
      "source": [
        "![](https://abc-notes.data.tech.gov.sg/resources/img/topic-4-rag-storage.png)"
      ]
    },
    {
      "cell_type": "code",
      "execution_count": null,
      "id": "d6d3ab60-7147-4404-a734-47641f3e9184",
      "metadata": {
        "id": "d6d3ab60-7147-4404-a734-47641f3e9184"
      },
      "outputs": [],
      "source": [
        "from langchain_chroma import Chroma\n",
        "from langchain_openai import OpenAIEmbeddings"
      ]
    },
    {
      "cell_type": "code",
      "execution_count": null,
      "id": "16aab217-4bdb-4a2f-9153-bacbc531f68e",
      "metadata": {
        "id": "16aab217-4bdb-4a2f-9153-bacbc531f68e"
      },
      "outputs": [],
      "source": [
        "# An embeddings model is initialized using the OpenAIEmbeddings class.\n",
        "# The specified model is 'text-embedding-3-small'.\n",
        "embeddings_model = OpenAIEmbeddings(model='text-embedding-3-small')\n",
        "\n",
        "\n",
        "# For more info on using the Chroma class, refer to the documentation https://python.langchain.com/v0.2/docs/integrations/vectorstores/chroma/\n",
        "vector_store = Chroma.from_documents(\n",
        "    collection_name=\"prompt_engineering_playbook\",\n",
        "    documents=splitted_documents,\n",
        "    embedding=embeddings_model,\n",
        "    persist_directory=\"./chroma_langchain_db\",  # Where to save data locally, remove if not neccesary\n",
        ")"
      ]
    },
    {
      "cell_type": "code",
      "execution_count": null,
      "id": "468a8003",
      "metadata": {
        "id": "468a8003",
        "outputId": "39143301-8c24-4ef1-aab8-706915d536c9",
        "colab": {
          "base_uri": "https://localhost:8080/"
        }
      },
      "outputs": [
        {
          "output_type": "execute_result",
          "data": {
            "text/plain": [
              "140"
            ]
          },
          "metadata": {},
          "execution_count": 56
        }
      ],
      "source": [
        "# Show the number of documents in the vector store\n",
        "vector_store._collection.count()"
      ]
    },
    {
      "cell_type": "code",
      "execution_count": null,
      "id": "ae58eebc",
      "metadata": {
        "id": "ae58eebc",
        "outputId": "70c96195-0d87-4091-e78b-bc999c133285",
        "colab": {
          "base_uri": "https://localhost:8080/"
        }
      },
      "outputs": [
        {
          "output_type": "execute_result",
          "data": {
            "text/plain": [
              "{'ids': ['00a3e28f-07db-482d-aea8-d3f1f4b9f69d'],\n",
              " 'embeddings': [[-0.020841309800744057,\n",
              "   0.01575116626918316,\n",
              "   0.00071138289058581,\n",
              "   0.00028786706388927996,\n",
              "   -0.01503006275743246,\n",
              "   -0.021703805774450302,\n",
              "   0.005927896127104759,\n",
              "   0.0017682946054264903,\n",
              "   -0.0011399800423532724,\n",
              "   0.03396257013082504,\n",
              "   0.0560198575258255,\n",
              "   -0.06973496824502945,\n",
              "   0.013877710327506065,\n",
              "   -0.041060492396354675,\n",
              "   0.0410887710750103,\n",
              "   -0.014549327082931995,\n",
              "   0.017575133591890335,\n",
              "   0.008130090311169624,\n",
              "   0.01273242849856615,\n",
              "   -0.021081676706671715,\n",
              "   0.029805617406964302,\n",
              "   0.025351742282509804,\n",
              "   -0.03362322598695755,\n",
              "   0.04753628373146057,\n",
              "   -0.004775544162839651,\n",
              "   0.0078119561076164246,\n",
              "   0.04301171377301216,\n",
              "   0.07035709172487259,\n",
              "   -0.005729946307837963,\n",
              "   -0.002189822029322386,\n",
              "   0.009515740908682346,\n",
              "   -0.03489576280117035,\n",
              "   -0.027218127623200417,\n",
              "   -0.06012025102972984,\n",
              "   0.0001578518858877942,\n",
              "   -0.012096160091459751,\n",
              "   0.049657177180051804,\n",
              "   0.026808088645339012,\n",
              "   -0.011367986910045147,\n",
              "   0.01703784056007862,\n",
              "   0.01627431996166706,\n",
              "   -0.02270769514143467,\n",
              "   -0.05500182881951332,\n",
              "   0.0474514476954937,\n",
              "   -0.004853310529142618,\n",
              "   0.012074951082468033,\n",
              "   -0.006291982717812061,\n",
              "   -0.04049491882324219,\n",
              "   0.03489576280117035,\n",
              "   0.009749039076268673,\n",
              "   0.012591035105288029,\n",
              "   0.01413221750408411,\n",
              "   -0.029494553804397583,\n",
              "   -0.0362248532474041,\n",
              "   -0.00448215426877141,\n",
              "   0.007656424306333065,\n",
              "   -0.0012654662132263184,\n",
              "   0.004153415560722351,\n",
              "   -0.001770945731550455,\n",
              "   0.00455992016941309,\n",
              "   -0.013340417295694351,\n",
              "   -0.031049875542521477,\n",
              "   0.05669854208827019,\n",
              "   0.05842353403568268,\n",
              "   0.014266541227698326,\n",
              "   -0.009183467365801334,\n",
              "   -0.05966779217123985,\n",
              "   0.04114532470703125,\n",
              "   0.0016224832506850362,\n",
              "   -0.0003548077365849167,\n",
              "   -0.0460657998919487,\n",
              "   -0.015100759454071522,\n",
              "   -0.021152373403310776,\n",
              "   -0.03424535319209099,\n",
              "   0.037865012884140015,\n",
              "   -0.048780541867017746,\n",
              "   -0.06294810771942139,\n",
              "   0.0721103623509407,\n",
              "   -0.018098287284374237,\n",
              "   -0.050760041922330856,\n",
              "   -0.006390958093106747,\n",
              "   -0.030512582510709763,\n",
              "   0.028872424736618996,\n",
              "   -0.045839570462703705,\n",
              "   -0.03500887751579285,\n",
              "   -0.06549318134784698,\n",
              "   -0.03874164819717407,\n",
              "   -0.0065676989033818245,\n",
              "   -0.06243909150362015,\n",
              "   -0.05876287817955017,\n",
              "   -0.024998260661959648,\n",
              "   0.021322045475244522,\n",
              "   0.009006726555526257,\n",
              "   -0.017589272931218147,\n",
              "   -0.012301180511713028,\n",
              "   0.041428111493587494,\n",
              "   0.027769559994339943,\n",
              "   0.006719696335494518,\n",
              "   0.010569117031991482,\n",
              "   0.0894734114408493,\n",
              "   0.01896078512072563,\n",
              "   -0.0571792796254158,\n",
              "   0.009077422320842743,\n",
              "   0.0090279346331954,\n",
              "   0.047310054302215576,\n",
              "   -0.034669533371925354,\n",
              "   -0.021025121212005615,\n",
              "   0.03351011127233505,\n",
              "   -0.024036789312958717,\n",
              "   -0.048639148473739624,\n",
              "   -0.04535883292555809,\n",
              "   -0.04581129178404808,\n",
              "   -0.0012716521741822362,\n",
              "   0.06679399311542511,\n",
              "   0.06074237823486328,\n",
              "   -0.01963946968317032,\n",
              "   -0.03082364611327648,\n",
              "   0.043209660798311234,\n",
              "   0.058536648750305176,\n",
              "   -0.02265113778412342,\n",
              "   -0.056755099445581436,\n",
              "   -0.0020608012564480305,\n",
              "   -0.04657481238245964,\n",
              "   -0.00018347935110796243,\n",
              "   -0.031869955360889435,\n",
              "   0.00032829659176059067,\n",
              "   0.035319939255714417,\n",
              "   -0.064814493060112,\n",
              "   -0.027076736092567444,\n",
              "   -0.020714055746793747,\n",
              "   -0.008716871030628681,\n",
              "   0.01652882620692253,\n",
              "   0.05002480000257492,\n",
              "   -0.039787955582141876,\n",
              "   0.035828955471515656,\n",
              "   -0.0105903260409832,\n",
              "   0.009232955053448677,\n",
              "   0.06639809161424637,\n",
              "   0.020247459411621094,\n",
              "   -0.009558157995343208,\n",
              "   -0.012994005344808102,\n",
              "   -0.009678342379629612,\n",
              "   -0.0484977550804615,\n",
              "   0.02443268895149231,\n",
              "   -0.04063631221652031,\n",
              "   -0.005645110737532377,\n",
              "   -0.03427363187074661,\n",
              "   -0.014351376332342625,\n",
              "   -0.02508309669792652,\n",
              "   0.04835636168718338,\n",
              "   -0.020883727818727493,\n",
              "   -0.006355609744787216,\n",
              "   -0.04527399688959122,\n",
              "   -0.015991533175110817,\n",
              "   -0.00440085306763649,\n",
              "   -0.00646165432408452,\n",
              "   -0.01049135159701109,\n",
              "   0.02277839183807373,\n",
              "   0.002813718281686306,\n",
              "   -0.008250273764133453,\n",
              "   0.01696714572608471,\n",
              "   0.035574447363615036,\n",
              "   -0.044058021157979965,\n",
              "   0.005896083079278469,\n",
              "   -0.047055549919605255,\n",
              "   0.0036302621010690928,\n",
              "   0.007437265012413263,\n",
              "   0.024475106969475746,\n",
              "   -0.0649276077747345,\n",
              "   0.024969981983304024,\n",
              "   -0.006291982717812061,\n",
              "   -0.020134344696998596,\n",
              "   -0.023640887811779976,\n",
              "   -0.02839168906211853,\n",
              "   0.03170028328895569,\n",
              "   0.011155897751450539,\n",
              "   -0.030851924791932106,\n",
              "   0.016613662242889404,\n",
              "   -0.029494553804397583,\n",
              "   -0.02635563164949417,\n",
              "   -0.0211806520819664,\n",
              "   -0.002905623521655798,\n",
              "   0.0005425951676443219,\n",
              "   0.0031831071246415377,\n",
              "   -0.013149537146091461,\n",
              "   -0.0013149537844583392,\n",
              "   -0.03554616868495941,\n",
              "   -0.02252388559281826,\n",
              "   -0.05618952959775925,\n",
              "   0.008108881302177906,\n",
              "   0.038685090839862823,\n",
              "   -0.0019317801343277097,\n",
              "   0.013001075014472008,\n",
              "   0.0017895036144182086,\n",
              "   0.025125514715909958,\n",
              "   -0.030965039506554604,\n",
              "   0.03189823403954506,\n",
              "   0.0028278573881834745,\n",
              "   0.05418175086379051,\n",
              "   -0.0023789352271705866,\n",
              "   0.039137545973062515,\n",
              "   0.008108881302177906,\n",
              "   0.021406881511211395,\n",
              "   0.0267939493060112,\n",
              "   -0.024277156218886375,\n",
              "   0.04688587784767151,\n",
              "   -0.007444334682077169,\n",
              "   0.01716509461402893,\n",
              "   -0.005899617914110422,\n",
              "   0.0005739667103625834,\n",
              "   0.02398023195564747,\n",
              "   -0.04128671810030937,\n",
              "   0.03667731210589409,\n",
              "   0.021095816045999527,\n",
              "   -0.042135074734687805,\n",
              "   -0.01761755160987377,\n",
              "   -0.026185959577560425,\n",
              "   0.03936377540230751,\n",
              "   -0.027585750445723534,\n",
              "   -0.03834574669599533,\n",
              "   0.007529170718044043,\n",
              "   -0.03925066068768501,\n",
              "   0.01553907711058855,\n",
              "   0.006599512416869402,\n",
              "   -0.02361260913312435,\n",
              "   0.0386568121612072,\n",
              "   -0.01352422870695591,\n",
              "   -0.053107164800167084,\n",
              "   -0.005365859717130661,\n",
              "   -0.04038180410861969,\n",
              "   -0.0009473322425037622,\n",
              "   0.018013453111052513,\n",
              "   -0.05169323459267616,\n",
              "   -0.03975967690348625,\n",
              "   0.021279627457261086,\n",
              "   -0.01952635683119297,\n",
              "   -0.05921533703804016,\n",
              "   -0.003571937559172511,\n",
              "   0.02086958847939968,\n",
              "   -0.00505833001807332,\n",
              "   -0.0347260907292366,\n",
              "   -0.048837099224328995,\n",
              "   -0.012845542281866074,\n",
              "   -0.06543662399053574,\n",
              "   -0.0224531888961792,\n",
              "   0.024390270933508873,\n",
              "   0.023244988173246384,\n",
              "   -0.06436203420162201,\n",
              "   0.012230483815073967,\n",
              "   0.009522809647023678,\n",
              "   0.04815841466188431,\n",
              "   0.000774567830376327,\n",
              "   -0.002465538214892149,\n",
              "   -0.05429486557841301,\n",
              "   -0.018805252388119698,\n",
              "   -0.0168398916721344,\n",
              "   -0.0003104015486314893,\n",
              "   0.030201518908143044,\n",
              "   -0.03814779594540596,\n",
              "   0.005835990887135267,\n",
              "   0.012294110842049122,\n",
              "   0.04892193526029587,\n",
              "   -7.235338853206486e-05,\n",
              "   -0.011516449972987175,\n",
              "   -0.002430190099403262,\n",
              "   0.026313213631510735,\n",
              "   0.025111375376582146,\n",
              "   0.006274309009313583,\n",
              "   -0.03133266046643257,\n",
              "   -0.019116315990686417,\n",
              "   -0.042191632091999054,\n",
              "   0.024588221684098244,\n",
              "   0.05288093537092209,\n",
              "   -0.012265832163393497,\n",
              "   -0.0898127555847168,\n",
              "   -0.024305434897542,\n",
              "   0.018451770767569542,\n",
              "   -0.02960766851902008,\n",
              "   -0.03401912376284599,\n",
              "   0.014761416241526604,\n",
              "   -0.012753637507557869,\n",
              "   -0.03676214814186096,\n",
              "   0.007119131274521351,\n",
              "   -0.010830693878233433,\n",
              "   0.0013927198015153408,\n",
              "   0.010109590366482735,\n",
              "   0.011827513575553894,\n",
              "   -0.01387064065784216,\n",
              "   0.018550744280219078,\n",
              "   -0.022283516824245453,\n",
              "   -0.025097236037254333,\n",
              "   -0.005192653276026249,\n",
              "   0.022919785231351852,\n",
              "   0.02014848403632641,\n",
              "   0.005991523154079914,\n",
              "   0.006316726561635733,\n",
              "   0.042842041701078415,\n",
              "   -0.006818671245127916,\n",
              "   -0.009932849556207657,\n",
              "   -0.016048090532422066,\n",
              "   0.013283860869705677,\n",
              "   -0.02986217476427555,\n",
              "   -0.011000365950167179,\n",
              "   0.006634860765188932,\n",
              "   0.013411113992333412,\n",
              "   -0.023018760606646538,\n",
              "   0.007882652804255486,\n",
              "   -0.07544723898172379,\n",
              "   0.023838838562369347,\n",
              "   -0.030795367434620857,\n",
              "   0.05921533703804016,\n",
              "   -0.019498078152537346,\n",
              "   0.014195844531059265,\n",
              "   -0.033594947308301926,\n",
              "   -0.005737015977501869,\n",
              "   -0.07024397701025009,\n",
              "   0.06696366518735886,\n",
              "   -0.015341127291321754,\n",
              "   0.016924727708101273,\n",
              "   0.006684347987174988,\n",
              "   -0.04569817706942558,\n",
              "   -0.003303291043266654,\n",
              "   0.017391324043273926,\n",
              "   -0.025478996336460114,\n",
              "   0.0046164775267243385,\n",
              "   -0.004570524673908949,\n",
              "   0.016443992033600807,\n",
              "   0.02335810288786888,\n",
              "   -0.008921890519559383,\n",
              "   -0.022919785231351852,\n",
              "   -0.000695034337695688,\n",
              "   -0.0036691450513899326,\n",
              "   -0.027529193088412285,\n",
              "   -0.04295515641570091,\n",
              "   0.014153426513075829,\n",
              "   -0.029494553804397583,\n",
              "   -0.013319209218025208,\n",
              "   -0.03305765241384506,\n",
              "   -0.014817973598837852,\n",
              "   0.004510432481765747,\n",
              "   -0.03370806202292442,\n",
              "   0.00045289905392564833,\n",
              "   -0.02532346360385418,\n",
              "   0.01997881382703781,\n",
              "   -0.03308593109250069,\n",
              "   0.0030929690692573786,\n",
              "   0.0016746218316257,\n",
              "   0.04332277551293373,\n",
              "   0.064588263630867,\n",
              "   0.01722165197134018,\n",
              "   0.01939910277724266,\n",
              "   0.019285988062620163,\n",
              "   -0.04154122620820999,\n",
              "   -0.005871339235454798,\n",
              "   0.013213164173066616,\n",
              "   -0.027515053749084473,\n",
              "   -0.02176036313176155,\n",
              "   -3.5106579616694944e-06,\n",
              "   -0.0016834589187055826,\n",
              "   -0.02450338564813137,\n",
              "   -0.007253454532474279,\n",
              "   0.03800640627741814,\n",
              "   0.04632030427455902,\n",
              "   0.04394490644335747,\n",
              "   -0.02877344936132431,\n",
              "   0.005938500631600618,\n",
              "   -0.009169328026473522,\n",
              "   0.02474375255405903,\n",
              "   0.03551789000630379,\n",
              "   0.004379644058644772,\n",
              "   0.04453875496983528,\n",
              "   0.016825752332806587,\n",
              "   -0.022735973820090294,\n",
              "   -0.007133270613849163,\n",
              "   -0.014344306662678719,\n",
              "   -0.016938867047429085,\n",
              "   -0.02034643478691578,\n",
              "   0.02603042870759964,\n",
              "   -0.0022021939512342215,\n",
              "   0.020275738090276718,\n",
              "   0.008123020641505718,\n",
              "   -0.05118422210216522,\n",
              "   -0.00173383008223027,\n",
              "   -0.005433021113276482,\n",
              "   0.0038388166576623917,\n",
              "   0.0003084132040385157,\n",
              "   0.020106066018342972,\n",
              "   0.007140340283513069,\n",
              "   -0.037101488560438156,\n",
              "   -0.007507961709052324,\n",
              "   0.012131508439779282,\n",
              "   -0.0071686189621686935,\n",
              "   0.027401939034461975,\n",
              "   0.003789328970015049,\n",
              "   0.024715473875403404,\n",
              "   0.02986217476427555,\n",
              "   -0.007698841858655214,\n",
              "   0.02272183448076248,\n",
              "   0.017702387645840645,\n",
              "   0.020275738090276718,\n",
              "   0.012803125195205212,\n",
              "   0.013814084231853485,\n",
              "   -0.008914820849895477,\n",
              "   0.008434085175395012,\n",
              "   -0.03834574669599533,\n",
              "   0.011375056579709053,\n",
              "   0.00455992016941309,\n",
              "   0.010922599583864212,\n",
              "   -0.01920115202665329,\n",
              "   -0.00416402006521821,\n",
              "   0.08574064075946808,\n",
              "   -0.047055549919605255,\n",
              "   0.05709444358944893,\n",
              "   -0.022933924570679665,\n",
              "   0.014004964381456375,\n",
              "   -0.017136815935373306,\n",
              "   0.0039201173931360245,\n",
              "   0.013227303512394428,\n",
              "   -0.03732771798968315,\n",
              "   0.007310011424124241,\n",
              "   -0.05525633692741394,\n",
              "   -0.003006366081535816,\n",
              "   0.02335810288786888,\n",
              "   -0.009805595502257347,\n",
              "   -0.014111008495092392,\n",
              "   0.06775546818971634,\n",
              "   0.024828588590025902,\n",
              "   0.010187356732785702,\n",
              "   0.013672690838575363,\n",
              "   -0.03670559078454971,\n",
              "   0.016627801582217216,\n",
              "   0.037101488560438156,\n",
              "   0.02997528947889805,\n",
              "   0.004987633787095547,\n",
              "   -0.02704845741391182,\n",
              "   -0.02110995538532734,\n",
              "   -0.001621599541977048,\n",
              "   0.013142467476427555,\n",
              "   0.002658186014741659,\n",
              "   -0.001823968137614429,\n",
              "   0.013227303512394428,\n",
              "   -0.026907064020633698,\n",
              "   -0.025422438979148865,\n",
              "   0.01767410896718502,\n",
              "   -0.07109233736991882,\n",
              "   -0.01823968067765236,\n",
              "   -0.02723226696252823,\n",
              "   -0.032407246530056,\n",
              "   -0.023895395919680595,\n",
              "   -0.035319939255714417,\n",
              "   -0.012612244114279747,\n",
              "   -0.03746911138296127,\n",
              "   0.005019446834921837,\n",
              "   0.05392724275588989,\n",
              "   0.017518576234579086,\n",
              "   -0.01983742043375969,\n",
              "   0.05576534941792488,\n",
              "   -0.005390603560954332,\n",
              "   0.05531289428472519,\n",
              "   0.04074942693114281,\n",
              "   0.031049875542521477,\n",
              "   -0.0022622859105467796,\n",
              "   0.023824699223041534,\n",
              "   0.011516449972987175,\n",
              "   -0.027896814048290253,\n",
              "   0.01913045533001423,\n",
              "   -0.03351011127233505,\n",
              "   -0.01503006275743246,\n",
              "   -0.007656424306333065,\n",
              "   0.022099705412983894,\n",
              "   0.0014095102669671178,\n",
              "   -0.03879820555448532,\n",
              "   0.0003097387671004981,\n",
              "   -0.004662429913878441,\n",
              "   -0.0034499862231314182,\n",
              "   -0.017249930649995804,\n",
              "   0.004931076429784298,\n",
              "   0.0008032882469706237,\n",
              "   -0.013792875222861767,\n",
              "   -0.03215273842215538,\n",
              "   -0.018465910106897354,\n",
              "   -0.012386015616357327,\n",
              "   0.007564518600702286,\n",
              "   0.06781202554702759,\n",
              "   0.08489228039979935,\n",
              "   0.11056923121213913,\n",
              "   -0.0034658927470445633,\n",
              "   -0.03195479139685631,\n",
              "   -0.04018385335803032,\n",
              "   0.003495938843116164,\n",
              "   0.032124459743499756,\n",
              "   -0.02641218900680542,\n",
              "   0.06017680838704109,\n",
              "   -0.017136815935373306,\n",
              "   -0.006581838242709637,\n",
              "   -0.008031114935874939,\n",
              "   0.0063768187537789345,\n",
              "   -0.046348582953214645,\n",
              "   0.007030760869383812,\n",
              "   0.029381439089775085,\n",
              "   0.019059758633375168,\n",
              "   0.024036789312958717,\n",
              "   0.0149593660607934,\n",
              "   0.02098270319402218,\n",
              "   -0.021534135565161705,\n",
              "   -0.0028579034842550755,\n",
              "   0.029579389840364456,\n",
              "   -0.02067163772881031,\n",
              "   0.024036789312958717,\n",
              "   0.036196574568748474,\n",
              "   0.012131508439779282,\n",
              "   -0.0175327155739069,\n",
              "   0.023824699223041534,\n",
              "   -0.015567355789244175,\n",
              "   -0.013807014562189579,\n",
              "   0.01004596333950758,\n",
              "   -0.028617918491363525,\n",
              "   0.015553216449916363,\n",
              "   0.049402669072151184,\n",
              "   -0.0038635602686554193,\n",
              "   -0.012456712312996387,\n",
              "   -0.04541539028286934,\n",
              "   -0.011594215407967567,\n",
              "   0.010646883398294449,\n",
              "   0.008278552442789078,\n",
              "   -0.012965726666152477,\n",
              "   -0.03073881007730961,\n",
              "   -0.024842727929353714,\n",
              "   -0.037214603275060654,\n",
              "   0.014931087382137775,\n",
              "   0.03534821793437004,\n",
              "   -0.03546133264899254,\n",
              "   -0.013290930539369583,\n",
              "   0.006447514984756708,\n",
              "   -0.05112766474485397,\n",
              "   -0.013163676485419273,\n",
              "   0.007896792143583298,\n",
              "   0.005740550812333822,\n",
              "   -0.04668792709708214,\n",
              "   0.013503019697964191,\n",
              "   -0.013708039186894894,\n",
              "   -0.025691084563732147,\n",
              "   0.010866042226552963,\n",
              "   0.038571976125240326,\n",
              "   -0.017122676596045494,\n",
              "   -0.010894320905208588,\n",
              "   -0.030399467796087265,\n",
              "   -0.009084491990506649,\n",
              "   0.006769184023141861,\n",
              "   0.00962885469198227,\n",
              "   0.001578297931700945,\n",
              "   -0.02125134877860546,\n",
              "   0.028632057830691338,\n",
              "   -0.021901756525039673,\n",
              "   0.04148466885089874,\n",
              "   0.025931453332304955,\n",
              "   0.019950535148382187,\n",
              "   -0.052796099334955215,\n",
              "   -0.007882652804255486,\n",
              "   -0.018861809745430946,\n",
              "   0.014478630386292934,\n",
              "   0.011742678470909595,\n",
              "   0.0017895036144182086,\n",
              "   -0.052230529487133026,\n",
              "   -0.0115447286516428,\n",
              "   0.03656419739127159,\n",
              "   0.02846238575875759,\n",
              "   -0.01946979947388172,\n",
              "   0.016995424404740334,\n",
              "   0.0018009917112067342,\n",
              "   -0.03956172615289688,\n",
              "   0.01836693473160267,\n",
              "   -0.030767088755965233,\n",
              "   0.02373986318707466,\n",
              "   0.02960766851902008,\n",
              "   0.005602692719548941,\n",
              "   0.01511489786207676,\n",
              "   -0.012442572973668575,\n",
              "   -0.01075292844325304,\n",
              "   0.006086963228881359,\n",
              "   -0.012258762493729591,\n",
              "   -0.009848013520240784,\n",
              "   -0.021901756525039673,\n",
              "   0.015228012576699257,\n",
              "   -0.019922256469726562,\n",
              "   -0.030314631760120392,\n",
              "   0.002462003380060196,\n",
              "   0.0008686824585311115,\n",
              "   -0.013234373182058334,\n",
              "   -0.018168983981013298,\n",
              "   0.008476503193378448,\n",
              "   -0.02417818084359169,\n",
              "   -0.0180558692663908,\n",
              "   0.01600567251443863,\n",
              "   -0.03336871787905693,\n",
              "   -0.01767410896718502,\n",
              "   0.01702370122075081,\n",
              "   0.009862152859568596,\n",
              "   0.0020731729455292225,\n",
              "   0.003446451388299465,\n",
              "   0.008822915144264698,\n",
              "   -0.008547198958694935,\n",
              "   -0.011537658981978893,\n",
              "   0.04139983281493187,\n",
              "   -0.0013131863670423627,\n",
              "   -0.004284203983843327,\n",
              "   -0.028787588700652122,\n",
              "   0.02316015213727951,\n",
              "   0.02225523814558983,\n",
              "   0.006178868468850851,\n",
              "   0.006511142011731863,\n",
              "   -0.031813398003578186,\n",
              "   0.007903861813247204,\n",
              "   -0.006797462236136198,\n",
              "   -0.015609772875905037,\n",
              "   -0.010576186701655388,\n",
              "   0.04221991077065468,\n",
              "   -0.00599859282374382,\n",
              "   0.01874869503080845,\n",
              "   -0.02258044295012951,\n",
              "   0.026949482038617134,\n",
              "   -0.03178511932492256,\n",
              "   0.016882309690117836,\n",
              "   0.02475789189338684,\n",
              "   -0.010067172348499298,\n",
              "   0.029749060049653053,\n",
              "   0.022509746253490448,\n",
              "   -0.015369405038654804,\n",
              "   -0.02706259675323963,\n",
              "   0.021293766796588898,\n",
              "   -0.0009199373889714479,\n",
              "   0.025436578318476677,\n",
              "   -0.025309324264526367,\n",
              "   0.02634149231016636,\n",
              "   0.001393603510223329,\n",
              "   -0.0020130809862166643,\n",
              "   0.02047368884086609,\n",
              "   -0.005874874070286751,\n",
              "   -0.008299761451780796,\n",
              "   0.009204676374793053,\n",
              "   0.0016171809984371066,\n",
              "   -0.0026634882669895887,\n",
              "   0.0037257021758705378,\n",
              "   -0.021293766796588898,\n",
              "   0.018607301637530327,\n",
              "   0.013319209218025208,\n",
              "   -0.013955476693809032,\n",
              "   0.020275738090276718,\n",
              "   -0.001155003090389073,\n",
              "   -0.02014848403632641,\n",
              "   -0.03724288195371628,\n",
              "   -0.01071758009493351,\n",
              "   0.020077787339687347,\n",
              "   0.031672004610300064,\n",
              "   0.022594580426812172,\n",
              "   -0.014931087382137775,\n",
              "   -0.01008131168782711,\n",
              "   -0.033453553915023804,\n",
              "   -0.015270430594682693,\n",
              "   -0.023966092616319656,\n",
              "   -0.012237553484737873,\n",
              "   0.02074233442544937,\n",
              "   0.003785794135183096,\n",
              "   -0.017589272931218147,\n",
              "   0.021449299529194832,\n",
              "   0.037667062133550644,\n",
              "   -0.030710533261299133,\n",
              "   0.02711915411055088,\n",
              "   -0.010887251235544682,\n",
              "   0.015920838341116905,\n",
              "   -0.054210029542446136,\n",
              "   0.0374973900616169,\n",
              "   -0.030003568157553673,\n",
              "   0.013121258467435837,\n",
              "   -0.015157315880060196,\n",
              "   0.0022287052124738693,\n",
              "   0.03150233253836632,\n",
              "   -0.02252388559281826,\n",
              "   -0.002419585594907403,\n",
              "   0.0042099729180336,\n",
              "   -0.06668087840080261,\n",
              "   -0.003147758776322007,\n",
              "   -0.007140340283513069,\n",
              "   -0.017886199057102203,\n",
              "   0.025125514715909958,\n",
              "   -0.008165438659489155,\n",
              "   0.027458496391773224,\n",
              "   -0.0060480800457298756,\n",
              "   0.02168966643512249,\n",
              "   -0.016896449029445648,\n",
              "   -0.0019459194736555219,\n",
              "   -0.0186921376734972,\n",
              "   0.006694952491670847,\n",
              "   -0.04815841466188431,\n",
              "   0.02284908853471279,\n",
              "   0.02354191429913044,\n",
              "   -0.006175333634018898,\n",
              "   0.026383910328149796,\n",
              "   -0.016175344586372375,\n",
              "   -0.06883005052804947,\n",
              "   -0.013312139548361301,\n",
              "   0.025931453332304955,\n",
              "   -0.008950169198215008,\n",
              "   0.0009057981078512967,\n",
              "   -0.04493465647101402,\n",
              "   -0.010159078054130077,\n",
              "   0.006822206079959869,\n",
              "   0.005436555948108435,\n",
              "   0.0385436974465847,\n",
              "   0.01576530560851097,\n",
              "   -0.01651468686759472,\n",
              "   0.005765294656157494,\n",
              "   -0.05989402160048485,\n",
              "   0.0016198321245610714,\n",
              "   0.02098270319402218,\n",
              "   0.0035666353069245815,\n",
              "   -0.0022021939512342215,\n",
              "   0.021067537367343903,\n",
              "   0.05678337812423706,\n",
              "   -0.03297282010316849,\n",
              "   -0.02935316041111946,\n",
              "   0.0007339174044318497,\n",
              "   -0.030144961550831795,\n",
              "   -0.018932506442070007,\n",
              "   -0.028533082455396652,\n",
              "   -0.006882298272103071,\n",
              "   -0.02021918073296547,\n",
              "   0.0044503407552838326,\n",
              "   -0.015425962395966053,\n",
              "   0.04038180410861969,\n",
              "   0.028928982093930244,\n",
              "   -0.011283151805400848,\n",
              "   -0.013955476693809032,\n",
              "   -0.035433053970336914,\n",
              "   0.029494553804397583,\n",
              "   0.005843060556799173,\n",
              "   -0.008943099528551102,\n",
              "   0.028024068102240562,\n",
              "   -0.028731031343340874,\n",
              "   -0.02123720943927765,\n",
              "   0.03399084880948067,\n",
              "   -0.023428799584507942,\n",
              "   -0.005860734730958939,\n",
              "   -0.015001784078776836,\n",
              "   -0.0063061220571398735,\n",
              "   -0.01887594908475876,\n",
              "   -0.02136446349322796,\n",
              "   0.04668792709708214,\n",
              "   -0.017758945003151894,\n",
              "   -0.015425962395966053,\n",
              "   -0.03469781205058098,\n",
              "   0.013100049458444118,\n",
              "   -0.025493135675787926,\n",
              "   -0.011410404928028584,\n",
              "   0.024927563965320587,\n",
              "   -0.031049875542521477,\n",
              "   0.014860390685498714,\n",
              "   0.0033545459154993296,\n",
              "   0.009176397696137428,\n",
              "   0.014344306662678719,\n",
              "   -0.0010772369569167495,\n",
              "   0.006740905344486237,\n",
              "   0.0013874175492674112,\n",
              "   -0.018918367102742195,\n",
              "   -0.012753637507557869,\n",
              "   0.009388486854732037,\n",
              "   -0.0012203973019495606,\n",
              "   -0.016090508550405502,\n",
              "   0.031417496502399445,\n",
              "   -0.003845886094495654,\n",
              "   -0.0063803535886108875,\n",
              "   0.003138921922072768,\n",
              "   -0.013601994141936302,\n",
              "   -0.052852656692266464,\n",
              "   0.025238627567887306,\n",
              "   0.003647936275228858,\n",
              "   0.013142467476427555,\n",
              "   -0.009126910008490086,\n",
              "   -0.007324150763452053,\n",
              "   -0.0010277495021000504,\n",
              "   0.007854374125599861,\n",
              "   -0.007861443795263767,\n",
              "   0.01761755160987377,\n",
              "   -0.005372929386794567,\n",
              "   -0.007543310057371855,\n",
              "   -0.0034623579122126102,\n",
              "   -0.0052386061288416386,\n",
              "   0.004036766476929188,\n",
              "   -0.012513269670307636,\n",
              "   -0.0350654311478138,\n",
              "   -0.017066119238734245,\n",
              "   -0.01062567438930273,\n",
              "   0.0022658207453787327,\n",
              "   0.015553216449916363,\n",
              "   -0.00021120560995768756,\n",
              "   -0.013644412159919739,\n",
              "   -0.003948396071791649,\n",
              "   -0.11130446940660477,\n",
              "   0.004987633787095547,\n",
              "   -0.0018186658853664994,\n",
              "   -0.012428433634340763,\n",
              "   0.024673055857419968,\n",
              "   -0.0027942766901105642,\n",
              "   0.015807723626494408,\n",
              "   0.0547473207116127,\n",
              "   0.01836693473160267,\n",
              "   -0.0249417033046484,\n",
              "   0.005387068726122379,\n",
              "   -0.014662440866231918,\n",
              "   0.023966092616319656,\n",
              "   -0.02597387135028839,\n",
              "   0.029070375487208366,\n",
              "   -0.004238251596689224,\n",
              "   0.013693899847567081,\n",
              "   0.03260519728064537,\n",
              "   -0.010844833217561245,\n",
              "   -0.01664194092154503,\n",
              "   0.008080602623522282,\n",
              "   -0.020813031122088432,\n",
              "   0.0009261233499273658,\n",
              "   -0.02532346360385418,\n",
              "   -0.04369039833545685,\n",
              "   0.005401207599788904,\n",
              "   0.0029604132287204266,\n",
              "   0.03073881007730961,\n",
              "   0.0149593660607934,\n",
              "   0.01288796029984951,\n",
              "   -0.039646562188863754,\n",
              "   0.046857599169015884,\n",
              "   0.008285622112452984,\n",
              "   0.03082364611327648,\n",
              "   -0.0029869244899600744,\n",
              "   0.02252388559281826,\n",
              "   -0.014054452069103718,\n",
              "   -0.03729943931102753,\n",
              "   0.008639104664325714,\n",
              "   0.014521048404276371,\n",
              "   -0.011912349611520767,\n",
              "   -0.027543332427740097,\n",
              "   0.04844119772315025,\n",
              "   -0.009056213311851025,\n",
              "   -0.016246041283011436,\n",
              "   0.04600924253463745,\n",
              "   0.05109938606619835,\n",
              "   0.004199368413537741,\n",
              "   -0.008271482773125172,\n",
              "   0.0028755776584148407,\n",
              "   0.03353838995099068,\n",
              "   0.004825031850486994,\n",
              "   0.008200787007808685,\n",
              "   -0.019611191004514694,\n",
              "   0.008950169198215008,\n",
              "   -0.010675162076950073,\n",
              "   -0.003913047723472118,\n",
              "   0.027698863297700882,\n",
              "   -0.006673743482679129,\n",
              "   -0.027925092726945877,\n",
              "   0.023881256580352783,\n",
              "   0.02595973201096058,\n",
              "   0.02474375255405903,\n",
              "   -0.021265488117933273,\n",
              "   0.025676945224404335,\n",
              "   0.016924727708101273,\n",
              "   0.0003389010380487889,\n",
              "   0.019413242116570473,\n",
              "   -0.04552850499749184,\n",
              "   -0.004948750603944063,\n",
              "   -0.02501240000128746,\n",
              "   0.014082730747759342,\n",
              "   -0.010335818864405155,\n",
              "   0.019893977791070938,\n",
              "   -8.439386874670163e-05,\n",
              "   -0.02341466024518013,\n",
              "   0.013609063811600208,\n",
              "   0.028377549722790718,\n",
              "   -0.03022979572415352,\n",
              "   -0.0017055515199899673,\n",
              "   0.0336797833442688,\n",
              "   0.016189483925700188,\n",
              "   0.0062142168171703815,\n",
              "   0.030258074402809143,\n",
              "   -0.055793628096580505,\n",
              "   0.0115447286516428,\n",
              "   -0.000279692787444219,\n",
              "   -0.006341470405459404,\n",
              "   0.0010383538901805878,\n",
              "   0.04057975485920906,\n",
              "   0.011410404928028584,\n",
              "   0.004422062076628208,\n",
              "   -0.026553582400083542,\n",
              "   -0.044114578515291214,\n",
              "   -0.012195135466754436,\n",
              "   -0.016118787229061127,\n",
              "   -0.0041852290742099285,\n",
              "   -0.0009420300484634936,\n",
              "   0.028872424736618996,\n",
              "   -0.007861443795263767,\n",
              "   0.00861082598567009,\n",
              "   -0.007903861813247204,\n",
              "   -0.020770613104104996,\n",
              "   0.007387777790427208,\n",
              "   -0.03763878345489502,\n",
              "   0.027670584619045258,\n",
              "   -0.02310359477996826,\n",
              "   -0.04154122620820999,\n",
              "   0.021039260551333427,\n",
              "   -0.012654662132263184,\n",
              "   0.02437613159418106,\n",
              "   0.042021963745355606,\n",
              "   -0.033906012773513794,\n",
              "   0.021590691059827805,\n",
              "   0.029381439089775085,\n",
              "   0.052230529487133026,\n",
              "   0.046094078570604324,\n",
              "   -0.007013086695224047,\n",
              "   -0.002833159640431404,\n",
              "   -0.04159778356552124,\n",
              "   0.030342910438776016,\n",
              "   0.009331929497420788,\n",
              "   -0.02890070341527462,\n",
              "   0.01607636921107769,\n",
              "   -0.014287750236690044,\n",
              "   0.041824012994766235,\n",
              "   0.00043942255433648825,\n",
              "   0.052343640476465225,\n",
              "   -0.025507275015115738,\n",
              "   0.01811242662370205,\n",
              "   0.011353847570717335,\n",
              "   0.03189823403954506,\n",
              "   -0.015977395698428154,\n",
              "   -0.0017506205476820469,\n",
              "   0.006705556996166706,\n",
              "   -0.004114532843232155,\n",
              "   0.03260519728064537,\n",
              "   0.01838107407093048,\n",
              "   -0.012180996127426624,\n",
              "   -0.011707330122590065,\n",
              "   -0.013927198015153408,\n",
              "   0.003913047723472118,\n",
              "   -0.02487100660800934,\n",
              "   0.05135389044880867,\n",
              "   -0.05248503386974335,\n",
              "   0.005814781878143549,\n",
              "   0.022622859105467796,\n",
              "   0.0013732783263549209,\n",
              "   -0.004524571821093559,\n",
              "   0.007338290102779865,\n",
              "   0.03393429145216942,\n",
              "   0.012675871141254902,\n",
              "   0.005606227554380894,\n",
              "   0.030710533261299133,\n",
              "   -0.004825031850486994,\n",
              "   0.004079184494912624,\n",
              "   0.006256634835153818,\n",
              "   -0.01192648895084858,\n",
              "   -0.009240024723112583,\n",
              "   0.015454241074621677,\n",
              "   0.02635563164949417,\n",
              "   0.006680813152343035,\n",
              "   -0.023117734119296074,\n",
              "   -0.02846238575875759,\n",
              "   -0.0007560100057162344,\n",
              "   0.017051979899406433,\n",
              "   0.05191946402192116,\n",
              "   0.025351742282509804,\n",
              "   0.02316015213727951,\n",
              "   0.0024779101368039846,\n",
              "   -0.051580119878053665,\n",
              "   -0.02187347784638405,\n",
              "   0.0011868164874613285,\n",
              "   -0.007444334682077169,\n",
              "   0.011721469461917877,\n",
              "   0.0459526851773262,\n",
              "   0.01685403101146221,\n",
              "   0.012400154955685139,\n",
              "   -0.023004621267318726,\n",
              "   0.04383179172873497,\n",
              "   -0.007550379727035761,\n",
              "   -0.008589616976678371,\n",
              "   0.021774502471089363,\n",
              "   0.002405446255579591,\n",
              "   -0.00755744893103838,\n",
              "   -0.014874530024826527,\n",
              "   -0.006988342851400375,\n",
              "   0.015355266630649567,\n",
              "   0.005570879206061363,\n",
              "   0.0021332649048417807,\n",
              "   0.031021596863865852,\n",
              "   0.009522809647023678,\n",
              "   0.022891506552696228,\n",
              "   0.01582186296582222,\n",
              "   -0.003338639158755541,\n",
              "   -0.008236135356128216,\n",
              "   0.015807723626494408,\n",
              "   -0.0012168624671176076,\n",
              "   -0.020699916407465935,\n",
              "   -0.025026539340615273,\n",
              "   -0.01685403101146221,\n",
              "   -0.009466253221035004,\n",
              "   0.04428424686193466,\n",
              "   ...]],\n",
              " 'metadatas': [{'page': 56,\n",
              "   'source': 'https://www.developer.tech.gov.sg/products/collections/data-science-and-artificial-intelligence/playbooks/prompt-engineering-playbook-beta-v3.pdf'}],\n",
              " 'documents': ['Prompt Engineering Playbook  \\nPage  57  \\nYou can better control the extraction process by instructing the AI specifically what to extract.'],\n",
              " 'uris': None,\n",
              " 'data': None,\n",
              " 'included': ['embeddings', 'metadatas', 'documents']}"
            ]
          },
          "metadata": {},
          "execution_count": 57
        }
      ],
      "source": [
        "# Peek at one of the documents in the vector store\n",
        "vector_store._collection.peek(limit=1)"
      ]
    },
    {
      "cell_type": "code",
      "execution_count": null,
      "id": "7ab971c7",
      "metadata": {
        "id": "7ab971c7",
        "outputId": "ad768388-9cb7-456f-f656-c73f705863ab",
        "colab": {
          "base_uri": "https://localhost:8080/",
          "height": 412
        }
      },
      "outputs": [
        {
          "output_type": "execute_result",
          "data": {
            "image/svg+xml": "<?xml version=\"1.0\" encoding=\"UTF-8\" standalone=\"no\"?>\n<!DOCTYPE svg PUBLIC \"-//W3C//DTD SVG 1.1//EN\"\n \"http://www.w3.org/Graphics/SVG/1.1/DTD/svg11.dtd\">\n<!-- Generated by graphviz version 2.43.0 (0)\n -->\n<!-- Title: G Pages: 1 -->\n<svg width=\"519pt\" height=\"293pt\"\n viewBox=\"0.00 0.00 519.00 293.00\" xmlns=\"http://www.w3.org/2000/svg\" xmlns:xlink=\"http://www.w3.org/1999/xlink\">\n<g id=\"graph0\" class=\"graph\" transform=\"scale(1 1) rotate(0) translate(4 289)\">\n<title>G</title>\n<polygon fill=\"white\" stroke=\"transparent\" points=\"-4,4 -4,-289 515,-289 515,4 -4,4\"/>\n<!-- node135312129386240 -->\n<g id=\"node1\" class=\"node\">\n<title>node135312129386240</title>\n<polygon fill=\"#fefecd\" stroke=\"#444443\" stroke-width=\"0.5\" points=\"96,-126 0,-126 0,-12 96,-12 96,-126\"/>\n<polygon fill=\"#fefecd\" stroke=\"transparent\" points=\"2,-110 2,-124 69,-124 69,-110 2,-110\"/>\n<text text-anchor=\"start\" x=\"47\" y=\"-114.2\" font-family=\"Helvetica,sans-Serif\" font-size=\"11.00\" fill=\"#444443\">&#39;ids&#39; </text>\n<text text-anchor=\"start\" x=\"69\" y=\"-112.8\" font-family=\"Helvetica,sans-Serif\" font-size=\"9.00\" fill=\"#444443\">→</text>\n<polygon fill=\"#fefecd\" stroke=\"transparent\" points=\"79,-110 79,-124 94,-124 94,-110 79,-110\"/>\n<text text-anchor=\"start\" x=\"80\" y=\"-114.2\" font-family=\"Helvetica,sans-Serif\" font-size=\"11.00\" fill=\"#444443\"> &#160;&#160;&#160;</text>\n<polygon fill=\"#fefecd\" stroke=\"transparent\" points=\"2,-108 2,-110 94,-110 94,-108 2,-108\"/>\n<polygon fill=\"#fefecd\" stroke=\"transparent\" points=\"2,-94 2,-108 69,-108 69,-94 2,-94\"/>\n<text text-anchor=\"start\" x=\"2\" y=\"-98.2\" font-family=\"Helvetica,sans-Serif\" font-size=\"11.00\" fill=\"#444443\">&#39;embeddings&#39; </text>\n<text text-anchor=\"start\" x=\"69\" y=\"-96.8\" font-family=\"Helvetica,sans-Serif\" font-size=\"9.00\" fill=\"#444443\">→</text>\n<polygon fill=\"#fefecd\" stroke=\"transparent\" points=\"79,-94 79,-108 94,-108 94,-94 79,-94\"/>\n<text text-anchor=\"start\" x=\"80\" y=\"-98.2\" font-family=\"Helvetica,sans-Serif\" font-size=\"11.00\" fill=\"#444443\"> &#160;&#160;&#160;</text>\n<polygon fill=\"#fefecd\" stroke=\"transparent\" points=\"2,-92 2,-94 94,-94 94,-92 2,-92\"/>\n<polygon fill=\"#fefecd\" stroke=\"transparent\" points=\"2,-78 2,-92 69,-92 69,-78 2,-78\"/>\n<text text-anchor=\"start\" x=\"11\" y=\"-82.2\" font-family=\"Helvetica,sans-Serif\" font-size=\"11.00\" fill=\"#444443\">&#39;metadatas&#39; </text>\n<text text-anchor=\"start\" x=\"69\" y=\"-80.8\" font-family=\"Helvetica,sans-Serif\" font-size=\"9.00\" fill=\"#444443\">→</text>\n<polygon fill=\"#fefecd\" stroke=\"transparent\" points=\"79,-78 79,-92 94,-92 94,-78 79,-78\"/>\n<text text-anchor=\"start\" x=\"80\" y=\"-82.2\" font-family=\"Helvetica,sans-Serif\" font-size=\"11.00\" fill=\"#444443\"> &#160;&#160;&#160;</text>\n<polygon fill=\"#fefecd\" stroke=\"transparent\" points=\"2,-76 2,-78 94,-78 94,-76 2,-76\"/>\n<polygon fill=\"#fefecd\" stroke=\"transparent\" points=\"2,-62 2,-76 69,-76 69,-62 2,-62\"/>\n<text text-anchor=\"start\" x=\"8\" y=\"-66.2\" font-family=\"Helvetica,sans-Serif\" font-size=\"11.00\" fill=\"#444443\">&#39;documents&#39; </text>\n<text text-anchor=\"start\" x=\"69\" y=\"-64.8\" font-family=\"Helvetica,sans-Serif\" font-size=\"9.00\" fill=\"#444443\">→</text>\n<polygon fill=\"#fefecd\" stroke=\"transparent\" points=\"79,-62 79,-76 94,-76 94,-62 79,-62\"/>\n<text text-anchor=\"start\" x=\"80\" y=\"-66.2\" font-family=\"Helvetica,sans-Serif\" font-size=\"11.00\" fill=\"#444443\"> &#160;&#160;&#160;</text>\n<polygon fill=\"#fefecd\" stroke=\"transparent\" points=\"2,-60 2,-62 94,-62 94,-60 2,-60\"/>\n<polygon fill=\"#fefecd\" stroke=\"transparent\" points=\"2,-46 2,-60 69,-60 69,-46 2,-46\"/>\n<text text-anchor=\"start\" x=\"44\" y=\"-50.2\" font-family=\"Helvetica,sans-Serif\" font-size=\"11.00\" fill=\"#444443\">&#39;uris&#39; </text>\n<text text-anchor=\"start\" x=\"69\" y=\"-48.8\" font-family=\"Helvetica,sans-Serif\" font-size=\"9.00\" fill=\"#444443\">→</text>\n<polygon fill=\"#fefecd\" stroke=\"transparent\" points=\"79,-46 79,-60 94,-60 94,-46 79,-46\"/>\n<text text-anchor=\"start\" x=\"80\" y=\"-50.2\" font-family=\"Helvetica,sans-Serif\" font-size=\"11.00\" fill=\"#444443\"> &#160;&#160;&#160;</text>\n<polygon fill=\"#fefecd\" stroke=\"transparent\" points=\"2,-44 2,-46 94,-46 94,-44 2,-44\"/>\n<polygon fill=\"#fefecd\" stroke=\"transparent\" points=\"2,-30 2,-44 69,-44 69,-30 2,-30\"/>\n<text text-anchor=\"start\" x=\"40\" y=\"-34.2\" font-family=\"Helvetica,sans-Serif\" font-size=\"11.00\" fill=\"#444443\">&#39;data&#39; </text>\n<text text-anchor=\"start\" x=\"69\" y=\"-32.8\" font-family=\"Helvetica,sans-Serif\" font-size=\"9.00\" fill=\"#444443\">→</text>\n<polygon fill=\"#fefecd\" stroke=\"transparent\" points=\"79,-30 79,-44 94,-44 94,-30 79,-30\"/>\n<text text-anchor=\"start\" x=\"80\" y=\"-34.2\" font-family=\"Helvetica,sans-Serif\" font-size=\"11.00\" fill=\"#444443\"> &#160;&#160;&#160;</text>\n<polygon fill=\"#fefecd\" stroke=\"transparent\" points=\"2,-28 2,-30 94,-30 94,-28 2,-28\"/>\n<polygon fill=\"#fefecd\" stroke=\"transparent\" points=\"2,-14 2,-28 69,-28 69,-14 2,-14\"/>\n<text text-anchor=\"start\" x=\"21\" y=\"-18.2\" font-family=\"Helvetica,sans-Serif\" font-size=\"11.00\" fill=\"#444443\">&#39;included&#39; </text>\n<text text-anchor=\"start\" x=\"69\" y=\"-16.8\" font-family=\"Helvetica,sans-Serif\" font-size=\"9.00\" fill=\"#444443\">→</text>\n<polygon fill=\"#fefecd\" stroke=\"transparent\" points=\"79,-14 79,-28 94,-28 94,-14 79,-14\"/>\n<text text-anchor=\"start\" x=\"80\" y=\"-18.2\" font-family=\"Helvetica,sans-Serif\" font-size=\"11.00\" fill=\"#444443\"> &#160;&#160;&#160;</text>\n</g>\n<!-- node135312129385472 -->\n<g id=\"node2\" class=\"node\">\n<title>node135312129385472</title>\n<polygon fill=\"none\" stroke=\"black\" stroke-width=\"0.5\" points=\"280.5,-243 150.5,-243 150.5,-213 280.5,-213 280.5,-243\"/>\n<polygon fill=\"#fefecd\" stroke=\"transparent\" points=\"151.5,-230 151.5,-242 279.5,-242 279.5,-230 151.5,-230\"/>\n<polyline fill=\"none\" stroke=\"black\" points=\"151.5,-230 279.5,-230 \"/>\n<text text-anchor=\"start\" x=\"212.5\" y=\"-233.8\" font-family=\"Helvetica,sans-Serif\" font-size=\"9.00\" fill=\"#444443\">0</text>\n<polygon fill=\"#fefecd\" stroke=\"transparent\" points=\"151.5,-214 151.5,-230 279.5,-230 279.5,-214 151.5,-214\"/>\n<text text-anchor=\"start\" x=\"153.5\" y=\"-219.2\" font-family=\"Helvetica,sans-Serif\" font-size=\"11.00\" fill=\"#444443\">&#39;00a3e28f&#45;07db&#45;482d&#45;a...&#39;</text>\n</g>\n<!-- node135312129386240&#45;&gt;node135312129385472 -->\n<g id=\"edge1\" class=\"edge\">\n<title>node135312129386240:c&#45;&gt;node135312129385472</title>\n<path fill=\"none\" stroke=\"#444443\" stroke-width=\"0.5\" d=\"M87.97,-120.49C88.06,-134.16 90.34,-184.49 118,-209 126.08,-216.16 136.06,-220.94 146.5,-224.08\"/>\n<ellipse fill=\"#444443\" stroke=\"#444443\" stroke-width=\"0.5\" cx=\"87.99\" cy=\"-118.6\" rx=\"1.6\" ry=\"1.6\"/>\n<polygon fill=\"#444443\" stroke=\"#444443\" stroke-width=\"0.5\" points=\"146.14,-225.44 150.37,-225.17 146.89,-222.74 146.14,-225.44\"/>\n</g>\n<!-- node135312079173312 -->\n<g id=\"node3\" class=\"node\">\n<title>node135312079173312</title>\n<polygon fill=\"#cfe2d4\" stroke=\"#444443\" stroke-width=\"0.5\" points=\"222.5,-206 208.5,-206 208.5,-188 222.5,-188 222.5,-206\"/>\n<polygon fill=\"#cfe2d4\" stroke=\"transparent\" points=\"209.5,-189 209.5,-205 221.5,-205 221.5,-189 209.5,-189\"/>\n<text text-anchor=\"start\" x=\"212.5\" y=\"-194.8\" font-family=\"Helvetica,sans-Serif\" font-size=\"9.00\" fill=\"#444443\">0</text>\n</g>\n<!-- node135312129386240&#45;&gt;node135312079173312 -->\n<g id=\"edge2\" class=\"edge\">\n<title>node135312129386240:c&#45;&gt;node135312079173312</title>\n<path fill=\"none\" stroke=\"#444443\" stroke-width=\"0.5\" d=\"M90.77,-103.1C105.92,-114.6 179.02,-170.07 205.17,-189.92\"/>\n<ellipse fill=\"#444443\" stroke=\"#444443\" stroke-width=\"0.5\" cx=\"89.27\" cy=\"-101.97\" rx=\"1.6\" ry=\"1.6\"/>\n<polygon fill=\"#444443\" stroke=\"#444443\" stroke-width=\"0.5\" points=\"204.37,-191.07 208.4,-192.37 206.06,-188.84 204.37,-191.07\"/>\n</g>\n<!-- node135312079101824 -->\n<g id=\"node5\" class=\"node\">\n<title>node135312079101824</title>\n<polygon fill=\"#cfe2d4\" stroke=\"#444443\" stroke-width=\"0.5\" points=\"222.5,-94 208.5,-94 208.5,-76 222.5,-76 222.5,-94\"/>\n<polygon fill=\"#cfe2d4\" stroke=\"transparent\" points=\"209.5,-77 209.5,-93 221.5,-93 221.5,-77 209.5,-77\"/>\n<text text-anchor=\"start\" x=\"212.5\" y=\"-82.8\" font-family=\"Helvetica,sans-Serif\" font-size=\"9.00\" fill=\"#444443\">0</text>\n</g>\n<!-- node135312129386240&#45;&gt;node135312079101824 -->\n<g id=\"edge3\" class=\"edge\">\n<title>node135312129386240:c&#45;&gt;node135312079101824</title>\n<path fill=\"none\" stroke=\"#444443\" stroke-width=\"0.5\" d=\"M91.65,-85C108.37,-85 177.87,-85 204.27,-85\"/>\n<ellipse fill=\"#444443\" stroke=\"#444443\" stroke-width=\"0.5\" cx=\"89.6\" cy=\"-85\" rx=\"1.6\" ry=\"1.6\"/>\n<polygon fill=\"#444443\" stroke=\"#444443\" stroke-width=\"0.5\" points=\"204.4,-86.4 208.4,-85 204.4,-83.6 204.4,-86.4\"/>\n</g>\n<!-- node135312079107328 -->\n<g id=\"node7\" class=\"node\">\n<title>node135312079107328</title>\n<polygon fill=\"none\" stroke=\"black\" stroke-width=\"0.5\" points=\"278,-69 153,-69 153,-39 278,-39 278,-69\"/>\n<polygon fill=\"#fefecd\" stroke=\"transparent\" points=\"154.5,-56 154.5,-68 277.5,-68 277.5,-56 154.5,-56\"/>\n<polyline fill=\"none\" stroke=\"black\" points=\"154.5,-56 277.5,-56 \"/>\n<text text-anchor=\"start\" x=\"213\" y=\"-59.8\" font-family=\"Helvetica,sans-Serif\" font-size=\"9.00\" fill=\"#444443\">0</text>\n<polygon fill=\"#fefecd\" stroke=\"transparent\" points=\"154.5,-40 154.5,-56 277.5,-56 277.5,-40 154.5,-40\"/>\n<text text-anchor=\"start\" x=\"156.5\" y=\"-45.2\" font-family=\"Helvetica,sans-Serif\" font-size=\"11.00\" fill=\"#444443\">&#39;Prompt Engineering P...&#39;</text>\n</g>\n<!-- node135312129386240&#45;&gt;node135312079107328 -->\n<g id=\"edge4\" class=\"edge\">\n<title>node135312129386240:c&#45;&gt;node135312079107328</title>\n<path fill=\"none\" stroke=\"#444443\" stroke-width=\"0.5\" d=\"M91.22,-68.62C99.76,-67.61 124,-64.73 148.76,-61.8\"/>\n<ellipse fill=\"#444443\" stroke=\"#444443\" stroke-width=\"0.5\" cx=\"89.59\" cy=\"-68.81\" rx=\"1.6\" ry=\"1.6\"/>\n<polygon fill=\"#444443\" stroke=\"#444443\" stroke-width=\"0.5\" points=\"148.93,-63.19 152.73,-61.32 148.6,-60.41 148.93,-63.19\"/>\n</g>\n<!-- node135312129859136 -->\n<g id=\"node8\" class=\"node\">\n<title>node135312129859136</title>\n<polygon fill=\"none\" stroke=\"black\" stroke-width=\"0.5\" points=\"313,-32 118,-32 118,0 313,0 313,-32\"/>\n<polygon fill=\"#fefecd\" stroke=\"transparent\" points=\"119.5,-19 119.5,-31 189.5,-31 189.5,-19 119.5,-19\"/>\n<polyline fill=\"none\" stroke=\"black\" points=\"119.5,-19 189.5,-19 189.5,-31 \"/>\n<text text-anchor=\"start\" x=\"151.5\" y=\"-22.8\" font-family=\"Helvetica,sans-Serif\" font-size=\"9.00\" fill=\"#444443\">0</text>\n<polygon fill=\"#fefecd\" stroke=\"transparent\" points=\"189.5,-19 189.5,-31 250.5,-31 250.5,-19 189.5,-19\"/>\n<polyline fill=\"none\" stroke=\"black\" points=\"189.5,-19 250.5,-19 250.5,-31 \"/>\n<text text-anchor=\"start\" x=\"217\" y=\"-22.8\" font-family=\"Helvetica,sans-Serif\" font-size=\"9.00\" fill=\"#444443\">1</text>\n<polygon fill=\"#fefecd\" stroke=\"transparent\" points=\"250.5,-19 250.5,-31 312.5,-31 312.5,-19 250.5,-19\"/>\n<polyline fill=\"none\" stroke=\"black\" points=\"250.5,-19 312.5,-19 \"/>\n<text text-anchor=\"start\" x=\"278.5\" y=\"-22.8\" font-family=\"Helvetica,sans-Serif\" font-size=\"9.00\" fill=\"#444443\">2</text>\n<polygon fill=\"#fefecd\" stroke=\"transparent\" points=\"119.5,-1 119.5,-19 189.5,-19 189.5,-1 119.5,-1\"/>\n<polyline fill=\"none\" stroke=\"black\" points=\"189.5,-1 189.5,-19 \"/>\n<text text-anchor=\"start\" x=\"122.5\" y=\"-7.2\" font-family=\"Helvetica,sans-Serif\" font-size=\"11.00\" fill=\"#444443\">&#39;embeddings&#39;</text>\n<polygon fill=\"#fefecd\" stroke=\"transparent\" points=\"189.5,-1 189.5,-19 250.5,-19 250.5,-1 189.5,-1\"/>\n<polyline fill=\"none\" stroke=\"black\" points=\"250.5,-1 250.5,-19 \"/>\n<text text-anchor=\"start\" x=\"192.5\" y=\"-7.2\" font-family=\"Helvetica,sans-Serif\" font-size=\"11.00\" fill=\"#444443\">&#39;metadatas&#39;</text>\n<polygon fill=\"#fefecd\" stroke=\"transparent\" points=\"250.5,-1 250.5,-19 312.5,-19 312.5,-1 250.5,-1\"/>\n<text text-anchor=\"start\" x=\"252.5\" y=\"-7.2\" font-family=\"Helvetica,sans-Serif\" font-size=\"11.00\" fill=\"#444443\">&#39;documents&#39;</text>\n</g>\n<!-- node135312129386240&#45;&gt;node135312129859136 -->\n<g id=\"edge5\" class=\"edge\">\n<title>node135312129386240:c&#45;&gt;node135312129859136</title>\n<path fill=\"none\" stroke=\"#444443\" stroke-width=\"0.5\" d=\"M91.47,-20.86C95.79,-20.69 103.87,-20.37 113.89,-19.98\"/>\n<ellipse fill=\"#444443\" stroke=\"#444443\" stroke-width=\"0.5\" cx=\"89.6\" cy=\"-20.94\" rx=\"1.6\" ry=\"1.6\"/>\n<polygon fill=\"#444443\" stroke=\"#444443\" stroke-width=\"0.5\" points=\"114.04,-21.37 117.98,-19.82 113.93,-18.57 114.04,-21.37\"/>\n</g>\n<!-- node135312079162688 -->\n<g id=\"node4\" class=\"node\">\n<title>node135312079162688</title>\n<polygon fill=\"none\" stroke=\"black\" stroke-width=\"0.5\" points=\"507,-285 339,-285 339,-109 507,-109 507,-285\"/>\n<polygon fill=\"#fefecd\" stroke=\"transparent\" points=\"340,-270 340,-284 370,-284 370,-270 340,-270\"/>\n<polyline fill=\"none\" stroke=\"black\" points=\"370,-270 370,-284 \"/>\n<text text-anchor=\"start\" x=\"359\" y=\"-274.2\" font-family=\"Helvetica,sans-Serif\" font-size=\"11.00\" fill=\"#444443\">0 </text>\n<polygon fill=\"#fefecd\" stroke=\"transparent\" points=\"370,-270 370,-284 506,-284 506,-270 370,-270\"/>\n<text text-anchor=\"start\" x=\"372\" y=\"-274.2\" font-family=\"Helvetica,sans-Serif\" font-size=\"11.00\" fill=\"#444443\"> &#39;&#45;0.02084130980074405...&#39;</text>\n<polygon fill=\"#fefecd\" stroke=\"transparent\" points=\"340,-268 340,-270 506,-270 506,-268 340,-268\"/>\n<polygon fill=\"#fefecd\" stroke=\"transparent\" points=\"340,-254 340,-268 370,-268 370,-254 340,-254\"/>\n<polyline fill=\"none\" stroke=\"black\" points=\"370,-254 370,-268 \"/>\n<text text-anchor=\"start\" x=\"359\" y=\"-258.2\" font-family=\"Helvetica,sans-Serif\" font-size=\"11.00\" fill=\"#444443\">1 </text>\n<polygon fill=\"#fefecd\" stroke=\"transparent\" points=\"370,-254 370,-268 506,-268 506,-254 370,-254\"/>\n<text text-anchor=\"start\" x=\"380.5\" y=\"-258.2\" font-family=\"Helvetica,sans-Serif\" font-size=\"11.00\" fill=\"#444443\"> 0.01575116626918316</text>\n<polygon fill=\"#fefecd\" stroke=\"transparent\" points=\"340,-252 340,-254 506,-254 506,-252 340,-252\"/>\n<polygon fill=\"#fefecd\" stroke=\"transparent\" points=\"340,-238 340,-252 370,-252 370,-238 340,-238\"/>\n<polyline fill=\"none\" stroke=\"black\" points=\"370,-238 370,-252 \"/>\n<text text-anchor=\"start\" x=\"359\" y=\"-242.2\" font-family=\"Helvetica,sans-Serif\" font-size=\"11.00\" fill=\"#444443\">2 </text>\n<polygon fill=\"#fefecd\" stroke=\"transparent\" points=\"370,-238 370,-252 506,-252 506,-238 370,-238\"/>\n<text text-anchor=\"start\" x=\"380.5\" y=\"-242.2\" font-family=\"Helvetica,sans-Serif\" font-size=\"11.00\" fill=\"#444443\"> 0.00071138289058581</text>\n<polygon fill=\"#fefecd\" stroke=\"transparent\" points=\"340,-236 340,-238 506,-238 506,-236 340,-236\"/>\n<polygon fill=\"#fefecd\" stroke=\"transparent\" points=\"340,-222 340,-236 370,-236 370,-222 340,-222\"/>\n<polyline fill=\"none\" stroke=\"black\" points=\"370,-222 370,-236 \"/>\n<text text-anchor=\"start\" x=\"359\" y=\"-226.2\" font-family=\"Helvetica,sans-Serif\" font-size=\"11.00\" fill=\"#444443\">3 </text>\n<polygon fill=\"#fefecd\" stroke=\"transparent\" points=\"370,-222 370,-236 506,-236 506,-222 370,-222\"/>\n<text text-anchor=\"start\" x=\"371\" y=\"-226.2\" font-family=\"Helvetica,sans-Serif\" font-size=\"11.00\" fill=\"#444443\"> &#39;0.000287867063889279...&#39;</text>\n<polygon fill=\"#fefecd\" stroke=\"transparent\" points=\"340,-220 340,-222 506,-222 506,-220 340,-220\"/>\n<polygon fill=\"#fefecd\" stroke=\"transparent\" points=\"340,-206 340,-220 370,-220 370,-206 340,-206\"/>\n<polyline fill=\"none\" stroke=\"black\" points=\"370,-206 370,-220 \"/>\n<text text-anchor=\"start\" x=\"359\" y=\"-210.2\" font-family=\"Helvetica,sans-Serif\" font-size=\"11.00\" fill=\"#444443\">4 </text>\n<polygon fill=\"#fefecd\" stroke=\"transparent\" points=\"370,-206 370,-220 506,-220 506,-206 370,-206\"/>\n<text text-anchor=\"start\" x=\"379\" y=\"-210.2\" font-family=\"Helvetica,sans-Serif\" font-size=\"11.00\" fill=\"#444443\"> &#45;0.01503006275743246</text>\n<polygon fill=\"#fefecd\" stroke=\"transparent\" points=\"340,-204 340,-206 506,-206 506,-204 340,-204\"/>\n<polygon fill=\"#fefecd\" stroke=\"transparent\" points=\"340,-190 340,-204 370,-204 370,-190 340,-190\"/>\n<polyline fill=\"none\" stroke=\"black\" points=\"370,-190 370,-204 \"/>\n<text text-anchor=\"start\" x=\"359\" y=\"-194.2\" font-family=\"Helvetica,sans-Serif\" font-size=\"11.00\" fill=\"#444443\">5 </text>\n<polygon fill=\"#fefecd\" stroke=\"transparent\" points=\"370,-190 370,-204 506,-204 506,-190 370,-190\"/>\n<text text-anchor=\"start\" x=\"372\" y=\"-194.2\" font-family=\"Helvetica,sans-Serif\" font-size=\"11.00\" fill=\"#444443\"> &#39;&#45;0.02170380577445030...&#39;</text>\n<polygon fill=\"#fefecd\" stroke=\"transparent\" points=\"340,-188 340,-190 506,-190 506,-188 340,-188\"/>\n<polygon fill=\"#fefecd\" stroke=\"transparent\" points=\"340,-174 340,-188 370,-188 370,-174 340,-174\"/>\n<polyline fill=\"none\" stroke=\"black\" points=\"370,-174 370,-188 \"/>\n<text text-anchor=\"start\" x=\"359\" y=\"-178.2\" font-family=\"Helvetica,sans-Serif\" font-size=\"11.00\" fill=\"#444443\">6 </text>\n<polygon fill=\"#fefecd\" stroke=\"transparent\" points=\"370,-174 370,-188 506,-188 506,-174 370,-174\"/>\n<text text-anchor=\"start\" x=\"377.5\" y=\"-178.2\" font-family=\"Helvetica,sans-Serif\" font-size=\"11.00\" fill=\"#444443\"> 0.005927896127104759</text>\n<polygon fill=\"#fefecd\" stroke=\"transparent\" points=\"340,-172 340,-174 506,-174 506,-172 340,-172\"/>\n<polygon fill=\"#fefecd\" stroke=\"transparent\" points=\"340,-158 340,-172 370,-172 370,-158 340,-158\"/>\n<polyline fill=\"none\" stroke=\"black\" points=\"370,-158 370,-172 \"/>\n<text text-anchor=\"start\" x=\"359\" y=\"-162.2\" font-family=\"Helvetica,sans-Serif\" font-size=\"11.00\" fill=\"#444443\">7 </text>\n<polygon fill=\"#fefecd\" stroke=\"transparent\" points=\"370,-158 370,-172 506,-172 506,-158 370,-158\"/>\n<text text-anchor=\"start\" x=\"371\" y=\"-162.2\" font-family=\"Helvetica,sans-Serif\" font-size=\"11.00\" fill=\"#444443\"> &#39;0.001768294605426490...&#39;</text>\n<polygon fill=\"#fefecd\" stroke=\"transparent\" points=\"340,-156 340,-158 506,-158 506,-156 340,-156\"/>\n<polygon fill=\"#fefecd\" stroke=\"transparent\" points=\"340,-142 340,-156 370,-156 370,-142 340,-142\"/>\n<polyline fill=\"none\" stroke=\"black\" points=\"370,-142 370,-156 \"/>\n<text text-anchor=\"start\" x=\"359\" y=\"-146.2\" font-family=\"Helvetica,sans-Serif\" font-size=\"11.00\" fill=\"#444443\">8 </text>\n<polygon fill=\"#fefecd\" stroke=\"transparent\" points=\"370,-142 370,-156 506,-156 506,-142 370,-142\"/>\n<text text-anchor=\"start\" x=\"372\" y=\"-146.2\" font-family=\"Helvetica,sans-Serif\" font-size=\"11.00\" fill=\"#444443\"> &#39;&#45;0.00113998004235327...&#39;</text>\n<polygon fill=\"#fefecd\" stroke=\"transparent\" points=\"340,-140 340,-142 506,-142 506,-140 340,-140\"/>\n<polygon fill=\"#fefecd\" stroke=\"transparent\" points=\"340,-126 340,-140 370,-140 370,-126 340,-126\"/>\n<polyline fill=\"none\" stroke=\"black\" points=\"370,-126 370,-140 \"/>\n<text text-anchor=\"start\" x=\"356\" y=\"-130.2\" font-family=\"Helvetica,sans-Serif\" font-size=\"11.00\" fill=\"#444443\">... </text>\n<polygon fill=\"#fefecd\" stroke=\"transparent\" points=\"370,-126 370,-140 506,-140 506,-126 370,-126\"/>\n<text text-anchor=\"start\" x=\"431.5\" y=\"-130.2\" font-family=\"Helvetica,sans-Serif\" font-size=\"11.00\" fill=\"#444443\"> ...</text>\n<polygon fill=\"#fefecd\" stroke=\"transparent\" points=\"340,-124 340,-126 506,-126 506,-124 340,-124\"/>\n<polygon fill=\"#fefecd\" stroke=\"transparent\" points=\"340,-110 340,-124 370,-124 370,-110 340,-110\"/>\n<polyline fill=\"none\" stroke=\"black\" points=\"370,-110 370,-124 \"/>\n<text text-anchor=\"start\" x=\"341\" y=\"-114.2\" font-family=\"Helvetica,sans-Serif\" font-size=\"11.00\" fill=\"#444443\">1535 </text>\n<polygon fill=\"#fefecd\" stroke=\"transparent\" points=\"370,-110 370,-124 506,-124 506,-110 370,-110\"/>\n<text text-anchor=\"start\" x=\"377.5\" y=\"-114.2\" font-family=\"Helvetica,sans-Serif\" font-size=\"11.00\" fill=\"#444443\"> 0.006599512416869402</text>\n</g>\n<!-- node135312079173312&#45;&gt;node135312079162688 -->\n<g id=\"edge6\" class=\"edge\">\n<title>node135312079173312:0&#45;&gt;node135312079162688:w</title>\n<path fill=\"none\" stroke=\"#444443\" stroke-width=\"0.5\" d=\"M221.59,-197C237.76,-197 289.49,-197 333.74,-197\"/>\n<polygon fill=\"#444443\" stroke=\"#444443\" stroke-width=\"0.5\" points=\"334,-198.4 338,-197 334,-195.6 334,-198.4\"/>\n</g>\n<!-- node135312185055872 -->\n<g id=\"node6\" class=\"node\">\n<title>node135312185055872</title>\n<polygon fill=\"#fefecd\" stroke=\"#444443\" stroke-width=\"0.5\" points=\"511,-102 335,-102 335,-68 511,-68 511,-102\"/>\n<polygon fill=\"#fefecd\" stroke=\"transparent\" points=\"337,-86 337,-100 377,-100 377,-86 337,-86\"/>\n<text text-anchor=\"start\" x=\"345\" y=\"-90.2\" font-family=\"Helvetica,sans-Serif\" font-size=\"11.00\" fill=\"#444443\">&#39;page&#39; </text>\n<text text-anchor=\"start\" x=\"377\" y=\"-88.8\" font-family=\"Helvetica,sans-Serif\" font-size=\"9.00\" fill=\"#444443\">→</text>\n<polygon fill=\"#fefecd\" stroke=\"transparent\" points=\"387,-86 387,-100 509,-100 509,-86 387,-86\"/>\n<text text-anchor=\"start\" x=\"388\" y=\"-90.2\" font-family=\"Helvetica,sans-Serif\" font-size=\"11.00\" fill=\"#444443\"> 56</text>\n<polygon fill=\"#fefecd\" stroke=\"transparent\" points=\"337,-84 337,-86 509,-86 509,-84 337,-84\"/>\n<polygon fill=\"#fefecd\" stroke=\"transparent\" points=\"337,-70 337,-84 377,-84 377,-70 337,-70\"/>\n<text text-anchor=\"start\" x=\"337\" y=\"-74.2\" font-family=\"Helvetica,sans-Serif\" font-size=\"11.00\" fill=\"#444443\">&#39;source&#39; </text>\n<text text-anchor=\"start\" x=\"377\" y=\"-72.8\" font-family=\"Helvetica,sans-Serif\" font-size=\"9.00\" fill=\"#444443\">→</text>\n<polygon fill=\"#fefecd\" stroke=\"transparent\" points=\"387,-70 387,-84 509,-84 509,-70 387,-70\"/>\n<text text-anchor=\"start\" x=\"388\" y=\"-74.2\" font-family=\"Helvetica,sans-Serif\" font-size=\"11.00\" fill=\"#444443\"> &#39;https://www.develope...&#39;</text>\n</g>\n<!-- node135312079101824&#45;&gt;node135312185055872 -->\n<g id=\"edge7\" class=\"edge\">\n<title>node135312079101824:0&#45;&gt;node135312185055872:w</title>\n<path fill=\"none\" stroke=\"#444443\" stroke-width=\"0.5\" d=\"M221.93,-85C238.22,-85 288.13,-85 330.89,-85\"/>\n<polygon fill=\"#444443\" stroke=\"#444443\" stroke-width=\"0.5\" points=\"331,-86.4 335,-85 331,-83.6 331,-86.4\"/>\n</g>\n</g>\n</svg>\n",
            "text/plain": [
              "<graphviz.sources.Source at 0x7b10d2013430>"
            ]
          },
          "metadata": {},
          "execution_count": 58
        }
      ],
      "source": [
        "lolviz.objviz(vector_store._collection.peek(limit=1))"
      ]
    },
    {
      "cell_type": "code",
      "execution_count": null,
      "id": "a316fe13",
      "metadata": {
        "id": "a316fe13"
      },
      "outputs": [],
      "source": [
        "# How to load the vector store from the disk\n",
        "vector_store = Chroma(\"prompt_engineering_playbook\",\n",
        "                      embedding_function=embeddings_model,\n",
        "                      persist_directory= \"./chroma_langchain_db\")"
      ]
    },
    {
      "cell_type": "markdown",
      "id": "b449b7e2-831e-4918-a1b5-685efdadbb08",
      "metadata": {
        "id": "b449b7e2-831e-4918-a1b5-685efdadbb08"
      },
      "source": [
        "<br>\n",
        "\n",
        "---"
      ]
    },
    {
      "cell_type": "markdown",
      "id": "61d7566a-07c9-48cb-b853-4441b97d437a",
      "metadata": {
        "id": "61d7566a-07c9-48cb-b853-4441b97d437a"
      },
      "source": [
        "### Retrieval"
      ]
    },
    {
      "cell_type": "markdown",
      "id": "70df7963-a34f-4ad3-89fd-faa44efa0c15",
      "metadata": {
        "id": "70df7963-a34f-4ad3-89fd-faa44efa0c15"
      },
      "source": [
        "![](https://abc-notes.data.tech.gov.sg/resources/img/topic-4-rag-retrieval.png)"
      ]
    },
    {
      "cell_type": "markdown",
      "id": "a0bbed5d-5908-4765-bcd7-77da82a56190",
      "metadata": {
        "id": "a0bbed5d-5908-4765-bcd7-77da82a56190"
      },
      "source": [
        " ### Basic Retrieval"
      ]
    },
    {
      "cell_type": "code",
      "execution_count": null,
      "id": "63b3537b-90eb-4c10-9aaa-d78bc8b20ff1",
      "metadata": {
        "id": "63b3537b-90eb-4c10-9aaa-d78bc8b20ff1",
        "outputId": "d704a6e9-e40f-482a-deab-ce5b87187e15",
        "colab": {
          "base_uri": "https://localhost:8080/"
        }
      },
      "outputs": [
        {
          "output_type": "execute_result",
          "data": {
            "text/plain": [
              "[Document(metadata={'page': 52, 'source': 'https://www.developer.tech.gov.sg/products/collections/data-science-and-artificial-intelligence/playbooks/prompt-engineering-playbook-beta-v3.pdf'}, page_content='Prompt Engineering Playbook  \\nPage  53'),\n",
              " Document(metadata={'page': 87, 'source': 'https://www.developer.tech.gov.sg/products/collections/data-science-and-artificial-intelligence/playbooks/prompt-engineering-playbook-beta-v3.pdf'}, page_content='Prompt Engineering Playbook  \\nPage  88  \\n \\n \\n \\n \\n \\n \\n \\nAdvanced Pro Tips & Tricks  \\n\"The more that you read, the more things you will know. The more that you learn, \\nthe more places you\\'ll go.\"  \\n- Dr. Seuss'),\n",
              " Document(metadata={'page': 49, 'source': 'https://www.developer.tech.gov.sg/products/collections/data-science-and-artificial-intelligence/playbooks/prompt-engineering-playbook-beta-v3.pdf'}, page_content='Prompt Engineering Playbook  \\nPage  50')]"
            ]
          },
          "metadata": {},
          "execution_count": 60
        }
      ],
      "source": [
        "vector_store.similarity_search('Zero Shot', k=3)"
      ]
    },
    {
      "cell_type": "code",
      "execution_count": null,
      "id": "a5854439-85e1-4774-8074-be1dd7397dae",
      "metadata": {
        "id": "a5854439-85e1-4774-8074-be1dd7397dae",
        "scrolled": true,
        "outputId": "5bc41af9-1e06-4a1e-8d8c-780c3db7a003",
        "colab": {
          "base_uri": "https://localhost:8080/"
        }
      },
      "outputs": [
        {
          "output_type": "execute_result",
          "data": {
            "text/plain": [
              "[(Document(metadata={'page': 52, 'source': 'https://www.developer.tech.gov.sg/products/collections/data-science-and-artificial-intelligence/playbooks/prompt-engineering-playbook-beta-v3.pdf'}, page_content='Prompt Engineering Playbook  \\nPage  53'),\n",
              "  0.006146207738917719),\n",
              " (Document(metadata={'page': 87, 'source': 'https://www.developer.tech.gov.sg/products/collections/data-science-and-artificial-intelligence/playbooks/prompt-engineering-playbook-beta-v3.pdf'}, page_content='Prompt Engineering Playbook  \\nPage  88  \\n \\n \\n \\n \\n \\n \\n \\nAdvanced Pro Tips & Tricks  \\n\"The more that you read, the more things you will know. The more that you learn, \\nthe more places you\\'ll go.\"  \\n- Dr. Seuss'),\n",
              "  0.004277585063338751),\n",
              " (Document(metadata={'page': 49, 'source': 'https://www.developer.tech.gov.sg/products/collections/data-science-and-artificial-intelligence/playbooks/prompt-engineering-playbook-beta-v3.pdf'}, page_content='Prompt Engineering Playbook  \\nPage  50'),\n",
              "  0.003938977282402223)]"
            ]
          },
          "metadata": {},
          "execution_count": 61
        }
      ],
      "source": [
        "vector_store.similarity_search_with_relevance_scores('Zero Shot', k=3)"
      ]
    },
    {
      "cell_type": "markdown",
      "id": "56b57228-4a9f-4a71-a086-ee705e2df3e5",
      "metadata": {
        "id": "56b57228-4a9f-4a71-a086-ee705e2df3e5"
      },
      "source": [
        "### Question & Answer"
      ]
    },
    {
      "cell_type": "markdown",
      "id": "438021ce-e167-4e8e-8630-2c5915296d43",
      "metadata": {
        "id": "438021ce-e167-4e8e-8630-2c5915296d43"
      },
      "source": [
        "![](https://d27l3jncscxhbx.cloudfront.net/lib/media/img-20240421150029496.png)\n",
        "\n",
        "- Multiple relevant documents have been retrieved from the vector store\n",
        "- Potentially compress the relevant splits to fit into the LLM context\n",
        "- Send the information along with our question to an LLM to select and format an answer"
      ]
    },
    {
      "cell_type": "markdown",
      "id": "7e3260a3-c6e8-4e17-8ec8-0cb09bfb0aef",
      "metadata": {
        "id": "7e3260a3-c6e8-4e17-8ec8-0cb09bfb0aef"
      },
      "source": [
        "#### RetrievalQA Chain"
      ]
    },
    {
      "cell_type": "code",
      "execution_count": null,
      "id": "697e341b-933c-4661-a793-3d113e82cb73",
      "metadata": {
        "id": "697e341b-933c-4661-a793-3d113e82cb73"
      },
      "outputs": [],
      "source": [
        "from langchain.chains import RetrievalQA"
      ]
    },
    {
      "cell_type": "code",
      "execution_count": null,
      "id": "cc928321-6028-4a19-8ff3-3dd996f23204",
      "metadata": {
        "id": "cc928321-6028-4a19-8ff3-3dd996f23204"
      },
      "outputs": [],
      "source": [
        "from langchain_openai import ChatOpenAI"
      ]
    },
    {
      "cell_type": "code",
      "execution_count": null,
      "id": "2a02b187-c4c7-4e3a-a343-6a006e188bee",
      "metadata": {
        "id": "2a02b187-c4c7-4e3a-a343-6a006e188bee",
        "outputId": "641b2454-467a-41b7-9807-452a24f45a1c",
        "colab": {
          "base_uri": "https://localhost:8080/"
        }
      },
      "outputs": [
        {
          "output_type": "execute_result",
          "data": {
            "text/plain": [
              "{'query': 'Why LLM hallucinate?',\n",
              " 'result': 'LLMs hallucinate because they generate text that appears coherent and contextually relevant but can be factually incorrect or misleading. This issue arises from the inherent nature of how LLMs are trained on massive datasets, which do not include a built-in fact-checking mechanism. The models rely on patterns and probabilities to construct responses, which can sometimes lead to the generation of plausible but entirely fabricated information. Additionally, the responses can seem surprisingly real, making it difficult to spot inaccuracies without careful verification.'}"
            ]
          },
          "metadata": {},
          "execution_count": 64
        }
      ],
      "source": [
        "qa_chain = RetrievalQA.from_chain_type(\n",
        "    ChatOpenAI(model='gpt-4o-mini'),\n",
        "    retriever=vector_store.as_retriever(k=20)\n",
        ")\n",
        "\n",
        "qa_chain.invoke(\"Why LLM hallucinate?\")"
      ]
    },
    {
      "cell_type": "markdown",
      "id": "9a111d55",
      "metadata": {
        "id": "9a111d55"
      },
      "source": [
        "---\n",
        "\n",
        "The k value in the retriever=vector_store.as_retriever(k=20) line determines the number of documents retrieved from the database to be used as context for the question-answering process. Here are the implications of using a smaller or bigger k value:\n",
        "\n",
        "- Smaller k value (e.g., k=5):\n",
        "    - Pros:\n",
        "        - Faster retrieval and processing time since fewer documents are being fetched and analyzed.\n",
        "        - Less tokens usage.\n",
        "    - Cons:\n",
        "        - May miss relevant documents, leading to less accurate or incomplete answers.\n",
        "        - Higher risk of hallucination if the retrieved documents do not provide sufficient context.\n",
        "\n",
        "\n",
        "- Bigger k value (e.g., k=50):\n",
        "    - Pros:\n",
        "        - Higher chance of retrieving all relevant documents, potentially leading to more accurate and comprehensive answers.\n",
        "        - Better context for the model, reducing the risk of hallucination.\n",
        "    - Cons:\n",
        "        - Slower retrieval and processing time due to the larger number of documents.\n",
        "        - Increased tokens usage.\n",
        "        - Potential for information overload, where too much context might confuse the model.\n",
        "---"
      ]
    },
    {
      "cell_type": "markdown",
      "id": "807dc747-ebfd-4da1-bd91-527eac92d675",
      "metadata": {
        "id": "807dc747-ebfd-4da1-bd91-527eac92d675"
      },
      "source": [
        "#### With Custom Q&A Prompt"
      ]
    },
    {
      "cell_type": "code",
      "execution_count": null,
      "id": "c739ea39-97fe-426c-b6e6-02c270f9a1f4",
      "metadata": {
        "id": "c739ea39-97fe-426c-b6e6-02c270f9a1f4"
      },
      "outputs": [],
      "source": [
        "from langchain.prompts import PromptTemplate\n",
        "\n",
        "# Build prompt\n",
        "template = \"\"\"Use the following pieces of context to answer the question at the end. If you don't know the answer, just say that you don't know, don't try to make up an answer. Use three sentences maximum. Keep the answer as concise as possible. Always say \"thanks for asking!\" at the end of the answer.\n",
        "{context}\n",
        "Question: {question}\n",
        "Helpful Answer:\"\"\"\n",
        "QA_CHAIN_PROMPT = PromptTemplate.from_template(template)\n",
        "\n",
        "# Run chain\n",
        "qa_chain = RetrievalQA.from_chain_type(\n",
        "    ChatOpenAI(model='gpt-4o-mini'),\n",
        "    retriever=vector_store.as_retriever(),\n",
        "    return_source_documents=True, # Make inspection of document possible\n",
        "    chain_type_kwargs={\"prompt\": QA_CHAIN_PROMPT}\n",
        ")"
      ]
    },
    {
      "cell_type": "code",
      "execution_count": null,
      "id": "122eeebd-b821-4713-af46-d3174dc1c0d3",
      "metadata": {
        "id": "122eeebd-b821-4713-af46-d3174dc1c0d3",
        "outputId": "d9597ac4-3b52-4c13-8479-5e0675e3e9ae",
        "colab": {
          "base_uri": "https://localhost:8080/"
        }
      },
      "outputs": [
        {
          "output_type": "execute_result",
          "data": {
            "text/plain": [
              "{'query': 'Why LLM hallucinate?',\n",
              " 'result': 'LLMs hallucinate because they generate text based on patterns learned from massive datasets without a built-in fact-checking mechanism. They often produce coherent responses that may appear accurate but can be factually incorrect or misleading. This issue arises from their reliance on inference rather than actual data verification. Thanks for asking!',\n",
              " 'source_documents': [Document(metadata={'page': 18, 'source': 'https://www.developer.tech.gov.sg/products/collections/data-science-and-artificial-intelligence/playbooks/prompt-engineering-playbook-beta-v3.pdf'}, page_content='Prompt Engineering Playbook  \\nPage  19 Hallucination Problems  \\nOne important thing to take note of when using such AI powered by Large Language \\nModels (LLMs) is that they often generate text that appears coherent and contextually relevant \\nbut is factually incorrect or misleading . We call these hallucination problems . This issue arises \\ndue to the inherent nature of how LLMs are trained and their reliance on massive datasets.  While  \\nsome of the models like ChatGPT go through a second phase in the training where humans try to \\nimprove the responses, there is generally no fact -checking mechanism that is built into these LLMs \\nwhen you use them.  \\nThere is no easy foolproof safeguard agains t hallucination , although some system prompt \\nengineering can help mitigate this. What makes hallucination  by LLM worse is that the responses \\nare surprisingly real, even if they are absolutely nonsensical. Know that y ou must never  take the \\nresponses as -is without fact -checking, and that you are ultimately responsible for the use of the \\noutput.  \\nLook at the example below.  \\n \\nAt first glance, the summary looks accurate and believable. You may not spot any obvious \\nand factual errors  in the text . However, if you compare this against the actual article, the entire \\nchunk of text  starting  from “ The Meteorological Service Singapore (MSS) stated … flash floods during \\nthis period ” is completely fabricated by the AI.'),\n",
              "  Document(metadata={'page': 19, 'source': 'https://www.developer.tech.gov.sg/products/collections/data-science-and-artificial-intelligence/playbooks/prompt-engineering-playbook-beta-v3.pdf'}, page_content='Prompt Engineering Playbook  \\nPage  20 It is also important  to note  that some LLMs are u nable  to access the internet . ChatGPT for \\none is unable to browse the web  without additional plugins . It begs the question then how it could \\nget such an accurate summary even without access to the internet. After all, the first sentence is \\naccurate. While we may not know  exactly  how it learnt to construct the summary as such, one \\nsuspicion would be that the AI is merely inferring from the URL to figure out what type of article \\nit may be. The area in the response enclosed within the blue box  (According to th e Straits Times)  \\ncould be inferred from the main domain  in the URL (www.straitstimes.com) . The area in the \\nresponse enclosed within the green box could be inferred from the descriptive address “more -\\nwarm -nights -and-wet-mornings -expected -for-start-of-june”.  What the AI did is merely infer from \\nwhatever information you provided in the prompt , and spin up a believable response . \\n \\nThis is why you need to always check for the accuracy of the responses, even if they seem \\nreal. Remember that the AI is just picking  the next probable word to complete the sentences. \\nAnother example of hallucination is shown  below.'),\n",
              "  Document(metadata={'page': 22, 'source': 'https://www.developer.tech.gov.sg/products/collections/data-science-and-artificial-intelligence/playbooks/prompt-engineering-playbook-beta-v3.pdf'}, page_content='Prompt Engineering Playbook  \\nPage  23  \\nThere is nothing in the image that shows a cheetah.  \\nMany people have tried using the AI to generate biographies of famous people, or \\nthem selves. Hallucination can very easily occur in such cases, especially if there are not a lot of \\nmaterials about the person on the internet.'),\n",
              "  Document(metadata={'page': 43, 'source': 'https://www.developer.tech.gov.sg/products/collections/data-science-and-artificial-intelligence/playbooks/prompt-engineering-playbook-beta-v3.pdf'}, page_content='Prompt Engineering Playbook  \\nPage  44  \\n \\n \\n \\n \\n \\n \\n \\n \\nTask -Specific Prompts  \\n“Using an LLM for only its generative capabilities is like buying a swiss army knife \\nand only using the blade. There’s much more to it. ” \\n--- Unknown')]}"
            ]
          },
          "metadata": {},
          "execution_count": 66
        }
      ],
      "source": [
        "qa_chain.invoke(\"Why LLM hallucinate?\")"
      ]
    },
    {
      "cell_type": "markdown",
      "id": "kK2U2qRnX6ul",
      "metadata": {
        "id": "kK2U2qRnX6ul"
      },
      "source": [
        "This code sets up a prompt template for a question-answering chain using a language processing model and a retriever object. It allows for the generation of answers based on provided context and a given question. Let's break it down step by step:\n",
        "\n",
        "\n",
        "- `A multi-line string` is defined and assigned to the variable template. This string serves as a template for constructing prompts. It includes placeholders like `{context}`, `{question}`, and `{answer}` that will be filled in with actual values later.\n",
        "\n",
        "- The code defines a variable `QA_CHAIN_PROMPT` and assigns it the value of `PromptTemplate`.from_template(template). This line creates an instance of the `PromptTemplate` class using the from_template method, passing in the template string as an argument. This instance will be used as a prompt template for the question-answering chain.\n",
        "\n",
        "- The code then initializes a qa_chain variable by calling the `RetrievalQA.from_chain_type()` method. It takes several arguments:\n",
        "    - `ChatOpenAI(model='gpt-4o-mini')`: This argument specifies the model to be used for the chat-based language processing. I\n",
        "\n",
        "    - `retriever=vector_store.as_retriever()`: This argument specifies a retriever object, likely responsible for retrieving relevant documents or information for the question-answering process. The `vector_store.as_retriever()` method is called to create this retriever object.\n",
        "\n",
        "    - `return_source_documents=True`: This argument indicates that the source documents should be returned along with the answers. It allows for inspection of the documents used in the retrieval process.\n",
        "    \n",
        "    - `chain_type_kwargs={\"prompt\": QA_CHAIN_PROMPT}`: This argument provides additional keyword arguments to the from_chain_type() method. It includes a dictionary with a key \"prompt\" and the value of the QA_CHAIN_PROMPT variable, which is the prompt template created earlier.\n"
      ]
    },
    {
      "cell_type": "markdown",
      "id": "a4ea5272",
      "metadata": {
        "id": "a4ea5272"
      },
      "source": []
    }
  ],
  "metadata": {
    "colab": {
      "provenance": [],
      "toc_visible": true,
      "include_colab_link": true
    },
    "kernelspec": {
      "display_name": "aicamp-py3.12",
      "language": "python",
      "name": "aicamp-py3.12"
    },
    "language_info": {
      "codemirror_mode": {
        "name": "ipython",
        "version": 3
      },
      "file_extension": ".py",
      "mimetype": "text/x-python",
      "name": "python",
      "nbconvert_exporter": "python",
      "pygments_lexer": "ipython3",
      "version": "3.12.3"
    }
  },
  "nbformat": 4,
  "nbformat_minor": 5
}